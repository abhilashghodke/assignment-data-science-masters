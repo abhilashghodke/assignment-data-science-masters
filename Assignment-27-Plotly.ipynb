{
 "cells": [
  {
   "cell_type": "markdown",
   "id": "bec67422-c67a-4bd6-bb97-d12d17039166",
   "metadata": {},
   "source": [
    "Q1. Load the \"titanic\" dataset using the load_dataset function of seaborn. Use Plotly express to plot a\n",
    "scatter plot for age and fare columns in the titanic dataset."
   ]
  },
  {
   "cell_type": "markdown",
   "id": "e22abb48-5fba-493b-90e8-068cc1a91379",
   "metadata": {},
   "source": [
    "Ans--\n",
    "\n",
    "To create a scatter plot for the \"age\" and \"fare\" columns of the \"titanic\" dataset using Plotly Express, you can follow these steps:"
   ]
  },
  {
   "cell_type": "code",
   "execution_count": null,
   "id": "74042a97-863f-4956-8c49-792ade0a0e4b",
   "metadata": {},
   "outputs": [],
   "source": [
    "import seaborn as sns\n",
    "import plotly.express as px\n",
    "\n",
    "# Load the \"titanic\" dataset\n",
    "titanic = sns.load_dataset(\"titanic\")\n",
    "\n",
    "# Create a scatter plot using Plotly Express\n",
    "scatter_plot = px.scatter(titanic, x='age', y='fare', title='Scatter Plot of Age vs Fare in Titanic Dataset')\n",
    "\n",
    "# Show the plot\n",
    "scatter_plot.show()"
   ]
  },
  {
   "cell_type": "markdown",
   "id": "26f561b7-9822-4858-b105-2f5635875357",
   "metadata": {},
   "source": [
    "In this code, we use sns.load_dataset(\"titanic\") to load the \"titanic\" dataset from Seaborn. Then, we create a scatter plot using px.scatter() from Plotly Express. We set the \"age\" column as the x-axis data and the \"fare\" column as the y-axis data. The title parameter sets the title for the plot. Finally, scatter_plot.show() displays the scatter plot using Plotly.\n",
    "\n",
    "Ensure that you have both the seaborn and plotly libraries installed to run this code."
   ]
  },
  {
   "cell_type": "code",
   "execution_count": null,
   "id": "49cda502-0c71-4202-b1ce-667b70477dbf",
   "metadata": {},
   "outputs": [],
   "source": []
  },
  {
   "cell_type": "markdown",
   "id": "3486980e-bd1d-4296-bef4-ed1a536dea77",
   "metadata": {},
   "source": [
    "Q2. Using the tips dataset in the Plotly library, plot a box plot using Plotly express."
   ]
  },
  {
   "cell_type": "markdown",
   "id": "6429ea87-6a44-425d-97d6-cd7a6f2ed571",
   "metadata": {},
   "source": [
    "Ans--\n",
    "\n",
    "To create a box plot for the \"tips\" dataset using Plotly Express, you can follow these steps:"
   ]
  },
  {
   "cell_type": "code",
   "execution_count": null,
   "id": "70c13485-2c35-4607-a683-6370a9920698",
   "metadata": {},
   "outputs": [],
   "source": [
    "import plotly.express as px\n",
    "\n",
    "# Load the \"tips\" dataset from Plotly Express\n",
    "tips = px.data.tips\n",
    "\n",
    "# Create a box plot using Plotly Express\n",
    "box_plot = px.box(tips, x=\"day\", y=\"total_bill\", title='Box Plot of Total Bill by Day')\n",
    "\n",
    "# Show the plot\n",
    "box_plot.show()"
   ]
  },
  {
   "cell_type": "markdown",
   "id": "60be4182-622a-443e-9c46-79d26bbec06e",
   "metadata": {},
   "source": [
    "In this code, we use px.data.tips to load the \"tips\" dataset directly from Plotly Express. Then, we create a box plot using px.box(). We set the \"day\" column as the x-axis data and the \"total_bill\" column as the y-axis data. The title parameter sets the title for the plot. Finally, box_plot.show() displays the box plot using Plotly.\n",
    "\n",
    "Ensure that you have the plotly library installed to run this code."
   ]
  },
  {
   "cell_type": "code",
   "execution_count": null,
   "id": "49b7cbd0-2767-42e8-bb6b-60da95e9635b",
   "metadata": {},
   "outputs": [],
   "source": []
  },
  {
   "cell_type": "markdown",
   "id": "bf87ef9d-a50e-485e-be15-05e09a4c7ced",
   "metadata": {},
   "source": [
    "Q3. Using the tips dataset in the Plotly library, Plot a histogram for x= \"sex\" and y=\"total_bill\" column in\n",
    "the tips dataset. Also, use the \"smoker\" column with the pattern_shape parameter and the \"day\"\n",
    "column with the color parameter."
   ]
  },
  {
   "cell_type": "markdown",
   "id": "9e2a516b-0c39-4246-a691-265c45090933",
   "metadata": {},
   "source": [
    "Ans--\n",
    "\n",
    "To create a histogram for the \"sex\" and \"total_bill\" columns in the \"tips\" dataset using Plotly Express, and to use the \"smoker\" column with the pattern_shape parameter and the \"day\" column with the color parameter, you can follow these steps:"
   ]
  },
  {
   "cell_type": "code",
   "execution_count": null,
   "id": "7d9ef280-c69c-4f53-a3b6-2fc7eaaf1999",
   "metadata": {},
   "outputs": [],
   "source": [
    "import plotly.express as px\n",
    "\n",
    "# Load the \"tips\" dataset from Plotly Express\n",
    "tips = px.data.tips\n",
    "\n",
    "# Create a histogram using Plotly Express\n",
    "histogram = px.histogram(\n",
    "    tips,\n",
    "    x=\"sex\",\n",
    "    y=\"total_bill\",\n",
    "    color=\"day\",\n",
    "    pattern_shape=\"smoker\",\n",
    "    title=\"Histogram of Total Bill by Sex with Day and Smoker Pattern\"\n",
    ")\n",
    "\n",
    "# Show the plot\n",
    "histogram.show()"
   ]
  },
  {
   "cell_type": "markdown",
   "id": "a839ac6e-df66-43fc-b99f-85744d9ac4f7",
   "metadata": {},
   "source": [
    "In this code, we use px.data.tips to load the \"tips\" dataset directly from Plotly Express. Then, we create a histogram using px.histogram(). We set the \"sex\" column as the x-axis data and the \"total_bill\" column as the y-axis data. The color parameter assigns colors based on the \"day\" column, and the pattern_shape parameter uses patterns based on the \"smoker\" column to distinguish different smoker categories.\n",
    "\n",
    "The title parameter sets the title for the plot. Finally, histogram.show() displays the histogram using Plotly."
   ]
  },
  {
   "cell_type": "code",
   "execution_count": null,
   "id": "a4c1c597-de7b-4e36-942b-38c1a92a8e33",
   "metadata": {},
   "outputs": [],
   "source": []
  },
  {
   "cell_type": "markdown",
   "id": "cbf49cde-a83a-4ff7-8d8c-8eb5c3e248ed",
   "metadata": {},
   "source": [
    "Q4. Using the iris dataset in the Plotly library, Plot a scatter matrix plot, using the \"species\" column for\n",
    "the color parameter."
   ]
  },
  {
   "cell_type": "markdown",
   "id": "000c1379-ff32-402f-816a-026f1bf8516a",
   "metadata": {},
   "source": [
    "Ans--\n",
    "\n",
    "To create a scatter matrix plot for the \"iris\" dataset using Plotly Express and using the \"species\" column for the color parameter, you can follow these steps:"
   ]
  },
  {
   "cell_type": "code",
   "execution_count": null,
   "id": "4988c82a-f651-4118-b69a-b68e34744c64",
   "metadata": {},
   "outputs": [],
   "source": [
    "import plotly.express as px\n",
    "\n",
    "# Load the \"iris\" dataset from Plotly Express\n",
    "iris = px.data.iris\n",
    "\n",
    "# Create a scatter matrix plot using Plotly Express\n",
    "scatter_matrix = px.scatter_matrix(\n",
    "    iris,\n",
    "    dimensions=[\"sepal_width\", \"sepal_length\", \"petal_width\", \"petal_length\"],\n",
    "    color=\"species\",\n",
    "    title=\"Scatter Matrix Plot of Iris Dataset by Species\"\n",
    ")\n",
    "\n",
    "# Show the plot\n",
    "scatter_matrix.show()"
   ]
  },
  {
   "cell_type": "markdown",
   "id": "6ddd3751-2d35-478a-b6de-e289ef588c6a",
   "metadata": {},
   "source": [
    "In this code, we use px.data.iris to load the \"iris\" dataset directly from Plotly Express. Then, we create a scatter matrix plot using px.scatter_matrix(). We set the dimensions parameter to the columns that you want to include in the scatter matrix (in this case, \"sepal_width\", \"sepal_length\", \"petal_width\", and \"petal_length\"). The color parameter assigns colors based on the \"species\" column to distinguish different species categories.\n",
    "\n",
    "The title parameter sets the title for the plot. Finally, scatter_matrix.show() displays the scatter matrix plot using Plotly."
   ]
  },
  {
   "cell_type": "code",
   "execution_count": null,
   "id": "b5a62538-1972-4d57-8918-3ff7760725e2",
   "metadata": {},
   "outputs": [],
   "source": []
  },
  {
   "cell_type": "markdown",
   "id": "20a91623-04b4-4939-a2ef-91c072973ac6",
   "metadata": {},
   "source": [
    "Q5. What is Distplot? Using Plotly express, plot a distplot."
   ]
  },
  {
   "cell_type": "markdown",
   "id": "f6748344-5d1d-4d47-b5ef-01f2fa96dc39",
   "metadata": {},
   "source": [
    "Ans--\n",
    "\n",
    "distplot is a function from the Seaborn library that combines both a histogram and a kernel density estimation (KDE) plot. It provides a visual representation of the distribution of a univariate dataset. However, as of my last knowledge update in September 2021, Plotly Express doesn't have a direct equivalent to Seaborn's distplot.\n",
    "\n",
    "Plotly Express mainly focuses on creating interactive visualizations with a simpler syntax, but you can use Seaborn's distplot for this specific purpose.\n",
    "\n",
    "Here's an example of how you can use Seaborn's distplot to create a distribution plot:"
   ]
  },
  {
   "cell_type": "code",
   "execution_count": null,
   "id": "ac36d908-954f-4ea6-af42-a1b628e72091",
   "metadata": {},
   "outputs": [],
   "source": [
    "import seaborn as sns\n",
    "import matplotlib.pyplot as plt\n",
    "\n",
    "# Load an example dataset (you can replace this with your data)\n",
    "data = sns.load_dataset(\"iris\")\n",
    "\n",
    "# Create a distribution plot using Seaborn's distplot\n",
    "sns.distplot(data[\"sepal_length\"], bins=10, kde=True, rug=True)\n",
    "\n",
    "# Add title and labels\n",
    "plt.title(\"Distribution of Sepal Length\")\n",
    "plt.xlabel(\"Sepal Length\")\n",
    "\n",
    "# Show the plot\n",
    "plt.show()"
   ]
  },
  {
   "cell_type": "code",
   "execution_count": null,
   "id": "e489745a-5ffe-4ec4-9826-994340d66aa2",
   "metadata": {},
   "outputs": [],
   "source": []
  }
 ],
 "metadata": {
  "kernelspec": {
   "display_name": "Python 3 (ipykernel)",
   "language": "python",
   "name": "python3"
  },
  "language_info": {
   "codemirror_mode": {
    "name": "ipython",
    "version": 3
   },
   "file_extension": ".py",
   "mimetype": "text/x-python",
   "name": "python",
   "nbconvert_exporter": "python",
   "pygments_lexer": "ipython3",
   "version": "3.10.8"
  }
 },
 "nbformat": 4,
 "nbformat_minor": 5
}
