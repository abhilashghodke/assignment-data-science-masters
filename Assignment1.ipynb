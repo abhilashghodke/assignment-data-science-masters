{
 "cells": [
  {
   "cell_type": "markdown",
   "id": "9fda4f99-2bdc-45fb-a1b9-c6eacb74e9d6",
   "metadata": {},
   "source": [
    "Q1. Explain with an example each when to use a for loop and a while loop?"
   ]
  },
  {
   "cell_type": "markdown",
   "id": "9e8b326f-06c8-4bb7-8f61-a6e8961a3db7",
   "metadata": {},
   "source": [
    "1. When to use a for loop?"
   ]
  },
  {
   "cell_type": "markdown",
   "id": "23816f47-28dd-4cd2-a94b-bf55ff141eff",
   "metadata": {},
   "source": [
    "Ans: A for loop is used when we know the exact number of iterations need to perform, It's great for iterating over sequences like arrays, lists, or ranges.\n",
    "\n",
    "for Example:\n",
    "I want to print the first 5 even numbers."
   ]
  },
  {
   "cell_type": "code",
   "execution_count": 2,
   "id": "9b2921c2-de5e-455d-b08b-06fb470f7f4f",
   "metadata": {},
   "outputs": [
    {
     "name": "stdout",
     "output_type": "stream",
     "text": [
      "2\n",
      "4\n",
      "6\n",
      "8\n",
      "10\n"
     ]
    }
   ],
   "source": [
    "for i in range(2, 12, 2):\n",
    "    print(i)"
   ]
  },
  {
   "cell_type": "markdown",
   "id": "f08fadd6-71c7-4545-9a07-696e382fbeca",
   "metadata": {},
   "source": [
    "2. When to use a while loop?"
   ]
  },
  {
   "cell_type": "markdown",
   "id": "035236ea-2725-4947-a9b9-cb2763ad53d3",
   "metadata": {},
   "source": [
    "A while loop is used when you need to repeat a block of code until a certain condition is met"
   ]
  },
  {
   "cell_type": "markdown",
   "id": "5c0377cd-79fd-480f-8d34-53ecb6e91e06",
   "metadata": {},
   "source": [
    "for Example:\n",
    "\n",
    "Suppose you're creating a simple game where the player has to guess a secret number between 1 and 10. You want to keep asking for guesses until the player guesses correctly. A while loop is appropriate:"
   ]
  },
  {
   "cell_type": "code",
   "execution_count": 1,
   "id": "5a11f9e1-58ad-4686-819f-19d0ececb7bf",
   "metadata": {},
   "outputs": [
    {
     "name": "stdin",
     "output_type": "stream",
     "text": [
      "Guess the secret number:  1\n"
     ]
    },
    {
     "name": "stdout",
     "output_type": "stream",
     "text": [
      "Try again!\n"
     ]
    },
    {
     "name": "stdin",
     "output_type": "stream",
     "text": [
      "Guess the secret number:  5\n"
     ]
    },
    {
     "name": "stdout",
     "output_type": "stream",
     "text": [
      "Try again!\n"
     ]
    },
    {
     "name": "stdin",
     "output_type": "stream",
     "text": [
      "Guess the secret number:  8\n"
     ]
    },
    {
     "name": "stdout",
     "output_type": "stream",
     "text": [
      "Congratulations, you guessed correctly!\n"
     ]
    }
   ],
   "source": [
    "import random\n",
    "\n",
    "secret_number = random.randint(1, 10)\n",
    "guessed = False\n",
    "\n",
    "while not guessed:\n",
    "    guess = int(input(\"Guess the secret number: \"))\n",
    "    if guess == secret_number:\n",
    "        print(\"Congratulations, you guessed correctly!\")\n",
    "        guessed = True\n",
    "    else:\n",
    "        print(\"Try again!\")\n"
   ]
  },
  {
   "cell_type": "code",
   "execution_count": null,
   "id": "d21713f1-eebf-470f-870d-9ec8a69f2317",
   "metadata": {},
   "outputs": [],
   "source": []
  },
  {
   "cell_type": "markdown",
   "id": "f76203c0-62b6-49d2-846e-73d33e55bf97",
   "metadata": {},
   "source": [
    "Q2. Write a python program to print the sum and product of the first 10 natural numbers using for\n",
    "and while loop?"
   ]
  },
  {
   "cell_type": "code",
   "execution_count": 2,
   "id": "19e31015-0ccc-4ba8-b9d6-6eb066b3a2d2",
   "metadata": {},
   "outputs": [
    {
     "name": "stdout",
     "output_type": "stream",
     "text": [
      "Using for loop:\n",
      "Sum of the first 10 natural numbers: 55\n",
      "Product of the first 10 natural numbers: 3628800\n"
     ]
    }
   ],
   "source": [
    "# Calculate the sum and product of the first 10 natural numbers using a for loop\n",
    "sum_natural = 0\n",
    "product_natural = 1\n",
    "\n",
    "for i in range(1, 11):\n",
    "    sum_natural += i\n",
    "    product_natural *= i\n",
    "\n",
    "print(\"Using for loop:\")\n",
    "print(\"Sum of the first 10 natural numbers:\", sum_natural)\n",
    "print(\"Product of the first 10 natural numbers:\", product_natural)"
   ]
  },
  {
   "cell_type": "code",
   "execution_count": 3,
   "id": "ad2e9890-bc1a-49bc-af39-7c9353087fcf",
   "metadata": {},
   "outputs": [
    {
     "name": "stdout",
     "output_type": "stream",
     "text": [
      "Using while loop:\n",
      "Sum of the first 10 natural numbers: 55\n",
      "Product of the first 10 natural numbers: 3628800\n"
     ]
    }
   ],
   "source": [
    "# Calculate the sum and product of the first 10 natural numbers using a while loop\n",
    "n = 1\n",
    "sum_natural = 0\n",
    "product_natural = 1\n",
    "\n",
    "while n <= 10:\n",
    "    sum_natural += n\n",
    "    product_natural *= n\n",
    "    n += 1\n",
    "\n",
    "print(\"Using while loop:\")\n",
    "print(\"Sum of the first 10 natural numbers:\", sum_natural)\n",
    "print(\"Product of the first 10 natural numbers:\", product_natural)"
   ]
  },
  {
   "cell_type": "code",
   "execution_count": null,
   "id": "721da6d1-80c1-4b9e-900d-7eca7a397316",
   "metadata": {},
   "outputs": [],
   "source": []
  },
  {
   "cell_type": "markdown",
   "id": "2325acd1-b4d3-4e4d-a4fa-5aea6b19e111",
   "metadata": {},
   "source": [
    "Q3. Create a python program to compute the electricity bill for a household.\n",
    "\n",
    "The per-unit charges in rupees are as follows: For the first 100 units, the user will be charged Rs. 4.5 per\n",
    "unit, for the next 100 units, the user will be charged Rs. 6 per unit, and for the next 100 units, the user will\n",
    "be charged Rs. 10 per unit, After 300 units and above the user will be charged Rs. 20 per unit.\n",
    "\n",
    "You are required to take the units of electricity consumed in a month from the user as input.\n",
    "\n",
    "Your program must pass this test case: when the unit of electricity consumed by the user in a month is\n",
    "310, the total electricity bill should be 2250."
   ]
  },
  {
   "cell_type": "code",
   "execution_count": 6,
   "id": "127c26d0-511c-4697-b1bc-cd5f5521ee48",
   "metadata": {},
   "outputs": [
    {
     "name": "stdin",
     "output_type": "stream",
     "text": [
      "Enter the number of units consumed:  310\n"
     ]
    },
    {
     "name": "stdout",
     "output_type": "stream",
     "text": [
      "Electricity Bill: 2250.0 rupees\n"
     ]
    }
   ],
   "source": [
    "def calculate_electricity_bill(units):\n",
    "    total_bill = 0\n",
    "    \n",
    "    if units <= 100:\n",
    "        total_bill = units * 4.5\n",
    "    elif units <= 200:\n",
    "        total_bill = 100 * 4.5 + (units - 100) * 6\n",
    "    elif units <= 300:\n",
    "        total_bill = 100 * 4.5 + 100 * 6 + (units - 200) * 10\n",
    "    else:\n",
    "        total_bill = 100 * 4.5 + 100 * 6 + 100 * 10 + (units - 300) * 20\n",
    "    \n",
    "    return total_bill\n",
    "\n",
    "# Input: units consumed\n",
    "units_consumed = int(input(\"Enter the number of units consumed: \"))\n",
    "\n",
    "# Calculate and display the electricity bill\n",
    "electricity_bill = calculate_electricity_bill(units_consumed)\n",
    "print(\"Electricity Bill:\", electricity_bill, \"rupees\")"
   ]
  },
  {
   "cell_type": "code",
   "execution_count": null,
   "id": "51e28dbf-a0cb-470f-8369-f3839acd96b0",
   "metadata": {},
   "outputs": [],
   "source": []
  },
  {
   "cell_type": "markdown",
   "id": "529c8c2c-3933-43ba-95ea-1887d45be08c",
   "metadata": {},
   "source": [
    "Q4. Create a list of numbers from 1 to 100. Use for loop and while loop to calculate the cube of each\n",
    "number and if the cube of that number is divisible by 4 or 5 then append that number in a list and print\n",
    "that list."
   ]
  },
  {
   "cell_type": "markdown",
   "id": "7ebbf4c4-5e91-4144-924b-adfa342d5423",
   "metadata": {},
   "source": [
    "Using a for loop:"
   ]
  },
  {
   "cell_type": "code",
   "execution_count": 7,
   "id": "94bee2e7-d810-4266-8814-c8fc540ae6d6",
   "metadata": {},
   "outputs": [
    {
     "name": "stdout",
     "output_type": "stream",
     "text": [
      "Using for loop:\n",
      "Numbers whose cubes are divisible by 4 or 5: [2, 4, 5, 6, 8, 10, 12, 14, 15, 16, 18, 20, 22, 24, 25, 26, 28, 30, 32, 34, 35, 36, 38, 40, 42, 44, 45, 46, 48, 50, 52, 54, 55, 56, 58, 60, 62, 64, 65, 66, 68, 70, 72, 74, 75, 76, 78, 80, 82, 84, 85, 86, 88, 90, 92, 94, 95, 96, 98, 100]\n"
     ]
    }
   ],
   "source": [
    "numbers = list(range(1, 101))\n",
    "cubes_divisible_by_4_or_5 = []\n",
    "\n",
    "for num in numbers:\n",
    "    cube = num ** 3\n",
    "    if cube % 4 == 0 or cube % 5 == 0:\n",
    "        cubes_divisible_by_4_or_5.append(num)\n",
    "\n",
    "print(\"Using for loop:\")\n",
    "print(\"Numbers whose cubes are divisible by 4 or 5:\", cubes_divisible_by_4_or_5)"
   ]
  },
  {
   "cell_type": "markdown",
   "id": "3e1f1759-ad59-4fe1-a0f8-aede21c612d8",
   "metadata": {},
   "source": [
    "Using a while loop:"
   ]
  },
  {
   "cell_type": "code",
   "execution_count": 8,
   "id": "2d9d13c5-c8a4-4b7e-b62e-3bb01c8f2528",
   "metadata": {},
   "outputs": [
    {
     "name": "stdout",
     "output_type": "stream",
     "text": [
      "Using while loop:\n",
      "Numbers whose cubes are divisible by 4 or 5: [2, 4, 5, 6, 8, 10, 12, 14, 15, 16, 18, 20, 22, 24, 25, 26, 28, 30, 32, 34, 35, 36, 38, 40, 42, 44, 45, 46, 48, 50, 52, 54, 55, 56, 58, 60, 62, 64, 65, 66, 68, 70, 72, 74, 75, 76, 78, 80, 82, 84, 85, 86, 88, 90, 92, 94, 95, 96, 98, 100]\n"
     ]
    }
   ],
   "source": [
    "numbers = list(range(1, 101))\n",
    "cubes_divisible_by_4_or_5 = []\n",
    "\n",
    "index = 0\n",
    "while index < len(numbers):\n",
    "    num = numbers[index]\n",
    "    cube = num ** 3\n",
    "    if cube % 4 == 0 or cube % 5 == 0:\n",
    "        cubes_divisible_by_4_or_5.append(num)\n",
    "    index += 1\n",
    "\n",
    "print(\"Using while loop:\")\n",
    "print(\"Numbers whose cubes are divisible by 4 or 5:\", cubes_divisible_by_4_or_5)"
   ]
  },
  {
   "cell_type": "code",
   "execution_count": null,
   "id": "3ec7c651-13a3-4fe9-bf62-1a099bd2447e",
   "metadata": {},
   "outputs": [],
   "source": []
  },
  {
   "cell_type": "markdown",
   "id": "64d9fc2e-6d67-4eb6-bb65-f42458ff95c3",
   "metadata": {},
   "source": [
    "Q5. Write a program to filter count vowels in the below-given string.\n",
    "string = \"I want to become a data scientist\""
   ]
  },
  {
   "cell_type": "code",
   "execution_count": 9,
   "id": "4b6e95cc-0ebb-49fa-b0cb-918f666fb763",
   "metadata": {},
   "outputs": [
    {
     "name": "stdout",
     "output_type": "stream",
     "text": [
      "Vowels in the string: ['I', 'a', 'o', 'e', 'o', 'e', 'a', 'a', 'a', 'i', 'e', 'i']\n",
      "Number of vowels: 12\n"
     ]
    }
   ],
   "source": [
    "string = \"I want to become a data scientist\"\n",
    "vowels = \"aeiouAEIOU\"\n",
    "\n",
    "# Using a list comprehension to filter vowels\n",
    "vowel_list = [char for char in string if char in vowels]\n",
    "\n",
    "# Counting the number of vowels\n",
    "vowel_count = len(vowel_list)\n",
    "\n",
    "print(\"Vowels in the string:\", vowel_list)\n",
    "print(\"Number of vowels:\", vowel_count)"
   ]
  },
  {
   "cell_type": "code",
   "execution_count": null,
   "id": "882c5b5c-6a95-45d9-96c9-e96b9277d89a",
   "metadata": {},
   "outputs": [],
   "source": []
  }
 ],
 "metadata": {
  "kernelspec": {
   "display_name": "Python 3 (ipykernel)",
   "language": "python",
   "name": "python3"
  },
  "language_info": {
   "codemirror_mode": {
    "name": "ipython",
    "version": 3
   },
   "file_extension": ".py",
   "mimetype": "text/x-python",
   "name": "python",
   "nbconvert_exporter": "python",
   "pygments_lexer": "ipython3",
   "version": "3.10.8"
  }
 },
 "nbformat": 4,
 "nbformat_minor": 5
}
