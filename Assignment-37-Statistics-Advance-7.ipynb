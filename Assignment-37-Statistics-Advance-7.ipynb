{
 "cells": [
  {
   "cell_type": "markdown",
   "id": "59ef64b6-f3aa-468d-befd-2b460546709b",
   "metadata": {},
   "source": [
    "Q1. Write a Python function that takes in two arrays of data and calculates the F-value for a variance ratio\n",
    "test. The function should return the F-value and the corresponding p-value for the test."
   ]
  },
  {
   "cell_type": "markdown",
   "id": "d3a5cf1e-bd11-4611-8316-9933c141b58b",
   "metadata": {},
   "source": [
    "Ans--\n",
    "\n",
    "Here's a Python function that takes in two arrays of data and calculates the F-value for a variance ratio test (F-test):"
   ]
  },
  {
   "cell_type": "code",
   "execution_count": 1,
   "id": "d469087f-8737-4131-9ffa-67178f85cc1d",
   "metadata": {},
   "outputs": [
    {
     "name": "stdout",
     "output_type": "stream",
     "text": [
      "F-value: 1.9347826086956523\n",
      "p-value: 0.2691898592694203\n"
     ]
    }
   ],
   "source": [
    "import numpy as np\n",
    "import scipy.stats as stats\n",
    "\n",
    "def calculate_f_value(data1, data2):\n",
    "    # Calculate the sample means\n",
    "    mean1 = np.mean(data1)\n",
    "    mean2 = np.mean(data2)\n",
    "    \n",
    "    # Calculate the sample variances\n",
    "    var1 = np.var(data1, ddof=1)  # Using ddof=1 for unbiased variance\n",
    "    var2 = np.var(data2, ddof=1)\n",
    "    \n",
    "    # Calculate the F-value\n",
    "    f_value = var1 / var2\n",
    "    \n",
    "    # Calculate the degrees of freedom\n",
    "    df1 = len(data1) - 1\n",
    "    df2 = len(data2) - 1\n",
    "    \n",
    "    # Calculate the p-value\n",
    "    p_value = stats.f.sf(f_value, df1, df2)\n",
    "    \n",
    "    return f_value, p_value\n",
    "\n",
    "# Example data\n",
    "data1 = [23, 32, 29, 37, 28]\n",
    "data2 = [15, 19, 25, 21, 18]\n",
    "\n",
    "# Calculate F-value and p-value\n",
    "f_value, p_value = calculate_f_value(data1, data2)\n",
    "\n",
    "print(\"F-value:\", f_value)\n",
    "print(\"p-value:\", p_value)"
   ]
  },
  {
   "cell_type": "markdown",
   "id": "0a8ab978-dc0f-421c-aeef-49308f09a672",
   "metadata": {},
   "source": [
    "In this example, the calculate_f_value function takes two arrays of data as input. It calculates the F-value by dividing the sample variance of one group by the sample variance of the other group. The degrees of freedom are also calculated based on the lengths of the data arrays minus 1. Finally, the stats.f.sf function from the SciPy library is used to calculate the survival function (1 - cumulative distribution function) of the F-distribution to obtain the p-value.\n",
    "\n",
    "Remember that this code assumes that the data are normally distributed and have equal variances. Additionally, this example uses two independent samples, which is the typical use case for a variance ratio test."
   ]
  },
  {
   "cell_type": "code",
   "execution_count": null,
   "id": "4f51ce2c-eedd-4987-a1cf-e096c3048c66",
   "metadata": {},
   "outputs": [],
   "source": []
  },
  {
   "cell_type": "markdown",
   "id": "b67b8083-1253-41e1-8f01-a50ab7ce89d2",
   "metadata": {},
   "source": [
    "Q2. Given a significance level of 0.05 and the degrees of freedom for the numerator and denominator of an\n",
    "F-distribution, write a Python function that returns the critical F-value for a two-tailed test."
   ]
  },
  {
   "cell_type": "markdown",
   "id": "943fca47-5b73-4df1-a25d-19956f9ef5ec",
   "metadata": {},
   "source": [
    "Ans--\n",
    "\n",
    "Here's a Python function that takes the degrees of freedom for the numerator and denominator of an F-distribution, along with a significance level, and returns the critical F-value for a two-tailed test:"
   ]
  },
  {
   "cell_type": "code",
   "execution_count": 2,
   "id": "284aabcf-9a0a-4d06-b4f2-ebad12ce93f5",
   "metadata": {},
   "outputs": [
    {
     "name": "stdout",
     "output_type": "stream",
     "text": [
      "Critical F-value: 3.8586986662732143\n"
     ]
    }
   ],
   "source": [
    "import scipy.stats as stats\n",
    "\n",
    "def get_critical_f_value(alpha, dfn, dfd):\n",
    "    # Calculate the critical F-value for the given significance level\n",
    "    critical_f_value = stats.f.ppf(1 - alpha / 2, dfn, dfd)\n",
    "    return critical_f_value\n",
    "\n",
    "# Given significance level and degrees of freedom\n",
    "alpha = 0.05\n",
    "dfn = 3   # Degrees of freedom for the numerator\n",
    "dfd = 20  # Degrees of freedom for the denominator\n",
    "\n",
    "# Get the critical F-value\n",
    "critical_f_value = get_critical_f_value(alpha, dfn, dfd)\n",
    "\n",
    "print(\"Critical F-value:\", critical_f_value)"
   ]
  },
  {
   "cell_type": "markdown",
   "id": "c045666b-8171-4e0f-a6dc-64b3b4c0554a",
   "metadata": {},
   "source": [
    "In this example, the get_critical_f_value function takes the significance level (alpha), degrees of freedom for the numerator (dfn), and degrees of freedom for the denominator (dfd) as input. It calculates the critical F-value for a two-tailed test using the stats.f.ppf function from the SciPy library. The ppf function calculates the percent point function (inverse cumulative distribution function) of the F-distribution at a given probability.\n",
    "\n",
    "Replace the values of dfn and dfd with the appropriate degrees of freedom for your specific F-distribution."
   ]
  },
  {
   "cell_type": "code",
   "execution_count": null,
   "id": "c0cb9e9a-e300-425a-9315-a6854b5226ec",
   "metadata": {},
   "outputs": [],
   "source": []
  },
  {
   "cell_type": "markdown",
   "id": "c61375de-48e4-4d43-8504-36e492a5a6df",
   "metadata": {},
   "source": [
    "Q3. Write a Python program that generates random samples from two normal distributions with known variances and uses an F-test to determine if the variances are equal. The program should output the F- value, degrees of freedom, and p-value for the test."
   ]
  },
  {
   "cell_type": "markdown",
   "id": "3a1604d9-b7b0-4de0-a5fe-cacc56632057",
   "metadata": {},
   "source": [
    "Ans--\n",
    "\n",
    "Here's a Python program that generates random samples from two normal distributions with known variances and uses an F-test to determine if the variances are equal:"
   ]
  },
  {
   "cell_type": "code",
   "execution_count": 3,
   "id": "7a6c98fb-5a02-4f59-a840-90adf55ef42b",
   "metadata": {},
   "outputs": [
    {
     "name": "stdout",
     "output_type": "stream",
     "text": [
      "F-value: 0.614699345053136\n",
      "Degrees of Freedom (numerator): 19\n",
      "Degrees of Freedom (denominator): 19\n",
      "p-value: 0.2975584496446394\n"
     ]
    }
   ],
   "source": [
    "import numpy as np\n",
    "import scipy.stats as stats\n",
    "\n",
    "def f_test_equal_variances(sample1, sample2):\n",
    "    # Calculate the sample variances\n",
    "    var1 = np.var(sample1, ddof=1)  # Using ddof=1 for unbiased variance\n",
    "    var2 = np.var(sample2, ddof=1)\n",
    "    \n",
    "    # Calculate the F-value\n",
    "    f_value = var1 / var2\n",
    "    \n",
    "    # Calculate the degrees of freedom\n",
    "    dfn = len(sample1) - 1\n",
    "    dfd = len(sample2) - 1\n",
    "    \n",
    "    # Calculate the p-value\n",
    "    p_value = 2 * min(stats.f.cdf(f_value, dfn, dfd), 1 - stats.f.cdf(f_value, dfn, dfd))\n",
    "    \n",
    "    return f_value, dfn, dfd, p_value\n",
    "\n",
    "# Set random seed for reproducibility\n",
    "np.random.seed(42)\n",
    "\n",
    "# Generate random samples from normal distributions with known variances\n",
    "variance1 = 5\n",
    "variance2 = 8\n",
    "sample_size = 20\n",
    "\n",
    "sample1 = np.random.normal(loc=0, scale=np.sqrt(variance1), size=sample_size)\n",
    "sample2 = np.random.normal(loc=0, scale=np.sqrt(variance2), size=sample_size)\n",
    "\n",
    "# Perform F-test for equal variances\n",
    "f_value, dfn, dfd, p_value = f_test_equal_variances(sample1, sample2)\n",
    "\n",
    "print(\"F-value:\", f_value)\n",
    "print(\"Degrees of Freedom (numerator):\", dfn)\n",
    "print(\"Degrees of Freedom (denominator):\", dfd)\n",
    "print(\"p-value:\", p_value)"
   ]
  },
  {
   "cell_type": "markdown",
   "id": "02f15dc3-c26d-4b32-ae9c-1346bd1ffa49",
   "metadata": {},
   "source": [
    "In this example, the f_test_equal_variances function takes two samples as input and calculates the F-value, degrees of freedom for the numerator and denominator, and the p-value for the F-test of equal variances. The calculated p-value is doubled for a two-tailed test. The program then generates random samples from two normal distributions with known variances, performs the F-test, and prints the results.\n",
    "\n",
    "Remember that the F-test for equal variances assumes that the data are normally distributed. Also, adjust the values of variance1, variance2, and sample_size as needed for your specific scenario."
   ]
  },
  {
   "cell_type": "code",
   "execution_count": null,
   "id": "462e2ad4-47af-4b81-927c-0166cb4f90d6",
   "metadata": {},
   "outputs": [],
   "source": []
  },
  {
   "cell_type": "markdown",
   "id": "642cec5d-f3a4-4dc2-a395-0294e602b27d",
   "metadata": {},
   "source": [
    "Q4.The variances of two populations are known to be 10 and 15. A sample of 12 observations is taken from\n",
    "each population. Conduct an F-test at the 5% significance level to determine if the variances are\n",
    "significantly different."
   ]
  },
  {
   "cell_type": "markdown",
   "id": "bf8d8708-bcb1-4c4a-a41d-39c1f15072a5",
   "metadata": {},
   "source": [
    "Ans--\n",
    "\n",
    "To conduct an F-test for comparing the variances of two populations, you can use the Python code provided earlier in response to your question. Here's how you can apply it to your specific scenario:"
   ]
  },
  {
   "cell_type": "code",
   "execution_count": 4,
   "id": "d1dbd7d7-9433-481f-a203-25641d719ce1",
   "metadata": {},
   "outputs": [
    {
     "name": "stdout",
     "output_type": "stream",
     "text": [
      "F-value: 0.680945669634063\n",
      "Degrees of Freedom (numerator): 11\n",
      "Degrees of Freedom (denominator): 11\n",
      "p-value: 0.5345414423028174\n",
      "Fail to reject the null hypothesis: Variances are not significantly different.\n"
     ]
    }
   ],
   "source": [
    "import numpy as np\n",
    "import scipy.stats as stats\n",
    "\n",
    "def f_test_equal_variances(sample1, sample2):\n",
    "    # Calculate the sample variances\n",
    "    var1 = np.var(sample1, ddof=1)  # Using ddof=1 for unbiased variance\n",
    "    var2 = np.var(sample2, ddof=1)\n",
    "    \n",
    "    # Calculate the F-value\n",
    "    f_value = var1 / var2\n",
    "    \n",
    "    # Calculate the degrees of freedom\n",
    "    dfn = len(sample1) - 1\n",
    "    dfd = len(sample2) - 1\n",
    "    \n",
    "    # Calculate the p-value\n",
    "    p_value = 2 * min(stats.f.cdf(f_value, dfn, dfd), 1 - stats.f.cdf(f_value, dfn, dfd))\n",
    "    \n",
    "    return f_value, dfn, dfd, p_value\n",
    "\n",
    "# Known variances and sample sizes\n",
    "variance1 = 10\n",
    "variance2 = 15\n",
    "sample_size = 12\n",
    "\n",
    "# Generate random samples from normal distributions with known variances\n",
    "sample1 = np.random.normal(loc=0, scale=np.sqrt(variance1), size=sample_size)\n",
    "sample2 = np.random.normal(loc=0, scale=np.sqrt(variance2), size=sample_size)\n",
    "\n",
    "# Perform F-test for equal variances\n",
    "f_value, dfn, dfd, p_value = f_test_equal_variances(sample1, sample2)\n",
    "\n",
    "# Significance level\n",
    "alpha = 0.05\n",
    "\n",
    "print(\"F-value:\", f_value)\n",
    "print(\"Degrees of Freedom (numerator):\", dfn)\n",
    "print(\"Degrees of Freedom (denominator):\", dfd)\n",
    "print(\"p-value:\", p_value)\n",
    "\n",
    "if p_value < alpha:\n",
    "    print(\"Reject the null hypothesis: Variances are significantly different.\")\n",
    "else:\n",
    "    print(\"Fail to reject the null hypothesis: Variances are not significantly different.\")"
   ]
  },
  {
   "cell_type": "markdown",
   "id": "d57dcbfa-ee66-4cf6-a7e7-ad6323f999d3",
   "metadata": {},
   "source": [
    "In this code, we generate random samples from normal distributions with known variances (10 and 15) and a sample size of 12 for each population. We then perform the F-test for equal variances and compare the calculated p-value with the significance level (alpha) to make a decision about whether the variances are significantly different.\n",
    "\n",
    "Remember that the p-value represents the probability of observing a test statistic as extreme as the one computed from the sample data, assuming the null hypothesis is true (i.e., the variances are equal). If the p-value is smaller than the chosen significance level, you can reject the null hypothesis and conclude that the variances are significantly different."
   ]
  },
  {
   "cell_type": "code",
   "execution_count": null,
   "id": "e0d85764-1395-4549-a724-d17b981702c1",
   "metadata": {},
   "outputs": [],
   "source": []
  },
  {
   "cell_type": "markdown",
   "id": "f1342a9b-6c03-4141-99cf-d39a548ed141",
   "metadata": {},
   "source": [
    "Q5. A manufacturer claims that the variance of the diameter of a certain product is 0.005. A sample of 25\n",
    "products is taken, and the sample variance is found to be 0.006. Conduct an F-test at the 1% significance\n",
    "level to determine if the claim is justified."
   ]
  },
  {
   "cell_type": "markdown",
   "id": "584e6e59-403c-46a5-b2c3-8ef3a368082a",
   "metadata": {},
   "source": [
    "Ans--\n",
    "\n",
    "To conduct an F-test to determine if the claim made by the manufacturer about the variance is justified, you can compare the sample variance with the claimed variance. Here's how you can perform the F-test in Python:"
   ]
  },
  {
   "cell_type": "code",
   "execution_count": 5,
   "id": "7e6211c8-ca1a-404b-ad69-6fafc208d355",
   "metadata": {},
   "outputs": [
    {
     "name": "stdout",
     "output_type": "stream",
     "text": [
      "F-value: 1.2\n",
      "Degrees of Freedom (numerator): 24\n",
      "Degrees of Freedom (denominator): 24\n",
      "p-value: 0.3293654682817244\n",
      "Fail to reject the null hypothesis: The claim is justified.\n"
     ]
    }
   ],
   "source": [
    "import scipy.stats as stats\n",
    "\n",
    "# Claimed variance and sample variance\n",
    "claimed_variance = 0.005\n",
    "sample_variance = 0.006\n",
    "sample_size = 25\n",
    "\n",
    "# Calculate the F-value\n",
    "f_value = sample_variance / claimed_variance\n",
    "\n",
    "# Degrees of freedom\n",
    "dfn = sample_size - 1  # degrees of freedom for the numerator (sample variance)\n",
    "dfd = sample_size - 1  # degrees of freedom for the denominator (claimed variance)\n",
    "\n",
    "# Significance level\n",
    "alpha = 0.01\n",
    "\n",
    "# Calculate the p-value\n",
    "p_value = 1 - stats.f.cdf(f_value, dfn, dfd)\n",
    "\n",
    "print(\"F-value:\", f_value)\n",
    "print(\"Degrees of Freedom (numerator):\", dfn)\n",
    "print(\"Degrees of Freedom (denominator):\", dfd)\n",
    "print(\"p-value:\", p_value)\n",
    "\n",
    "if p_value < alpha:\n",
    "    print(\"Reject the null hypothesis: The claim is not justified.\")\n",
    "else:\n",
    "    print(\"Fail to reject the null hypothesis: The claim is justified.\")"
   ]
  },
  {
   "cell_type": "markdown",
   "id": "002e2cca-c31e-4216-913e-aaf163b9b0f0",
   "metadata": {},
   "source": [
    "In this code, we calculate the F-value by dividing the sample variance by the claimed variance. We then calculate the degrees of freedom for both the numerator (sample variance) and the denominator (claimed variance), based on the sample size minus 1. The p-value is calculated using the cumulative distribution function (CDF) of the F-distribution. Finally, we compare the calculated p-value with the significance level (alpha) to make a decision about whether the claim is justified.\n",
    "\n",
    "If the p-value is smaller than the chosen significance level, you can reject the null hypothesis and conclude that the claim is not justified. If the p-value is greater than or equal to the significance level, you fail to reject the null hypothesis, indicating that the claim is justified."
   ]
  },
  {
   "cell_type": "code",
   "execution_count": null,
   "id": "7b1af28a-13f8-4914-b2e4-8b0188290a3c",
   "metadata": {},
   "outputs": [],
   "source": []
  },
  {
   "cell_type": "markdown",
   "id": "2cc32bcf-495d-4547-b028-6203ebeba953",
   "metadata": {},
   "source": [
    "Q6. Write a Python function that takes in the degrees of freedom for the numerator and denominator of an\n",
    "F-distribution and calculates the mean and variance of the distribution. The function should return the\n",
    "mean and variance as a tuple."
   ]
  },
  {
   "cell_type": "markdown",
   "id": "56509d96-3206-4165-85e9-349c0dffdf1b",
   "metadata": {},
   "source": [
    "Ans--\n",
    "\n",
    "Here's a Python function that takes the degrees of freedom for the numerator and denominator of an F-distribution as input and calculates the mean and variance of the distribution:"
   ]
  },
  {
   "cell_type": "code",
   "execution_count": 6,
   "id": "dbacf688-6f8b-4fb0-b2ff-ed85dda19bfb",
   "metadata": {},
   "outputs": [
    {
     "name": "stdout",
     "output_type": "stream",
     "text": [
      "Mean of the F-distribution: 1.25\n",
      "Variance of the F-distribution: 1.3541666666666667\n"
     ]
    }
   ],
   "source": [
    "def calculate_f_distribution_mean_variance(dfn, dfd):\n",
    "    # Calculate the mean of the F-distribution\n",
    "    mean = dfd / (dfd - 2) if dfd > 2 else None\n",
    "    \n",
    "    # Calculate the variance of the F-distribution\n",
    "    variance = (2 * (dfd ** 2) * (dfn + dfd - 2)) / (dfn * (dfd - 2) ** 2 * (dfd - 4)) if dfd > 4 else None\n",
    "    \n",
    "    return mean, variance\n",
    "\n",
    "# Degrees of freedom for the numerator and denominator\n",
    "dfn = 5\n",
    "dfd = 10\n",
    "\n",
    "# Calculate mean and variance of the F-distribution\n",
    "mean, variance = calculate_f_distribution_mean_variance(dfn, dfd)\n",
    "\n",
    "print(\"Mean of the F-distribution:\", mean)\n",
    "print(\"Variance of the F-distribution:\", variance)"
   ]
  },
  {
   "cell_type": "markdown",
   "id": "c4858c09-e626-4ae4-881f-0e7ea1538d61",
   "metadata": {},
   "source": [
    "In this example, the calculate_f_distribution_mean_variance function takes the degrees of freedom for the numerator (dfn) and denominator (dfd) of the F-distribution as input. It calculates the mean and variance of the F-distribution using the formulas for the mean and variance of the F-distribution.\n",
    "\n",
    "Please note that the mean and variance of the F-distribution are defined under certain conditions (e.g., dfd > 2 and dfd > 4, respectively). If the provided degrees of freedom do not satisfy these conditions, the function returns None for the corresponding value.\n",
    "\n",
    "You can replace the values of dfn and dfd with the specific degrees of freedom for your use case."
   ]
  },
  {
   "cell_type": "code",
   "execution_count": null,
   "id": "0ad26fc3-a4bb-4426-b84d-20b365b9c6e9",
   "metadata": {},
   "outputs": [],
   "source": []
  },
  {
   "cell_type": "markdown",
   "id": "3bb20414-4736-4802-9c02-a615dbe9ff0e",
   "metadata": {},
   "source": [
    "Q7. A random sample of 10 measurements is taken from a normal population with unknown variance. The\n",
    "sample variance is found to be 25. Another random sample of 15 measurements is taken from another\n",
    "normal population with unknown variance, and the sample variance is found to be 20. Conduct an F-test\n",
    "at the 10% significance level to determine if the variances are significantly different."
   ]
  },
  {
   "cell_type": "markdown",
   "id": "a7bf7190-432d-447d-9372-48f415bbb5ff",
   "metadata": {},
   "source": [
    "Ans--\n",
    "\n",
    "To conduct an F-test for comparing the variances of two populations, you can use the Python code provided earlier in response to your question. Here's how you can apply it to your specific scenario:"
   ]
  },
  {
   "cell_type": "code",
   "execution_count": 7,
   "id": "2f3750f0-2e62-4563-be93-7b04fb187318",
   "metadata": {},
   "outputs": [
    {
     "name": "stdout",
     "output_type": "stream",
     "text": [
      "F-value: 1.25\n",
      "Degrees of Freedom (numerator): 9\n",
      "Degrees of Freedom (denominator): 14\n",
      "p-value: 0.3416097191292977\n",
      "Fail to reject the null hypothesis: Variances are not significantly different.\n"
     ]
    }
   ],
   "source": [
    "import scipy.stats as stats\n",
    "\n",
    "# Sample variances and sample sizes\n",
    "sample_variance1 = 25\n",
    "sample_size1 = 10\n",
    "\n",
    "sample_variance2 = 20\n",
    "sample_size2 = 15\n",
    "\n",
    "# Calculate the F-value\n",
    "f_value = sample_variance1 / sample_variance2\n",
    "\n",
    "# Degrees of freedom\n",
    "dfn = sample_size1 - 1  # degrees of freedom for the numerator (sample variance1)\n",
    "dfd = sample_size2 - 1  # degrees of freedom for the denominator (sample variance2)\n",
    "\n",
    "# Significance level\n",
    "alpha = 0.10\n",
    "\n",
    "# Calculate the p-value\n",
    "p_value = 1 - stats.f.cdf(f_value, dfn, dfd)\n",
    "\n",
    "print(\"F-value:\", f_value)\n",
    "print(\"Degrees of Freedom (numerator):\", dfn)\n",
    "print(\"Degrees of Freedom (denominator):\", dfd)\n",
    "print(\"p-value:\", p_value)\n",
    "\n",
    "if p_value < alpha:\n",
    "    print(\"Reject the null hypothesis: Variances are significantly different.\")\n",
    "else:\n",
    "    print(\"Fail to reject the null hypothesis: Variances are not significantly different.\")"
   ]
  },
  {
   "cell_type": "markdown",
   "id": "fa6a08b7-7bd7-46a8-afb7-460746fc69f0",
   "metadata": {},
   "source": [
    "In this code, we use the provided sample variances (25 and 20) and sample sizes (10 and 15) to calculate the F-value. We then calculate the degrees of freedom for both the numerator (sample variance1) and the denominator (sample variance2), based on the sample sizes minus 1. The p-value is calculated using the cumulative distribution function (CDF) of the F-distribution. Finally, we compare the calculated p-value with the significance level (alpha) to make a decision about whether the variances are significantly different.\n",
    "\n",
    "If the p-value is smaller than the chosen significance level, you can reject the null hypothesis and conclude that the variances are significantly different. If the p-value is greater than or equal to the significance level, you fail to reject the null hypothesis, indicating that the variances are not significantly different."
   ]
  },
  {
   "cell_type": "code",
   "execution_count": null,
   "id": "f0595e21-ed00-4471-b0e8-7fbf071c601c",
   "metadata": {},
   "outputs": [],
   "source": []
  },
  {
   "cell_type": "markdown",
   "id": "f9247dea-3f12-41c7-9cf5-476b7481d297",
   "metadata": {},
   "source": [
    "Q8. The following data represent the waiting times in minutes at two different restaurants on a Saturday\n",
    "night: Restaurant A: 24, 25, 28, 23, 22, 20, 27; Restaurant B: 31, 33, 35, 30, 32, 36. Conduct an F-test at the 5%\n",
    "significance level to determine if the variances are significantly different."
   ]
  },
  {
   "cell_type": "markdown",
   "id": "e98675b0-a73a-43fe-a53a-da6216181920",
   "metadata": {},
   "source": [
    "Ans--\n",
    "\n",
    "To conduct an F-test to determine if the variances of two samples are significantly different, you can follow a similar approach as shown in the previous answers. Here's how you can apply it to your specific scenario:"
   ]
  },
  {
   "cell_type": "code",
   "execution_count": 8,
   "id": "7823edf3-5c84-496a-80ee-d213bac28d5e",
   "metadata": {},
   "outputs": [
    {
     "name": "stdout",
     "output_type": "stream",
     "text": [
      "F-value: 1.4551907719609583\n",
      "Degrees of Freedom (numerator): 6\n",
      "Degrees of Freedom (denominator): 5\n",
      "p-value: 0.3487407873968742\n",
      "Fail to reject the null hypothesis: Variances are not significantly different.\n"
     ]
    }
   ],
   "source": [
    "import scipy.stats as stats\n",
    "\n",
    "# Sample data for waiting times\n",
    "restaurant_a = [24, 25, 28, 23, 22, 20, 27]\n",
    "restaurant_b = [31, 33, 35, 30, 32, 36]\n",
    "\n",
    "# Calculate the sample variances\n",
    "sample_variance_a = sum((x - sum(restaurant_a) / len(restaurant_a)) ** 2 for x in restaurant_a) / (len(restaurant_a) - 1)\n",
    "sample_variance_b = sum((x - sum(restaurant_b) / len(restaurant_b)) ** 2 for x in restaurant_b) / (len(restaurant_b) - 1)\n",
    "\n",
    "# Calculate the F-value\n",
    "f_value = sample_variance_a / sample_variance_b\n",
    "\n",
    "# Degrees of freedom\n",
    "dfn = len(restaurant_a) - 1  # degrees of freedom for the numerator (sample variance_a)\n",
    "dfd = len(restaurant_b) - 1  # degrees of freedom for the denominator (sample variance_b)\n",
    "\n",
    "# Significance level\n",
    "alpha = 0.05\n",
    "\n",
    "# Calculate the p-value\n",
    "p_value = 1 - stats.f.cdf(f_value, dfn, dfd)\n",
    "\n",
    "print(\"F-value:\", f_value)\n",
    "print(\"Degrees of Freedom (numerator):\", dfn)\n",
    "print(\"Degrees of Freedom (denominator):\", dfd)\n",
    "print(\"p-value:\", p_value)\n",
    "\n",
    "if p_value < alpha:\n",
    "    print(\"Reject the null hypothesis: Variances are significantly different.\")\n",
    "else:\n",
    "    print(\"Fail to reject the null hypothesis: Variances are not significantly different.\")"
   ]
  },
  {
   "cell_type": "markdown",
   "id": "13a0741f-d5b3-4d2f-ad4d-bb39aefdb80f",
   "metadata": {},
   "source": [
    "In this code, we calculate the sample variances for both Restaurant A and Restaurant B. Then, we calculate the F-value, degrees of freedom, and p-value for the F-test. Finally, we compare the calculated p-value with the significance level (alpha) to make a decision about whether the variances are significantly different.\n",
    "\n",
    "If the p-value is smaller than the chosen significance level, you can reject the null hypothesis and conclude that the variances are significantly different. If the p-value is greater than or equal to the significance level, you fail to reject the null hypothesis, indicating that the variances are not significantly different."
   ]
  },
  {
   "cell_type": "code",
   "execution_count": null,
   "id": "05f3c374-a30a-4d21-b41e-a6ddbe8bb63a",
   "metadata": {},
   "outputs": [],
   "source": []
  },
  {
   "cell_type": "markdown",
   "id": "1d3bbad4-200f-4f2d-8855-f83df5725fec",
   "metadata": {},
   "source": [
    "Q9. The following data represent the test scores of two groups of students: Group A: 80, 85, 90, 92, 87, 83;\n",
    "Group B: 75, 78, 82, 79, 81, 84. Conduct an F-test at the 1% significance level to determine if the variances\n",
    "are significantly different."
   ]
  },
  {
   "cell_type": "code",
   "execution_count": null,
   "id": "7748e479-4d8e-4ec9-92eb-9b1abbc3d572",
   "metadata": {},
   "outputs": [],
   "source": []
  }
 ],
 "metadata": {
  "kernelspec": {
   "display_name": "Python 3 (ipykernel)",
   "language": "python",
   "name": "python3"
  },
  "language_info": {
   "codemirror_mode": {
    "name": "ipython",
    "version": 3
   },
   "file_extension": ".py",
   "mimetype": "text/x-python",
   "name": "python",
   "nbconvert_exporter": "python",
   "pygments_lexer": "ipython3",
   "version": "3.10.8"
  }
 },
 "nbformat": 4,
 "nbformat_minor": 5
}
