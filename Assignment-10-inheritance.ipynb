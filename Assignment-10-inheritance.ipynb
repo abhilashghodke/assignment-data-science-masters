{
 "cells": [
  {
   "cell_type": "markdown",
   "id": "fdb1c79a-1c93-4513-b591-6ea0dd980664",
   "metadata": {},
   "source": [
    "Q1, Create a vehicle class with an init method having instance variables as name_of_vehicle, max_speed\n",
    "and average_of_vehicle.\n",
    "\n",
    "Ans--"
   ]
  },
  {
   "cell_type": "code",
   "execution_count": 3,
   "id": "c59ebe8b-2eaf-4b3f-bb00-44a6a0dd0367",
   "metadata": {},
   "outputs": [
    {
     "name": "stdout",
     "output_type": "stream",
     "text": [
      "Car - Max Speed: 200, Average Speed: 80\n",
      "Bike - Max Speed: 120, Average Speed: 60\n"
     ]
    }
   ],
   "source": [
    "class Vehicle:\n",
    "    def __init__(self, name_of_vehicle, max_speed, average_speed):\n",
    "        self.name_of_vehicle = name_of_vehicle\n",
    "        self.max_speed = max_speed\n",
    "        self.average_speed = average_speed\n",
    "\n",
    "# Creating instances of the Vehicle class\n",
    "car = Vehicle(\"Car\", 200, 80)\n",
    "bike = Vehicle(\"Bike\", 120, 60)\n",
    "\n",
    "# Accessing instance variables\n",
    "print(f\"{car.name_of_vehicle} - Max Speed: {car.max_speed}, Average Speed: {car.average_speed}\")\n",
    "print(f\"{bike.name_of_vehicle} - Max Speed: {bike.max_speed}, Average Speed: {bike.average_speed}\")"
   ]
  },
  {
   "cell_type": "code",
   "execution_count": null,
   "id": "8ba68c78-33bf-401e-b75a-c2ca35db4073",
   "metadata": {},
   "outputs": [],
   "source": []
  },
  {
   "cell_type": "markdown",
   "id": "cbe141c6-27fb-4b6a-bca7-8c295890ef84",
   "metadata": {},
   "source": [
    "Q2. Create a child class car from the vehicle class created in Que 1, which will inherit the vehicle class.\n",
    "Create a method named seating_capacity which takes capacity as an argument and returns the name of\n",
    "the vehicle and its seating capacity.\n",
    "\n",
    "Ans--"
   ]
  },
  {
   "cell_type": "code",
   "execution_count": 4,
   "id": "5cb40e4b-53d8-4014-bf73-5c7df81daa3b",
   "metadata": {},
   "outputs": [
    {
     "name": "stdout",
     "output_type": "stream",
     "text": [
      "Car - Max Speed: 200, Average Speed: 80\n",
      "SUV - Seating Capacity: 7\n"
     ]
    }
   ],
   "source": [
    "class Vehicle:\n",
    "    def __init__(self, name_of_vehicle, max_speed, average_speed):\n",
    "        self.name_of_vehicle = name_of_vehicle\n",
    "        self.max_speed = max_speed\n",
    "        self.average_speed = average_speed\n",
    "\n",
    "class Car(Vehicle):\n",
    "    def seating_capacity(self, capacity):\n",
    "        return f\"{self.name_of_vehicle} - Seating Capacity: {capacity}\"\n",
    "\n",
    "# Creating instances of the Car class\n",
    "car1 = Car(\"Car\", 200, 80)\n",
    "car2 = Car(\"SUV\", 180, 70)\n",
    "\n",
    "# Accessing instance variables and method\n",
    "print(f\"{car1.name_of_vehicle} - Max Speed: {car1.max_speed}, Average Speed: {car1.average_speed}\")\n",
    "print(car2.seating_capacity(7))"
   ]
  },
  {
   "cell_type": "code",
   "execution_count": null,
   "id": "acc6d399-5b23-4cfe-a215-cd8570a8f75a",
   "metadata": {},
   "outputs": [],
   "source": []
  },
  {
   "cell_type": "markdown",
   "id": "39564f0d-f217-44c7-986b-cc7684bcf950",
   "metadata": {},
   "source": [
    "Q3. What is multiple inheritance? Write a python code to demonstrate multiple inheritance."
   ]
  },
  {
   "cell_type": "markdown",
   "id": "81213637-95eb-468f-aa3a-68f5f56ee60d",
   "metadata": {},
   "source": [
    "Ans--\n",
    "\n",
    "Multiple inheritance is a feature in object-oriented programming where a class can inherit attributes and methods from more than one parent class. This allows a child class to inherit and combine the behaviors of multiple parent classes. However, it's important to manage potential conflicts that might arise due to naming collisions between attributes or methods from different parent classes."
   ]
  },
  {
   "cell_type": "code",
   "execution_count": 6,
   "id": "29ba2f90-5e16-4d78-943c-7ec124d28a7e",
   "metadata": {},
   "outputs": [
    {
     "name": "stdout",
     "output_type": "stream",
     "text": [
      "Manager: Abhilash, Age: 35, Employee ID: M123, Salary: 80000, Department: Data Science\n"
     ]
    }
   ],
   "source": [
    "class Person:\n",
    "    def __init__(self, name, age):\n",
    "        self.name = name\n",
    "        self.age = age\n",
    "    \n",
    "    def display_info(self):\n",
    "        print(f\"Name: {self.name}, Age: {self.age}\")\n",
    "\n",
    "class Employee:\n",
    "    def __init__(self, emp_id, salary):\n",
    "        self.emp_id = emp_id\n",
    "        self.salary = salary\n",
    "    \n",
    "    def display_info(self):\n",
    "        print(f\"Employee ID: {self.emp_id}, Salary: {self.salary}\")\n",
    "\n",
    "# Child class inheriting from both Person and Employee\n",
    "class Manager(Person, Employee):\n",
    "    def __init__(self, name, age, emp_id, salary, department):\n",
    "        Person.__init__(self, name, age)\n",
    "        Employee.__init__(self, emp_id, salary)\n",
    "        self.department = department\n",
    "    \n",
    "    def display_info(self):\n",
    "        print(f\"Manager: {self.name}, Age: {self.age}, Employee ID: {self.emp_id}, Salary: {self.salary}, Department: {self.department}\")\n",
    "\n",
    "# Creating an instance of Manager\n",
    "manager = Manager(\"Abhilash\", 35, \"M123\", 80000, \"Data Science\")\n",
    "manager.display_info()"
   ]
  },
  {
   "cell_type": "code",
   "execution_count": null,
   "id": "d774f9b8-ce93-48f6-8916-b1cd2eebd0b3",
   "metadata": {},
   "outputs": [],
   "source": []
  },
  {
   "cell_type": "markdown",
   "id": "3a3fa03a-4031-49bd-acab-1d3b9faf053c",
   "metadata": {},
   "source": [
    "Q4. What are getter and setter in python? Create a class and create a getter and a setter method in this\n",
    "class."
   ]
  },
  {
   "cell_type": "markdown",
   "id": "32e50198-817a-4175-a385-6ec84aa042f7",
   "metadata": {},
   "source": [
    "Ans--\n",
    "\n",
    "In Python, getters and setters are methods used to access and modify the private attributes of a class. They allow you to control how attributes are accessed and modified, providing a way to encapsulate and manage data within a class. Getters retrieve the value of an attribute, and setters modify its value while applying any desired validation or transformation.\n",
    "\n",
    "Here's how you can create a class with a getter and a setter method:"
   ]
  },
  {
   "cell_type": "code",
   "execution_count": 8,
   "id": "247a0b81-2c1e-43bd-bfaf-ee8cbfee7444",
   "metadata": {},
   "outputs": [
    {
     "name": "stdout",
     "output_type": "stream",
     "text": [
      "Name: Abhilash\n",
      "Age: 31\n",
      "Updated Name: Abhi\n",
      "Updated Age: 25\n"
     ]
    }
   ],
   "source": [
    "class Student:\n",
    "    def __init__(self, name, age):\n",
    "        self.__name = name  # Private attribute\n",
    "        self.__age = age    # Private attribute\n",
    "    \n",
    "    # Getter for name\n",
    "    def get_name(self):\n",
    "        return self.__name\n",
    "    \n",
    "    # Setter for name\n",
    "    def set_name(self, name):\n",
    "        if len(name) > 0:\n",
    "            self.__name = name\n",
    "        else:\n",
    "            print(\"Name cannot be empty!\")\n",
    "    \n",
    "    # Getter for age\n",
    "    def get_age(self):\n",
    "        return self.__age\n",
    "    \n",
    "    # Setter for age\n",
    "    def set_age(self, age):\n",
    "        if age >= 0:\n",
    "            self.__age = age\n",
    "        else:\n",
    "            print(\"Age cannot be negative!\")\n",
    "\n",
    "# Creating an instance of the Student class\n",
    "student = Student(\"Abhilash\", 31)\n",
    "\n",
    "# Using the getter methods\n",
    "print(\"Name:\", student.get_name())  # Output: Name: Alice\n",
    "print(\"Age:\", student.get_age())    # Output: Age: 20\n",
    "\n",
    "# Using the setter methods\n",
    "student.set_name(\"Abhi\")\n",
    "student.set_age(25)\n",
    "\n",
    "print(\"Updated Name:\", student.get_name())  # Output: Updated Name: Bob\n",
    "print(\"Updated Age:\", student.get_age())    # Output: Updated Age: 25"
   ]
  },
  {
   "cell_type": "code",
   "execution_count": null,
   "id": "89a8d22b-d71d-48ae-ba45-d10144b5f7db",
   "metadata": {},
   "outputs": [],
   "source": []
  },
  {
   "cell_type": "markdown",
   "id": "25d83ed8-434f-4839-bef3-71824027468b",
   "metadata": {},
   "source": [
    "Q5.What is method overriding in python? Write a python code to demonstrate method overriding."
   ]
  },
  {
   "cell_type": "code",
   "execution_count": null,
   "id": "faa38e13-16fa-4c1f-ab0e-fed084ae523d",
   "metadata": {},
   "outputs": [],
   "source": []
  }
 ],
 "metadata": {
  "kernelspec": {
   "display_name": "Python 3 (ipykernel)",
   "language": "python",
   "name": "python3"
  },
  "language_info": {
   "codemirror_mode": {
    "name": "ipython",
    "version": 3
   },
   "file_extension": ".py",
   "mimetype": "text/x-python",
   "name": "python",
   "nbconvert_exporter": "python",
   "pygments_lexer": "ipython3",
   "version": "3.10.8"
  }
 },
 "nbformat": 4,
 "nbformat_minor": 5
}
