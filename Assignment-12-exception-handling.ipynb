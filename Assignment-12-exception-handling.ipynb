{
 "cells": [
  {
   "cell_type": "markdown",
   "id": "eec889b3-ceb3-470c-a6c3-2e3c7342aedf",
   "metadata": {},
   "source": [
    "Q1. What is an Exception in Python? Write the difference between Exceptions and syntax errors."
   ]
  },
  {
   "cell_type": "markdown",
   "id": "53d1e4ae-1c99-4338-850e-b07acf458984",
   "metadata": {},
   "source": [
    "Ans--\n",
    "\n",
    "An exception in Python refers to an event that occurs during the execution of a program that disrupts the normal flow of instructions. When an exceptional situation is encountered, Python raises an exception, which is an object that represents the error or unexpected condition. Exceptions provide a way to handle errors and unexpected scenarios in a more controlled and organized manner.\n",
    "\n",
    "Difference between Exceptions and Syntax Errors:\n",
    "\n",
    "1. Nature of Errors:\n",
    "\n",
    "- Exceptions: These occur during runtime when the program is executing. They are typically caused by factors such as invalid user input, incorrect data, file not found, network issues, etc.\n",
    "- Syntax Errors: These occur during the parsing phase, before the program starts executing. They are caused by incorrect syntax in the code, such as missing colons, parentheses, incorrect indentation, etc.\n",
    "\n",
    "2. Error Detection:\n",
    "\n",
    "- Exceptions: These are detected while the program is running, and they may not always lead to an immediate program termination if not handled.\n",
    "- Syntax Errors: These are detected by the Python interpreter before the program starts executing, and they prevent the program from running at all.\n",
    "\n",
    "3. Handling:\n",
    "\n",
    "- Exceptions: Python provides mechanisms (try-except blocks) to catch and handle exceptions, allowing the program to gracefully respond to unexpected situations without crashing.\n",
    "- Syntax Errors: Since these are detected before execution, they need to be fixed in the code itself before running the program.\n",
    "\n",
    "4. Examples:\n",
    "\n",
    "- Exceptions: Examples include ZeroDivisionError, FileNotFoundError, ValueError, etc.\n",
    "- Syntax Errors: Examples include missing colons (SyntaxError: invalid syntax), mismatched parentheses (SyntaxError: unmatched ')'), etc.\n",
    "\n",
    "5. Impact on Program Execution:\n",
    "\n",
    "- Exceptions: Handled exceptions can allow the program to continue executing after encountering an error, or they can lead to program termination if not properly handled.\n",
    "- Syntax Errors: These prevent the program from even starting execution until the syntax issues are fixed.\n",
    "\n",
    "In summary, exceptions and syntax errors are both types of errors that can occur in Python programs, but they occur at different stages of the program's lifecycle and have distinct characteristics in terms of when they are detected and how they are handled."
   ]
  },
  {
   "cell_type": "code",
   "execution_count": null,
   "id": "15407262-7442-457e-ac2d-832646c38ab2",
   "metadata": {},
   "outputs": [],
   "source": []
  },
  {
   "cell_type": "markdown",
   "id": "7bc87ace-d738-41eb-9598-6d91da99de54",
   "metadata": {},
   "source": [
    "Q2. What happens when an exception is not handled? Explain with an example."
   ]
  },
  {
   "cell_type": "markdown",
   "id": "d7a03396-f550-4d23-9f61-d504ff7c8688",
   "metadata": {},
   "source": [
    "Ans--\n",
    "\n",
    "When an exception is not handled in a Python program, it leads to the termination of the program's normal execution flow. The Python interpreter will print an error message describing the unhandled exception and its type, and then the program will exit.\n",
    "\n",
    "Here's an example to illustrate what happens when an exception is not handled:"
   ]
  },
  {
   "cell_type": "code",
   "execution_count": 1,
   "id": "081673fe-4d5c-43a1-ae5c-c1ab88d24948",
   "metadata": {},
   "outputs": [
    {
     "name": "stdin",
     "output_type": "stream",
     "text": [
      "Enter a number:  20\n"
     ]
    },
    {
     "name": "stdout",
     "output_type": "stream",
     "text": [
      "Result: 0.5\n"
     ]
    }
   ],
   "source": [
    "try:\n",
    "    num = int(input(\"Enter a number: \"))\n",
    "    result = 10 / num\n",
    "    print(\"Result:\", result)\n",
    "except ZeroDivisionError:\n",
    "    print(\"Error: Cannot divide by zero.\")"
   ]
  },
  {
   "cell_type": "markdown",
   "id": "545f498c-7d73-45f6-9436-9bf0e8dc3234",
   "metadata": {},
   "source": [
    "In this example, the program prompts the user to enter a number, attempts to perform a division operation (10 / num), and then prints the result. However, if the user enters 0 as the input, a ZeroDivisionError exception will be raised because dividing by zero is not allowed.\n",
    "\n",
    "If the exception is not handled (as is the case in the provided code), here's what happens:\n",
    "\n",
    "1. User enters 0.\n",
    "2. The division operation 10 / num causes a ZeroDivisionError exception.\n",
    "3. Since there is no except block to catch this specific exception, the program's normal flow is disrupted.\n",
    "4. The Python interpreter prints an error message, including the type of the unhandled exception:"
   ]
  },
  {
   "cell_type": "code",
   "execution_count": null,
   "id": "b73429ae-bc77-459b-b482-a72da34c2357",
   "metadata": {},
   "outputs": [],
   "source": [
    "ZeroDivisionError: division by zero"
   ]
  },
  {
   "cell_type": "markdown",
   "id": "167b2c45-1325-4de6-a0ba-ddb3b5fff550",
   "metadata": {},
   "source": [
    "4. The program terminates immediately after printing the error message. The subsequent code after the try block will not be executed.\n",
    "\n",
    "In this scenario, failing to handle the ZeroDivisionError results in the program crashing when encountering this exception. To prevent this, you should include an appropriate except block to handle the exception and provide a graceful response to the user. For instance:"
   ]
  },
  {
   "cell_type": "code",
   "execution_count": 3,
   "id": "21377cba-2202-4f7d-b936-75ebef115677",
   "metadata": {},
   "outputs": [
    {
     "name": "stdin",
     "output_type": "stream",
     "text": [
      "Enter a number:  35\n"
     ]
    },
    {
     "name": "stdout",
     "output_type": "stream",
     "text": [
      "Result: 0.2857142857142857\n"
     ]
    }
   ],
   "source": [
    "try:\n",
    "    num = int(input(\"Enter a number: \"))\n",
    "    result = 10 / num\n",
    "    print(\"Result:\", result)\n",
    "except ZeroDivisionError:\n",
    "    print(\"Error: Cannot divide by zero.\")\n",
    "except ValueError:\n",
    "    print(\"Error: Please enter a valid number.\")"
   ]
  },
  {
   "cell_type": "markdown",
   "id": "06d20cd1-22f6-4bf9-b59c-0e8e3214c32d",
   "metadata": {},
   "source": [
    "Now, if the user enters 0, the program will handle the exception and print an error message without crashing. If the user enters a non-numeric input, the program will also handle the ValueError exception and display an appropriate error message."
   ]
  },
  {
   "cell_type": "code",
   "execution_count": null,
   "id": "607dd3cb-5ac3-4810-bd2a-4cc797aa5903",
   "metadata": {},
   "outputs": [],
   "source": []
  },
  {
   "cell_type": "markdown",
   "id": "57b4b44f-3448-4953-b066-433b780c178c",
   "metadata": {},
   "source": [
    "Q3. Which Python statements are used to catch and handle exceptions? Explain with an example."
   ]
  },
  {
   "cell_type": "markdown",
   "id": "820cb3ca-db57-446f-b9b2-bc8a45530b29",
   "metadata": {},
   "source": [
    "Ans--\n",
    "\n",
    "In Python, you can catch and handle exceptions using the try and except statements. These statements allow you to specify a block of code where exceptions might occur, and then define one or more blocks of code (using except) to handle those exceptions. This prevents the program from crashing and provides an opportunity to gracefully respond to unexpected situations.\n",
    "\n",
    "Here's the basic syntax of using try and except statements:"
   ]
  },
  {
   "cell_type": "code",
   "execution_count": null,
   "id": "7a4005e1-8d40-4424-b253-274beb973b90",
   "metadata": {},
   "outputs": [],
   "source": [
    "try:\n",
    "    # Code that might raise an exception\n",
    "except ExceptionType:\n",
    "    # Code to handle the exception"
   ]
  },
  {
   "cell_type": "markdown",
   "id": "e65f3a6b-5068-435d-a69c-4acadd37d6ac",
   "metadata": {},
   "source": [
    "- The try block contains the code that you want to monitor for exceptions.\n",
    "- The except block(s) are used to handle specific types of exceptions that may occur within the try block.\n",
    "\n",
    "Example:"
   ]
  },
  {
   "cell_type": "code",
   "execution_count": 5,
   "id": "e34b65f7-0142-4398-b412-a04e7b210f6d",
   "metadata": {},
   "outputs": [
    {
     "name": "stdin",
     "output_type": "stream",
     "text": [
      "Enter a number:  60\n"
     ]
    },
    {
     "name": "stdout",
     "output_type": "stream",
     "text": [
      "Result: 0.16666666666666666\n"
     ]
    }
   ],
   "source": [
    "try:\n",
    "    num = int(input(\"Enter a number: \"))\n",
    "    result = 10 / num\n",
    "    print(\"Result:\", result)\n",
    "except ZeroDivisionError:\n",
    "    print(\"Error: Cannot divide by zero.\")\n",
    "except ValueError:\n",
    "    print(\"Error: Please enter a valid number.\")\n",
    "except Exception as e:\n",
    "    print(\"An error occurred:\", e)"
   ]
  },
  {
   "cell_type": "markdown",
   "id": "21fe979c-be63-46e5-be40-088b2ac341d4",
   "metadata": {},
   "source": [
    "In this example:\n",
    "\n",
    "- The try block contains code that takes user input, attempts division, and prints the result.\n",
    "- The except ZeroDivisionError block catches the specific ZeroDivisionError exception that might occur if the user enters 0.\n",
    "- The except ValueError block catches the specific ValueError exception that might occur if the user enters non-numeric input.\n",
    "- The except Exception as e block is a general catch-all block that can catch any other type of exception that hasn't been handled earlier. It prints a generic error message along with the specific error message associated with the exception (e).\n",
    "\n",
    "When the user enters 0 in this example, the ZeroDivisionError exception is caught by the first except block, preventing the program from crashing. Similarly, if the user enters non-numeric input, the ValueError exception is caught by the second except block.\n",
    "\n",
    "It's important to handle exceptions thoughtfully and provide meaningful error messages to users. You can have multiple except blocks to handle different types of exceptions or use a general catch-all except block to handle unexpected exceptions gracefully."
   ]
  },
  {
   "cell_type": "code",
   "execution_count": null,
   "id": "0a3c9b47-08cf-4b77-bc42-a8b804aab271",
   "metadata": {},
   "outputs": [],
   "source": []
  },
  {
   "cell_type": "markdown",
   "id": "dd594a56-3c14-46a0-979e-7ec73a57e7ab",
   "metadata": {},
   "source": [
    "Q4. Explain with an example:\n",
    "\n",
    "- a. try and else\n",
    "- b. finally\n",
    "- c. raise"
   ]
  },
  {
   "cell_type": "markdown",
   "id": "90f24081-6314-4572-ba08-7d683ed86b98",
   "metadata": {},
   "source": [
    "Ans--\n",
    "\n",
    "Certainly! Let's explore each of these concepts with examples:\n",
    "\n",
    "- a. try, else, and except:\n",
    "The else block is used in conjunction with the try and except blocks. Code placed in the else block will only run if no exception is raised in the corresponding try block.\n",
    "\n",
    "Example:"
   ]
  },
  {
   "cell_type": "code",
   "execution_count": 6,
   "id": "2f46024c-15fe-4216-8071-7c4df599ea73",
   "metadata": {},
   "outputs": [
    {
     "name": "stdin",
     "output_type": "stream",
     "text": [
      "Enter a number:  354\n"
     ]
    },
    {
     "name": "stdout",
     "output_type": "stream",
     "text": [
      "Result: 0.02824858757062147\n"
     ]
    }
   ],
   "source": [
    "try:\n",
    "    num = int(input(\"Enter a number: \"))\n",
    "    result = 10 / num\n",
    "except ZeroDivisionError:\n",
    "    print(\"Error: Cannot divide by zero.\")\n",
    "else:\n",
    "    print(\"Result:\", result)\n"
   ]
  },
  {
   "cell_type": "markdown",
   "id": "fcccf917-07a0-44ea-b046-0ac3b80f5790",
   "metadata": {},
   "source": [
    "In this example, the code in the try block attempts to perform a division operation. If the user enters 0, a ZeroDivisionError is caught and an error message is printed. However, if the user enters a non-zero number, the division is successful, and the code in the else block will run, printing the result.\n",
    "\n",
    "- b. finally:\n",
    "The finally block is used to define code that should always run, regardless of whether an exception was raised or not. It's often used for cleanup operations like closing files or releasing resources.\n",
    "\n",
    "Example:"
   ]
  },
  {
   "cell_type": "code",
   "execution_count": 7,
   "id": "ab1ffda2-40a1-463f-9440-4aa063e5b323",
   "metadata": {},
   "outputs": [
    {
     "name": "stdout",
     "output_type": "stream",
     "text": [
      "File not found.\n"
     ]
    }
   ],
   "source": [
    "try:\n",
    "    file = open(\"example.txt\", \"r\")\n",
    "    content = file.read()\n",
    "except FileNotFoundError:\n",
    "    print(\"File not found.\")\n",
    "finally:\n",
    "    if 'file' in locals():\n",
    "        file.close()  # Ensure the file is closed even if an exception occurred or not."
   ]
  },
  {
   "cell_type": "markdown",
   "id": "085ea566-3cf4-4b1a-a04e-5402d4124e0c",
   "metadata": {},
   "source": [
    "In this example, the try block attempts to open and read a file. If the file is not found, a FileNotFoundError is caught and an error message is printed. The finally block contains code to close the file, ensuring that it's closed whether an exception was raised or not.\n",
    "\n",
    "- c. raise:\n",
    "The raise statement is used to explicitly raise an exception in your code. It can be used to create custom exceptions or to re-raise exceptions caught in a try block.\n",
    "\n",
    "Example:"
   ]
  },
  {
   "cell_type": "code",
   "execution_count": 8,
   "id": "6ea65833-205e-4cc7-b22c-b31043fc2f37",
   "metadata": {},
   "outputs": [
    {
     "name": "stdout",
     "output_type": "stream",
     "text": [
      "An error occurred: Divisor cannot be zero.\n"
     ]
    }
   ],
   "source": [
    "def divide(a, b):\n",
    "    if b == 0:\n",
    "        raise ValueError(\"Divisor cannot be zero.\")\n",
    "    return a / b\n",
    "\n",
    "try:\n",
    "    result = divide(10, 0)\n",
    "except ValueError as e:\n",
    "    print(\"An error occurred:\", e)"
   ]
  },
  {
   "cell_type": "markdown",
   "id": "8ab2a01f-c686-4321-8f3a-d6a22421e3af",
   "metadata": {},
   "source": [
    "In this example, the divide function raises a ValueError exception with a custom error message if the divisor is zero. The try block then catches this exception and prints the error message.\n",
    "\n",
    "These concepts (try, else, finally, and raise) provide more flexibility and control when dealing with exceptions in Python, allowing you to handle errors, perform cleanup operations, and create custom exception scenarios."
   ]
  },
  {
   "cell_type": "code",
   "execution_count": null,
   "id": "4956db29-8961-45cb-9a91-6dae386da9b7",
   "metadata": {},
   "outputs": [],
   "source": []
  },
  {
   "cell_type": "markdown",
   "id": "406e5c7d-09f7-4314-932e-386e5c0ef33f",
   "metadata": {},
   "source": [
    "Q5. What are Custom Exceptions in Python? Why do we need Custom Exceptions? Explain with an example."
   ]
  },
  {
   "cell_type": "markdown",
   "id": "aa26450d-b785-4fc2-adec-13d962af52dd",
   "metadata": {},
   "source": [
    "Ans--\n",
    "\n",
    "Custom exceptions, also known as user-defined exceptions, are exceptions that you create yourself by defining new exception classes. These classes extend the built-in Exception class or its subclasses, allowing you to define specific error conditions that are relevant to your application. Custom exceptions provide a way to handle unique error scenarios in a more organized and meaningful manner.\n",
    "\n",
    "Why do we need Custom Exceptions?\n",
    "\n",
    "1. Clarity and Readability: Custom exceptions help make your code more readable and self-explanatory. By using meaningful exception names, you can convey the nature of the error more effectively.\n",
    "\n",
    "2. Modularity: Custom exceptions allow you to encapsulate error-related behavior and logic within specific classes. This promotes better separation of concerns in your code.\n",
    "\n",
    "3. Centralized Error Handling: Custom exceptions enable centralized handling of specific errors. You can catch these exceptions at higher levels of your application and respond appropriately.\n",
    "\n",
    "4. Flexibility: You can add extra attributes or methods to your custom exception classes, providing additional information about the error or enhancing the error-handling process.\n",
    "\n",
    "Example of Custom Exception:\n",
    "\n",
    "Let's say you're building a banking application and you want to handle situations where an account balance goes below a certain limit. You can create a custom exception for this scenario."
   ]
  },
  {
   "cell_type": "code",
   "execution_count": 9,
   "id": "2967efd5-e20f-4cb4-b04f-57cf50fd5eec",
   "metadata": {},
   "outputs": [
    {
     "name": "stdout",
     "output_type": "stream",
     "text": [
      "Error: Insufficient funds. Available balance: 1000, Required: 1500\n"
     ]
    }
   ],
   "source": [
    "class InsufficientFundsError(Exception):\n",
    "    def __init__(self, balance, required_amount):\n",
    "        self.balance = balance\n",
    "        self.required_amount = required_amount\n",
    "        self.message = f\"Insufficient funds. Available balance: {balance}, Required: {required_amount}\"\n",
    "\n",
    "def withdraw_from_account(balance, amount):\n",
    "    if amount > balance:\n",
    "        raise InsufficientFundsError(balance, amount)\n",
    "    return balance - amount\n",
    "\n",
    "try:\n",
    "    account_balance = 1000\n",
    "    withdrawal_amount = 1500\n",
    "    new_balance = withdraw_from_account(account_balance, withdrawal_amount)\n",
    "except InsufficientFundsError as e:\n",
    "    print(\"Error:\", e.message)\n",
    "else:\n",
    "    print(\"Withdrawal successful. New balance:\", new_balance)"
   ]
  },
  {
   "cell_type": "markdown",
   "id": "55533ef7-34a7-48f4-bac4-9c123b12d96a",
   "metadata": {},
   "source": [
    "In this example:\n",
    "\n",
    "- The InsufficientFundsError class is a custom exception that takes the current balance and the required withdrawal amount as parameters.\n",
    "- The withdraw_from_account function attempts a withdrawal and raises InsufficientFundsError if the withdrawal amount exceeds the balance.\n",
    "- In the try block, we call withdraw_from_account with an insufficient withdrawal amount, which raises the custom exception.\n",
    "- The except block catches the custom exception and prints the error message, indicating the available balance and the required amount.\n",
    "- If the withdrawal is successful (withdrawal amount is within the balance), the else block prints a success message with the new balance.\n",
    "\n",
    "By using a custom exception, you're providing a more descriptive error message that makes it clear why the withdrawal failed and what the current balance is. This enhances the user experience and makes debugging easier."
   ]
  },
  {
   "cell_type": "code",
   "execution_count": null,
   "id": "b82c4ba4-a937-4951-a7d1-29c11c353635",
   "metadata": {},
   "outputs": [],
   "source": []
  },
  {
   "cell_type": "markdown",
   "id": "2ad26129-6a49-40b6-9600-6475fc764920",
   "metadata": {},
   "source": [
    "Q6. Create a custom exception class. use this class to handle an exception."
   ]
  },
  {
   "cell_type": "markdown",
   "id": "a64e98ce-3f8b-49ba-9c90-2a006d4bd68a",
   "metadata": {},
   "source": [
    "Ans--\n",
    "\n",
    "Sure, here's an example of creating a custom exception class and then using it to handle an exception:"
   ]
  },
  {
   "cell_type": "code",
   "execution_count": 10,
   "id": "57212954-5fac-4b41-9aaa-cca1fc407b83",
   "metadata": {},
   "outputs": [
    {
     "name": "stdin",
     "output_type": "stream",
     "text": [
      "Enter a positive number:  20\n"
     ]
    },
    {
     "name": "stdout",
     "output_type": "stream",
     "text": [
      "Action completed successfully.\n"
     ]
    }
   ],
   "source": [
    "class CustomError(Exception):\n",
    "    def __init__(self, message):\n",
    "        self.message = message\n",
    "        super().__init__(self.message)\n",
    "\n",
    "def perform_action(value):\n",
    "    if value < 0:\n",
    "        raise CustomError(\"Value cannot be negative.\")\n",
    "\n",
    "try:\n",
    "    user_input = int(input(\"Enter a positive number: \"))\n",
    "    perform_action(user_input)\n",
    "    print(\"Action completed successfully.\")\n",
    "except CustomError as e:\n",
    "    print(\"Custom Error:\", e.message)\n",
    "except ValueError:\n",
    "    print(\"Invalid input. Please enter a valid number.\")"
   ]
  },
  {
   "cell_type": "markdown",
   "id": "a74019e4-ecb4-4b49-a5ec-e1c6165ba964",
   "metadata": {},
   "source": [
    "In this example:\n",
    "\n",
    "- We define a custom exception class CustomError that takes a message as its constructor parameter. It inherits from the built-in Exception class.\n",
    "- The perform_action function checks if the provided value is negative and raises a CustomError with a custom error message if it is.\n",
    "- In the try block, we take user input and attempt to perform the action using perform_action. If the input is negative, the custom exception is raised.\n",
    "- The except CustomError block catches the custom exception and prints the custom error message.\n",
    "- The except ValueError block catches the ValueError exception that might occur if the user doesn't enter a valid number.\n",
    "\n",
    "This example demonstrates how the custom exception CustomError can be used to handle specific error scenarios and provide more informative error messages to users."
   ]
  },
  {
   "cell_type": "code",
   "execution_count": null,
   "id": "5b8ff98e-0c7b-4100-9d0b-74969bc2d582",
   "metadata": {},
   "outputs": [],
   "source": []
  }
 ],
 "metadata": {
  "kernelspec": {
   "display_name": "Python 3 (ipykernel)",
   "language": "python",
   "name": "python3"
  },
  "language_info": {
   "codemirror_mode": {
    "name": "ipython",
    "version": 3
   },
   "file_extension": ".py",
   "mimetype": "text/x-python",
   "name": "python",
   "nbconvert_exporter": "python",
   "pygments_lexer": "ipython3",
   "version": "3.10.8"
  }
 },
 "nbformat": 4,
 "nbformat_minor": 5
}
