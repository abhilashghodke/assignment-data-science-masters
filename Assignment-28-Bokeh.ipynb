{
 "cells": [
  {
   "cell_type": "markdown",
   "id": "1df19283-2d78-49f1-9da0-eb47daa44fcc",
   "metadata": {},
   "source": [
    "Q1. How can you create a Bokeh plot using Python code?"
   ]
  },
  {
   "cell_type": "markdown",
   "id": "bd01f30d-c471-43ec-9db2-6284f80f5fa7",
   "metadata": {},
   "source": [
    "Ans--\n",
    "\n",
    "To create a Bokeh plot using Python, you'll need to follow these steps:"
   ]
  },
  {
   "cell_type": "markdown",
   "id": "6c7365d5-5e2f-4cf5-a752-29047dbec6ce",
   "metadata": {},
   "source": [
    "1. Install Bokeh: If you haven't already, you'll need to install the Bokeh library. You can install it using pip:"
   ]
  },
  {
   "cell_type": "code",
   "execution_count": null,
   "id": "d0758fd5-2148-4e01-8f46-ea60dbbf437d",
   "metadata": {},
   "outputs": [],
   "source": [
    "pip install bokeh"
   ]
  },
  {
   "cell_type": "markdown",
   "id": "d20b6bd8-2e6e-44fa-8a9e-2ed307dc0d56",
   "metadata": {},
   "source": [
    "2. Import Necessary Modules: Import the required modules from the Bokeh library:"
   ]
  },
  {
   "cell_type": "code",
   "execution_count": 2,
   "id": "eef05ce3-0d25-41b1-bdf4-615579d0a32d",
   "metadata": {},
   "outputs": [],
   "source": [
    "from bokeh.plotting import figure, show"
   ]
  },
  {
   "cell_type": "markdown",
   "id": "49606e38-ec55-444d-90ca-e367cdf2ef8b",
   "metadata": {},
   "source": [
    "3. Create Data: Prepare the data you want to visualize. This could be in the form of lists, NumPy arrays, or pandas DataFrames.\n",
    "\n",
    "4. Create a Figure: Initialize a figure object which represents the plot canvas. You can customize various aspects of the plot through this object."
   ]
  },
  {
   "cell_type": "code",
   "execution_count": 7,
   "id": "90d3ffbf-e88f-4b72-8bf6-34d1214d4d90",
   "metadata": {},
   "outputs": [],
   "source": [
    "p = figure(title=\"My Bokeh Plot\", x_axis_label='X-axis', y_axis_label='Y-axis')"
   ]
  },
  {
   "cell_type": "markdown",
   "id": "797ab9b2-d0a2-4a12-9bec-f866e6c40125",
   "metadata": {},
   "source": [
    "5. Add Glyphs: Use various glyph methods to add visual elements to the plot, such as lines, circles, bars, etc."
   ]
  },
  {
   "cell_type": "code",
   "execution_count": null,
   "id": "a1cf6af0-b8e2-4e0e-96ba-51cb63f98b07",
   "metadata": {},
   "outputs": [],
   "source": [
    "p.line(x_values, y_values, line_width=2, line_color=\"blue\", legend_label=\"Line\")\n",
    "p.circle(x_values, y_values, size=8, fill_color=\"red\", legend_label=\"Points\")"
   ]
  },
  {
   "cell_type": "markdown",
   "id": "cd2e9dd3-a3a2-443b-874e-1d05f629230c",
   "metadata": {},
   "source": [
    "6. Customize Plot: You can customize other aspects of the plot like grid lines, background, legends, etc."
   ]
  },
  {
   "cell_type": "code",
   "execution_count": null,
   "id": "e8f079b2-16a7-4a5e-986f-ddbd7dbc1c9e",
   "metadata": {},
   "outputs": [],
   "source": [
    "p.grid.grid_line_color = \"gray\"\n",
    "p.background_fill_color = \"lightgray\"\n",
    "p.legend.title = \"Legend\""
   ]
  },
  {
   "cell_type": "markdown",
   "id": "b46ad119-30ea-425e-8141-cce0f6b40035",
   "metadata": {},
   "source": [
    "7. Display Plot: To view the plot, you can use the show function:"
   ]
  },
  {
   "cell_type": "code",
   "execution_count": null,
   "id": "53fbbe2b-4c18-4bd4-95b7-9473ef8b7fb3",
   "metadata": {},
   "outputs": [],
   "source": [
    "show(p)"
   ]
  },
  {
   "cell_type": "markdown",
   "id": "430e2e7d-e0dc-435c-bc01-951ddac882f8",
   "metadata": {},
   "source": [
    "Putting it all together, here's a simple example:"
   ]
  },
  {
   "cell_type": "code",
   "execution_count": 11,
   "id": "ea157993-cc08-4b3a-86ff-c93a94638cb4",
   "metadata": {},
   "outputs": [],
   "source": [
    "from bokeh.plotting import figure, show\n",
    "\n",
    "# Sample data\n",
    "x_values = [1, 2, 3, 4, 5]\n",
    "y_values = [6, 7, 2, 4, 8]\n",
    "\n",
    "# Create a figure\n",
    "p = figure(title=\"My Bokeh Plot\", x_axis_label='X-axis', y_axis_label='Y-axis')\n",
    "\n",
    "# Add glyphs\n",
    "p.line(x_values, y_values, line_width=2, line_color=\"blue\", legend_label=\"Line\")\n",
    "p.circle(x_values, y_values, size=8, fill_color=\"red\", legend_label=\"Points\")\n",
    "\n",
    "# Customize plot\n",
    "p.grid.grid_line_color = \"gray\"\n",
    "p.background_fill_color = \"lightgray\"\n",
    "p.legend.title = \"Legend\"\n",
    "\n",
    "# Display plot\n",
    "show(p)"
   ]
  },
  {
   "cell_type": "code",
   "execution_count": null,
   "id": "14df2113-031c-4e2e-9dea-853f6de7985c",
   "metadata": {},
   "outputs": [],
   "source": []
  },
  {
   "cell_type": "markdown",
   "id": "ede8a4c8-20e5-4515-acb3-10b85101ce3c",
   "metadata": {},
   "source": [
    "Q2. What are glyphs in Bokeh, and how can you add them to a Bokeh plot? Explain with an example."
   ]
  },
  {
   "cell_type": "markdown",
   "id": "eda64710-c162-4cfe-9a58-266d1c94cc65",
   "metadata": {},
   "source": [
    "Ans--\n",
    "\n",
    "In Bokeh, glyphs are visual shapes or markers that you can add to a plot to represent your data. Glyphs can include various shapes like circles, squares, lines, bars, and more. They allow you to visually encode your data in a meaningful way. Each glyph corresponds to a different kind of data visualization.\n",
    "\n",
    "To add glyphs to a Bokeh plot, you typically use the glyph methods provided by the figure object. Here's an example of how to add different types of glyphs to a Bokeh plot:"
   ]
  },
  {
   "cell_type": "code",
   "execution_count": null,
   "id": "5684e609-bd84-411c-9ae2-0e2c1d76b421",
   "metadata": {},
   "outputs": [],
   "source": [
    "from bokeh.plotting import figure, show\n",
    "\n",
    "# Sample data\n",
    "x_values = [1, 2, 3, 4, 5]\n",
    "y_values = [6, 7, 2, 4, 8]\n",
    "\n",
    "# Create a figure\n",
    "p = figure(title=\"Glyph Example\", x_axis_label='X-axis', y_axis_label='Y-axis')\n",
    "\n",
    "# Add different glyphs\n",
    "p.circle(x_values, y_values, size=10, color=\"blue\", legend_label=\"Circles\")\n",
    "p.square(x_values, [y + 0.5 for y in y_values], size=12, color=\"green\", legend_label=\"Squares\")\n",
    "p.line(x_values, [y - 0.5 for y in y_values], line_width=2, color=\"red\", legend_label=\"Line\")\n",
    "\n",
    "# Display plot\n",
    "p.legend.title = \"Glyphs\"\n",
    "show(p)"
   ]
  },
  {
   "cell_type": "markdown",
   "id": "6c02ad6d-f5e7-4301-8378-3cbf376ed360",
   "metadata": {},
   "source": [
    "In this example, we're adding three types of glyphs to the plot:\n",
    "\n",
    "1. Circles: The circle glyph method is used to add circular markers to the plot. We're specifying the x and y coordinates, size, and color.\n",
    "\n",
    "2. Squares: The square glyph method adds square markers. We've adjusted the y-coordinates slightly to separate them from the circles.\n",
    "\n",
    "3. Line: The line glyph method adds a line connecting the data points. We're specifying the x and y coordinates and customizing the line width and color.\n",
    "\n",
    "Each glyph method takes different arguments to customize its appearance, such as size, color, line width, etc. Additionally, by providing the legend_label argument, we're creating labels for each glyph in the legend."
   ]
  },
  {
   "cell_type": "code",
   "execution_count": null,
   "id": "614c50ec-01d1-419f-92e4-a40ddb438c27",
   "metadata": {},
   "outputs": [],
   "source": []
  },
  {
   "cell_type": "markdown",
   "id": "0f17a511-2346-44e4-bbd2-87eac6ed2cd4",
   "metadata": {},
   "source": [
    "Q3. How can you customize the appearance of a Bokeh plot, including the axes, title, and legend?"
   ]
  },
  {
   "cell_type": "markdown",
   "id": "59528e16-44b6-4b5c-b33d-ac1a5d723819",
   "metadata": {},
   "source": [
    "Ans--\n",
    "\n",
    "You can customize the appearance of a Bokeh plot using various attributes and methods provided by the figure object and related components. Here's how you can customize different aspects of a Bokeh plot:"
   ]
  },
  {
   "cell_type": "markdown",
   "id": "71b15226-81ca-49da-8ce5-49d5677951ac",
   "metadata": {},
   "source": [
    "1. Title and Labels:\n",
    "\n",
    "You can customize the title of the plot and labels for the x and y axes using the title, x_axis_label, and y_axis_label attributes of the figure object:"
   ]
  },
  {
   "cell_type": "code",
   "execution_count": null,
   "id": "b432fa1b-0d96-4556-8b32-9cabde328a9c",
   "metadata": {},
   "outputs": [],
   "source": [
    "p = figure(title=\"Customizing Bokeh Plot\", x_axis_label='X-axis Label', y_axis_label='Y-axis Label')"
   ]
  },
  {
   "cell_type": "markdown",
   "id": "80264d3a-d834-4a09-a4eb-8d9c12f8d517",
   "metadata": {},
   "source": [
    "2. Axes:\n",
    "\n",
    "You can customize various aspects of the axes, such as their labels, tick marks, and grid lines:"
   ]
  },
  {
   "cell_type": "code",
   "execution_count": null,
   "id": "9821f8c0-ce6c-415e-ae71-b187687b821f",
   "metadata": {},
   "outputs": [],
   "source": [
    "p.xaxis.axis_label = \"Custom X-label\"\n",
    "p.yaxis.axis_label = \"Custom Y-label\"\n",
    "p.xaxis.major_label_text_color = \"red\"\n",
    "p.yaxis.major_label_text_font_size = \"14pt\"\n",
    "p.xaxis.minor_tick_line_color = None\n",
    "p.yaxis.major_tick_line_color = \"blue\"\n",
    "p.xgrid.grid_line_color = \"gray\""
   ]
  },
  {
   "cell_type": "markdown",
   "id": "45fa6b31-49cd-46b0-91e6-597897c37b34",
   "metadata": {},
   "source": [
    "3. Legend:\n",
    "\n",
    "To customize the legend, you can set attributes on the Legend object that is created when you add glyphs with legend_label:"
   ]
  },
  {
   "cell_type": "code",
   "execution_count": null,
   "id": "177dc2d4-8be7-4220-96a7-949ce6ee0625",
   "metadata": {},
   "outputs": [],
   "source": [
    "p.legend.title = \"My Legend\"\n",
    "p.legend.label_text_font_size = \"12pt\"\n",
    "p.legend.label_text_color = \"green\"\n",
    "p.legend.title_text_font_style = \"bold\"\n",
    "p.legend.location = \"top_left\"  # You can change the location (e.g., \"bottom_right\")"
   ]
  },
  {
   "cell_type": "markdown",
   "id": "10dd8351-ae77-40fa-86e3-6a9d5b251811",
   "metadata": {},
   "source": [
    "4. Background and Grid:\n",
    "\n",
    "You can customize the background color of the plot and the appearance of the grid lines:"
   ]
  },
  {
   "cell_type": "code",
   "execution_count": null,
   "id": "defa559e-c7a9-4cc3-b8ab-ed9013f58897",
   "metadata": {},
   "outputs": [],
   "source": [
    "p.background_fill_color = \"lightgray\"\n",
    "p.border_fill_color = \"white\"\n",
    "p.grid.grid_line_color = \"gray\"\n",
    "p.grid.grid_line_dash = [6, 4]"
   ]
  },
  {
   "cell_type": "markdown",
   "id": "7249c924-7013-47ff-a7dd-7f908f89db5d",
   "metadata": {},
   "source": [
    "5. Figure Size:\n",
    "\n",
    "You can adjust the size of the figure using the plot_width and plot_height parameters when creating the figure:"
   ]
  },
  {
   "cell_type": "code",
   "execution_count": null,
   "id": "24c252c7-83fa-47e5-b915-5cd0e2c893b8",
   "metadata": {},
   "outputs": [],
   "source": [
    "p = figure(plot_width=800, plot_height=600, title=\"Custom Size Plot\")"
   ]
  },
  {
   "cell_type": "markdown",
   "id": "97ce5457-1c07-40b7-aaa3-618748878506",
   "metadata": {},
   "source": [
    "6. Plot Tools:\n",
    "\n",
    "Bokeh offers various interactive tools by default. You can customize which tools are available and their behavior:"
   ]
  },
  {
   "cell_type": "code",
   "execution_count": null,
   "id": "8fe20b3e-08d9-43ba-8bbb-8900eb74d08a",
   "metadata": {},
   "outputs": [],
   "source": [
    "p.tools = \"pan,box_zoom,reset\"  # Choose tools (comma-separated)\n",
    "p.toolbar.logo = None  # Remove Bokeh logo"
   ]
  },
  {
   "cell_type": "code",
   "execution_count": null,
   "id": "7bda5bc5-9bdb-42c3-a5e6-dd0a8e50be6d",
   "metadata": {},
   "outputs": [],
   "source": []
  },
  {
   "cell_type": "markdown",
   "id": "9e61435b-b801-4bbc-a83c-8a243723fdad",
   "metadata": {},
   "source": [
    "Q4. What is a Bokeh server, and how can you use it to create interactive plots that can be updated in\n",
    "real time?"
   ]
  },
  {
   "cell_type": "markdown",
   "id": "b048b376-dc63-463c-ad7e-56165a11b344",
   "metadata": {},
   "source": [
    "Ans--\n",
    "\n",
    "The Bokeh server is a crucial component of the Bokeh library that allows you to create interactive, dynamic, and real-time data visualizations that can be updated in response to user interactions or external data changes. It enables the creation of web applications with interactive plots, widgets, and controls that can update and respond to changes without requiring the plot to be completely regenerated and reloaded.\n",
    "\n",
    "Here's a general overview of how the Bokeh server works and how you can use it to create interactive plots:\n",
    "\n",
    "- Creating a Bokeh Application:\n",
    "To create a Bokeh application, you define a Python function or class that constructs the initial plot(s) and sets up the necessary interactions, widgets, and controls. This function or class becomes your Bokeh application.\n",
    "\n",
    "- Adding Widgets and Interactions:\n",
    "Inside your Bokeh application, you can add various widgets like buttons, sliders, dropdowns, and text inputs. These widgets allow users to interact with the plot and trigger updates. You can define callbacks that are executed when a user interacts with a widget.\n",
    "\n",
    "- Defining Callbacks:\n",
    "Callbacks are Python functions that are executed when an event occurs, such as a button click or a slider value change. Inside these callbacks, you can update the data, properties, or appearance of your plot dynamically. Bokeh's CustomJS can be used for simple callbacks, and Python functions can be used for more complex interactions.\n",
    "\n",
    "- Running the Bokeh Server:\n",
    "After creating your Bokeh application with widgets, interactions, and callbacks, you need to run the Bokeh server to serve the application to a web browser. This allows users to interact with the application and see real-time updates.\n",
    "\n",
    "- Launching the Application:\n",
    "You can launch the Bokeh application using the bokeh serve command followed by the path to your Python script or directory containing the application. This starts the Bokeh server, and your application becomes accessible through a web browser.\n",
    "\n",
    "Here's a simplified example to demonstrate the usage of the Bokeh server:"
   ]
  },
  {
   "cell_type": "code",
   "execution_count": null,
   "id": "12c5cfbf-26e2-4b80-8ada-42998b0570b4",
   "metadata": {},
   "outputs": [],
   "source": [
    "from bokeh.plotting import curdoc, figure\n",
    "from bokeh.models import Slider\n",
    "\n",
    "# Create a plot\n",
    "plot = figure(plot_width=400, plot_height=400)\n",
    "line = plot.line(x=[1, 2, 3], y=[1, 2, 3], line_width=2)\n",
    "\n",
    "# Create a slider widget\n",
    "slider = Slider(start=1, end=10, value=1, step=1, title=\"Multiplier\")\n",
    "\n",
    "# Define a callback\n",
    "def update_data(attrname, old, new):\n",
    "    line.data_source.data['y'] = [i * slider.value for i in [1, 2, 3]]\n",
    "\n",
    "slider.on_change('value', update_data)\n",
    "\n",
    "# Add plot and widget to the document\n",
    "curdoc().add_root(plot)\n",
    "curdoc().add_root(slider)"
   ]
  },
  {
   "cell_type": "markdown",
   "id": "20721059-283a-4340-b1ab-42cf0c0c6d59",
   "metadata": {},
   "source": [
    "In this example, we create a plot and a slider widget. The slider's value controls the multiplication factor applied to the y-coordinates of the plot's line. When the slider value changes, the update_data callback is triggered, updating the plot's data source and causing the plot to be updated dynamically.\n",
    "\n",
    "To run this application using the Bokeh server, you would save it in a .py file and use the command:"
   ]
  },
  {
   "cell_type": "code",
   "execution_count": null,
   "id": "ba547d54-0699-481b-8de1-ae8726a81869",
   "metadata": {},
   "outputs": [],
   "source": [
    "bokeh serve your_script.py"
   ]
  },
  {
   "cell_type": "markdown",
   "id": "9e73f411-d26e-47cb-b11d-612b87854a93",
   "metadata": {},
   "source": [
    "This launches a local server, and you can access the interactive plot by visiting the provided URL in your web browser.\n",
    "\n",
    "The Bokeh server allows to build sophisticated, interactive data applications and dashboards that respond to real-time user interactions and data updates, making your data visualizations much more engaging and dynamic."
   ]
  },
  {
   "cell_type": "code",
   "execution_count": null,
   "id": "402d02e2-f3d0-4301-8a94-8cadbd57e8aa",
   "metadata": {},
   "outputs": [],
   "source": []
  },
  {
   "cell_type": "markdown",
   "id": "cd70deb3-442c-4e62-af45-9cae9f2abe20",
   "metadata": {},
   "source": [
    "Q5. How can you embed a Bokeh plot into a web page or dashboard using Flask or Django?"
   ]
  },
  {
   "cell_type": "markdown",
   "id": "04020fb6-91da-4999-9cd8-a08b00f2fe56",
   "metadata": {},
   "source": [
    "Ans--\n",
    "\n",
    "Embedding a Bokeh plot into a web page or dashboard using Flask or Django involves integrating the Bokeh plot components into your web framework's templates. Both Flask and Django allow you to render HTML templates and pass data from your Python backend to the frontend. Here's a general guide on how to achieve this:\n",
    "\n",
    "Embedding Bokeh Plot in Flask:\n",
    "1. Install Dependencies:\n",
    "Make sure you have Flask and Bokeh installed.\n",
    "\n",
    "2. Create Flask App:\n",
    "Set up your Flask app and create a route to handle the page with the embedded Bokeh plot.\n",
    "\n",
    "3. Generate Bokeh Components:\n",
    "Use Bokeh's components function to generate the HTML and JavaScript components of the Bokeh plot.\n",
    "\n",
    "4. Pass Components to Template:\n",
    "Render a template using Flask's render_template function and pass the generated Bokeh components as context variables.\n",
    "\n",
    "5. Create Template:\n",
    "Create an HTML template that includes the Bokeh components placeholders. The placeholders will be replaced with the actual plot and widgets when the page is rendered.\n",
    "\n",
    "Display Plot:\n",
    "When the user accesses the specified route, the template will be rendered with the Bokeh plot components, and the interactive plot will be embedded in the web page.\n",
    "\n",
    "Embedding Bokeh Plot in Django:\n",
    "Install Dependencies:\n",
    "Make sure you have Django and Bokeh installed.\n",
    "\n",
    "Create Django App:\n",
    "Set up your Django app and create a view function to handle the page with the embedded Bokeh plot.\n",
    "\n",
    "Generate Bokeh Components:\n",
    "Similar to Flask, use Bokeh's components function to generate the HTML and JavaScript components of the Bokeh plot.\n",
    "\n",
    "Pass Components to Template:\n",
    "Create a template for your view and pass the generated Bokeh components as context variables when rendering the template.\n",
    "\n",
    "Display Plot:\n",
    "When the user accesses the specified URL associated with your view, the template will be rendered with the Bokeh plot components, embedding the interactive plot in the web page.\n",
    "\n",
    "Here's a simplified example of how this might look in Flask:"
   ]
  }
 ],
 "metadata": {
  "kernelspec": {
   "display_name": "Python 3 (ipykernel)",
   "language": "python",
   "name": "python3"
  },
  "language_info": {
   "codemirror_mode": {
    "name": "ipython",
    "version": 3
   },
   "file_extension": ".py",
   "mimetype": "text/x-python",
   "name": "python",
   "nbconvert_exporter": "python",
   "pygments_lexer": "ipython3",
   "version": "3.10.8"
  }
 },
 "nbformat": 4,
 "nbformat_minor": 5
}
