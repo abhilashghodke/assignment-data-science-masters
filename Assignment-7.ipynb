{
 "cells": [
  {
   "cell_type": "markdown",
   "id": "c702d0f3-931b-4db5-9f38-4448874c046c",
   "metadata": {},
   "source": [
    "Q1. Create a function which will take a list as an argument and return the product of all the numbers\n",
    "after creating a flat list.\n",
    "\n",
    "Use the below-given list as an argument for your function.\n",
    "\n",
    "list1 = [1,2,3,4, [44,55,66, True], False, (34,56,78,89,34), {1,2,3,3,2,1}, {1:34, \"key2\": [55, 67, 78, 89], 4: (45,\n",
    "22, 61, 34)}, [56, 'data science'], 'Machine Learning']\n",
    "\n",
    "Note: you must extract numeric keys and values of the dictionary also."
   ]
  },
  {
   "cell_type": "code",
   "execution_count": 1,
   "id": "58ffeb8b-7ee2-4d5a-924b-f93a5c7fad5b",
   "metadata": {},
   "outputs": [
    {
     "name": "stdout",
     "output_type": "stream",
     "text": [
      "Product of all numeric values: 0\n"
     ]
    }
   ],
   "source": [
    "def flatten_and_calculate_product(input_list):\n",
    "    flat_list = []\n",
    "    \n",
    "    def flatten(lst):\n",
    "        for item in lst:\n",
    "            if isinstance(item, list):\n",
    "                flatten(item)\n",
    "            elif isinstance(item, dict):\n",
    "                for value in item.values():\n",
    "                    if isinstance(value, (int, float)):\n",
    "                        flat_list.append(value)\n",
    "                    elif isinstance(value, list):\n",
    "                        flatten(value)\n",
    "            elif isinstance(item, (int, float)):\n",
    "                flat_list.append(item)\n",
    "    \n",
    "    flatten(input_list)\n",
    "    \n",
    "    product = 1\n",
    "    for num in flat_list:\n",
    "        product *= num\n",
    "    \n",
    "    return product\n",
    "\n",
    "# Given list\n",
    "list1 = [1, 2, 3, 4, [44, 55, 66, True], False, (34, 56, 78, 89, 34), {1, 2, 3, 3, 2, 1},\n",
    "         {1: 34, \"key2\": [55, 67, 78, 89], 4: (45, 22, 61, 34)}, [56, 'data science'], 'Machine Learning']\n",
    "\n",
    "product = flatten_and_calculate_product(list1)\n",
    "print(\"Product of all numeric values:\", product)"
   ]
  },
  {
   "cell_type": "code",
   "execution_count": null,
   "id": "82bd9e5d-2282-4a80-952c-54bb23f4135c",
   "metadata": {},
   "outputs": [],
   "source": []
  },
  {
   "cell_type": "markdown",
   "id": "171fce83-48e8-4fbc-8479-e12a58a7dd99",
   "metadata": {},
   "source": [
    "Q2. Write a python program for encrypting a message sent to you by your friend. The logic of encryption\n",
    "should be such that, for a the output should be z. For b, the output should be y. For c, the output should\n",
    "be x respectively. Also, the whitespace should be replaced with a dollar sign. Keep the punctuation\n",
    "marks unchanged.\n",
    "\n",
    "Input Sentence: I want to become a Data Scientist.\n",
    "\n",
    "Encrypt the above input sentence using the program you just created.\n",
    "\n",
    "Note: Convert the given input sentence into lowercase before encrypting. The final output should be\n",
    "lowercase."
   ]
  },
  {
   "cell_type": "code",
   "execution_count": 2,
   "id": "01fc1220-d7eb-493e-b7ec-24b85872693a",
   "metadata": {},
   "outputs": [
    {
     "name": "stdout",
     "output_type": "stream",
     "text": [
      "Encrypted Message: r$dzmg$gl$yvxlnv$z$wzgz$hxrvmgrhg.\n"
     ]
    }
   ],
   "source": [
    "def encrypt_message(message):\n",
    "    encrypted = \"\"\n",
    "    for char in message:\n",
    "        if char.isalpha():\n",
    "            if char.islower():\n",
    "                encrypted += chr(122 - (ord(char) - 97))\n",
    "            else:\n",
    "                encrypted += chr(90 - (ord(char) - 65))\n",
    "        elif char == \" \":\n",
    "            encrypted += \"$\"\n",
    "        else:\n",
    "            encrypted += char\n",
    "    return encrypted\n",
    "\n",
    "input_sentence = \"I want to become a Data Scientist.\"\n",
    "lowercase_input = input_sentence.lower()\n",
    "encrypted_sentence = encrypt_message(lowercase_input)\n",
    "\n",
    "print(\"Encrypted Message:\", encrypted_sentence)"
   ]
  },
  {
   "cell_type": "code",
   "execution_count": null,
   "id": "bdc9df40-a4ab-4310-9497-897f657a39f4",
   "metadata": {},
   "outputs": [],
   "source": []
  }
 ],
 "metadata": {
  "kernelspec": {
   "display_name": "Python 3 (ipykernel)",
   "language": "python",
   "name": "python3"
  },
  "language_info": {
   "codemirror_mode": {
    "name": "ipython",
    "version": 3
   },
   "file_extension": ".py",
   "mimetype": "text/x-python",
   "name": "python",
   "nbconvert_exporter": "python",
   "pygments_lexer": "ipython3",
   "version": "3.10.8"
  }
 },
 "nbformat": 4,
 "nbformat_minor": 5
}
