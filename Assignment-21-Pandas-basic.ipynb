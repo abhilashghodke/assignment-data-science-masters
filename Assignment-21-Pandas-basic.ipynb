{
 "cells": [
  {
   "cell_type": "markdown",
   "id": "22f47ce7-113a-4f1c-bb0c-1e038192c49e",
   "metadata": {},
   "source": [
    "Q1. Create a Pandas Series that contains the following data: 4, 8, 15, 16, 23, and 42. Then, print the series."
   ]
  },
  {
   "cell_type": "markdown",
   "id": "10b3851a-4b7c-4f29-adb4-82d65e5db55c",
   "metadata": {},
   "source": [
    "Ans--\n",
    "\n",
    "Here's how you can create a Pandas Series containing the given data and print it:"
   ]
  },
  {
   "cell_type": "code",
   "execution_count": 1,
   "id": "8704e9b3-49ec-4dda-a136-b0a80d5473a9",
   "metadata": {},
   "outputs": [
    {
     "name": "stdout",
     "output_type": "stream",
     "text": [
      "0     4\n",
      "1     8\n",
      "2    15\n",
      "3    16\n",
      "4    23\n",
      "5    42\n",
      "dtype: int64\n"
     ]
    }
   ],
   "source": [
    "import pandas as pd\n",
    "\n",
    "data = [4, 8, 15, 16, 23, 42]\n",
    "series = pd.Series(data)\n",
    "\n",
    "print(series)"
   ]
  },
  {
   "cell_type": "code",
   "execution_count": null,
   "id": "db46b2f8-f9a5-48ef-ab5e-7063c6f33472",
   "metadata": {},
   "outputs": [],
   "source": []
  },
  {
   "cell_type": "markdown",
   "id": "427e152b-f728-42a7-b53f-815441a0ef56",
   "metadata": {},
   "source": [
    "Q2. Create a variable of list type containing 10 elements in it, and apply pandas.Series function on the\n",
    "variable print it."
   ]
  },
  {
   "cell_type": "markdown",
   "id": "47202667-4116-4ca5-80a5-d9decdcdd4c8",
   "metadata": {},
   "source": [
    "Ans--\n",
    "\n",
    "Certainly! Here's how you can create a list variable containing 10 elements and then create a Pandas Series using the pd.Series() function and print it:"
   ]
  },
  {
   "cell_type": "code",
   "execution_count": 2,
   "id": "ec9e8a77-6e5f-4651-a690-6240f9ec507b",
   "metadata": {},
   "outputs": [
    {
     "name": "stdout",
     "output_type": "stream",
     "text": [
      "0     10\n",
      "1     20\n",
      "2     30\n",
      "3     40\n",
      "4     50\n",
      "5     60\n",
      "6     70\n",
      "7     80\n",
      "8     90\n",
      "9    100\n",
      "dtype: int64\n"
     ]
    }
   ],
   "source": [
    "import pandas as pd\n",
    "\n",
    "# Create a list with 10 elements\n",
    "my_list = [10, 20, 30, 40, 50, 60, 70, 80, 90, 100]\n",
    "\n",
    "# Create a Pandas Series from the list\n",
    "series = pd.Series(my_list)\n",
    "\n",
    "# Print the series\n",
    "print(series)"
   ]
  },
  {
   "cell_type": "code",
   "execution_count": null,
   "id": "87f62bc0-d19a-41b7-8909-9e64bed6adf3",
   "metadata": {},
   "outputs": [],
   "source": []
  },
  {
   "cell_type": "markdown",
   "id": "408b03de-b592-4ef3-b104-4605612d10b6",
   "metadata": {},
   "source": [
    "Q3. Create a Pandas DataFrame that contains the following data:\n",
    "\n",
    "Then, print the DataFrame."
   ]
  },
  {
   "cell_type": "markdown",
   "id": "38fc42f7-0efe-4011-8df7-264cb45c56d1",
   "metadata": {},
   "source": [
    "Ans--\n",
    "\n",
    "Here's how you can create a Pandas DataFrame containing the given data and print it:"
   ]
  },
  {
   "cell_type": "code",
   "execution_count": 3,
   "id": "ec4c8a81-3d44-44c9-94cd-4a6034e51772",
   "metadata": {},
   "outputs": [
    {
     "name": "stdout",
     "output_type": "stream",
     "text": [
      "     Name  Age  Gender\n",
      "0   Alice   25  Female\n",
      "1     Bob   30    Male\n",
      "2  Claire   27  Female\n"
     ]
    }
   ],
   "source": [
    "import pandas as pd\n",
    "\n",
    "data = {\n",
    "    'Name': ['Alice', 'Bob', 'Claire'],\n",
    "    'Age': [25, 30, 27],\n",
    "    'Gender': ['Female', 'Male', 'Female']\n",
    "}\n",
    "\n",
    "df = pd.DataFrame(data)\n",
    "\n",
    "print(df)"
   ]
  },
  {
   "cell_type": "markdown",
   "id": "7edd98a6-6217-43ef-b16d-46c5d5c09e92",
   "metadata": {},
   "source": [
    "The DataFrame displays the data with column headers ('Name', 'Age', 'Gender') and the corresponding values in rows."
   ]
  },
  {
   "cell_type": "code",
   "execution_count": null,
   "id": "e241a596-6b11-4aea-8176-89c6aa28f0f3",
   "metadata": {},
   "outputs": [],
   "source": []
  },
  {
   "cell_type": "markdown",
   "id": "05e63ac2-3d5e-447a-a918-498a99e5e316",
   "metadata": {},
   "source": [
    "Q4. What is ‘DataFrame’ in pandas and how is it different from pandas.series? Explain with an example."
   ]
  },
  {
   "cell_type": "markdown",
   "id": "40b66d3e-51e7-4989-a277-c1f681d49776",
   "metadata": {},
   "source": [
    "Ans--\n",
    "\n",
    "In Pandas, a DataFrame is a two-dimensional labeled data structure that is used to store and manipulate tabular data. It is similar to a spreadsheet or a SQL table, where data is organized in rows and columns. Each column in a DataFrame can be of a different data type (e.g., integers, strings, floats), making it a versatile data structure for various data analysis tasks.\n",
    "\n",
    "On the other hand, a Pandas Series is a one-dimensional labeled array that can hold data of any type. It's often thought of as a single column of a DataFrame. Each element in a Series is associated with an index label, which provides a way to access and manipulate the data.\n",
    "\n",
    "Here's a more detailed explanation with an example:\n",
    "\n",
    "Example using a Series:\n",
    "\n",
    "Let's say we have a dataset containing the heights of three individuals:"
   ]
  },
  {
   "cell_type": "code",
   "execution_count": 4,
   "id": "8aebb3f0-0149-40ce-99e4-05e0e54b6af8",
   "metadata": {},
   "outputs": [
    {
     "name": "stdout",
     "output_type": "stream",
     "text": [
      "0    165\n",
      "1    180\n",
      "2    155\n",
      "Name: Height, dtype: int64\n"
     ]
    }
   ],
   "source": [
    "import pandas as pd\n",
    "\n",
    "heights = pd.Series([165, 180, 155], name='Height')\n",
    "print(heights)"
   ]
  },
  {
   "cell_type": "markdown",
   "id": "a21853de-6ad9-4c65-a561-b5949b206358",
   "metadata": {},
   "source": [
    "In this case, heights is a Pandas Series. It's a one-dimensional data structure that stores the heights of individuals. The index labels (0, 1, 2) are automatically assigned, and the Series has a single column of data (Height).\n",
    "\n",
    "Example using a DataFrame:\n",
    "\n",
    "Now, let's expand the dataset to include additional information about the individuals:"
   ]
  },
  {
   "cell_type": "code",
   "execution_count": 5,
   "id": "c34918ca-7e49-4244-8abc-14d2d480c894",
   "metadata": {},
   "outputs": [
    {
     "name": "stdout",
     "output_type": "stream",
     "text": [
      "     Name  Height  Age\n",
      "0   Alice     165   25\n",
      "1     Bob     180   30\n",
      "2  Claire     155   27\n"
     ]
    }
   ],
   "source": [
    "data = {\n",
    "    'Name': ['Alice', 'Bob', 'Claire'],\n",
    "    'Height': [165, 180, 155],\n",
    "    'Age': [25, 30, 27]\n",
    "}\n",
    "\n",
    "df = pd.DataFrame(data)\n",
    "print(df)"
   ]
  },
  {
   "cell_type": "markdown",
   "id": "fdaed3f6-11df-4138-8878-3b35721f749f",
   "metadata": {},
   "source": [
    "In this example, df is a Pandas DataFrame. It's a two-dimensional data structure that stores the names, heights, and ages of individuals. Each column in the DataFrame (Name, Height, Age) represents a different variable, and each row represents an individual's information.\n",
    "\n",
    "Key Differences:\n",
    "\n",
    "1. Dimensions: A Series is one-dimensional, while a DataFrame is two-dimensional.\n",
    "2. Columns: A DataFrame can have multiple columns of different data types, whereas a Series has only one column.\n",
    "3. Indexing: Both Series and DataFrames have index labels for rows. In a Series, index labels are used to access individual elements. In a DataFrame, index labels are used to access rows or subsets of the data.\n",
    "4. Use Cases: Series are often used to represent a single variable, while DataFrames are used to store and manipulate tabular data that involves multiple variables.\n",
    "5. Syntax: Accessing a column in a DataFrame is similar to accessing a Series, but in a DataFrame, you access a column by using df['Column'], whereas in a Series, you use series['Index'].\n",
    "\n",
    "In summary, a Series is a fundamental building block in Pandas that represents a one-dimensional array with an index. A DataFrame is a more complex structure that organizes multiple Series-like objects into a tabular format, similar to a table in a relational database or a spreadsheet."
   ]
  },
  {
   "cell_type": "code",
   "execution_count": null,
   "id": "f9cff1b3-e6dc-4f9c-9902-f353aff0b571",
   "metadata": {},
   "outputs": [],
   "source": []
  },
  {
   "cell_type": "markdown",
   "id": "eefec8fd-5128-418c-ba14-3d342637dce5",
   "metadata": {},
   "source": [
    "Q5. What are some common functions you can use to manipulate data in a Pandas DataFrame? Can\n",
    "you give an example of when you might use one of these functions?"
   ]
  },
  {
   "cell_type": "markdown",
   "id": "8a240e5c-acc4-4fc8-aff8-df7c58e78712",
   "metadata": {},
   "source": [
    "Ans--\n",
    "\n",
    "Pandas provides a wide range of functions for manipulating data in a DataFrame. Here are some common functions along with examples of when you might use them:\n",
    "\n",
    "head() and tail(): These functions allow you to view the first few rows (head) or last few rows (tail) of a DataFrame."
   ]
  },
  {
   "cell_type": "code",
   "execution_count": 6,
   "id": "fa5253b7-2ab5-4ec2-92ee-7d9fbf46944a",
   "metadata": {},
   "outputs": [
    {
     "name": "stdout",
     "output_type": "stream",
     "text": [
      "     Name  Age  Gender\n",
      "0   Alice   25  Female\n",
      "1     Bob   30    Male\n",
      "2  Claire   27  Female\n",
      "     Name  Age  Gender\n",
      "1     Bob   30    Male\n",
      "2  Claire   27  Female\n"
     ]
    }
   ],
   "source": [
    "import pandas as pd\n",
    "\n",
    "data = {'Name': ['Alice', 'Bob', 'Claire'],\n",
    "        'Age': [25, 30, 27],\n",
    "        'Gender': ['Female', 'Male', 'Female']}\n",
    "\n",
    "df = pd.DataFrame(data)\n",
    "\n",
    "print(df.head())  # Display the first 5 rows\n",
    "print(df.tail(2))  # Display the last 2 rows"
   ]
  },
  {
   "cell_type": "markdown",
   "id": "59cff958-0e3b-420a-a207-4d11d283fa5d",
   "metadata": {},
   "source": [
    "2. describe(): Provides summary statistics of the numeric columns in the DataFrame."
   ]
  },
  {
   "cell_type": "code",
   "execution_count": null,
   "id": "c0976c43-b3f0-4208-9f3e-3f8eb9feb285",
   "metadata": {},
   "outputs": [],
   "source": [
    "print(df.describe())"
   ]
  },
  {
   "cell_type": "markdown",
   "id": "a8c312ed-3f58-42a7-8503-8c43cf167b28",
   "metadata": {},
   "source": [
    "3. info(): Displays concise information about the DataFrame, including data types and non-null counts."
   ]
  },
  {
   "cell_type": "code",
   "execution_count": null,
   "id": "e1428e12-40d3-492b-a094-47b28bde8833",
   "metadata": {},
   "outputs": [],
   "source": [
    "print(df.info())"
   ]
  },
  {
   "cell_type": "markdown",
   "id": "68bdb9ab-6d8f-46bc-b0cc-728c47ee85bd",
   "metadata": {},
   "source": [
    "4. sort_values(): Sorts the DataFrame based on one or more columns."
   ]
  },
  {
   "cell_type": "code",
   "execution_count": null,
   "id": "687dcea2-4f5c-4e5a-b231-9505a0f2d303",
   "metadata": {},
   "outputs": [],
   "source": [
    "sorted_df = df.sort_values(by='Age', ascending=False)\n",
    "print(sorted_df)"
   ]
  },
  {
   "cell_type": "markdown",
   "id": "54157909-51d9-4b42-84b2-ac238562fcb4",
   "metadata": {},
   "source": [
    "5. groupby(): Groups data based on one or more columns and allows applying aggregate functions."
   ]
  },
  {
   "cell_type": "code",
   "execution_count": null,
   "id": "0d3ddd63-9c15-46bc-a339-59392be661bb",
   "metadata": {},
   "outputs": [],
   "source": [
    "grouped = df.groupby('Gender')['Age'].mean()\n",
    "print(grouped)"
   ]
  },
  {
   "cell_type": "markdown",
   "id": "9ac57091-302f-41a4-bc56-44d3f8662460",
   "metadata": {},
   "source": [
    "6. drop(): Removes specified columns or rows from the DataFrame."
   ]
  },
  {
   "cell_type": "code",
   "execution_count": null,
   "id": "86ca585f-56e1-434a-9be9-c5ecb7ef98e7",
   "metadata": {},
   "outputs": [],
   "source": [
    "df_without_age = df.drop(columns='Age')\n",
    "print(df_without_age)"
   ]
  },
  {
   "cell_type": "markdown",
   "id": "d520b20e-c31a-4fc7-92a2-f5378d4aa7f1",
   "metadata": {},
   "source": [
    "7. fillna(): Fills missing values in the DataFrame with specified values or methods."
   ]
  },
  {
   "cell_type": "code",
   "execution_count": null,
   "id": "6e49bd0d-90d5-44a9-980f-748dd12aa0b1",
   "metadata": {},
   "outputs": [],
   "source": [
    "df_filled = df.fillna(value={'Age': 0})\n",
    "print(df_filled)"
   ]
  },
  {
   "cell_type": "markdown",
   "id": "db6183a8-f7d4-4e67-946c-a19d6ca93ec0",
   "metadata": {},
   "source": [
    "8. apply(): Applies a function to each element or column of the DataFrame."
   ]
  },
  {
   "cell_type": "code",
   "execution_count": 7,
   "id": "990903f6-9533-4d56-883b-81e4ce38932a",
   "metadata": {},
   "outputs": [
    {
     "name": "stdout",
     "output_type": "stream",
     "text": [
      "     Name  Age  Gender Age_Category\n",
      "0   Alice   25  Female        Young\n",
      "1     Bob   30    Male        Adult\n",
      "2  Claire   27  Female        Young\n"
     ]
    }
   ],
   "source": [
    "def age_category(age):\n",
    "    if age < 30:\n",
    "        return 'Young'\n",
    "    else:\n",
    "        return 'Adult'\n",
    "\n",
    "df['Age_Category'] = df['Age'].apply(age_category)\n",
    "print(df)"
   ]
  },
  {
   "cell_type": "markdown",
   "id": "74ac720f-f659-489e-9cbd-f7da4c42ea84",
   "metadata": {},
   "source": [
    "9. pivot_table(): Creates a pivot table from the DataFrame, allowing you to summarize and aggregate data."
   ]
  },
  {
   "cell_type": "code",
   "execution_count": null,
   "id": "0617e188-4aa0-45cf-a5b1-9fe84c229d7a",
   "metadata": {},
   "outputs": [],
   "source": [
    "pivot_table = df.pivot_table(values='Age', index='Gender', columns='Age_Category', aggfunc='mean')\n",
    "print(pivot_table)"
   ]
  },
  {
   "cell_type": "markdown",
   "id": "ea964ff3-8020-4e92-b124-3b29d3d4d049",
   "metadata": {},
   "source": [
    "10. merge(): Combines two DataFrames based on a common column (similar to SQL JOIN)."
   ]
  },
  {
   "cell_type": "code",
   "execution_count": null,
   "id": "14253e46-d521-4f0c-b36b-222f164641ea",
   "metadata": {},
   "outputs": [],
   "source": [
    "other_data = {'Name': ['Alice', 'Bob', 'Eve'],\n",
    "              'Country': ['USA', 'Canada', 'UK']}\n",
    "\n",
    "other_df = pd.DataFrame(other_data)\n",
    "merged_df = df.merge(other_df, on='Name')\n",
    "print(merged_df)"
   ]
  },
  {
   "cell_type": "markdown",
   "id": "c8c0a6e8-9817-44be-90a6-402eb3ef5760",
   "metadata": {},
   "source": [
    "These are just a few examples of the many functions available in Pandas for data manipulation. Depending on your specific analysis or data cleaning needs, you can choose the appropriate functions to transform and manipulate your DataFrame."
   ]
  },
  {
   "cell_type": "code",
   "execution_count": null,
   "id": "e619bce5-4d3c-4521-beb4-3cf4bc5c2f46",
   "metadata": {},
   "outputs": [],
   "source": []
  },
  {
   "cell_type": "markdown",
   "id": "01521dcb-a771-4f64-bd3d-37edeb651435",
   "metadata": {},
   "source": [
    "Q6. Which of the following is mutable in nature Series, DataFrame, Panel?"
   ]
  },
  {
   "cell_type": "markdown",
   "id": "ea15a09f-d2c8-41fd-8630-782962b36064",
   "metadata": {},
   "source": [
    "Ans--\n",
    "\n",
    "Among the options provided, both Series and DataFrame are mutable in nature in the context of Pandas.\n",
    "\n",
    "- A Series is mutable because you can modify its values, add new elements, or change existing ones after it has been created.\n",
    "\n",
    "- A DataFrame is also mutable. You can modify its data, add or remove columns, and perform various data manipulation operations on it.\n",
    "\n",
    "On the other hand, the Panel data structure has been deprecated in recent versions of Pandas and is no longer recommended for use. Instead, multi-dimensional data is usually handled using a combination of DataFrames and multi-indexing. Therefore, Panels are not a relevant consideration for most current Pandas use cases."
   ]
  },
  {
   "cell_type": "code",
   "execution_count": null,
   "id": "870a1c9e-a91d-4b89-85b2-1562dbe58021",
   "metadata": {},
   "outputs": [],
   "source": []
  },
  {
   "cell_type": "markdown",
   "id": "00e5c060-4fc8-4af3-94ef-8f7ac5ca57dc",
   "metadata": {},
   "source": [
    "Q7. Create a DataFrame using multiple Series. Explain with an example."
   ]
  },
  {
   "cell_type": "markdown",
   "id": "42ed1ab9-8914-4636-b6fc-e427c0e66c92",
   "metadata": {},
   "source": [
    "Ans--\n",
    "\n",
    "You can create a DataFrame using multiple Series by passing the Series as a dictionary to the pd.DataFrame() constructor. Each Series will become a column in the resulting DataFrame. Here's an example:"
   ]
  },
  {
   "cell_type": "code",
   "execution_count": null,
   "id": "1cc877d6-2b28-445d-be0a-0b505de7a460",
   "metadata": {},
   "outputs": [],
   "source": []
  }
 ],
 "metadata": {
  "kernelspec": {
   "display_name": "Python 3 (ipykernel)",
   "language": "python",
   "name": "python3"
  },
  "language_info": {
   "codemirror_mode": {
    "name": "ipython",
    "version": 3
   },
   "file_extension": ".py",
   "mimetype": "text/x-python",
   "name": "python",
   "nbconvert_exporter": "python",
   "pygments_lexer": "ipython3",
   "version": "3.10.8"
  }
 },
 "nbformat": 4,
 "nbformat_minor": 5
}
