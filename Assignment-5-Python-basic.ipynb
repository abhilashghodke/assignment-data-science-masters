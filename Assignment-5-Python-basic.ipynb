{
 "cells": [
  {
   "cell_type": "markdown",
   "id": "056f97a4-0125-4185-8d0e-2468917b118f",
   "metadata": {},
   "source": [
    "Q1. Who developed Python Programming Language?"
   ]
  },
  {
   "cell_type": "markdown",
   "id": "0cba9603-b819-4839-9ace-c310f6906eb5",
   "metadata": {},
   "source": [
    "Ans-\n",
    "\n",
    "Python was created by Guido van Rossum, a Dutch programmer. He started working on the language in the late 1980s, and the first version, Python 0.9.0, was released in February 1991. Guido van Rossum continued to lead the development of Python until he stepped down as the \"Benevolent Dictator For Life\" (BDFL) in July 2018. Since then, Python's development has been overseen by the Python Steering Council, a group of core developers."
   ]
  },
  {
   "cell_type": "code",
   "execution_count": null,
   "id": "3ec8e919-afdc-42e8-be7d-d2efafb47219",
   "metadata": {},
   "outputs": [],
   "source": []
  },
  {
   "cell_type": "markdown",
   "id": "e7586321-390d-453b-ac65-e53a9b4c264a",
   "metadata": {},
   "source": [
    "Q2 Which type of Programming does Python support?"
   ]
  },
  {
   "cell_type": "markdown",
   "id": "c444e59c-ab52-4d4c-8f08-012525e7aae8",
   "metadata": {},
   "source": [
    "Ans--\n",
    "\n",
    "Python is a versatile programming language that supports various programming paradigms, making it suitable for a wide range of applications. The main programming paradigms supported by Python are:\n",
    "\n",
    "1. Imperative Programming: \n",
    "This is the most common programming paradigm, where you write code that specifies the steps to be taken to achieve a result. Python's syntax and structure make it well-suited for writing imperative code.\n",
    "\n",
    "2. Object-Oriented Programming (OOP): \n",
    "Python supports object-oriented programming by allowing you to define classes and create objects with methods and attributes. This paradigm encourages organizing code into reusable and modular classes.\n",
    "\n",
    "3. Functional Programming: \n",
    "Python supports functional programming concepts like first-class functions, higher-order functions, and lambda expressions. You can write code in a functional style, treating functions as first-class citizens.\n",
    "\n",
    "4. Procedural Programming: \n",
    "Python allows you to structure your code using procedures, functions, and modules. While Python is not purely procedural, you can write code in a procedural manner if needed.\n",
    "\n",
    "5. Scripting: \n",
    "Python is often used for scripting tasks due to its concise and readable syntax. It's commonly used for automating repetitive tasks, text processing, and more.\n",
    "\n",
    "6. Dynamic Programming: \n",
    "Python is dynamically typed, meaning you don't need to declare variable types explicitly. This flexibility allows for rapid development and easy prototyping.\n",
    "\n",
    "Structured Programming: Python enforces structured programming principles through its indentation-based syntax. This helps improve code readability and maintainability."
   ]
  },
  {
   "cell_type": "code",
   "execution_count": null,
   "id": "12eeb804-6fb7-4b38-aafc-a6b27455099e",
   "metadata": {},
   "outputs": [],
   "source": []
  },
  {
   "cell_type": "markdown",
   "id": "22804911-f9e1-4617-8ac2-7cca926c6805",
   "metadata": {},
   "source": [
    "Q3. Is Python case sensitive when dealing with identifiers?"
   ]
  },
  {
   "cell_type": "markdown",
   "id": "b8a64d74-13d3-41d9-88ec-a758d3356220",
   "metadata": {},
   "source": [
    "Yes, Python is case-sensitive when it comes to identifiers. This means that uppercase and lowercase letters are considered distinct and separate. In other words, Python treats \"myVariable\" and \"MyVariable\" as two different identifiers, and they can refer to different objects or values."
   ]
  },
  {
   "cell_type": "code",
   "execution_count": null,
   "id": "05bc192e-6ec0-4f7c-afe8-106361eb4044",
   "metadata": {},
   "outputs": [],
   "source": []
  },
  {
   "cell_type": "markdown",
   "id": "b050b9f1-0daf-4f8e-af43-300b638dbd97",
   "metadata": {},
   "source": [
    "Q4. Whit is the correct extension of the Python file?"
   ]
  },
  {
   "cell_type": "markdown",
   "id": "a7c467bd-456d-4375-a51e-6309886a7c2e",
   "metadata": {},
   "source": [
    "The correct extension for Python files is \".py\". When you save a Python script, you should use a file name that ends with the \".py\" extension. For example, \"my_script.py\" is a common naming convention for Python files.\n",
    "\n",
    "Using the correct extension helps both you and your system recognize that the file contains Python code. This is important for various reasons, including proper syntax highlighting in text editors or IDEs and allowing the Python interpreter to identify and execute the code within the file."
   ]
  },
  {
   "cell_type": "code",
   "execution_count": null,
   "id": "07a263e1-5dc0-41b7-85a0-1ce8db1ed137",
   "metadata": {},
   "outputs": [],
   "source": []
  },
  {
   "cell_type": "markdown",
   "id": "1622d23e-11ce-4728-9d29-48321f784f3e",
   "metadata": {},
   "source": [
    "Q5. Is Python code compiled or interpreted?"
   ]
  },
  {
   "cell_type": "markdown",
   "id": "f01da29b-572e-4bb5-b347-d62c8686e2f0",
   "metadata": {},
   "source": [
    "Python is an interpreted programming language. This means that Python code is not compiled into machine code before it is executed. Instead, Python code is executed line by line by the Python interpreter, which reads the code, interprets it, and then executes the corresponding operations."
   ]
  },
  {
   "cell_type": "code",
   "execution_count": null,
   "id": "fd313dd8-c6c9-44cf-a8e3-491429db7a30",
   "metadata": {},
   "outputs": [],
   "source": []
  },
  {
   "cell_type": "markdown",
   "id": "7506ceea-c78f-4cf3-8617-ddd20e1a17ca",
   "metadata": {},
   "source": [
    "Q6. Name a few blocks of code used to define in Python language?"
   ]
  },
  {
   "cell_type": "markdown",
   "id": "4b4fba66-762d-492d-bfaa-3efa390ea8d9",
   "metadata": {},
   "source": [
    "Ans--\n",
    "\n",
    "In Python, code blocks are defined using indentation. Indentation is a significant aspect of Python syntax, and it's used to group statements together into logical blocks of code. Here are a few types of code blocks commonly used in Python:"
   ]
  },
  {
   "cell_type": "markdown",
   "id": "64b7db08-c5e6-47f2-a08c-8dd17308cf85",
   "metadata": {},
   "source": [
    "1. Function Definitions:\n",
    "2. Conditional Statements (if, elif, else):\n",
    "3. Looping Constructs (for and while loops):\n",
    "4. Class Definitions:\n",
    "5. Exception Handling (try, except, finally):"
   ]
  },
  {
   "cell_type": "code",
   "execution_count": null,
   "id": "adddf6ca-75e3-4d5b-9da9-68d3bdc882ae",
   "metadata": {},
   "outputs": [],
   "source": []
  },
  {
   "cell_type": "markdown",
   "id": "51c77ecb-36bb-4c4d-bf1b-3295f64c72d6",
   "metadata": {},
   "source": [
    "Q7. State a character used to give single-line comments in Python?"
   ]
  },
  {
   "cell_type": "markdown",
   "id": "3f276349-8fab-4ee3-9634-d759116c7d2d",
   "metadata": {},
   "source": [
    "In Python, the # character is used to create single-line comments. Any text that follows the # symbol on the same line is considered a comment and is ignored by the Python interpreter. Single-line comments are often used to provide explanations, documentation, or notes within the code."
   ]
  },
  {
   "cell_type": "code",
   "execution_count": null,
   "id": "f9d6b8b0-3fb2-419b-b502-aa6c3ab289a9",
   "metadata": {},
   "outputs": [],
   "source": []
  },
  {
   "cell_type": "markdown",
   "id": "5e438756-796b-4def-a045-8e374a316306",
   "metadata": {},
   "source": [
    "Q8. Mention functions which can help us to find the version of python that we are currently working on?"
   ]
  },
  {
   "cell_type": "markdown",
   "id": "b7af53df-31a8-4d42-97d5-ef0ef3223df7",
   "metadata": {},
   "source": [
    "Ans-\n",
    "\n",
    "You can use the sys module to find the version of Python you are currently working with. Here are a couple of functions that can help you achieve this:"
   ]
  },
  {
   "cell_type": "markdown",
   "id": "46134156-fbc3-4c00-831d-fd10fa706953",
   "metadata": {},
   "source": [
    "1. sys.version:\n",
    "The sys.version attribute returns a string that represents the Python version in use.\n",
    "\n",
    "2. sys.version_info:\n",
    "The sys.version_info tuple provides more detailed information about the Python version, including major, minor, micro, release level, and serial.\n",
    "\n",
    "3. platform.python_version():\n",
    "The platform module provides a python_version() function that returns a string representing the Python version.\n",
    "\n",
    "4. sys.hexversion:\n",
    "The sys.hexversion attribute returns an integer representing the Python version in hexadecimal format. This can be useful for version comparisons.\n"
   ]
  },
  {
   "cell_type": "code",
   "execution_count": null,
   "id": "6e034838-a5a6-47b4-8313-4fa68a86e6c6",
   "metadata": {},
   "outputs": [],
   "source": []
  },
  {
   "cell_type": "markdown",
   "id": "1b693397-5698-4a9b-91ce-2d6d0d9bdf5f",
   "metadata": {},
   "source": [
    "Q9. Python supports the creation of anonymous functions at runtime, using a construct called"
   ]
  },
  {
   "cell_type": "markdown",
   "id": "35ee4a34-23b7-43e7-b739-120da2e9c146",
   "metadata": {},
   "source": [
    "Python supports the creation of anonymous functions at runtime using a construct called \"lambda\" functions. Lambda functions are also sometimes referred to as \"lambda expressions\" or \"anonymous functions.\" They are a way to create small, inline functions without having to use the def keyword to define a named function.\n",
    "\n",
    "Lambda functions are particularly useful for simple operations that can be expressed concisely in a single line of code. The general syntax of a lambda function is as follows:"
   ]
  },
  {
   "cell_type": "code",
   "execution_count": 2,
   "id": "9e854944-098f-49eb-b4fb-bc3f678a0382",
   "metadata": {},
   "outputs": [
    {
     "data": {
      "text/plain": [
       "<function __main__.<lambda>(arguments)>"
      ]
     },
     "execution_count": 2,
     "metadata": {},
     "output_type": "execute_result"
    }
   ],
   "source": [
    "lambda arguments: expression"
   ]
  },
  {
   "cell_type": "code",
   "execution_count": null,
   "id": "c5ae5648-74bc-4b35-9091-5372f7afa3b8",
   "metadata": {},
   "outputs": [],
   "source": []
  },
  {
   "cell_type": "markdown",
   "id": "ffc53534-eed5-4e25-867e-6c10ebd34158",
   "metadata": {},
   "source": [
    "Q10. What does pip stand for python?"
   ]
  },
  {
   "cell_type": "markdown",
   "id": "a3215a7a-48b7-435f-b6d1-887e396a9bbb",
   "metadata": {},
   "source": [
    "Ans--\n",
    "\n",
    "In Python, \"pip\" stands for \"Pip Installs Packages\" or \"Pip Installs Python.\" It's a package manager used to install and manage third-party libraries and packages that are not included in the standard Python library. Pip makes it easy to install, upgrade, and remove packages from the Python Package Index (PyPI), which is a repository of Python software maintained by the community. This helps developers manage dependencies and add functionality to their Python projects without having to reinvent the wheel."
   ]
  },
  {
   "cell_type": "code",
   "execution_count": null,
   "id": "995ba2b8-2e06-464a-97c7-cddc43f9b25b",
   "metadata": {},
   "outputs": [],
   "source": []
  },
  {
   "cell_type": "markdown",
   "id": "ac5c702b-62df-4e47-837f-47a3b5a20f23",
   "metadata": {},
   "source": [
    "Q11. Mention a few built-in functions in python?"
   ]
  },
  {
   "cell_type": "markdown",
   "id": "f31451c2-7477-4309-b304-efb1ad517003",
   "metadata": {},
   "source": [
    "Ans--\n",
    "\n",
    "Python comes with a variety of built-in functions that provide core functionality and are available without the need to import any additional modules. Here are a few examples of built-in functions in Python:\n",
    "\n",
    "1. print(): Used to display output on the console.\n",
    "2. len(): Returns the length (number of items) of an object.\n",
    "3. input(): Reads a line of text from the user's input.\n",
    "4. range(): Generates a sequence of numbers within a specified range.\n",
    "5. type(): Returns the type of an object.\n",
    "6. str(), int(), float(), bool(): Functions to convert values to string, integer, floating-point, and boolean types, respectively.\n",
    "7. max(), min(): Returns the maximum and minimum value from a sequence.\n",
    "8. sum(): Calculates the sum of elements in a sequence (list, tuple, etc.).\n",
    "9. sorted(): Returns a sorted version of a sequence (list, tuple, etc.).\n",
    "10. abs(): Returns the absolute value of a number."
   ]
  },
  {
   "cell_type": "code",
   "execution_count": null,
   "id": "5d4e936a-9346-44e7-b662-e4cdcd674338",
   "metadata": {},
   "outputs": [],
   "source": []
  },
  {
   "cell_type": "markdown",
   "id": "2742c7a1-5816-4697-baea-9de06729d09a",
   "metadata": {},
   "source": [
    "Q12. What is the maximum possible length of an identifier in Python?"
   ]
  },
  {
   "cell_type": "markdown",
   "id": "cfe67f15-18f0-4cf1-8506-d5196b04acc9",
   "metadata": {},
   "source": [
    "Ans--\n",
    "\n",
    "In Python, the maximum length of an identifier (variable name, function name, class name, etc.) is determined by the implementation and can vary based on the Python version and the underlying system. However, there are some general guidelines:\n",
    "\n",
    "For most practical purposes, the identifier length limit is long enough that you don't need to worry about hitting it. The Python language specification (PEP 8) recommends using a maximum line length of 79 characters, including indentation. This guideline indirectly suggests keeping your identifiers reasonably short for readability.\n",
    "\n",
    "In terms of technical limits:\n",
    "\n",
    "In Python 3.1 and later, the maximum identifier length is 255 Unicode characters.\n",
    "\n",
    "In Python 2.7, the maximum identifier length is 255 bytes.\n",
    "\n",
    "Keep in mind that while these are the technical limits, it's generally a good practice to keep your identifiers concise and descriptive to enhance code readability and maintainability."
   ]
  },
  {
   "cell_type": "code",
   "execution_count": null,
   "id": "0195711e-a226-49e6-bd3e-875ffa31ec4a",
   "metadata": {},
   "outputs": [],
   "source": []
  },
  {
   "cell_type": "markdown",
   "id": "3880caec-f83a-47a0-b349-b920006c8327",
   "metadata": {},
   "source": [
    "Q13. What are the benefits of using Python?"
   ]
  },
  {
   "cell_type": "markdown",
   "id": "ea01035b-324b-40c4-9b16-d2ae29a409b4",
   "metadata": {},
   "source": [
    "Ans--\n",
    "\n",
    "Python offers a wide range of benefits, which contribute to its popularity and versatility as a programming language. Here are some of the key advantages of using Python:\n",
    "\n",
    "Readable and Understandable Syntax: Python's clean and readable syntax makes it easier to write and understand code, enhancing collaboration and maintainability.\n",
    "\n",
    "Wide Range of Applications: Python can be used for web development, data analysis, scientific computing, artificial intelligence, machine learning, automation, scripting, and more.\n",
    "\n",
    "Vast Standard Library: Python comes with a rich standard library that provides ready-to-use modules and functions for various tasks, reducing the need for reinventing the wheel.\n",
    "\n",
    "Cross-Platform Compatibility: Python is available on multiple platforms, including Windows, macOS, and various Linux distributions, allowing you to develop code that can run on different operating systems.\n",
    "\n",
    "Strong Community and Support: Python has a large and active community of developers, which means you can easily find resources, tutorials, libraries, and support online.\n",
    "\n",
    "Open Source and Free: Python is open source, meaning you can use, modify, and distribute it without licensing fees.\n",
    "\n",
    "Third-Party Libraries and Frameworks: Python has an extensive ecosystem of third-party libraries and frameworks that expedite development in various domains. For example, Django and Flask for web development, NumPy and Pandas for data analysis, TensorFlow and PyTorch for machine learning, and more.\n",
    "\n",
    "Productivity and Rapid Development: Python's concise syntax and dynamic typing promote faster development cycles, making it a suitable choice for prototyping and quick iterations.\n",
    "\n",
    "Integration Capabilities: Python can easily integrate with other programming languages like C, C++, and Java. It can also interact with various databases, file formats, and protocols.\n",
    "\n",
    "Great for Beginners: Python's readability and simplicity make it an excellent choice for beginners who are learning programming concepts and writing their first lines of code.\n",
    "\n",
    "Diverse Development Environments: Python supports various development environments, from simple text editors to feature-rich integrated development environments (IDEs) like PyCharm, Visual Studio Code, and Jupyter Notebook.\n",
    "\n",
    "High Demand in the Job Market: Python's versatility and broad applicability have led to a high demand for Python developers across various industries."
   ]
  },
  {
   "cell_type": "code",
   "execution_count": null,
   "id": "fa750cc7-169a-439b-ae30-2ec1e4e5591f",
   "metadata": {},
   "outputs": [],
   "source": []
  },
  {
   "cell_type": "markdown",
   "id": "f091657f-3b6b-43ef-8463-522c868e51e0",
   "metadata": {},
   "source": [
    "Q14 How is memory managed in Python?"
   ]
  },
  {
   "cell_type": "markdown",
   "id": "eeb6ba52-f0f2-4519-9638-0a8b45f7d529",
   "metadata": {},
   "source": [
    "Ans--\n",
    "\n",
    "Memory management in Python is handled automatically by the Python interpreter through a mechanism known as \"dynamic memory management\" or \"automatic memory management.\" The primary components responsible for managing memory in Python are:"
   ]
  },
  {
   "cell_type": "code",
   "execution_count": null,
   "id": "195d6b44-fd23-46bd-aff6-47c9a003cb2a",
   "metadata": {},
   "outputs": [],
   "source": []
  },
  {
   "cell_type": "markdown",
   "id": "c9ff3f0c-284e-4198-b86e-d546ffc39567",
   "metadata": {},
   "source": [
    "Q15. How to install Python on Windows and set path variables?"
   ]
  },
  {
   "cell_type": "markdown",
   "id": "3bfe55b8-6bc8-4e80-b250-bfa865a5849f",
   "metadata": {},
   "source": [
    "Ans--\n",
    "\n",
    "Installing Python on Windows is a straightforward process. Here's a step-by-step guide on how to install Python and set up the path variables:\n",
    "\n",
    "1. Download Python:\n",
    "\n",
    "Visit the official Python website: https://www.python.org/downloads/windows/\n",
    "Choose the latest version of Python that is suitable for your system (32-bit or 64-bit).\n",
    "Click on the \"Download\" button to download the installer executable (.exe) file.\n",
    "2. Run the Installer:\n",
    "\n",
    "Locate the downloaded .exe file and double-click on it to run the installer.\n",
    "Check the box that says \"Add Python X.Y to PATH\" (replace X.Y with the version number, e.g., 3.9).\n",
    "You can choose to customize the installation by clicking on \"Customize installation\" or simply click \"Install Now\" for the default settings.\n",
    "3. Installing Python:\n",
    "\n",
    "The installer will begin the installation process. It may take a few moments to complete.\n",
    "Once the installation is finished, you will see a screen indicating a successful installation.\n",
    "4. Verify the Installation:\n",
    "\n",
    "Open the Command Prompt (search for \"cmd\" in the Start menu).\n",
    "Type python --version and press Enter. You should see the installed Python version displayed.\n",
    "5. Set Up Path Variables:\n",
    "\n",
    "Setting up path variables is not usually required if you selected the \"Add Python X.Y to PATH\" option during installation. However, if you need to set up or modify path variables manually:\n",
    "\n",
    "Right-click on \"This PC\" or \"Computer\" on your desktop or in File Explorer and select \"Properties.\"\n",
    "Click on \"Advanced system settings\" on the left side.\n",
    "In the \"System Properties\" window, click the \"Environment Variables\" button.\n",
    "Under \"System variables,\" find and select the \"Path\" variable, then click \"Edit.\"\n",
    "Click \"New\" and add the path to your Python installation directory. For example, C:\\Python39 or C:\\Users\\YourUsername\\AppData\\Local\\Programs\\Python\\Python39 (replace \"Python39\" with your installed version).\n",
    "Click \"OK\" to close each of the dialog boxes.\n",
    "6. Verify Path Variables:\n",
    "\n",
    "Open a new Command Prompt window.\n",
    "Type python --version and press Enter. You should again see the installed Python version displayed, indicating that the path variables are correctly set.\n",
    "With these steps, you'll have successfully installed Python on your Windows system and set up the necessary path variables to use Python from the Command Prompt or other applications."
   ]
  },
  {
   "cell_type": "code",
   "execution_count": null,
   "id": "0dbe465d-6201-42eb-bdf6-275e8330ac47",
   "metadata": {},
   "outputs": [],
   "source": []
  },
  {
   "cell_type": "code",
   "execution_count": null,
   "id": "c2d234bd-1244-4f1b-b869-293ac4b283f3",
   "metadata": {},
   "outputs": [],
   "source": []
  }
 ],
 "metadata": {
  "kernelspec": {
   "display_name": "Python 3 (ipykernel)",
   "language": "python",
   "name": "python3"
  },
  "language_info": {
   "codemirror_mode": {
    "name": "ipython",
    "version": 3
   },
   "file_extension": ".py",
   "mimetype": "text/x-python",
   "name": "python",
   "nbconvert_exporter": "python",
   "pygments_lexer": "ipython3",
   "version": "3.10.8"
  }
 },
 "nbformat": 4,
 "nbformat_minor": 5
}
