{
 "cells": [
  {
   "cell_type": "markdown",
   "id": "c71cc50b-efc3-4212-8c89-a63a2de0d3eb",
   "metadata": {},
   "source": [
    "Q1. What is Abstraction in OOps? Explain with an example."
   ]
  },
  {
   "cell_type": "markdown",
   "id": "5749e519-5f74-4b23-b4ee-d9a05740445e",
   "metadata": {},
   "source": [
    "Ans--\n",
    "\n",
    "Think of abstraction as a way to create a blueprint for objects. It defines the properties (attributes) and behaviors (methods) that an object should have, while keeping the internal workings hidden from the outside world."
   ]
  },
  {
   "cell_type": "code",
   "execution_count": 1,
   "id": "1ea66b30-6ac5-4a7a-b925-b0067b251136",
   "metadata": {},
   "outputs": [],
   "source": [
    "class Animal:\n",
    "    def __init__(self, name, species):\n",
    "        self.name = name\n",
    "        self.species = species\n",
    "    \n",
    "    def make_sound(self):\n",
    "        pass\n",
    "    \n",
    "    def move(self):\n",
    "        pass"
   ]
  },
  {
   "cell_type": "markdown",
   "id": "bb92241b-040d-4b6d-941b-f74449dea3eb",
   "metadata": {},
   "source": [
    "In this abstract \"Animal\" class, we've defined the attributes name and species, as well as two methods, make_sound() and move(). However, the methods are left empty (implemented as pass) because the specific sounds and movements would vary for different types of animals."
   ]
  },
  {
   "cell_type": "markdown",
   "id": "74ec2022-8d03-4d38-af1d-ad71d087c7ca",
   "metadata": {},
   "source": [
    "Now, let's create a more concrete subclass that inherits from the \"Animal\" class:"
   ]
  },
  {
   "cell_type": "code",
   "execution_count": 3,
   "id": "18e67980-6c71-4aae-8015-9d928af30e5f",
   "metadata": {},
   "outputs": [],
   "source": [
    "class Lion(Animal):\n",
    "    def make_sound(self):\n",
    "        return \"Roar\"\n",
    "    \n",
    "    def move(self):\n",
    "        return \"Run on four legs\""
   ]
  },
  {
   "cell_type": "code",
   "execution_count": null,
   "id": "50a6f89a-278e-4f09-a060-6f5b60029bb0",
   "metadata": {},
   "outputs": [],
   "source": []
  },
  {
   "cell_type": "markdown",
   "id": "6f7298cc-51d6-497b-b816-cdcf4b03cc5e",
   "metadata": {},
   "source": [
    "Q2. Differentiate between Abstraction and Encapsulation. Explain with an example."
   ]
  },
  {
   "cell_type": "markdown",
   "id": "bae1b09c-6a36-4c7a-abd1-414e52fbdd5d",
   "metadata": {},
   "source": [
    "Abstraction and encapsulation are two key concepts in object-oriented programming (OOP), and they serve different purposes in designing and implementing classes. Let's differentiate between the two and provide an example for each:"
   ]
  },
  {
   "cell_type": "markdown",
   "id": "424bccfc-9727-4f21-a122-cfa893534e98",
   "metadata": {},
   "source": [
    "Example of Abstraction: ---"
   ]
  },
  {
   "cell_type": "code",
   "execution_count": 5,
   "id": "eafde7f5-f247-47c6-a269-19da535641fe",
   "metadata": {},
   "outputs": [],
   "source": [
    "class Car:\n",
    "    def __init__(self, make, model):\n",
    "        self.make = make\n",
    "        self.model = model\n",
    "    \n",
    "    def accelerate(self):\n",
    "        pass\n",
    "    \n",
    "    def brake(self):\n",
    "        pass"
   ]
  },
  {
   "cell_type": "markdown",
   "id": "60fed78a-b6fd-49ac-bc4e-611630f6c160",
   "metadata": {},
   "source": [
    "Example of Encapsulation:--"
   ]
  },
  {
   "cell_type": "code",
   "execution_count": 7,
   "id": "7433b541-ef01-4da8-b346-3f0ed94689e1",
   "metadata": {},
   "outputs": [],
   "source": [
    "class Car:\n",
    "    def __init__(self, make, model):\n",
    "        self.__make = make  # Private attribute\n",
    "        self.__model = model  # Private attribute\n",
    "        self.__speed = 0\n",
    "    \n",
    "    def accelerate(self):\n",
    "        self.__speed += 10\n",
    "    \n",
    "    def brake(self):\n",
    "        self.__speed -= 5\n",
    "    \n",
    "    def get_speed(self):\n",
    "        return self.__speed\n"
   ]
  },
  {
   "cell_type": "code",
   "execution_count": null,
   "id": "4563bfc2-ec47-4fd0-83e9-209995528579",
   "metadata": {},
   "outputs": [],
   "source": []
  },
  {
   "cell_type": "markdown",
   "id": "bb594967-d473-4074-ae2b-66913b3a0445",
   "metadata": {},
   "source": [
    "Q3. What is abc module in python? Why is it used?"
   ]
  },
  {
   "cell_type": "markdown",
   "id": "94a82b65-9f3b-4944-93c2-d63dac63811d",
   "metadata": {},
   "source": [
    "The abc module in Python stands for \"Abstract Base Classes.\" It provides a framework for creating abstract base classes and enforcing certain behaviors and methods that subclasses must implement. Abstract base classes are a way to define common interfaces and structures that multiple classes should adhere to, ensuring a consistent design and behavior across related classes."
   ]
  },
  {
   "cell_type": "markdown",
   "id": "d5356fb7-8369-440b-bf1b-25175e333d7c",
   "metadata": {},
   "source": [
    "Here's a simple example demonstrating the use of the abc module:"
   ]
  },
  {
   "cell_type": "code",
   "execution_count": 8,
   "id": "288719e1-7220-4a5d-b364-9c920ee981d2",
   "metadata": {},
   "outputs": [
    {
     "name": "stdout",
     "output_type": "stream",
     "text": [
      "Circle area: 78.5\n",
      "Rectangle area: 24\n"
     ]
    }
   ],
   "source": [
    "import abc\n",
    "\n",
    "class Shape(abc.ABC):\n",
    "    @abc.abstractmethod\n",
    "    def area(self):\n",
    "        pass\n",
    "\n",
    "class Circle(Shape):\n",
    "    def __init__(self, radius):\n",
    "        self.radius = radius\n",
    "    \n",
    "    def area(self):\n",
    "        return 3.14 * self.radius ** 2\n",
    "\n",
    "class Rectangle(Shape):\n",
    "    def __init__(self, width, height):\n",
    "        self.width = width\n",
    "        self.height = height\n",
    "    \n",
    "    def area(self):\n",
    "        return self.width * self.height\n",
    "\n",
    "# Creating instances\n",
    "circle = Circle(5)\n",
    "rectangle = Rectangle(4, 6)\n",
    "\n",
    "print(\"Circle area:\", circle.area())  # Output: Circle area: 78.5\n",
    "print(\"Rectangle area:\", rectangle.area())  # Output: Rectangle area: 24"
   ]
  },
  {
   "cell_type": "code",
   "execution_count": null,
   "id": "c7e2d182-0494-4205-a8dc-3bc42a49f722",
   "metadata": {},
   "outputs": [],
   "source": []
  },
  {
   "cell_type": "markdown",
   "id": "4184232e-9683-43ff-8433-f7fe553c369c",
   "metadata": {},
   "source": [
    "Q4. How can we achieve data abstraction?"
   ]
  },
  {
   "cell_type": "markdown",
   "id": "da833c7c-6f2c-40b1-a15c-9c241468f21f",
   "metadata": {},
   "source": [
    "\n",
    "Data abstraction in programming is achieved by defining abstract data types (ADTs) that encapsulate the representation of data and the operations that can be performed on that data. It involves hiding the internal details of data and exposing only the essential features and functionalities. This is typically done through the use of classes and interfaces in object-oriented programming (OOP).\n",
    "\n",
    "Here are the steps to achieve data abstraction:\n",
    "\n",
    "1. Define an Abstract Data Type (ADT): Start by identifying the data you want to abstract and the operations that can be performed on that data. Create a class that represents the abstract data type and defines the essential methods without providing the actual implementation.\n",
    "\n",
    "2. Encapsulation: Use access modifiers like private, protected, and public to control the visibility of data members (attributes) and methods. Keep the internal data hidden from the outside world, allowing access only through well-defined methods.\n",
    "\n",
    "3. Abstract Methods: Declare abstract methods within the ADT class. These methods represent the operations that need to be performed on the data. Abstract methods have no implementation in the ADT class but must be implemented in concrete subclasses.\n",
    "\n",
    "4. Inheritance: Create concrete subclasses that inherit from the ADT class. These subclasses provide the actual implementation for the abstract methods defined in the ADT class.\n",
    "\n",
    "5. Instantiate Objects: Create instances of the concrete subclasses to work with the abstract data. Users of the ADT interact with the data and its methods through these objects."
   ]
  },
  {
   "cell_type": "code",
   "execution_count": 9,
   "id": "4c439480-760a-4e46-9cfb-7e11fa1a9796",
   "metadata": {},
   "outputs": [
    {
     "name": "stdout",
     "output_type": "stream",
     "text": [
      "Circle area: 78.5\n",
      "Rectangle area: 24\n"
     ]
    }
   ],
   "source": [
    "from abc import ABC, abstractmethod\n",
    "\n",
    "class AbstractShape(ABC):\n",
    "    @abstractmethod\n",
    "    def area(self):\n",
    "        pass\n",
    "\n",
    "class Circle(AbstractShape):\n",
    "    def __init__(self, radius):\n",
    "        self.radius = radius\n",
    "    \n",
    "    def area(self):\n",
    "        return 3.14 * self.radius ** 2\n",
    "\n",
    "class Rectangle(AbstractShape):\n",
    "    def __init__(self, width, height):\n",
    "        self.width = width\n",
    "        self.height = height\n",
    "    \n",
    "    def area(self):\n",
    "        return self.width * self.height\n",
    "\n",
    "# Creating instances\n",
    "circle = Circle(5)\n",
    "rectangle = Rectangle(4, 6)\n",
    "\n",
    "print(\"Circle area:\", circle.area())  # Output: Circle area: 78.5\n",
    "print(\"Rectangle area:\", rectangle.area())  # Output: Rectangle area: 24"
   ]
  },
  {
   "cell_type": "code",
   "execution_count": null,
   "id": "554984c2-0e96-4db6-8c9a-f7f119916600",
   "metadata": {},
   "outputs": [],
   "source": []
  },
  {
   "cell_type": "markdown",
   "id": "0f00fae1-4c8d-48cf-ae94-126e6123b3b4",
   "metadata": {},
   "source": [
    "Q5. Can we create an instance of an abstract class? Explain your answer."
   ]
  },
  {
   "cell_type": "markdown",
   "id": "011a1ce2-1549-41c8-a9c9-cd4f7a83c94b",
   "metadata": {},
   "source": [
    "Ans--\n",
    "\n",
    "No, you cannot create an instance of an abstract class in most programming languages that support abstract classes, including Python. Abstract classes are designed to be incomplete and serve as blueprints for more specific subclasses. They are meant to be subclassed and provide a structure for defining common attributes and methods, including abstract methods that must be implemented by the subclasses."
   ]
  },
  {
   "cell_type": "markdown",
   "id": "e99cdfb6-db9d-40af-a54f-f782c9beedce",
   "metadata": {},
   "source": [
    "In Python, if you try to instantiate an abstract class, you'll encounter a TypeError:"
   ]
  },
  {
   "cell_type": "code",
   "execution_count": 10,
   "id": "29a69756-01d7-4ea0-b328-9222e58028de",
   "metadata": {},
   "outputs": [
    {
     "ename": "TypeError",
     "evalue": "Can't instantiate abstract class AbstractClass with abstract method some_method",
     "output_type": "error",
     "traceback": [
      "\u001b[0;31m---------------------------------------------------------------------------\u001b[0m",
      "\u001b[0;31mTypeError\u001b[0m                                 Traceback (most recent call last)",
      "Cell \u001b[0;32mIn[10], line 9\u001b[0m\n\u001b[1;32m      6\u001b[0m         \u001b[38;5;28;01mpass\u001b[39;00m\n\u001b[1;32m      8\u001b[0m \u001b[38;5;66;03m# Attempting to create an instance of an abstract class\u001b[39;00m\n\u001b[0;32m----> 9\u001b[0m instance \u001b[38;5;241m=\u001b[39m \u001b[43mAbstractClass\u001b[49m\u001b[43m(\u001b[49m\u001b[43m)\u001b[49m  \u001b[38;5;66;03m# This will raise a TypeError\u001b[39;00m\n",
      "\u001b[0;31mTypeError\u001b[0m: Can't instantiate abstract class AbstractClass with abstract method some_method"
     ]
    }
   ],
   "source": [
    "from abc import ABC, abstractmethod\n",
    "\n",
    "class AbstractClass(ABC):\n",
    "    @abstractmethod\n",
    "    def some_method(self):\n",
    "        pass\n",
    "\n",
    "# Attempting to create an instance of an abstract class\n",
    "instance = AbstractClass()  # This will raise a TypeError\n"
   ]
  },
  {
   "cell_type": "code",
   "execution_count": null,
   "id": "07ab44fa-118e-4b1c-a593-bb33d82fc074",
   "metadata": {},
   "outputs": [],
   "source": []
  }
 ],
 "metadata": {
  "kernelspec": {
   "display_name": "Python 3 (ipykernel)",
   "language": "python",
   "name": "python3"
  },
  "language_info": {
   "codemirror_mode": {
    "name": "ipython",
    "version": 3
   },
   "file_extension": ".py",
   "mimetype": "text/x-python",
   "name": "python",
   "nbconvert_exporter": "python",
   "pygments_lexer": "ipython3",
   "version": "3.10.8"
  }
 },
 "nbformat": 4,
 "nbformat_minor": 5
}
