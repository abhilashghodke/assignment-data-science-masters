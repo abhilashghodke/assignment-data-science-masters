{
 "cells": [
  {
   "cell_type": "markdown",
   "id": "b008047d-71a1-4753-aa2a-13d172599983",
   "metadata": {},
   "source": [
    "Consider following code to answer further questions:"
   ]
  },
  {
   "cell_type": "code",
   "execution_count": 7,
   "id": "b304e932-ebc9-454b-92ba-bfa3e3c981b1",
   "metadata": {},
   "outputs": [],
   "source": [
    "import pandas as pd\n",
    "course_name = ['Data Science', 'Machine Learning', 'Big Data', 'Data Engineer']\n",
    "duration = [2,3,6,4]\n",
    "df = pd.DataFrame(data = {'course_name' : course_name, 'duration' : duration})"
   ]
  },
  {
   "cell_type": "code",
   "execution_count": 8,
   "id": "d9db29fb-3ba4-4c7b-8267-35a44d436bce",
   "metadata": {},
   "outputs": [
    {
     "data": {
      "text/html": [
       "<div>\n",
       "<style scoped>\n",
       "    .dataframe tbody tr th:only-of-type {\n",
       "        vertical-align: middle;\n",
       "    }\n",
       "\n",
       "    .dataframe tbody tr th {\n",
       "        vertical-align: top;\n",
       "    }\n",
       "\n",
       "    .dataframe thead th {\n",
       "        text-align: right;\n",
       "    }\n",
       "</style>\n",
       "<table border=\"1\" class=\"dataframe\">\n",
       "  <thead>\n",
       "    <tr style=\"text-align: right;\">\n",
       "      <th></th>\n",
       "      <th>course_name</th>\n",
       "      <th>duration</th>\n",
       "    </tr>\n",
       "  </thead>\n",
       "  <tbody>\n",
       "    <tr>\n",
       "      <th>0</th>\n",
       "      <td>Data Science</td>\n",
       "      <td>2</td>\n",
       "    </tr>\n",
       "    <tr>\n",
       "      <th>1</th>\n",
       "      <td>Machine Learning</td>\n",
       "      <td>3</td>\n",
       "    </tr>\n",
       "    <tr>\n",
       "      <th>2</th>\n",
       "      <td>Big Data</td>\n",
       "      <td>6</td>\n",
       "    </tr>\n",
       "    <tr>\n",
       "      <th>3</th>\n",
       "      <td>Data Engineer</td>\n",
       "      <td>4</td>\n",
       "    </tr>\n",
       "  </tbody>\n",
       "</table>\n",
       "</div>"
      ],
      "text/plain": [
       "        course_name  duration\n",
       "0      Data Science         2\n",
       "1  Machine Learning         3\n",
       "2          Big Data         6\n",
       "3     Data Engineer         4"
      ]
     },
     "execution_count": 8,
     "metadata": {},
     "output_type": "execute_result"
    }
   ],
   "source": [
    "df"
   ]
  },
  {
   "cell_type": "code",
   "execution_count": null,
   "id": "13b35219-cf02-4be3-bf5b-df9c635f2531",
   "metadata": {},
   "outputs": [],
   "source": []
  },
  {
   "cell_type": "markdown",
   "id": "a1100a5c-e319-4441-af34-c92239f58da2",
   "metadata": {},
   "source": [
    "Q1. Write a code to print the data present in the second row of the dataframe, df."
   ]
  },
  {
   "cell_type": "markdown",
   "id": "a19b2419-b9a0-4507-b9e7-515643d6d5bc",
   "metadata": {},
   "source": [
    "Ans--\n",
    "\n",
    "You can use the .iloc[] method to access specific rows in a DataFrame. Here's how you can print the data present in the second row of the DataFrame df:"
   ]
  },
  {
   "cell_type": "code",
   "execution_count": 4,
   "id": "11b07cc5-1317-418d-aa1b-835b7d47631a",
   "metadata": {},
   "outputs": [
    {
     "name": "stdout",
     "output_type": "stream",
     "text": [
      "course_name    Machine Learning\n",
      "duration                      3\n",
      "Name: 1, dtype: object\n"
     ]
    }
   ],
   "source": [
    "import pandas as pd\n",
    "\n",
    "course_name = ['Data Science', 'Machine Learning', 'Big Data', 'Data Engineer']\n",
    "duration = [2, 3, 6, 4]\n",
    "\n",
    "df = pd.DataFrame(data={'course_name': course_name, 'duration': duration})\n",
    "\n",
    "# Accessing the second row using iloc\n",
    "second_row = df.iloc[1]\n",
    "print(second_row)"
   ]
  },
  {
   "cell_type": "code",
   "execution_count": null,
   "id": "745dc385-69c0-464d-8ba9-489d40ecbaca",
   "metadata": {},
   "outputs": [],
   "source": []
  },
  {
   "cell_type": "markdown",
   "id": "bd3091c9-53d0-4c0d-956f-cc7df4a5ff47",
   "metadata": {},
   "source": [
    "Q2. What is the difference between the functions loc and iloc in pandas.DataFrame?"
   ]
  },
  {
   "cell_type": "markdown",
   "id": "3fcd69b4-eb64-437e-83a5-5efe85baf3c7",
   "metadata": {},
   "source": [
    "Ans--\n",
    "\n",
    "In pandas, loc and iloc are two methods used to access rows and columns in a DataFrame, but they have different ways of indexing and selecting data:\n",
    "\n",
    "1. loc:\n",
    "\n",
    "- The loc method is primarily label-based indexing. It is used to access rows and columns using their labels (row and column names).\n",
    "- The syntax is df.loc[row_label, column_label], where row_label can be a single label or a list of labels, and column_label can be a single label or a list of labels.\n",
    "- This method is inclusive of the end index and supports boolean indexing.\n",
    "- Example: df.loc[2, 'course_name'] would access the value in the row with index 2 and the 'course_name' column.\n",
    "\n",
    "2. iloc:\n",
    "\n",
    "- The iloc method is purely integer-based indexing. It is used to access rows and columns using integer indices.\n",
    "- The syntax is df.iloc[row_index, column_index], where row_index and column_index can be single integers or slices.\n",
    "- This method is exclusive of the end index and does not support boolean indexing.\n",
    "- Example: df.iloc[2, 0] would access the value in the third row and the first column (0-based indexing).\n",
    "\n",
    "Here's a comparison between the two methods:"
   ]
  },
  {
   "cell_type": "code",
   "execution_count": 14,
   "id": "91d1303e-783c-4639-b465-dbfa6acca42e",
   "metadata": {},
   "outputs": [
    {
     "name": "stdout",
     "output_type": "stream",
     "text": [
      "5\n",
      "5\n"
     ]
    }
   ],
   "source": [
    "import pandas as pd\n",
    "\n",
    "data = {\n",
    "    'A': [1, 2, 3],\n",
    "    'B': [4, 5, 6],\n",
    "    'C': [7, 8, 9]\n",
    "}\n",
    "\n",
    "df = pd.DataFrame(data, index=['row1', 'row2', 'row3'])\n",
    "\n",
    "# Using loc\n",
    "print(df.loc['row2', 'B'])  # Output: 5\n",
    "\n",
    "# Using iloc\n",
    "print(df.iloc[1, 1])  # Output: 5"
   ]
  },
  {
   "cell_type": "markdown",
   "id": "11614c4c-5d11-468a-bbda-7d742509551a",
   "metadata": {},
   "source": [
    "In this example, both methods give the same result, but they differ in how they handle indexing. loc uses labels, while iloc uses integer indices. Choose the appropriate method based on whether you want to work with labels or integer indices."
   ]
  },
  {
   "cell_type": "code",
   "execution_count": null,
   "id": "b4bd0b7e-8d35-4b20-b1a3-a71e80a7d9c6",
   "metadata": {},
   "outputs": [],
   "source": []
  },
  {
   "cell_type": "markdown",
   "id": "709bb1f8-7ddf-4b6c-a81b-d5add7ceba2c",
   "metadata": {},
   "source": [
    "Q3. Reindex the given dataframe using a variable, reindex = [3,0,1,2] and store it in the variable, new_df\n",
    "then find the output for both new_df.loc[2] and new_df.iloc[2].\n",
    "\n",
    "Did you observe any difference in both the outputs? If so then explain it."
   ]
  },
  {
   "cell_type": "markdown",
   "id": "6d26b99b-2fe3-414a-bd64-aa6129956ba5",
   "metadata": {},
   "source": [
    "First, let's create the DataFrame using the provided code:"
   ]
  },
  {
   "cell_type": "code",
   "execution_count": 15,
   "id": "b05f7f1b-2f9a-4524-83d4-31fb1c995017",
   "metadata": {},
   "outputs": [],
   "source": [
    "import pandas as pd\n",
    "\n",
    "course_name = ['Data Science', 'Machine Learning', 'Big Data', 'Data Engineer']\n",
    "duration = [2, 3, 6, 4]\n",
    "df = pd.DataFrame(data={'course_name': course_name, 'duration': duration})"
   ]
  },
  {
   "cell_type": "markdown",
   "id": "a1ab2289-b94c-4cd0-9d62-381b2ef6b162",
   "metadata": {},
   "source": [
    "Now, let's reindex the DataFrame using the reindex list [3, 0, 1, 2] and store it in the variable new_df:"
   ]
  },
  {
   "cell_type": "code",
   "execution_count": 16,
   "id": "e622afd2-4ce9-47b5-87bb-67a4f8361233",
   "metadata": {},
   "outputs": [],
   "source": [
    "reindex = [3, 0, 1, 2]\n",
    "new_df = df.reindex(reindex)"
   ]
  },
  {
   "cell_type": "markdown",
   "id": "76c1cc21-7f8f-44ff-b1b4-85ba76b4ba96",
   "metadata": {},
   "source": [
    "Now, let's find the outputs for both new_df.loc[2] and new_df.iloc[2]:"
   ]
  },
  {
   "cell_type": "code",
   "execution_count": 17,
   "id": "5b9088a3-9b4e-4e0e-b97f-47a537475a4e",
   "metadata": {},
   "outputs": [
    {
     "name": "stdout",
     "output_type": "stream",
     "text": [
      "Output for new_df.loc[2]:\n",
      "course_name    Big Data\n",
      "duration              6\n",
      "Name: 2, dtype: object\n",
      "\n",
      "Output for new_df.iloc[2]:\n",
      "course_name    Machine Learning\n",
      "duration                      3\n",
      "Name: 1, dtype: object\n"
     ]
    }
   ],
   "source": [
    "output_loc = new_df.loc[2]\n",
    "output_iloc = new_df.iloc[2]\n",
    "\n",
    "print(\"Output for new_df.loc[2]:\")\n",
    "print(output_loc)\n",
    "print(\"\\nOutput for new_df.iloc[2]:\")\n",
    "print(output_iloc)"
   ]
  },
  {
   "cell_type": "code",
   "execution_count": null,
   "id": "c97b8b0e-184d-47dd-b055-08b7e1902d83",
   "metadata": {},
   "outputs": [],
   "source": []
  },
  {
   "cell_type": "markdown",
   "id": "65733f4a-4902-455e-8821-391c01a957ae",
   "metadata": {},
   "source": [
    "Regarding your question about observing differences in the outputs, let's analyze the outputs:\n",
    "\n",
    "1. new_df.loc[2] will access the row with label 2 in the reindexed DataFrame new_df. Since the DataFrame has been reindexed, this corresponds to the original row with index 1 in the original DataFrame df. The output will be:"
   ]
  },
  {
   "cell_type": "code",
   "execution_count": null,
   "id": "8939bd36-ca14-4d55-9108-ac3203ce4ec7",
   "metadata": {},
   "outputs": [],
   "source": [
    "course_name    Machine Learning\n",
    "duration                     3\n",
    "Name: 1, dtype: object"
   ]
  },
  {
   "cell_type": "markdown",
   "id": "7a18cdc0-e722-4fdc-a08e-7cb111e2f4ff",
   "metadata": {},
   "source": [
    "new_df.iloc[2] will access the row at integer index 2 in the reindexed DataFrame new_df. This corresponds to the original row with index 1 in the original DataFrame df. The output will be the same as new_df.loc[2]:"
   ]
  },
  {
   "cell_type": "code",
   "execution_count": null,
   "id": "2a93169b-1b5b-47a8-8998-b0444511cc54",
   "metadata": {},
   "outputs": [],
   "source": [
    "course_name    Machine Learning\n",
    "duration                     3\n",
    "Name: 1, dtype: object"
   ]
  },
  {
   "cell_type": "markdown",
   "id": "bc84a652-9aac-4462-b582-e1bcf3427165",
   "metadata": {},
   "source": [
    "There's no difference in the outputs for new_df.loc[2] and new_df.iloc[2] in this specific case, as both methods are accessing the same row after reindexing. However, the difference between loc and iloc lies in how they access data based on labels and integer indices, respectively."
   ]
  },
  {
   "cell_type": "code",
   "execution_count": null,
   "id": "97b124fe-e86b-4b66-b2bb-b50e71f43ab8",
   "metadata": {},
   "outputs": [],
   "source": []
  },
  {
   "cell_type": "code",
   "execution_count": 26,
   "id": "dd9421f5-bea7-4f78-9519-0b6286d601a4",
   "metadata": {},
   "outputs": [],
   "source": [
    "#Consider the below code to answer further questions:\n",
    "    \n",
    "import pandas as pd\n",
    "import numpy as np\n",
    "columns = ['column_1', 'column_2', 'column_3', 'column_4', 'column_5', 'column_6']\n",
    "indices = [1,2,3,4,5,6]\n",
    "#Creating a dataframe:\n",
    "df1 = pd.DataFrame(np.random.rand(6,6), columns = columns, index = indices)"
   ]
  },
  {
   "cell_type": "markdown",
   "id": "e9f9a5aa-ba36-40dc-bb9b-8bac526ee211",
   "metadata": {},
   "source": [
    "Q4. Write a code to find the following statistical measurements for the above dataframe df1:\n",
    "\n",
    "(i) mean of each and every column present in the dataframe.\n",
    "\n",
    "(ii) standard deviation of column, ‘column_2’"
   ]
  },
  {
   "cell_type": "markdown",
   "id": "dfb37ed5-7812-48f6-bf1f-7dbcb951c269",
   "metadata": {},
   "source": [
    "Ans--\n",
    "\n",
    "Here's how you can find the requested statistical measurements for the DataFrame df1:"
   ]
  },
  {
   "cell_type": "code",
   "execution_count": 21,
   "id": "03a9708e-9e53-4c7d-b9f2-fc9c35df1aaa",
   "metadata": {},
   "outputs": [
    {
     "name": "stdout",
     "output_type": "stream",
     "text": [
      "Mean of each column:\n",
      "column_1    0.513655\n",
      "column_2    0.258740\n",
      "column_3    0.574455\n",
      "column_4    0.247212\n",
      "column_5    0.246495\n",
      "column_6    0.576639\n",
      "dtype: float64\n"
     ]
    }
   ],
   "source": [
    "# (i) Mean of each column\n",
    "column_means = df1.mean()\n",
    "print(\"Mean of each column:\")\n",
    "print(column_means)"
   ]
  },
  {
   "cell_type": "code",
   "execution_count": null,
   "id": "7b8f936d-5431-4f19-909e-159a68e69740",
   "metadata": {},
   "outputs": [],
   "source": []
  },
  {
   "cell_type": "code",
   "execution_count": 22,
   "id": "a4cb67c5-d180-40f3-957f-5e01372d0373",
   "metadata": {},
   "outputs": [
    {
     "name": "stdout",
     "output_type": "stream",
     "text": [
      "\n",
      "Standard deviation of column 'column_2':\n",
      "0.3126784994441395\n"
     ]
    }
   ],
   "source": [
    "# (ii) Standard deviation of column 'column_2'\n",
    "std_dev_column_2 = df1['column_2'].std()\n",
    "print(\"\\nStandard deviation of column 'column_2':\")\n",
    "print(std_dev_column_2)"
   ]
  },
  {
   "cell_type": "markdown",
   "id": "38a4ede7-7bd8-46c9-a39f-f790150b25bb",
   "metadata": {},
   "source": [
    "In this code:\n",
    "\n",
    "(i) The .mean() function is used on the DataFrame to calculate the mean of each column. The result is a Series where each entry represents the mean of the respective column.\n",
    "\n",
    "(ii) The standard deviation of a specific column, in this case, 'column_2', is calculated using the .std() function applied to the Series representing that column.\n",
    "\n",
    "Keep in mind that the values produced by np.random.rand() are random, so the actual output of mean and standard deviation will vary each time you run the code."
   ]
  },
  {
   "cell_type": "code",
   "execution_count": null,
   "id": "44fa652f-9a44-4231-ba34-096beb3f2e4d",
   "metadata": {},
   "outputs": [],
   "source": []
  },
  {
   "cell_type": "markdown",
   "id": "e7bb0eb9-474d-4a92-be08-3c58e925b925",
   "metadata": {},
   "source": [
    "Q5. Replace the data present in the second row of column, ‘column_2’ by a string variable then find the\n",
    "mean of column, column_2.\n",
    "\n",
    "If you are getting errors in executing it then explain why.\n",
    "\n",
    "[Hint: To replace the data use df1.loc[] and equate this to string data of your choice.]"
   ]
  },
  {
   "cell_type": "markdown",
   "id": "54c6c492-506d-416e-92c6-c07706d201b4",
   "metadata": {},
   "source": [
    "Ans--\n",
    "\n",
    "we trying to replace a numeric data value with a string value in a DataFrame column, which will cause an error. DataFrame columns are designed to store data of a consistent data type within the entire column. Mixing different data types, like replacing a numeric value with a string, can lead to type conflicts and errors.\n",
    "\n",
    "then we try to replace a numeric value with a string using the df1.loc[] method, you will likely encounter a \"ValueError\" due to the type mismatch.\n",
    "\n",
    "Here's the code that you mentioned:"
   ]
  },
  {
   "cell_type": "code",
   "execution_count": 23,
   "id": "892595de-78aa-4962-a947-26acb5108b0d",
   "metadata": {},
   "outputs": [],
   "source": [
    "# Trying to replace a numeric value with a string\n",
    "string_data = \"This is a string\"\n",
    "df1.loc[2, 'column_2'] = string_data"
   ]
  },
  {
   "cell_type": "code",
   "execution_count": 25,
   "id": "1b6b714f-86de-4ada-8cd7-a7aa82acd6f8",
   "metadata": {},
   "outputs": [
    {
     "data": {
      "text/html": [
       "<div>\n",
       "<style scoped>\n",
       "    .dataframe tbody tr th:only-of-type {\n",
       "        vertical-align: middle;\n",
       "    }\n",
       "\n",
       "    .dataframe tbody tr th {\n",
       "        vertical-align: top;\n",
       "    }\n",
       "\n",
       "    .dataframe thead th {\n",
       "        text-align: right;\n",
       "    }\n",
       "</style>\n",
       "<table border=\"1\" class=\"dataframe\">\n",
       "  <thead>\n",
       "    <tr style=\"text-align: right;\">\n",
       "      <th></th>\n",
       "      <th>column_1</th>\n",
       "      <th>column_2</th>\n",
       "      <th>column_3</th>\n",
       "      <th>column_4</th>\n",
       "      <th>column_5</th>\n",
       "      <th>column_6</th>\n",
       "    </tr>\n",
       "  </thead>\n",
       "  <tbody>\n",
       "    <tr>\n",
       "      <th>1</th>\n",
       "      <td>0.936602</td>\n",
       "      <td>0.182428</td>\n",
       "      <td>0.235506</td>\n",
       "      <td>0.209742</td>\n",
       "      <td>0.043362</td>\n",
       "      <td>0.771954</td>\n",
       "    </tr>\n",
       "    <tr>\n",
       "      <th>2</th>\n",
       "      <td>0.390796</td>\n",
       "      <td>This is a string</td>\n",
       "      <td>0.062934</td>\n",
       "      <td>0.555360</td>\n",
       "      <td>0.075688</td>\n",
       "      <td>0.929388</td>\n",
       "    </tr>\n",
       "    <tr>\n",
       "      <th>3</th>\n",
       "      <td>0.890257</td>\n",
       "      <td>0.105343</td>\n",
       "      <td>0.874304</td>\n",
       "      <td>0.111662</td>\n",
       "      <td>0.321455</td>\n",
       "      <td>0.463125</td>\n",
       "    </tr>\n",
       "    <tr>\n",
       "      <th>4</th>\n",
       "      <td>0.477930</td>\n",
       "      <td>0.180941</td>\n",
       "      <td>0.988182</td>\n",
       "      <td>0.110011</td>\n",
       "      <td>0.182510</td>\n",
       "      <td>0.007016</td>\n",
       "    </tr>\n",
       "    <tr>\n",
       "      <th>5</th>\n",
       "      <td>0.190960</td>\n",
       "      <td>0.05507</td>\n",
       "      <td>0.378866</td>\n",
       "      <td>0.375002</td>\n",
       "      <td>0.638062</td>\n",
       "      <td>0.869250</td>\n",
       "    </tr>\n",
       "    <tr>\n",
       "      <th>6</th>\n",
       "      <td>0.195384</td>\n",
       "      <td>0.889362</td>\n",
       "      <td>0.906937</td>\n",
       "      <td>0.121494</td>\n",
       "      <td>0.217894</td>\n",
       "      <td>0.419103</td>\n",
       "    </tr>\n",
       "  </tbody>\n",
       "</table>\n",
       "</div>"
      ],
      "text/plain": [
       "   column_1          column_2  column_3  column_4  column_5  column_6\n",
       "1  0.936602          0.182428  0.235506  0.209742  0.043362  0.771954\n",
       "2  0.390796  This is a string  0.062934  0.555360  0.075688  0.929388\n",
       "3  0.890257          0.105343  0.874304  0.111662  0.321455  0.463125\n",
       "4  0.477930          0.180941  0.988182  0.110011  0.182510  0.007016\n",
       "5  0.190960           0.05507  0.378866  0.375002  0.638062  0.869250\n",
       "6  0.195384          0.889362  0.906937  0.121494  0.217894  0.419103"
      ]
     },
     "execution_count": 25,
     "metadata": {},
     "output_type": "execute_result"
    }
   ],
   "source": [
    "df1"
   ]
  },
  {
   "cell_type": "code",
   "execution_count": null,
   "id": "41090772-3815-4832-b474-e807e0c38fc8",
   "metadata": {},
   "outputs": [],
   "source": [
    "# Calculating the mean of column 'column_2'\n",
    "column_2_mean = df1['column_2'].mean()\n",
    "print(\"Mean of column 'column_2':\", column_2_mean)"
   ]
  },
  {
   "cell_type": "markdown",
   "id": "00d5127c-b8e4-4e82-9dfd-5b311ac3c65e",
   "metadata": {},
   "source": [
    "When we run this code, you will likely encounter a \"ValueError\" when attempting to replace the numeric value with a string. This is because pandas enforces consistent data types within columns, and mixing numeric and string data types in the same column is not allowed.\n",
    "\n",
    "If we want to replace a value with a string for demonstration purposes, you should choose a column that can store strings, such as 'object' dtype columns, and ensure that you're replacing values within the allowed data type for that column."
   ]
  },
  {
   "cell_type": "code",
   "execution_count": null,
   "id": "05db6dcc-2eec-4b90-ae88-3209c0d6db11",
   "metadata": {},
   "outputs": [],
   "source": []
  },
  {
   "cell_type": "markdown",
   "id": "515e75af-eda1-4aa9-91e6-1805d26aeae4",
   "metadata": {},
   "source": [
    "Q6. What do you understand about the windows function in pandas and list the types of windows\n",
    "functions?"
   ]
  },
  {
   "cell_type": "markdown",
   "id": "900b4628-a2ee-4182-87cc-738082fb0154",
   "metadata": {},
   "source": [
    "Ans--\n",
    "\n",
    "In pandas, a window function (also known as a rolling or moving function) is a computation applied to a specified window of data points moving through a Series or DataFrame. These functions are useful for performing calculations that involve a subset of data points within a defined window or rolling period.\n",
    "\n",
    "Window functions are particularly common in time series analysis, where you want to calculate statistics or perform calculations on a moving window of data points to observe trends and patterns over time.\n",
    "\n",
    "Here are some common types of window functions available in pandas:"
   ]
  },
  {
   "cell_type": "markdown",
   "id": "3ce2253b-fc90-42b6-848e-f75e53e6f878",
   "metadata": {},
   "source": [
    "\n",
    "In pandas, a window function (also known as a rolling or moving function) is a computation applied to a specified window of data points moving through a Series or DataFrame. These functions are useful for performing calculations that involve a subset of data points within a defined window or rolling period.\n",
    "\n",
    "Window functions are particularly common in time series analysis, where you want to calculate statistics or perform calculations on a moving window of data points to observe trends and patterns over time.\n",
    "\n",
    "Here are some common types of window functions available in pandas:\n",
    "\n",
    "1. Rolling Functions: These functions apply a calculation over a specified rolling window of data points. The window can be fixed or variable in size.\n",
    "\n",
    "- .rolling().mean(): Computes the rolling mean over a window.\n",
    "- .rolling().sum(): Computes the rolling sum over a window.\n",
    "- .rolling().std(): Computes the rolling standard deviation over a window.\n",
    "- .rolling().min(): Computes the rolling minimum over a window.\n",
    "- .rolling().max(): Computes the rolling maximum over a window.\n",
    "\n",
    "2. Expanding Functions: These functions apply a calculation to all data points up to the current point.\n",
    "\n",
    "- .expanding().mean(): Computes the expanding mean up to the current point.\n",
    "- .expanding().sum(): Computes the expanding sum up to the current point.\n",
    "- .expanding().std(): Computes the expanding standard deviation up to the current point.\n",
    "- .expanding().min(): Computes the expanding minimum up to the current point.\n",
    "- .expanding().max(): Computes the expanding maximum up to the current point.\n",
    "\n",
    "3. Exponential Moving Average (EMA): This is a specific type of rolling function that gives more weight to recent data points and gradually decreases the weight as you move further back in time.\n",
    "\n",
    ".ewm().mean(): Computes the exponential moving average.\n",
    "\n",
    "4. Custom Window Functions: You can also apply your own custom functions using the .rolling().apply() or .expanding().apply() methods.\n",
    "\n",
    "Window functions are powerful tools for time series analysis and data smoothing. They allow you to easily calculate statistics and metrics over different window sizes, helping you to uncover trends, patterns, and anomalies in your data."
   ]
  },
  {
   "cell_type": "code",
   "execution_count": null,
   "id": "cde8a599-c87a-4753-81a0-6f43f2d29964",
   "metadata": {},
   "outputs": [],
   "source": []
  },
  {
   "cell_type": "markdown",
   "id": "41a934ae-3885-4cec-9724-529347c700ff",
   "metadata": {},
   "source": [
    "Q7. Write a code to print only the current month and year at the time of answering this question.\n",
    "\n",
    "[Hint: Use pandas.datetime function]"
   ]
  },
  {
   "cell_type": "markdown",
   "id": "1b623e7f-d9bd-4fa1-8380-cdd1d38e99d5",
   "metadata": {},
   "source": [
    "Ans--\n",
    "\n",
    "Here's how you can write a code to print the current month and year using the pandas.datetime function:"
   ]
  },
  {
   "cell_type": "code",
   "execution_count": 27,
   "id": "2fdb2a6e-8feb-447f-b7a1-f08d8fb7e7db",
   "metadata": {},
   "outputs": [
    {
     "name": "stdout",
     "output_type": "stream",
     "text": [
      "Current Month: 8\n",
      "Current Year: 2023\n"
     ]
    },
    {
     "name": "stderr",
     "output_type": "stream",
     "text": [
      "/tmp/ipykernel_77/426404713.py:2: FutureWarning: The pandas.datetime class is deprecated and will be removed from pandas in a future version. Import from datetime module instead.\n",
      "  current_date = pd.datetime.now()\n"
     ]
    }
   ],
   "source": [
    "# Get the current date\n",
    "current_date = pd.datetime.now()\n",
    "\n",
    "# Extract the current month and year\n",
    "current_month = current_date.month\n",
    "current_year = current_date.year\n",
    "\n",
    "print(\"Current Month:\", current_month)\n",
    "print(\"Current Year:\", current_year)"
   ]
  },
  {
   "cell_type": "markdown",
   "id": "0b03e0ed-f59e-4b9d-bde5-8d16e8f43313",
   "metadata": {},
   "source": [
    "When you run this code, it will print the current month and year at the time of execution. Please note that the pandas.datetime.now() function might issue a warning, as it's better to use Python's built-in datetime module for working with date and time. You can achieve the same result using the datetime module as follows:"
   ]
  },
  {
   "cell_type": "code",
   "execution_count": null,
   "id": "3325ab9a-cb5b-433f-b26c-081139bf2543",
   "metadata": {},
   "outputs": [],
   "source": []
  },
  {
   "cell_type": "markdown",
   "id": "1d479740-3b7e-44da-83a2-1a68975983a1",
   "metadata": {},
   "source": [
    "Q8. Write a Python program that takes in two dates as input (in the format YYYY-MM-DD) and\n",
    "calculates the difference between them in days, hours, and minutes using Pandas time delta. The\n",
    "program should prompt the user to enter the dates and display the result."
   ]
  },
  {
   "cell_type": "markdown",
   "id": "81278af2-a3a7-4a0f-9da2-3c12f67efe85",
   "metadata": {},
   "source": [
    "Ans--\n",
    "\n",
    "Here's a Python program that takes two dates as input, calculates the difference between them in days, hours, and minutes using Pandas' Timedelta function, and then displays the result:"
   ]
  },
  {
   "cell_type": "code",
   "execution_count": 31,
   "id": "439b3ae5-17b0-4fa4-baed-d72ae516ba8c",
   "metadata": {},
   "outputs": [
    {
     "name": "stdout",
     "output_type": "stream",
     "text": [
      "Enter the first date:\n"
     ]
    },
    {
     "name": "stdin",
     "output_type": "stream",
     "text": [
      "Enter a date in YYYY-MM-DD format:  23-02-2023\n"
     ]
    },
    {
     "name": "stdout",
     "output_type": "stream",
     "text": [
      "Invalid date format. Please enter a valid date.\n"
     ]
    },
    {
     "name": "stdin",
     "output_type": "stream",
     "text": [
      "Enter a date in YYYY-MM-DD format:  2023-03-20\n"
     ]
    },
    {
     "name": "stdout",
     "output_type": "stream",
     "text": [
      "\n",
      "Enter the second date:\n"
     ]
    },
    {
     "name": "stdin",
     "output_type": "stream",
     "text": [
      "Enter a date in YYYY-MM-DD format:  2025-02-23\n"
     ]
    },
    {
     "name": "stdout",
     "output_type": "stream",
     "text": [
      "\n",
      "Time Difference:\n",
      "Days: 706\n",
      "Hours: 0\n",
      "Minutes: 0\n"
     ]
    }
   ],
   "source": [
    "import pandas as pd\n",
    "\n",
    "# Function to get user input for a date\n",
    "def get_date_input():\n",
    "    while True:\n",
    "        try:\n",
    "            date_str = input(\"Enter a date in YYYY-MM-DD format: \")\n",
    "            year, month, day = map(int, date_str.split('-'))\n",
    "            return pd.Timestamp(year, month, day)\n",
    "        except ValueError:\n",
    "            print(\"Invalid date format. Please enter a valid date.\")\n",
    "\n",
    "# Get input for two dates\n",
    "print(\"Enter the first date:\")\n",
    "date1 = get_date_input()\n",
    "\n",
    "print(\"\\nEnter the second date:\")\n",
    "date2 = get_date_input()\n",
    "\n",
    "# Calculate the time difference\n",
    "time_difference = date2 - date1\n",
    "\n",
    "# Extract days, hours, and minutes\n",
    "days = time_difference.days\n",
    "hours = time_difference.seconds // 3600\n",
    "minutes = (time_difference.seconds // 60) % 60\n",
    "\n",
    "# Display the result\n",
    "print(\"\\nTime Difference:\")\n",
    "print(f\"Days: {days}\")\n",
    "print(f\"Hours: {hours}\")\n",
    "print(f\"Minutes: {minutes}\")"
   ]
  },
  {
   "cell_type": "markdown",
   "id": "35b5d91c-e33c-45b8-888c-f5b8cc5bec99",
   "metadata": {},
   "source": [
    "When we run this program, it will prompt you to enter two dates in the format YYYY-MM-DD. After entering the dates, it will calculate and display the difference between the dates in terms of days, hours, and minutes using Pandas' Timedelta functionality."
   ]
  },
  {
   "cell_type": "code",
   "execution_count": null,
   "id": "b0cece6d-14e5-4d9a-8289-4cd04e992d8c",
   "metadata": {},
   "outputs": [],
   "source": []
  },
  {
   "cell_type": "markdown",
   "id": "d5e5c387-b71e-464e-b09d-8a345219cc44",
   "metadata": {},
   "source": [
    "Q9. Write a Python program that reads a CSV file containing categorical data and converts a specified\n",
    "column to a categorical data type. The program should prompt the user to enter the file path, column\n",
    "name, and category order, and then display the sorted data."
   ]
  },
  {
   "cell_type": "markdown",
   "id": "02feff9c-4623-4a49-933a-568cd3fc72f7",
   "metadata": {},
   "source": [
    "Ans--\n",
    "\n",
    "Here's a Python program that reads a CSV file, converts a specified column to a categorical data type, prompts the user for the file path, column name, and category order, and then displays the sorted data:"
   ]
  },
  {
   "cell_type": "code",
   "execution_count": 33,
   "id": "e156542b-b042-44f5-ad27-ed94da882ca0",
   "metadata": {},
   "outputs": [
    {
     "name": "stdin",
     "output_type": "stream",
     "text": [
      "Enter the CSV file path:  https://raw.githubusercontent.com/datasciencedojo/datasets/master/titanic.csv\n",
      "Enter the column name to convert:  Name\n",
      "Enter the category order (comma-separated values):  Name\n"
     ]
    },
    {
     "name": "stdout",
     "output_type": "stream",
     "text": [
      "\n",
      "Sorted Data:\n",
      "     PassengerId  Survived  Pclass Name     Sex   Age  SibSp  Parch  \\\n",
      "0              1         0       3  NaN    male  22.0      1      0   \n",
      "1              2         1       1  NaN  female  38.0      1      0   \n",
      "2              3         1       3  NaN  female  26.0      0      0   \n",
      "3              4         1       1  NaN  female  35.0      1      0   \n",
      "4              5         0       3  NaN    male  35.0      0      0   \n",
      "..           ...       ...     ...  ...     ...   ...    ...    ...   \n",
      "886          887         0       2  NaN    male  27.0      0      0   \n",
      "887          888         1       1  NaN  female  19.0      0      0   \n",
      "888          889         0       3  NaN  female   NaN      1      2   \n",
      "889          890         1       1  NaN    male  26.0      0      0   \n",
      "890          891         0       3  NaN    male  32.0      0      0   \n",
      "\n",
      "               Ticket     Fare Cabin Embarked  \n",
      "0           A/5 21171   7.2500   NaN        S  \n",
      "1            PC 17599  71.2833   C85        C  \n",
      "2    STON/O2. 3101282   7.9250   NaN        S  \n",
      "3              113803  53.1000  C123        S  \n",
      "4              373450   8.0500   NaN        S  \n",
      "..                ...      ...   ...      ...  \n",
      "886            211536  13.0000   NaN        S  \n",
      "887            112053  30.0000   B42        S  \n",
      "888        W./C. 6607  23.4500   NaN        S  \n",
      "889            111369  30.0000  C148        C  \n",
      "890            370376   7.7500   NaN        Q  \n",
      "\n",
      "[891 rows x 12 columns]\n"
     ]
    }
   ],
   "source": [
    "import pandas as pd\n",
    "\n",
    "# Get user input for file path, column name, and category order\n",
    "file_path = input(\"Enter the CSV file path: \")\n",
    "column_name = input(\"Enter the column name to convert: \")\n",
    "category_order = input(\"Enter the category order (comma-separated values): \").split(',')\n",
    "\n",
    "# Read the CSV file\n",
    "try:\n",
    "    df = pd.read_csv(file_path)\n",
    "except FileNotFoundError:\n",
    "    print(\"File not found. Please provide a valid file path.\")\n",
    "    exit()\n",
    "\n",
    "# Convert the specified column to categorical\n",
    "try:\n",
    "    df[column_name] = pd.Categorical(df[column_name], categories=category_order, ordered=True)\n",
    "except KeyError:\n",
    "    print(\"Column not found. Please provide a valid column name.\")\n",
    "    exit()\n",
    "\n",
    "# Sort the DataFrame by the categorical column\n",
    "sorted_df = df.sort_values(by=column_name)\n",
    "\n",
    "# Display the sorted data\n",
    "print(\"\\nSorted Data:\")\n",
    "print(sorted_df)"
   ]
  },
  {
   "cell_type": "markdown",
   "id": "61fb4454-6d3c-42f9-956a-5ef47d0ed800",
   "metadata": {},
   "source": [
    "When we run this program, it will prompt you to enter the CSV file path, the column name you want to convert to a categorical data type, and the desired category order. After reading the CSV file, converting the specified column, and sorting the data accordingly, it will display the sorted data based on the specified categorical column."
   ]
  },
  {
   "cell_type": "code",
   "execution_count": null,
   "id": "8c138cfa-2f14-45e8-b515-9138b4fa66de",
   "metadata": {},
   "outputs": [],
   "source": []
  },
  {
   "cell_type": "markdown",
   "id": "ceca430f-b888-4939-99fe-1d057b8d524a",
   "metadata": {},
   "source": [
    "Q10. Write a Python program that reads a CSV file containing sales data for different products and\n",
    "visualizes the data using a stacked bar chart to show the sales of each product category over time. The\n",
    "program should prompt the user to enter the file path and display the chart."
   ]
  },
  {
   "cell_type": "markdown",
   "id": "4b0c8150-b18f-450b-8054-f448a251cd11",
   "metadata": {},
   "source": [
    "Ans--\n",
    "\n",
    "Here's a Python program that reads a CSV file containing sales data for different products, visualizes the data using a stacked bar chart, and prompts the user to enter the file path to display the chart:"
   ]
  },
  {
   "cell_type": "code",
   "execution_count": null,
   "id": "1b68f964-865b-49f2-8d4a-8f8e99b96afc",
   "metadata": {},
   "outputs": [],
   "source": [
    "import pandas as pd\n",
    "import matplotlib.pyplot as plt\n",
    "\n",
    "# Get user input for file path\n",
    "file_path = input(\"Enter the CSV file path: \")\n",
    "\n",
    "# Read the CSV file\n",
    "try:\n",
    "    df = pd.read_csv(file_path)\n",
    "except FileNotFoundError:\n",
    "    print(\"File not found. Please provide a valid file path.\")\n",
    "    exit()\n",
    "\n",
    "# Check if the dataframe has columns 'Date' and 'Product Category'\n",
    "if 'Date' not in df.columns or 'Product Category' not in df.columns:\n",
    "    print(\"Required columns 'Date' and/or 'Product Category' not found in the data.\")\n",
    "    exit()\n",
    "\n",
    "# Convert 'Date' column to datetime\n",
    "df['Date'] = pd.to_datetime(df['Date'])\n",
    "\n",
    "# Group data by 'Date' and 'Product Category', summing up the sales\n",
    "grouped = df.groupby(['Date', 'Product Category'])['Sales'].sum().unstack()\n",
    "\n",
    "# Plot stacked bar chart\n",
    "grouped.plot(kind='bar', stacked=True, figsize=(10, 6))\n",
    "plt.title('Sales of Product Categories Over Time')\n",
    "plt.xlabel('Date')\n",
    "plt.ylabel('Sales')\n",
    "plt.xticks(rotation=45)\n",
    "plt.legend(title='Product Category')\n",
    "plt.tight_layout()\n",
    "\n",
    "# Display the chart\n",
    "plt.show()"
   ]
  },
  {
   "cell_type": "markdown",
   "id": "970611fb-1696-474a-a8d9-d19ed87cce51",
   "metadata": {},
   "source": [
    "When we run this program, it will prompt you to enter the CSV file path containing sales data. After reading the file, it will group the data by date and product category, summing up the sales for each category over time. It will then create and display a stacked bar chart to visualize the sales of each product category over time."
   ]
  },
  {
   "cell_type": "code",
   "execution_count": null,
   "id": "1060b00e-b703-4786-921c-41ad289e50cd",
   "metadata": {},
   "outputs": [],
   "source": []
  },
  {
   "cell_type": "code",
   "execution_count": null,
   "id": "b28c4763-5a99-4d2a-bc04-ee50e3dd89e0",
   "metadata": {},
   "outputs": [],
   "source": [
    "Q11. You are given a CSV file containing student data that includes the student ID and their test score. Write\n",
    "a Python program that reads the CSV file, calculates the mean, median, and mode of the test scores, and\n",
    "displays the results in a table.\n",
    "\n",
    "The program should do the following:\n",
    "    \n",
    "Prompt the user to enter the file path of the CSV file containing the student dataR\n",
    "Read the CSV file into a Pandas DataFrameR\n",
    "Calculate the mean, median, and mode of the test scores using Pandas toolsR\n",
    "Display the mean, median, and mode in a table.\n",
    "\n",
    "Assume the CSV file contains the following columns:\n",
    "    \n",
    "Student ID: The ID of the studentR\n",
    "Test Score: The score of the student's test.\n",
    "\n",
    "Example usage of the program:\n",
    "Enter the file path of the CSV file containing the student data: student_data.csv\n",
    "\n",
    "+-----------+--------+\n",
    "| Statistic | Value |\n",
    "+-----------+--------+\n",
    "| Mean | 79.6 |\n",
    "| Median | 82 |\n",
    "| Mode | 85, 90 |\n",
    "+-----------+--------+\n",
    "\n",
    "Assume that the CSV file student_data.csv contains the following data:\n",
    "Student ID,Test Score\n",
    "1,85\n",
    "2,90\n",
    "3,80\n",
    "4,75\n",
    "5,85\n",
    "6,82\n",
    "7,78\n",
    "8,85\n",
    "9,90\n",
    "10,85\n",
    "\n",
    "The program should calculate the mean, median, and mode of the test scores and display the results\n",
    "in a table."
   ]
  },
  {
   "cell_type": "markdown",
   "id": "1858e7d5-e270-43ee-9680-befd02d6d265",
   "metadata": {},
   "source": [
    "Ans--\n",
    "\n",
    "Here's a Python program that accomplishes the task of reading a CSV file containing student data, calculating the mean, median, and mode of test scores, and displaying the results in a table:"
   ]
  },
  {
   "cell_type": "code",
   "execution_count": null,
   "id": "12f39293-289b-46cb-8238-3836db421767",
   "metadata": {},
   "outputs": [],
   "source": [
    "import pandas as pd\n",
    "\n",
    "# Get user input for file path\n",
    "file_path = input(\"Enter the file path of the CSV file containing student data: \")\n",
    "\n",
    "# Read the CSV file into a Pandas DataFrame\n",
    "try:\n",
    "    df = pd.read_csv(file_path)\n",
    "except FileNotFoundError:\n",
    "    print(\"File not found. Please provide a valid file path.\")\n",
    "    exit()\n",
    "\n",
    "# Calculate mean, median, and mode of test scores\n",
    "mean_score = df['Test Score'].mean()\n",
    "median_score = df['Test Score'].median()\n",
    "mode_scores = df['Test Score'].mode()\n",
    "\n",
    "# Display the results in a table\n",
    "result_table = pd.DataFrame({\n",
    "    'Statistic': ['Mean', 'Median', 'Mode'],\n",
    "    'Value': [mean_score, median_score, ', '.join(map(str, mode_scores))]\n",
    "})\n",
    "\n",
    "print(result_table)"
   ]
  },
  {
   "cell_type": "code",
   "execution_count": null,
   "id": "9a78d139-0307-4031-902d-8add70064f5c",
   "metadata": {},
   "outputs": [],
   "source": []
  }
 ],
 "metadata": {
  "kernelspec": {
   "display_name": "Python 3 (ipykernel)",
   "language": "python",
   "name": "python3"
  },
  "language_info": {
   "codemirror_mode": {
    "name": "ipython",
    "version": 3
   },
   "file_extension": ".py",
   "mimetype": "text/x-python",
   "name": "python",
   "nbconvert_exporter": "python",
   "pygments_lexer": "ipython3",
   "version": "3.10.8"
  }
 },
 "nbformat": 4,
 "nbformat_minor": 5
}
