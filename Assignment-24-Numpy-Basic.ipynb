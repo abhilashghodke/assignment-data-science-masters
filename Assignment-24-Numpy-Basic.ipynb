{
 "cells": [
  {
   "cell_type": "markdown",
   "id": "d94431bd-1572-44cf-8328-0b4773ef0f29",
   "metadata": {},
   "source": [
    "Consider the below code to answer further questions:\n",
    "\n",
    "import numpy as np\n",
    "\n",
    "list_ = [ ‘1’ , ’2’ , ‘3’ , ‘4’ , ‘5’ ]\n",
    "array_list = np.array(object = list_)"
   ]
  },
  {
   "cell_type": "markdown",
   "id": "fb41b37f-f51f-48ad-b165-a37c25ed5c34",
   "metadata": {},
   "source": [
    "Ans--\n",
    "\n",
    "there is a difference in the data type of the variables list_ and array_list. The variable list_ is a Python list, while the variable array_list is a NumPy array.\n",
    "\n",
    "we can print the data types of both variables using the above code:"
   ]
  },
  {
   "cell_type": "code",
   "execution_count": 1,
   "id": "ad5a943b-b3e9-4ac9-a625-b381dd66d203",
   "metadata": {},
   "outputs": [
    {
     "name": "stdout",
     "output_type": "stream",
     "text": [
      "Data type of list_: <class 'list'>\n",
      "Data type of array_list: <class 'numpy.ndarray'>\n"
     ]
    }
   ],
   "source": [
    "import numpy as np\n",
    "\n",
    "list_ = ['1', '2', '3', '4', '5']\n",
    "array_list = np.array(object=list_)\n",
    "\n",
    "print(\"Data type of list_:\", type(list_))\n",
    "print(\"Data type of array_list:\", type(array_list))"
   ]
  },
  {
   "cell_type": "code",
   "execution_count": null,
   "id": "00b1b688-38fc-4f57-958d-1e312ee0f402",
   "metadata": {},
   "outputs": [],
   "source": []
  },
  {
   "cell_type": "markdown",
   "id": "1871611e-ad35-485d-9286-989359d53730",
   "metadata": {},
   "source": [
    "Q2. Write a code to print the data type of each and every element of both the variables list_ and\n",
    "arra_list."
   ]
  },
  {
   "cell_type": "markdown",
   "id": "56afae8f-9647-4d56-86e7-1f9daa939fa9",
   "metadata": {},
   "source": [
    "Ans--\n",
    "\n",
    "We use a loop to iterate through each element of the list_ and array_list and print their data types. Here's the code to achieve that:"
   ]
  },
  {
   "cell_type": "code",
   "execution_count": 2,
   "id": "0dc48955-f45e-4bc5-89bb-62aa78ae12be",
   "metadata": {},
   "outputs": [
    {
     "name": "stdout",
     "output_type": "stream",
     "text": [
      "Data types of elements in list_:\n",
      "<class 'str'>\n",
      "<class 'str'>\n",
      "<class 'str'>\n",
      "<class 'str'>\n",
      "<class 'str'>\n",
      "\n",
      "Data types of elements in array_list:\n",
      "<class 'numpy.str_'>\n",
      "<class 'numpy.str_'>\n",
      "<class 'numpy.str_'>\n",
      "<class 'numpy.str_'>\n",
      "<class 'numpy.str_'>\n"
     ]
    }
   ],
   "source": [
    "import numpy as np\n",
    "\n",
    "list_ = ['1', '2', '3', '4', '5']\n",
    "array_list = np.array(object=list_)\n",
    "\n",
    "print(\"Data types of elements in list_:\")\n",
    "for element in list_:\n",
    "    print(type(element))\n",
    "\n",
    "print(\"\\nData types of elements in array_list:\")\n",
    "for element in array_list:\n",
    "    print(type(element))"
   ]
  },
  {
   "cell_type": "code",
   "execution_count": null,
   "id": "0939c39e-d653-4420-ae4f-aa4617295c4d",
   "metadata": {},
   "outputs": [],
   "source": []
  },
  {
   "cell_type": "code",
   "execution_count": null,
   "id": "3a3bb8c7-f945-4b0b-ba93-7e945c333ee8",
   "metadata": {},
   "outputs": [],
   "source": [
    "Q3. Considering the following changes in the variable, array_list:\n",
    "    \n",
    "array_list = np.array(object = list_, dtype = int)\n",
    "\n",
    "Will there be any difference in the data type of the elements present in both the variables, list_ and\n",
    "arra_list? If so then print the data types of each and every element present in both the variables, list_\n",
    "and arra_list.\n",
    "\n",
    "Consider the below code to answer further questions:\n",
    "    \n",
    "import numpy as np\n",
    "\n",
    "num_list = [ [ 1 , 2 , 3 ] , [ 4 , 5 , 6 ] ]\n",
    "num_array = np.array(object = num_list)"
   ]
  },
  {
   "cell_type": "markdown",
   "id": "68b504fd-6093-4095-87d2-f822069dfa2a",
   "metadata": {},
   "source": [
    "Ans--\n",
    "\n",
    "Yes, there will be a difference in the data type of the elements present in both the variables list_ and array_list due to the change in the dtype parameter when creating array_list.\n",
    "\n",
    "Let's consider the updated code:"
   ]
  },
  {
   "cell_type": "code",
   "execution_count": 3,
   "id": "112b7d8d-c35d-48ac-be81-d02ee1c9a15e",
   "metadata": {},
   "outputs": [
    {
     "name": "stdout",
     "output_type": "stream",
     "text": [
      "Data types of elements in list_:\n",
      "<class 'str'>\n",
      "<class 'str'>\n",
      "<class 'str'>\n",
      "<class 'str'>\n",
      "<class 'str'>\n",
      "\n",
      "Data types of elements in array_list:\n",
      "<class 'numpy.int64'>\n",
      "<class 'numpy.int64'>\n",
      "<class 'numpy.int64'>\n",
      "<class 'numpy.int64'>\n",
      "<class 'numpy.int64'>\n"
     ]
    }
   ],
   "source": [
    "import numpy as np\n",
    "\n",
    "list_ = ['1', '2', '3', '4', '5']\n",
    "array_list = np.array(object=list_, dtype=int)\n",
    "\n",
    "print(\"Data types of elements in list_:\")\n",
    "for element in list_:\n",
    "    print(type(element))\n",
    "\n",
    "print(\"\\nData types of elements in array_list:\")\n",
    "for element in array_list:\n",
    "    print(type(element))"
   ]
  },
  {
   "cell_type": "markdown",
   "id": "b7bbc3a4-a56a-4d58-bb2d-93d4a6590e48",
   "metadata": {},
   "source": [
    "When you run this code, it will print the data types of each element in both list_ and array_list. The elements in list_ are still of type str, but the elements in array_list are now converted to int due to the dtype=int parameter.\n",
    "\n",
    "Regarding the new code you've provided:"
   ]
  },
  {
   "cell_type": "code",
   "execution_count": 4,
   "id": "ba89ecdc-80cd-4a44-8c75-74c3fe5cf77d",
   "metadata": {},
   "outputs": [],
   "source": [
    "import numpy as np\n",
    "\n",
    "num_list = [[1, 2, 3], [4, 5, 6]]\n",
    "num_array = np.array(object=num_list)"
   ]
  },
  {
   "cell_type": "markdown",
   "id": "23d3e57f-aaec-4248-8db6-8f3b2cc217df",
   "metadata": {},
   "source": [
    "In this code, you are creating a 2D NumPy array num_array from the nested list num_list. The elements in num_array will be of type int since the original nested list contains integer values. The data type of each element in num_array will be numpy.int64 by default."
   ]
  },
  {
   "cell_type": "code",
   "execution_count": null,
   "id": "9305df5a-eec5-4369-ba19-122b18db9bd5",
   "metadata": {},
   "outputs": [],
   "source": []
  },
  {
   "cell_type": "markdown",
   "id": "24717a7e-3d1d-471b-a81b-f74433a2b4e9",
   "metadata": {},
   "source": [
    "Q4. Write a code to find the following characteristics of variable, num_array:\n",
    "\n",
    "(i) shape\n",
    "\n",
    "(ii) size"
   ]
  },
  {
   "cell_type": "markdown",
   "id": "59693f3a-5c92-4fa1-8c74-648cd3f71c06",
   "metadata": {},
   "source": [
    "Ans--\n",
    "\n",
    "Certainly! You can use NumPy's built-in functions to find the shape and size of the num_array. Here's the code to do that:"
   ]
  },
  {
   "cell_type": "code",
   "execution_count": 5,
   "id": "7f48a9a1-a06a-4e7a-8ef7-ba1b75a8b07f",
   "metadata": {},
   "outputs": [
    {
     "name": "stdout",
     "output_type": "stream",
     "text": [
      "Shape of num_array: (2, 3)\n",
      "Size of num_array: 6\n"
     ]
    }
   ],
   "source": [
    "import numpy as np\n",
    "\n",
    "num_list = [[1, 2, 3], [4, 5, 6]]\n",
    "num_array = np.array(object=num_list)\n",
    "\n",
    "# Finding the shape of the array\n",
    "array_shape = num_array.shape\n",
    "\n",
    "# Finding the total number of elements (size) in the array\n",
    "array_size = num_array.size\n",
    "\n",
    "print(\"Shape of num_array:\", array_shape)\n",
    "print(\"Size of num_array:\", array_size)"
   ]
  },
  {
   "cell_type": "markdown",
   "id": "3cc2fc5d-f702-4199-a5bf-89b18574a6c0",
   "metadata": {},
   "source": [
    "In this example, the num_array has a shape of (2, 3) which means it's a 2x3 matrix, and it contains a total of 6 elements."
   ]
  },
  {
   "cell_type": "code",
   "execution_count": null,
   "id": "f5cae279-c5af-4a55-993f-af8324c1c366",
   "metadata": {},
   "outputs": [],
   "source": []
  },
  {
   "cell_type": "markdown",
   "id": "9052a4da-5df3-4002-bd06-33ae1a05b4ae",
   "metadata": {},
   "source": [
    "Q5. Write a code to create numpy array of 3*3 matrix containing zeros only, using a numpy array\n",
    "creation function.\n",
    "\n",
    "[Hint: The size of the array will be 9 and the shape will be (3,3).]"
   ]
  },
  {
   "cell_type": "markdown",
   "id": "5220d0cb-460f-4e37-b810-c67748a385a9",
   "metadata": {},
   "source": [
    "Asn--\n",
    "\n",
    "we can use the numpy.zeros() function to create a 3x3 matrix containing zeros. Here's the code to do that:"
   ]
  },
  {
   "cell_type": "code",
   "execution_count": 8,
   "id": "4fd0953d-d8d9-4dd8-bf61-a163cb7a909e",
   "metadata": {},
   "outputs": [
    {
     "data": {
      "text/plain": [
       "array([[0., 0., 0.],\n",
       "       [0., 0., 0.],\n",
       "       [0., 0., 0.]])"
      ]
     },
     "execution_count": 8,
     "metadata": {},
     "output_type": "execute_result"
    }
   ],
   "source": [
    "import numpy as np\n",
    "\n",
    "# Creating a 3x3 matrix of zeros\n",
    "zero_matrix = np.zeros((3, 3))\n",
    "\n",
    "zero_matrix"
   ]
  },
  {
   "cell_type": "markdown",
   "id": "af4d11a3-e1fe-4af9-8dcd-62779bd44e1c",
   "metadata": {},
   "source": [
    "The np.zeros() function takes the desired shape of the array as an argument and fills it with zeros. In this case, we provided (3, 3) as the shape, resulting in a 3x3 matrix filled with zeros."
   ]
  },
  {
   "cell_type": "code",
   "execution_count": null,
   "id": "41b85c0d-e8fe-40f8-bd11-bb19a08348d0",
   "metadata": {},
   "outputs": [],
   "source": []
  },
  {
   "cell_type": "markdown",
   "id": "665ae663-5e2c-42a7-a2bb-4d66adc3e1b0",
   "metadata": {},
   "source": [
    "Q6. Create an identity matrix of shape (5,5) using numpy functions?\n",
    "\n",
    "[Hint: An identity matrix is a matrix containing 1 diagonally and other elements will be 0.]"
   ]
  },
  {
   "cell_type": "markdown",
   "id": "697526c2-f9de-4f63-b438-8bbdc43485c3",
   "metadata": {},
   "source": [
    "Ans--\n",
    "\n",
    "we can use the numpy.identity() function to create an identity matrix of a specified shape. Here's how you can create a 5x5 identity matrix:"
   ]
  },
  {
   "cell_type": "code",
   "execution_count": null,
   "id": "6115f049-ae8b-45af-a19a-66e0eb85459e",
   "metadata": {},
   "outputs": [],
   "source": [
    "import numpy as np\n",
    "\n",
    "# Creating a 5x5 identity matrix\n",
    "identity_matrix = np.identity(5)\n",
    "\n",
    "print(identity_matrix)\n"
   ]
  }
 ],
 "metadata": {
  "kernelspec": {
   "display_name": "Python 3 (ipykernel)",
   "language": "python",
   "name": "python3"
  },
  "language_info": {
   "codemirror_mode": {
    "name": "ipython",
    "version": 3
   },
   "file_extension": ".py",
   "mimetype": "text/x-python",
   "name": "python",
   "nbconvert_exporter": "python",
   "pygments_lexer": "ipython3",
   "version": "3.10.8"
  }
 },
 "nbformat": 4,
 "nbformat_minor": 5
}
