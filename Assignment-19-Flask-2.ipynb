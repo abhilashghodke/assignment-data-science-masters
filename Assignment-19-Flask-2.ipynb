{
 "cells": [
  {
   "cell_type": "markdown",
   "id": "0df2e5c6-c4a1-4bd2-b49a-37ae8d6dca01",
   "metadata": {},
   "source": [
    "Q1. Explain GET and POST methods."
   ]
  },
  {
   "cell_type": "markdown",
   "id": "21b27d35-aebf-4a05-844c-ab814cc9fde5",
   "metadata": {},
   "source": [
    "Ans--\n",
    "\n",
    "\n",
    "GET and POST Methods:\n",
    "\n",
    "GET and POST are two HTTP methods used to request and send data between a client (usually a web browser) and a server. These methods are fundamental to web communication and play a crucial role in web development, especially when dealing with forms and data submission.\n",
    "\n",
    "GET Method:\n",
    "The GET method is used to request data from a server. It appends the data as parameters in the URL's query string. GET requests are often used to retrieve information, and they can be bookmarked or shared as the data is visible in the URL.\n",
    "\n",
    "Characteristics of GET:\n",
    "\n",
    "- Requests are visible in the browser's address bar.\n",
    "- Data is appended in the URL.\n",
    "- Limited data capacity due to URL length restrictions.\n",
    "- Generally used for retrieving data.\n",
    "- Idempotent: Multiple identical requests yield the same result.\n",
    "\n",
    "Example:"
   ]
  },
  {
   "cell_type": "code",
   "execution_count": null,
   "id": "7e3b3ec5-efbc-4c35-9a9a-ebf62bb49367",
   "metadata": {},
   "outputs": [],
   "source": [
    "GET /search?query=apple HTTP/1.1\n",
    "Host: example.com"
   ]
  },
  {
   "cell_type": "markdown",
   "id": "f3774fb2-ed25-4364-9f18-70d51502316a",
   "metadata": {},
   "source": [
    "POST Method:\n",
    "The POST method is used to send data to a server for processing. Data is sent in the body of the HTTP request, making it more suitable for larger and sensitive data, such as form submissions. Unlike GET, POST requests are not visible in the URL.\n",
    "\n",
    "Characteristics of POST:\n",
    "\n",
    "- Data is sent in the request body.\n",
    "- No data length limitation.\n",
    "- Used for sending data to the server (e.g., form submissions).\n",
    "- Data is not visible in the URL.\n",
    "- Non-idempotent: Multiple identical requests may yield different results.\n",
    "\n",
    "Example:"
   ]
  },
  {
   "cell_type": "code",
   "execution_count": null,
   "id": "6e74ac5a-e837-4141-895d-e96f37ec4588",
   "metadata": {},
   "outputs": [],
   "source": [
    "POST /submit HTTP/1.1\n",
    "Host: example.com\n",
    "Content-Type: application/x-www-form-urlencoded\n",
    "\n",
    "username=johndoe&password=secretpassword"
   ]
  },
  {
   "cell_type": "markdown",
   "id": "77b52045-b1b7-4866-bfe1-562772f7fd16",
   "metadata": {},
   "source": [
    "In summary, the choice between using GET and POST depends on the nature of the request and the data being transferred. GET is used for fetching data, while POST is used for submitting data to a server. It's important to use the appropriate method based on the context and requirements of your web application."
   ]
  },
  {
   "cell_type": "code",
   "execution_count": null,
   "id": "c44d3f4b-b10a-4b67-a9d6-ada240c4cc01",
   "metadata": {},
   "outputs": [],
   "source": []
  },
  {
   "cell_type": "markdown",
   "id": "9d067635-41b7-4f91-85b4-46be3bef4100",
   "metadata": {},
   "source": [
    "Q2. Why is request used in Flask?"
   ]
  },
  {
   "cell_type": "markdown",
   "id": "9967d95c-f69f-410c-832b-285d4d26ff1b",
   "metadata": {},
   "source": [
    "Ans--\n",
    "\n",
    "In Flask, the request object is used to access and handle incoming client requests made to the server. It provides information about the current HTTP request being processed, including data sent by the client, request headers, query parameters, form data, cookies, and more. The request object plays a crucial role in extracting and processing data sent by the client, allowing your Flask application to respond appropriately.\n",
    "\n",
    "Here are some common use cases for the request object in Flask:\n",
    "\n",
    "1. Accessing Request Data: The request object allows you to access various types of data sent by the client, such as form data, query parameters, and JSON payloads. This data can be processed and used to make decisions or perform specific actions.\n",
    "\n",
    "2. Form Handling: When a client submits a form, the form data is encapsulated within the request. You can use the request.form attribute to access and process this data.\n",
    "\n",
    "3. Query Parameters: The request.args attribute provides access to the query parameters present in the URL. This is useful for extracting data from the URL for processing.\n",
    "\n",
    "4. File Uploads: If your application supports file uploads, the request.files attribute allows you to access uploaded files and save them to the server.\n",
    "\n",
    "5. Headers: The request.headers attribute provides access to the HTTP headers sent by the client, such as User-Agent, Content-Type, and more.\n",
    "\n",
    "6. Cookies: The request.cookies attribute allows you to access cookies sent by the client, which can be useful for session management and user authentication.\n",
    "\n",
    "7. HTTP Methods: The request.method attribute provides the HTTP method used for the request, such as GET, POST, PUT, etc.\n",
    "\n",
    "Using the request object, you can gather information from incoming requests, process data, validate input, and make decisions on how to respond. It's an integral part of building dynamic and interactive web applications in Flask, as it enables your application to interact with clients and handle their requests effectively."
   ]
  },
  {
   "cell_type": "code",
   "execution_count": null,
   "id": "33ac0a7a-e786-46f2-89a9-9b063c2f8139",
   "metadata": {},
   "outputs": [],
   "source": []
  },
  {
   "cell_type": "markdown",
   "id": "c9fa5f2b-6dee-483c-82e8-fd4174b82066",
   "metadata": {},
   "source": [
    "Q3. Why is redirect() used in Flask?"
   ]
  },
  {
   "cell_type": "markdown",
   "id": "02dafb6d-c37b-4e88-8c62-8a93b6380041",
   "metadata": {},
   "source": [
    "Ans--\n",
    "\n",
    "In Flask, the redirect() function is used to perform a redirect response to a different URL. It's a way to guide the user's browser to a new location, either within the same application or to an external website. Redirects are commonly used in web applications for various purposes, such as after form submissions, authentication, and controlling navigation.\n",
    "\n",
    "Here are some common scenarios where the redirect() function is used in Flask:\n",
    "\n",
    "1. Form Submission: After a user submits a form, you might want to redirect them to a different page to display a success message or to avoid accidental resubmission of the form data.\n",
    "\n",
    "2. Authentication and Authorization: Redirects are often used during user authentication and authorization processes. For example, after a successful login, the user could be redirected to their dashboard.\n",
    "\n",
    "3. URL Manipulation: Redirects can be used to ensure that users are always accessing a specific version of a URL. For instance, redirecting from non-www to www URLs or from HTTP to HTTPS.\n",
    "\n",
    "4. Page Not Found (404) Handling: When a user accesses a non-existent page, you can redirect them to a custom 404 error page or a relevant section of your application.\n",
    "\n",
    "5. Dynamic Routing: In some cases, you might want to dynamically generate URLs and then redirect users to those generated URLs.\n",
    "\n",
    "6. External Links: Redirects can be used to send users to external websites when clicking on specific links or buttons.\n",
    "\n",
    "Here's an example of how the redirect() function is used in Flask:"
   ]
  },
  {
   "cell_type": "code",
   "execution_count": null,
   "id": "72b6ccb3-7300-4019-8911-87cba91a86ff",
   "metadata": {},
   "outputs": [],
   "source": [
    "from flask import Flask, redirect, url_for\n",
    "\n",
    "app = Flask(__name__)\n",
    "\n",
    "@app.route('/')\n",
    "def home():\n",
    "    return 'Welcome to the Home Page'\n",
    "\n",
    "@app.route('/redirect_example')\n",
    "def redirect_example():\n",
    "    # Redirect to the home page\n",
    "    return redirect(url_for('home'))\n",
    "\n",
    "if __name__==\"__main__\":\n",
    "    app.run(host=\"0.0.0.0\")"
   ]
  },
  {
   "cell_type": "markdown",
   "id": "1f71c7ff-ba0f-45b9-9455-5a5073ca4dd2",
   "metadata": {},
   "source": [
    "In this example, accessing the /redirect_example route will trigger a redirect to the / route (home page).\n",
    "\n",
    "Overall, the redirect() function in Flask is a powerful tool for controlling user navigation, ensuring proper URL handling, and providing a seamless user experience in your web application."
   ]
  },
  {
   "cell_type": "code",
   "execution_count": null,
   "id": "dfd3ea72-01dd-49b7-aa8f-d491105888b9",
   "metadata": {},
   "outputs": [],
   "source": []
  },
  {
   "cell_type": "markdown",
   "id": "83ecf8f4-4ff8-4520-9ea1-a3c39302c25c",
   "metadata": {},
   "source": [
    "Q4. What are templates in Flask? Why is the render_template() function used?"
   ]
  },
  {
   "cell_type": "markdown",
   "id": "06be2d4d-6737-4fdc-bb4a-e2ba0986d128",
   "metadata": {},
   "source": [
    "Ans--\n",
    "\n",
    "Templates in Flask:\n",
    "\n",
    "Templates in Flask refer to the HTML files that contain the structure and layout of your web application's user interface. Instead of embedding HTML directly in your Python code, Flask allows you to separate the presentation logic from the application logic by using templates. This separation makes your codebase more organized, maintainable, and readable.\n",
    "\n",
    "Templates are typically used to generate dynamic web pages by incorporating data from your application. You can embed placeholders (template variables) within the HTML, and then replace these placeholders with actual data when rendering the template.\n",
    "\n",
    "render_template() Function:\n",
    "\n",
    "The render_template() function in Flask is used to render HTML templates. It takes the name of a template file as an argument, along with any additional variables that you want to pass to the template for rendering.\n",
    "\n",
    "Here's why the render_template() function is used:\n",
    "\n",
    "1. Dynamic Content: The render_template() function allows you to pass dynamic data from your Flask application to the template. This data can be used to generate customized content in the HTML, such as user-specific information, database records, or calculations.\n",
    "\n",
    "2. Separation of Concerns: By using templates, you can separate the presentation layer (HTML and user interface) from the application logic (Python code). This separation enhances code readability and maintainability.\n",
    "\n",
    "3. Reusable Layouts: Templates can include reusable layouts and components (e.g., header, footer) that can be used across multiple pages of your application.\n",
    "\n",
    "4. Consistent Look and Feel: Templates ensure that your application maintains a consistent look and feel across different pages by using a shared design structure.\n",
    "\n",
    "5. Easier Maintenance: If you need to make changes to the user interface, you only need to modify the template files, rather than modifying each individual page's HTML content.\n",
    "\n",
    "Example of using render_template():\n",
    "\n",
    "Suppose you have a Flask route that displays a list of blog posts. You can use the render_template() function to render an HTML template that includes placeholders for the blog post data:"
   ]
  },
  {
   "cell_type": "code",
   "execution_count": null,
   "id": "e684cb91-6f74-4aa1-b454-4e35eca09cd4",
   "metadata": {},
   "outputs": [],
   "source": [
    "from flask import Flask, render_template\n",
    "\n",
    "app = Flask(__name__)\n",
    "\n",
    "@app.route('/blog')\n",
    "def blog():\n",
    "    blog_posts = [\n",
    "        {'title': 'First Post', 'content': 'This is the content of the first post.'},\n",
    "        {'title': 'Second Post', 'content': 'This is the content of the second post.'}\n",
    "    ]\n",
    "    return render_template('blog.html', posts=blog_posts)\n",
    "\n",
    "if __name__==\"__main__\":\n",
    "    app.run(host=\"0.0.0.0\")"
   ]
  },
  {
   "cell_type": "markdown",
   "id": "7c5c4f94-199c-4f96-9fca-1ef8c96db4b6",
   "metadata": {},
   "source": [
    "In this example, the blog() route uses the render_template() function to render the blog.html template and passes the blog_posts variable for rendering.\n",
    "\n",
    "Overall, the render_template() function simplifies the process of combining data and templates to generate dynamic and customized web pages in Flask applications."
   ]
  },
  {
   "cell_type": "code",
   "execution_count": null,
   "id": "9a0eeb5b-08c3-4cd4-9609-0310cdd440a1",
   "metadata": {},
   "outputs": [],
   "source": []
  },
  {
   "cell_type": "markdown",
   "id": "5e8bafdf-0e24-4669-980d-b2078612b348",
   "metadata": {},
   "source": [
    "Q5. Create a simple API. Use Postman to test it. Attach the screenshot of the output in the Jupyter Notebook."
   ]
  },
  {
   "cell_type": "markdown",
   "id": "99934a7c-8f8c-4fde-a4d1-acf644e90502",
   "metadata": {},
   "source": [
    "Ans---\n",
    "\n",
    "Step 1: Install Flask\n",
    "Before you start, make sure you have Flask installed. You can install it using the following command:"
   ]
  },
  {
   "cell_type": "code",
   "execution_count": null,
   "id": "86521979-7bce-4849-a695-e78f14aa44e0",
   "metadata": {},
   "outputs": [],
   "source": [
    "pip install Flask"
   ]
  },
  {
   "cell_type": "markdown",
   "id": "e6d0b99c-1e78-41ad-b91a-51d4acbcad8a",
   "metadata": {},
   "source": [
    "Step 2: Create a Flask App\n",
    "Create a Python file (e.g., app.py) and add the following code to create a simple Flask app:"
   ]
  },
  {
   "cell_type": "code",
   "execution_count": null,
   "id": "4692c402-9f9e-4cd6-ba7e-e467a27eb53e",
   "metadata": {},
   "outputs": [],
   "source": [
    "from flask import Flask\n",
    "\n",
    "app = Flask(__name__)\n",
    "\n",
    "@app.route('/api/simple', methods=['GET'])\n",
    "def simple_api():\n",
    "    return \"This is a simple API\"\n",
    "\n",
    "if __name__==\"__main__\":\n",
    "    app.run(host=\"0.0.0.0\")"
   ]
  },
  {
   "cell_type": "markdown",
   "id": "0e9fc50e-a532-4cde-8e0a-55162ad8a122",
   "metadata": {},
   "source": [
    "Step 3: Run the Flask App\n",
    "Open a terminal, navigate to the directory where app.py is located, and run the app:"
   ]
  },
  {
   "cell_type": "code",
   "execution_count": null,
   "id": "89d47a3a-67d9-4c68-a8a9-18d36d675fa9",
   "metadata": {},
   "outputs": [],
   "source": [
    "python app.py"
   ]
  },
  {
   "cell_type": "markdown",
   "id": "67f6b0aa-26fc-4530-bb5f-0436828a914f",
   "metadata": {},
   "source": [
    "Your Flask app will start running on https://brown-waitress-sjheq.pwskills.app:5000/api/simple.\n",
    "\n",
    "Step 4: Test with Postman\n",
    "Now let's use Postman to test the API:\n",
    "\n",
    "Open Postman.\n",
    "Create a new request:\n",
    "Set the request type to GET.\n",
    "Enter the URL: https://brown-waitress-sjheq.pwskills.app:5000/api/simple.\n",
    "Click the \"Send\" button.\n",
    "You should see the response \"This is a simple API\" in the lower part of the Postman window.\n",
    "That's it! You've successfully created a simple API using Flask and tested it using Postman."
   ]
  },
  {
   "cell_type": "markdown",
   "id": "0286283f-c997-486b-bae9-05f7fd80717e",
   "metadata": {},
   "source": [
    "Output:"
   ]
  },
  {
   "cell_type": "code",
   "execution_count": 2,
   "id": "8f818835-7bb9-420b-bbe2-77e8105097d5",
   "metadata": {},
   "outputs": [
    {
     "data": {
      "text/plain": [
       "<matplotlib.image.AxesImage at 0x7fa599e63580>"
      ]
     },
     "execution_count": 2,
     "metadata": {},
     "output_type": "execute_result"
    },
    {
     "data": {
      "image/png": "[encoded data removed]",
      "text/plain": [
       "<Figure size 640x480 with 1 Axes>"
      ]
     },
     "metadata": {},
     "output_type": "display_data"
    }
   ],
   "source": [
    "from PIL import Image\n",
    "import matplotlib.pyplot as plt\n",
    "\n",
    "img = Image.open('Postman.png')\n",
    "\n",
    "plt.imshow(img)"
   ]
  },
  {
   "cell_type": "code",
   "execution_count": null,
   "id": "02ac4c14-aca1-4a0e-b025-f26e9ed8fa60",
   "metadata": {},
   "outputs": [],
   "source": []
  }
 ],
 "metadata": {
  "kernelspec": {
   "display_name": "Python 3 (ipykernel)",
   "language": "python",
   "name": "python3"
  },
  "language_info": {
   "codemirror_mode": {
    "name": "ipython",
    "version": 3
   },
   "file_extension": ".py",
   "mimetype": "text/x-python",
   "name": "python",
   "nbconvert_exporter": "python",
   "pygments_lexer": "ipython3",
   "version": "3.10.8"
  }
 },
 "nbformat": 4,
 "nbformat_minor": 5
}
