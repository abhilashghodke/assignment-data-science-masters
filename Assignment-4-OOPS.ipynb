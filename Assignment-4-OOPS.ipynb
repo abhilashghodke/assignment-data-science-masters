{
 "cells": [
  {
   "cell_type": "markdown",
   "id": "fb3ed906-ab9e-458c-902e-61c41d585257",
   "metadata": {},
   "source": [
    "Q1. Explain Class and Object with respect to Object-Oriented Programming. Give a suitable example."
   ]
  },
  {
   "cell_type": "markdown",
   "id": "5172c8cb-c05d-4b00-ab89-102f6dbaf60c",
   "metadata": {},
   "source": [
    "Ans  -- In Object-Oriented Programming (OOP), a class is a blueprint or template for creating objects, while an object is an instance of a class. A class defines the attributes (also known as properties) and behaviors (also known as methods) that the objects created from it will have."
   ]
  },
  {
   "cell_type": "code",
   "execution_count": 2,
   "id": "bcee8f1c-6826-4bc7-9bbf-cc44f7010329",
   "metadata": {},
   "outputs": [
    {
     "name": "stdout",
     "output_type": "stream",
     "text": [
      "Sheru is 3 years old.\n",
      "Sheru is barking!\n",
      "Bruno is 2 years old.\n",
      "Bruno is barking!\n"
     ]
    }
   ],
   "source": [
    "class Dog:\n",
    "    def __init__(self, name, age):\n",
    "        self.name = name\n",
    "        self.age = age\n",
    "        \n",
    "    def bark(self):\n",
    "        print(f\"{self.name} is barking!\")\n",
    "\n",
    "# Creating objects (instances) of the Dog class\n",
    "dog1 = Dog(\"Sheru\", 3)\n",
    "dog2 = Dog(\"Bruno\", 2)\n",
    "\n",
    "# Accessing object attributes and methods\n",
    "print(f\"{dog1.name} is {dog1.age} years old.\")\n",
    "dog1.bark()\n",
    "\n",
    "print(f\"{dog2.name} is {dog2.age} years old.\")\n",
    "dog2.bark()"
   ]
  },
  {
   "cell_type": "code",
   "execution_count": null,
   "id": "ddc090e8-d760-4763-bfd7-c911e4533ec4",
   "metadata": {},
   "outputs": [],
   "source": []
  },
  {
   "cell_type": "markdown",
   "id": "0f628588-6478-4a68-af70-d6e830405698",
   "metadata": {},
   "source": [
    "Q2. Name the four pillars of OOPs."
   ]
  },
  {
   "cell_type": "markdown",
   "id": "4c9bf338-fe61-45f5-a120-e15d0e41cf1d",
   "metadata": {},
   "source": [
    "Ans---\n",
    "\n",
    "1. Encapsulation: Encapsulation is the concept of bundling data (attributes) and the methods (functions) that operate on the data into a single unit, called a class. It restricts direct access to some of an object's components, allowing control over the data and ensuring that it's accessed and modified only through predefined methods.\n",
    "\n",
    "2. Abstraction: Abstraction refers to the process of simplifying complex reality by modeling classes based on essential characteristics. It allows programmers to focus on what an object does rather than how it does it.\n",
    "\n",
    "3. Inheritance: Inheritance is a mechanism that allows a new class (subclass or derived class) to inherit properties and behaviors from an existing class (superclass or base class). \n",
    "\n",
    "4. Polymorphism: Polymorphism refers to the ability of different objects to respond to the same method invocation in a way that's appropriate for their individual types. It allows you to write code that can work with objects of different classes as long as they share a common interface (such as a common method name)."
   ]
  },
  {
   "cell_type": "code",
   "execution_count": null,
   "id": "96ca5752-25a7-4a05-8ac7-f0d195afed34",
   "metadata": {},
   "outputs": [],
   "source": []
  },
  {
   "cell_type": "markdown",
   "id": "aa5807ed-c2f1-480d-b49c-a22f44c65de7",
   "metadata": {},
   "source": [
    "Q3. Explain why the  __init__()  function is used. Give a suitable example."
   ]
  },
  {
   "cell_type": "markdown",
   "id": "205a6374-3ac1-4e89-9503-7e7a16e1cd74",
   "metadata": {},
   "source": [
    "Ans --\n",
    "\n",
    "The __init__() function in Python is a special method (also known as a constructor) that is automatically called when an object of a class is created. It's used to initialize the attributes of the object by assigning values to them. The __init__() method is typically the first method that gets executed when an object is instantiated, and it sets up the initial state of the object."
   ]
  },
  {
   "cell_type": "code",
   "execution_count": 14,
   "id": "a8b8b596-8b60-4503-af05-356368ccb16c",
   "metadata": {},
   "outputs": [],
   "source": [
    "class Person:\n",
    "    def __init__(self, name, age):\n",
    "        self.name = name\n",
    "        self.age = age\n",
    "\n",
    "    def introduce(self):\n",
    "        print(f\"Hi, my name is {self.name} and I am {self.age} years old.\")"
   ]
  },
  {
   "cell_type": "code",
   "execution_count": 15,
   "id": "77a05217-275c-4895-a743-ff203a33c0a0",
   "metadata": {},
   "outputs": [],
   "source": [
    "# Creating objects of the Person class\n",
    "person1 = Person(\"Abhi\", 30)\n",
    "person2 = Person(\"Sweta\", 25)"
   ]
  },
  {
   "cell_type": "code",
   "execution_count": 16,
   "id": "da8743a9-7816-4c59-8936-51ffd17f9323",
   "metadata": {},
   "outputs": [
    {
     "name": "stdout",
     "output_type": "stream",
     "text": [
      "Hi, my name is Abhi and I am 30 years old.\n",
      "Hi, my name is Sweta and I am 25 years old.\n"
     ]
    }
   ],
   "source": [
    "# Calling the introduce method for each person\n",
    "person1.introduce()\n",
    "person2.introduce()"
   ]
  },
  {
   "cell_type": "code",
   "execution_count": null,
   "id": "9a5a0a8d-1749-460c-81ee-5086c0ff1cd5",
   "metadata": {},
   "outputs": [],
   "source": []
  },
  {
   "cell_type": "markdown",
   "id": "131d1b87-6b83-475e-b736-c97001ff1fe7",
   "metadata": {},
   "source": [
    "Q4. Why self is used in OOPs?"
   ]
  },
  {
   "cell_type": "markdown",
   "id": "8d37ca79-1e89-4c5a-8f55-63b20b1dcb50",
   "metadata": {},
   "source": [
    "In Object-Oriented Programming (OOP), self is a convention used to refer to the instance of the class within its methods. It is not a reserved keyword in Python, but it is widely used and accepted as a naming convention for the first parameter of instance methods."
   ]
  },
  {
   "cell_type": "code",
   "execution_count": null,
   "id": "71f5ab01-89d3-4a74-b48d-f9980172c3eb",
   "metadata": {},
   "outputs": [],
   "source": []
  },
  {
   "cell_type": "markdown",
   "id": "e4e7b5c3-a590-4e24-87e4-2158727957ea",
   "metadata": {},
   "source": [
    "Q5. What is inheritance? Give an example for each type of inheritance."
   ]
  },
  {
   "cell_type": "markdown",
   "id": "f1043e0b-a226-48fc-a9a2-6e0782b88504",
   "metadata": {},
   "source": [
    "Ans --\n",
    "\n",
    "Inheritance is a fundamental concept in Object-Oriented Programming (OOP) that allows a new class to inherit properties and behaviors from an existing class. The new class (subclass or derived class) can extend and enhance the features of the existing class (superclass or base class). Inheritance promotes code reuse, modularity, and the creation of class hierarchies.\n",
    "\n",
    "1. Single Inheritance:\n",
    "Single inheritance involves one subclass inheriting from a single superclass.\n",
    "\n",
    "Example:"
   ]
  },
  {
   "cell_type": "code",
   "execution_count": 9,
   "id": "32845cdf-a07f-4902-8156-aa9973c689c7",
   "metadata": {},
   "outputs": [],
   "source": [
    "class Animal:\n",
    "    def speak(self):\n",
    "        pass\n",
    "\n",
    "class Dog(Animal):\n",
    "    def speak(self):\n",
    "        return \"Woof!\"\n",
    "\n",
    "class Cat(Animal):\n",
    "    def speak(self):\n",
    "        return \"Meow!\""
   ]
  },
  {
   "cell_type": "markdown",
   "id": "5fb8e2d9-137e-401c-bc5e-84a41936fd92",
   "metadata": {},
   "source": [
    "2. Multiple Inheritance:\n",
    "Multiple inheritance involves a subclass inheriting from two or more superclasses.\n",
    "\n",
    "Example:"
   ]
  },
  {
   "cell_type": "code",
   "execution_count": 10,
   "id": "1bbd7d24-27cb-4229-82a0-51d02377802f",
   "metadata": {},
   "outputs": [],
   "source": [
    "class Fish:\n",
    "    def swim(self):\n",
    "        pass\n",
    "\n",
    "class Bird:\n",
    "    def fly(self):\n",
    "        pass\n",
    "\n",
    "class FlyingFish(Fish, Bird):\n",
    "    pass"
   ]
  },
  {
   "cell_type": "markdown",
   "id": "d0de5dfd-897a-46c6-91c7-405ddbf99dae",
   "metadata": {},
   "source": [
    "3. Multilevel Inheritance:\n",
    "Multilevel inheritance involves a chain of inheritance where a subclass inherits from a superclass, and another subclass inherits from the first subclass.\n",
    "\n",
    "Example:"
   ]
  },
  {
   "cell_type": "code",
   "execution_count": 11,
   "id": "0e239f40-e654-471f-be3b-5625909fb691",
   "metadata": {},
   "outputs": [],
   "source": [
    "class Vehicle:\n",
    "    def move(self):\n",
    "        pass\n",
    "\n",
    "class Car(Vehicle):\n",
    "    pass\n",
    "\n",
    "class ElectricCar(Car):\n",
    "    pass"
   ]
  },
  {
   "cell_type": "markdown",
   "id": "62e1510f-8930-4f72-afb1-479827b0ca5f",
   "metadata": {},
   "source": [
    "4. Hierarchical Inheritance:\n",
    "Hierarchical inheritance involves multiple subclasses inheriting from a single superclass.\n",
    "\n",
    "Example:"
   ]
  },
  {
   "cell_type": "code",
   "execution_count": 12,
   "id": "85befb7a-e237-498b-901f-c75298a63723",
   "metadata": {},
   "outputs": [],
   "source": [
    "class Shape:\n",
    "    def area(self):\n",
    "        pass\n",
    "\n",
    "class Circle(Shape):\n",
    "    pass\n",
    "\n",
    "class Square(Shape):\n",
    "    pass"
   ]
  },
  {
   "cell_type": "markdown",
   "id": "8af97d2c-35f2-497a-a4d2-afc46a51110b",
   "metadata": {},
   "source": [
    "5. Hybrid Inheritance:\n",
    "Hybrid inheritance is a combination of any of the above types.\n",
    "\n",
    "Example:"
   ]
  },
  {
   "cell_type": "code",
   "execution_count": 13,
   "id": "896ff434-7826-4a2c-8a80-021e3aae1c6e",
   "metadata": {},
   "outputs": [],
   "source": [
    "class A:\n",
    "    pass\n",
    "\n",
    "class B(A):\n",
    "    pass\n",
    "\n",
    "class C(A):\n",
    "    pass\n",
    "\n",
    "class D(B, C):\n",
    "    pass"
   ]
  },
  {
   "cell_type": "code",
   "execution_count": null,
   "id": "cbd8a752-fd1a-47ca-8c99-f7dfd38d3de9",
   "metadata": {},
   "outputs": [],
   "source": []
  }
 ],
 "metadata": {
  "kernelspec": {
   "display_name": "Python 3 (ipykernel)",
   "language": "python",
   "name": "python3"
  },
  "language_info": {
   "codemirror_mode": {
    "name": "ipython",
    "version": 3
   },
   "file_extension": ".py",
   "mimetype": "text/x-python",
   "name": "python",
   "nbconvert_exporter": "python",
   "pygments_lexer": "ipython3",
   "version": "3.10.8"
  }
 },
 "nbformat": 4,
 "nbformat_minor": 5
}
