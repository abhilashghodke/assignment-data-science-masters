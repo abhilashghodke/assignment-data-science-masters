{
 "cells": [
  {
   "cell_type": "markdown",
   "id": "fb419b57-0295-4235-a376-a1b073197d46",
   "metadata": {},
   "source": [
    "Q1. Calculate the 95% confidence interval for a sample of data with a mean of 50 and a standard deviation\n",
    "of 5 using Python. Interpret the results."
   ]
  },
  {
   "cell_type": "markdown",
   "id": "7cf5dd5a-c214-4385-88fe-a6de86871974",
   "metadata": {},
   "source": [
    "Ans--\n",
    "\n",
    "Here's how you can calculate the 95% confidence interval for your sample data using Python. You can use the scipy.stats module to compute the confidence interval."
   ]
  },
  {
   "cell_type": "code",
   "execution_count": 2,
   "id": "0c9a51d1-3d33-4d6c-9bdd-bb6cc7e5ff75",
   "metadata": {},
   "outputs": [
    {
     "name": "stdout",
     "output_type": "stream",
     "text": [
      "95% Confidence Interval: (49.02001800772997, 50.97998199227003)\n"
     ]
    }
   ],
   "source": [
    "import scipy.stats as stats\n",
    "\n",
    "# Given data\n",
    "sample_mean = 50\n",
    "sample_stddev = 5\n",
    "confidence_level = 0.95\n",
    "sample_size = 100  # You need to provide the sample size\n",
    "\n",
    "# Calculate the standard error\n",
    "standard_error = sample_stddev / (sample_size ** 0.5)\n",
    "\n",
    "# Calculate the margin of error\n",
    "margin_of_error = stats.norm.ppf(1 - (1 - confidence_level) / 2) * standard_error\n",
    "\n",
    "# Calculate the confidence interval\n",
    "lower_bound = sample_mean - margin_of_error\n",
    "upper_bound = sample_mean + margin_of_error\n",
    "\n",
    "print(\"95% Confidence Interval:\", (lower_bound, upper_bound))"
   ]
  },
  {
   "cell_type": "markdown",
   "id": "f8df3a48-ae71-4fe8-b753-8cdb035904ac",
   "metadata": {},
   "source": [
    "Interpretation of the results:\n",
    "The calculated 95% confidence interval is a range of values within which we can be 95% confident that the true population mean lies. In your case, if you were to repeat the process of collecting samples and calculating the confidence interval many times, you would expect that about 95% of those intervals would contain the true population mean.\n",
    "\n",
    "So, if your calculated confidence interval is, for example, (48.5, 51.5), you can interpret it as follows: \"We are 95% confident that the true population mean lies between 48.5 and 51.5 based on our sample data with a mean of 50 and a standard deviation of 5.\"\n",
    "\n",
    "Remember that the accuracy of the confidence interval heavily relies on the assumptions of normality and the sample size. If these assumptions are not met, the confidence interval might not accurately represent the true population parameter."
   ]
  },
  {
   "cell_type": "code",
   "execution_count": null,
   "id": "c683c13c-eeae-4c07-a0e2-49844f64a511",
   "metadata": {},
   "outputs": [],
   "source": []
  },
  {
   "cell_type": "markdown",
   "id": "cfd63f40-b9b3-492b-9e0b-2ce9a6a7615c",
   "metadata": {},
   "source": [
    "Q2. Conduct a chi-square goodness of fit test to determine if the distribution of colors of M&Ms in a bag\n",
    "matches the expected distribution of 20% blue, 20% orange, 20% green, 10% yellow, 10% red, and 20%\n",
    "brown. Use Python to perform the test with a significance level of 0.05."
   ]
  },
  {
   "cell_type": "markdown",
   "id": "217c1645-9929-4d3f-abfa-16e6178ef99f",
   "metadata": {},
   "source": [
    "Ans--\n",
    "\n",
    "To perform a chi-square goodness of fit test in Python, you can use the scipy.stats module. Here's how you can conduct the test to determine if the distribution of colors of M&Ms in a bag matches the expected distribution:"
   ]
  },
  {
   "cell_type": "code",
   "execution_count": 3,
   "id": "5e4036ba-e86e-47a1-b0b9-ceaae395ce0f",
   "metadata": {},
   "outputs": [
    {
     "name": "stdout",
     "output_type": "stream",
     "text": [
      "Chi-Square Statistic: 20.625\n",
      "P-value: 0.0009534059456569035\n",
      "Reject the null hypothesis. The distributions are different.\n"
     ]
    }
   ],
   "source": [
    "import numpy as np\n",
    "from scipy.stats import chisquare\n",
    "\n",
    "# Observed frequencies of colors in the bag\n",
    "observed_frequencies = np.array([50, 45, 55, 15, 10, 25])  # Replace with your observed data\n",
    "\n",
    "# Expected frequencies based on the expected distribution\n",
    "expected_frequencies = np.array([0.2, 0.2, 0.2, 0.1, 0.1, 0.2]) * np.sum(observed_frequencies)\n",
    "\n",
    "# Perform the chi-square goodness of fit test\n",
    "chi2_stat, p_value = chisquare(observed_frequencies, f_exp=expected_frequencies)\n",
    "\n",
    "# Significance level\n",
    "alpha = 0.05\n",
    "\n",
    "# Print the results\n",
    "print(\"Chi-Square Statistic:\", chi2_stat)\n",
    "print(\"P-value:\", p_value)\n",
    "\n",
    "if p_value < alpha:\n",
    "    print(\"Reject the null hypothesis. The distributions are different.\")\n",
    "else:\n",
    "    print(\"Fail to reject the null hypothesis. The distributions are similar.\")"
   ]
  },
  {
   "cell_type": "markdown",
   "id": "4944d7da-bd12-42bb-9735-546367ef0a43",
   "metadata": {},
   "source": [
    "In this code:\n",
    "\n",
    "- observed_frequencies should be replaced with your actual observed frequencies for each color.\n",
    "- expected_frequencies are calculated based on the expected distribution percentages and the total number of observations.\n",
    "- The chisquare function is used to calculate the chi-square statistic and the associated p-value.\n",
    "- The null hypothesis is that the observed distribution matches the expected distribution.\n",
    "- The code then compares the calculated p-value with the significance level (0.05) and prints whether to reject or fail to reject the null hypothesis.\n",
    "\n",
    "Make sure to replace the observed_frequencies with the actual data from your bag of M&Ms. The p-value will indicate whether there is a significant difference between the observed and expected distributions. If the p-value is less than the significance level (0.05), you would reject the null hypothesis and conclude that the distribution does not match the expected distribution."
   ]
  },
  {
   "cell_type": "code",
   "execution_count": null,
   "id": "96af9a58-dfd7-419a-b494-7740f94c04ba",
   "metadata": {},
   "outputs": [],
   "source": []
  },
  {
   "cell_type": "markdown",
   "id": "9b7d9a43-0585-49e6-a0b6-b4b1132d3e33",
   "metadata": {},
   "source": [
    "Q3. Use Python to calculate the chi-square statistic and p-value for a contingency table with the following\n",
    "data:\n",
    "    \n",
    "Group A    Group B\n",
    "\n",
    "Outcome    1 20 15\n",
    "Outcome    2 10 25\n",
    "Outcome    3 15 20\n",
    "\n",
    "Interpret the results of the test."
   ]
  },
  {
   "cell_type": "markdown",
   "id": "e4c118e7-0923-4193-b0c6-f0ba5dcdbb42",
   "metadata": {},
   "source": [
    "Ans--\n",
    "\n",
    "To calculate the chi-square statistic and p-value for a contingency table in Python, you can use the scipy.stats module's chi2_contingency function. Here's how you can do it for the given data:"
   ]
  },
  {
   "cell_type": "code",
   "execution_count": 5,
   "id": "56e72e0f-474f-4175-9daa-764b8068810e",
   "metadata": {},
   "outputs": [
    {
     "name": "stdout",
     "output_type": "stream",
     "text": [
      "Chi-Square Statistic: 5.833333333333334\n",
      "P-value: 0.05411376622282158\n",
      "Degrees of Freedom: 2\n",
      "Expected Frequencies:\n",
      " [[15. 20.]\n",
      " [15. 20.]\n",
      " [15. 20.]]\n",
      "Fail to reject the null hypothesis. The groups are independent.\n"
     ]
    }
   ],
   "source": [
    "import numpy as np\n",
    "from scipy.stats import chi2_contingency\n",
    "\n",
    "# Create the contingency table\n",
    "contingency_table = np.array([[20, 15],\n",
    "                              [10, 25],\n",
    "                              [15, 20]])\n",
    "\n",
    "# Perform the chi-square test\n",
    "chi2_stat, p_value, dof, expected = chi2_contingency(contingency_table)\n",
    "\n",
    "# Significance level\n",
    "alpha = 0.05\n",
    "\n",
    "# Print the results\n",
    "print(\"Chi-Square Statistic:\", chi2_stat)\n",
    "print(\"P-value:\", p_value)\n",
    "print(\"Degrees of Freedom:\", dof)\n",
    "print(\"Expected Frequencies:\\n\", expected)\n",
    "\n",
    "if p_value < alpha:\n",
    "    print(\"Reject the null hypothesis. There is a relationship between the groups.\")\n",
    "else:\n",
    "    print(\"Fail to reject the null hypothesis. The groups are independent.\")"
   ]
  },
  {
   "cell_type": "markdown",
   "id": "b2d79635-2f37-4835-a53b-7fc7daa6ed4e",
   "metadata": {},
   "source": [
    "In this code:\n",
    "\n",
    "- contingency_table contains the observed frequencies for each combination of outcomes in Group A and Group B.\n",
    "- The chi2_contingency function is used to calculate the chi-square statistic, p-value, degrees of freedom, and the expected frequencies.\n",
    "- The null hypothesis is that there is no relationship between the two groups.\n",
    "- The code then compares the calculated p-value with the significance level (0.05) and prints whether to reject or fail to reject the null hypothesis.\n",
    "\n",
    "The p-value will indicate whether there is a significant association between the outcomes in the two groups. If the p-value is less than the significance level (0.05), you would reject the null hypothesis and conclude that there is a relationship between the groups. Otherwise, you would fail to reject the null hypothesis, suggesting that the groups are independent."
   ]
  },
  {
   "cell_type": "code",
   "execution_count": null,
   "id": "277c6c70-157f-44ba-96ae-7a4ecf75ba63",
   "metadata": {},
   "outputs": [],
   "source": []
  },
  {
   "cell_type": "markdown",
   "id": "3da6cde1-b3d1-481d-a77d-0761c3511a44",
   "metadata": {},
   "source": [
    "Q4. A study of the prevalence of smoking in a population of 500 individuals found that 60 individuals\n",
    "smoked. Use Python to calculate the 95% confidence interval for the true proportion of individuals in the\n",
    "population who smoke."
   ]
  },
  {
   "cell_type": "markdown",
   "id": "6fb8585e-710e-45fe-981e-b81fdee07312",
   "metadata": {},
   "source": [
    "Ans--\n",
    "\n",
    "To calculate the 95% confidence interval for the true proportion of individuals in the population who smoke, you can use the Wilson score interval, which provides a more accurate interval for proportions close to 0 or 1. Here's how you can calculate it using Python:"
   ]
  },
  {
   "cell_type": "code",
   "execution_count": 6,
   "id": "2d86190b-9501-49ca-b356-a276762c7bc8",
   "metadata": {},
   "outputs": [
    {
     "name": "stdout",
     "output_type": "stream",
     "text": [
      "95% Confidence Interval: (0.12162169113941385, 0.12417280761136587)\n"
     ]
    }
   ],
   "source": [
    "import scipy.stats as stats\n",
    "import numpy as np\n",
    "\n",
    "# Given data\n",
    "sample_size = 500\n",
    "smokers = 60\n",
    "\n",
    "# Calculate the proportion of smokers in the sample\n",
    "sample_proportion = smokers / sample_size\n",
    "\n",
    "# Calculate the standard error using the Wilson score interval formula\n",
    "z = stats.norm.ppf(1 - (1 - 0.95) / 2)\n",
    "denominator = 1 + z**2 / sample_size\n",
    "center_adjusted_probability = sample_proportion + z**2 / (2 * sample_size)\n",
    "adjusted_standard_deviation = np.sqrt((sample_proportion * (1 - sample_proportion) + z**2 / (4 * sample_size)) / sample_size)\n",
    "margin_of_error = z * adjusted_standard_deviation / np.sqrt(sample_size)\n",
    "\n",
    "# Calculate the confidence interval using the Wilson score interval formula\n",
    "lower_bound = (center_adjusted_probability - margin_of_error) / denominator\n",
    "upper_bound = (center_adjusted_probability + margin_of_error) / denominator\n",
    "\n",
    "print(\"95% Confidence Interval:\", (lower_bound, upper_bound))"
   ]
  },
  {
   "cell_type": "markdown",
   "id": "45f04eb8-f520-4990-8516-50f76db9a743",
   "metadata": {},
   "source": [
    "Interpretation of the results:\n",
    "The calculated 95% confidence interval is a range of values within which we can be 95% confident that the true proportion of individuals in the population who smoke lies. In your case, if you were to repeat the process of collecting samples and calculating the confidence interval many times, you would expect that about 95% of those intervals would contain the true population proportion.\n",
    "\n",
    "So, if your calculated confidence interval is, for example, (0.099, 0.157), you can interpret it as follows: \"We are 95% confident that the true proportion of individuals in the population who smoke lies between 0.099 and 0.157 based on our sample of 500 individuals with 60 smokers.\""
   ]
  },
  {
   "cell_type": "code",
   "execution_count": null,
   "id": "6d6b3f88-a6bd-4384-ba59-98a2eb84e741",
   "metadata": {},
   "outputs": [],
   "source": []
  },
  {
   "cell_type": "markdown",
   "id": "8a781287-32f4-44b7-88a5-23770b261a47",
   "metadata": {},
   "source": [
    "Q5. Calculate the 90% confidence interval for a sample of data with a mean of 75 and a standard deviation\n",
    "of 12 using Python. Interpret the results."
   ]
  },
  {
   "cell_type": "markdown",
   "id": "6b4eb987-c11e-4339-a88a-a99d1511ae82",
   "metadata": {},
   "source": [
    "Ans--\n",
    "\n",
    "Here's how you can calculate the 90% confidence interval for your sample data using Python:"
   ]
  },
  {
   "cell_type": "code",
   "execution_count": 7,
   "id": "01580f7d-b5f4-4001-bf71-1ba68c21f430",
   "metadata": {},
   "outputs": [
    {
     "name": "stdout",
     "output_type": "stream",
     "text": [
      "90% Confidence Interval: (73.02617564765823, 76.97382435234177)\n"
     ]
    }
   ],
   "source": [
    "import scipy.stats as stats\n",
    "\n",
    "# Given data\n",
    "sample_mean = 75\n",
    "sample_stddev = 12\n",
    "confidence_level = 0.90\n",
    "sample_size = 100  # You need to provide the sample size\n",
    "\n",
    "# Calculate the standard error\n",
    "standard_error = sample_stddev / (sample_size ** 0.5)\n",
    "\n",
    "# Calculate the margin of error\n",
    "margin_of_error = stats.norm.ppf(1 - (1 - confidence_level) / 2) * standard_error\n",
    "\n",
    "# Calculate the confidence interval\n",
    "lower_bound = sample_mean - margin_of_error\n",
    "upper_bound = sample_mean + margin_of_error\n",
    "\n",
    "print(\"90% Confidence Interval:\", (lower_bound, upper_bound))"
   ]
  },
  {
   "cell_type": "markdown",
   "id": "24c91bc5-67a5-4e03-a1b1-f6ab65a19a8b",
   "metadata": {},
   "source": [
    "Interpretation of the results:\n",
    "The calculated 90% confidence interval is a range of values within which we can be 90% confident that the true population mean lies. In your case, if you were to repeat the process of collecting samples and calculating the confidence interval many times, you would expect that about 90% of those intervals would contain the true population mean.\n",
    "\n",
    "For example, if your calculated confidence interval is (71.54, 78.46), you can interpret it as follows: \"We are 90% confident that the true population mean lies between 71.54 and 78.46 based on our sample data with a mean of 75 and a standard deviation of 12.\"\n",
    "\n",
    "Keep in mind that the wider the confidence interval, the more uncertain our estimate becomes. Conversely, a narrower interval indicates higher confidence in the estimated range."
   ]
  },
  {
   "cell_type": "code",
   "execution_count": null,
   "id": "9f77a217-0bb3-4352-83cc-3f852ae21941",
   "metadata": {},
   "outputs": [],
   "source": []
  },
  {
   "cell_type": "markdown",
   "id": "f8d5d0bc-cb84-4902-910b-bddfa9dead87",
   "metadata": {},
   "source": [
    "Q6. Use Python to plot the chi-square distribution with 10 degrees of freedom. Label the axes and shade the\n",
    "area corresponding to a chi-square statistic of 15."
   ]
  },
  {
   "cell_type": "markdown",
   "id": "d2b2b7be-30b1-40b6-a353-7f3e1c2e59b1",
   "metadata": {},
   "source": [
    "Ans--\n",
    "\n",
    "Certainly, you can use the matplotlib library to plot the chi-square distribution with 10 degrees of freedom in Python. Here's how you can do it:"
   ]
  },
  {
   "cell_type": "code",
   "execution_count": 8,
   "id": "4fb4fb29-fbae-4e3d-80cb-039b22d73fcb",
   "metadata": {},
   "outputs": [
    {
     "data": {
      "image/png": "[encoded data removed]",
      "text/plain": [
       "<Figure size 640x480 with 1 Axes>"
      ]
     },
     "metadata": {},
     "output_type": "display_data"
    }
   ],
   "source": [
    "import numpy as np\n",
    "import matplotlib.pyplot as plt\n",
    "import scipy.stats as stats\n",
    "\n",
    "# Degrees of freedom\n",
    "df = 10\n",
    "\n",
    "# Create a range of x values\n",
    "x = np.linspace(0, 30, 400)  # Adjust the range as needed\n",
    "\n",
    "# Calculate the chi-square probability density function (PDF) for the given degrees of freedom\n",
    "chi2_pdf = stats.chi2.pdf(x, df)\n",
    "\n",
    "# Plot the chi-square distribution\n",
    "plt.plot(x, chi2_pdf, label=f'DF = {df}')\n",
    "plt.xlabel('Chi-Square Statistic')\n",
    "plt.ylabel('Probability Density')\n",
    "plt.title('Chi-Square Distribution')\n",
    "plt.axvline(x=15, color='red', linestyle='--', label='Chi-Square = 15')\n",
    "plt.fill_between(x, chi2_pdf, where=(x >= 15), color='red', alpha=0.2)\n",
    "plt.legend()\n",
    "plt.grid(True)\n",
    "plt.show()"
   ]
  },
  {
   "cell_type": "markdown",
   "id": "49645a3d-44a4-45ea-81f1-d35fc501dd53",
   "metadata": {},
   "source": [
    "In this code:\n",
    "\n",
    "- We use the numpy library to create a range of x values.\n",
    "- The scipy.stats.chi2.pdf function is used to calculate the chi-square probability density function for the specified degrees of freedom.\n",
    "- We use matplotlib to plot the distribution, label the axes, and add a vertical dashed line at the value of 15 on the x-axis (corresponding to the chi-square statistic you mentioned). We also shade the area corresponding to the chi-square statistic of 15 using the fill_between function.\n",
    "\n",
    "Make sure you have the numpy and matplotlib libraries installed in your Python environment before running this code. You can install them using:\n",
    "\n",
    "The resulting plot will show the chi-square distribution with the shaded area corresponding to a chi-square statistic of 15."
   ]
  },
  {
   "cell_type": "code",
   "execution_count": null,
   "id": "b5628a1e-afba-4496-9876-17391e662bba",
   "metadata": {},
   "outputs": [],
   "source": []
  },
  {
   "cell_type": "markdown",
   "id": "bd59f995-d6fc-4d40-aaf6-47bc0f23befe",
   "metadata": {},
   "source": [
    "Q7. A random sample of 1000 people was asked if they preferred Coke or Pepsi. Of the sample, 520\n",
    "preferred Coke. Calculate a 99% confidence interval for the true proportion of people in the population who\n",
    "prefer Coke."
   ]
  },
  {
   "cell_type": "markdown",
   "id": "2f9410c5-0343-46a8-b3bf-1aece2b70e21",
   "metadata": {},
   "source": [
    "To calculate the 99% confidence interval for the true proportion of people in the population who prefer Coke, you can use the Wilson score interval formula for proportions, which provides a more accurate interval for proportions close to 0 or 1. Here's how you can calculate it using Python:"
   ]
  },
  {
   "cell_type": "code",
   "execution_count": 9,
   "id": "ee8436f4-73ba-4a23-a68c-c703689dd171",
   "metadata": {},
   "outputs": [
    {
     "name": "stdout",
     "output_type": "stream",
     "text": [
      "99% Confidence Interval: (0.5185855340637539, 0.5211508193401099)\n"
     ]
    }
   ],
   "source": [
    "import scipy.stats as stats\n",
    "import numpy as np\n",
    "\n",
    "# Given data\n",
    "sample_size = 1000\n",
    "coke_preferred = 520\n",
    "\n",
    "# Calculate the proportion of people who prefer Coke in the sample\n",
    "sample_proportion = coke_preferred / sample_size\n",
    "\n",
    "# Calculate the standard error using the Wilson score interval formula\n",
    "z = stats.norm.ppf(1 - (1 - 0.99) / 2)\n",
    "denominator = 1 + z**2 / sample_size\n",
    "center_adjusted_probability = sample_proportion + z**2 / (2 * sample_size)\n",
    "adjusted_standard_deviation = np.sqrt((sample_proportion * (1 - sample_proportion) + z**2 / (4 * sample_size)) / sample_size)\n",
    "margin_of_error = z * adjusted_standard_deviation / np.sqrt(sample_size)\n",
    "\n",
    "# Calculate the confidence interval using the Wilson score interval formula\n",
    "lower_bound = (center_adjusted_probability - margin_of_error) / denominator\n",
    "upper_bound = (center_adjusted_probability + margin_of_error) / denominator\n",
    "\n",
    "print(\"99% Confidence Interval:\", (lower_bound, upper_bound))"
   ]
  },
  {
   "cell_type": "markdown",
   "id": "5114e350-6a49-45dd-a1ca-2a2e423bbf92",
   "metadata": {},
   "source": [
    "Interpretation of the results:\n",
    "The calculated 99% confidence interval is a range of values within which we can be 99% confident that the true proportion of people in the population who prefer Coke lies. In your case, if you were to repeat the process of collecting samples and calculating the confidence interval many times, you would expect that about 99% of those intervals would contain the true population proportion.\n",
    "\n",
    "For instance, if your calculated confidence interval is (0.482, 0.542), you can interpret it as follows: \"We are 99% confident that the true proportion of people in the population who prefer Coke lies between 0.482 and 0.542 based on our sample of 1000 people with 520 preferring Coke.\"\n",
    "\n",
    "Remember that the confidence interval provides a range of likely values for the population parameter, and it is not a statement about any specific individual in the sample."
   ]
  },
  {
   "cell_type": "code",
   "execution_count": null,
   "id": "cbdbb433-0827-4d19-bf43-a301104ab6b9",
   "metadata": {},
   "outputs": [],
   "source": []
  },
  {
   "cell_type": "markdown",
   "id": "ba809657-f671-4b33-9e0e-ca9a533526e6",
   "metadata": {},
   "source": [
    "Q8. A researcher hypothesizes that a coin is biased towards tails. They flip the coin 100 times and observe\n",
    "45 tails. Conduct a chi-square goodness of fit test to determine if the observed frequencies match the\n",
    "expected frequencies of a fair coin. Use a significance level of 0.05."
   ]
  },
  {
   "cell_type": "markdown",
   "id": "7581a403-2186-4726-a77d-6c6ac659aac5",
   "metadata": {},
   "source": [
    "Ans--\n",
    "\n",
    "To conduct a chi-square goodness of fit test for the observed frequencies of coin flips and compare them to the expected frequencies of a fair coin, you can use the scipy.stats module in Python. Here's how you can perform the test:"
   ]
  },
  {
   "cell_type": "code",
   "execution_count": 10,
   "id": "ef715cec-89b1-4d5d-ba7c-f5d984aac2d7",
   "metadata": {},
   "outputs": [
    {
     "name": "stdout",
     "output_type": "stream",
     "text": [
      "Chi-Square Statistic: 1.0\n",
      "P-value: 0.31731050786291115\n",
      "Fail to reject the null hypothesis. The observed frequencies match the expected frequencies of a fair coin.\n"
     ]
    }
   ],
   "source": [
    "import numpy as np\n",
    "from scipy.stats import chisquare\n",
    "\n",
    "# Given data\n",
    "observed_tails = 45\n",
    "total_flips = 100\n",
    "\n",
    "# Expected frequencies for a fair coin (0.5 probability for each outcome)\n",
    "expected_tails = 0.5 * total_flips\n",
    "expected_heads = 0.5 * total_flips\n",
    "\n",
    "# Observed and expected frequencies as arrays\n",
    "observed_frequencies = np.array([observed_tails, total_flips - observed_tails])\n",
    "expected_frequencies = np.array([expected_tails, expected_heads])\n",
    "\n",
    "# Perform the chi-square goodness of fit test\n",
    "chi2_stat, p_value = chisquare(observed_frequencies, f_exp=expected_frequencies)\n",
    "\n",
    "# Significance level\n",
    "alpha = 0.05\n",
    "\n",
    "# Print the results\n",
    "print(\"Chi-Square Statistic:\", chi2_stat)\n",
    "print(\"P-value:\", p_value)\n",
    "\n",
    "if p_value < alpha:\n",
    "    print(\"Reject the null hypothesis. The observed frequencies do not match the expected frequencies of a fair coin.\")\n",
    "else:\n",
    "    print(\"Fail to reject the null hypothesis. The observed frequencies match the expected frequencies of a fair coin.\")"
   ]
  },
  {
   "cell_type": "markdown",
   "id": "041573bb-31ff-48e7-b337-d908e3207ff8",
   "metadata": {},
   "source": [
    "In this code:\n",
    "\n",
    "- observed_tails is the number of observed tails in the 100 coin flips.\n",
    "- expected_tails is the expected number of tails for a fair coin.\n",
    "- The observed_frequencies and expected_frequencies arrays are created based on the observed and expected tails and heads counts.\n",
    "- The chisquare function is used to calculate the chi-square statistic and the associated p-value.\n",
    "- The null hypothesis is that the observed frequencies match the expected frequencies of a fair coin.\n",
    "- The code then compares the calculated p-value with the significance level (0.05) and prints whether to reject or fail to reject the null hypothesis.\n",
    "\n",
    "If the p-value is less than the significance level, you would reject the null hypothesis and conclude that the observed frequencies do not match the expected frequencies of a fair coin, suggesting evidence of bias towards tails. If the p-value is greater than the significance level, you would fail to reject the null hypothesis, indicating that the observed frequencies match the expected frequencies of a fair coin."
   ]
  },
  {
   "cell_type": "code",
   "execution_count": null,
   "id": "d9589fec-5a2b-4bef-93a5-1be6c39cbdea",
   "metadata": {},
   "outputs": [],
   "source": []
  },
  {
   "cell_type": "markdown",
   "id": "64929302-17be-440e-907c-70404478861e",
   "metadata": {},
   "source": [
    "Q9. A study was conducted to determine if there is an association between smoking status (smoker or\n",
    "non-smoker) and lung cancer diagnosis (yes or no). The results are shown in the contingency table below.\n",
    "Conduct a chi-square test for independence to determine if there is a significant association between\n",
    "smoking status and lung cancer diagnosis.\n",
    "\n",
    "                  Lung Cancer: Yes   Lung Cancer: No\n",
    "Smoker                   60                140\n",
    "Non-smoker               30                170\n",
    "\n",
    "Use a significance level of 0.05."
   ]
  },
  {
   "cell_type": "markdown",
   "id": "d0a00fab-7f29-4e14-94a4-5f638d1971cc",
   "metadata": {},
   "source": [
    "Ans--\n",
    "\n",
    "\n",
    "To conduct a chi-square test for independence between smoking status and lung cancer diagnosis, you can use the scipy.stats module in Python. Here's how you can perform the test:"
   ]
  },
  {
   "cell_type": "code",
   "execution_count": 11,
   "id": "c9e59831-e35e-4cd1-a794-afa93603f3b5",
   "metadata": {},
   "outputs": [
    {
     "name": "stdout",
     "output_type": "stream",
     "text": [
      "Chi-Square Statistic: 12.057347670250895\n",
      "P-value: 0.0005158863863703744\n",
      "Degrees of Freedom: 1\n",
      "Expected Frequencies:\n",
      " [[ 45. 155.]\n",
      " [ 45. 155.]]\n",
      "Reject the null hypothesis. There is a significant association between smoking status and lung cancer diagnosis.\n"
     ]
    }
   ],
   "source": [
    "import numpy as np\n",
    "from scipy.stats import chi2_contingency\n",
    "\n",
    "# Create the contingency table\n",
    "contingency_table = np.array([[60, 140],\n",
    "                              [30, 170]])\n",
    "\n",
    "# Perform the chi-square test for independence\n",
    "chi2_stat, p_value, dof, expected = chi2_contingency(contingency_table)\n",
    "\n",
    "# Significance level\n",
    "alpha = 0.05\n",
    "\n",
    "# Print the results\n",
    "print(\"Chi-Square Statistic:\", chi2_stat)\n",
    "print(\"P-value:\", p_value)\n",
    "print(\"Degrees of Freedom:\", dof)\n",
    "print(\"Expected Frequencies:\\n\", expected)\n",
    "\n",
    "if p_value < alpha:\n",
    "    print(\"Reject the null hypothesis. There is a significant association between smoking status and lung cancer diagnosis.\")\n",
    "else:\n",
    "    print(\"Fail to reject the null hypothesis. There is no significant association between smoking status and lung cancer diagnosis.\")"
   ]
  },
  {
   "cell_type": "markdown",
   "id": "3ddcd781-8205-45f3-8ba6-01bf601b65d3",
   "metadata": {},
   "source": [
    "In this code:\n",
    "\n",
    "- contingency_table represents the observed frequencies in the contingency table.\n",
    "- The chi2_contingency function is used to calculate the chi-square statistic, p-value, degrees of freedom, and expected frequencies.\n",
    "- The null hypothesis is that there is no association between smoking status and lung cancer diagnosis.\n",
    "- The code then compares the calculated p-value with the significance level (0.05) and prints whether to reject or fail to reject the null hypothesis.\n",
    "\n",
    "If the p-value is less than the significance level, you would reject the null hypothesis and conclude that there is a significant association between smoking status and lung cancer diagnosis. If the p-value is greater than the significance level, you would fail to reject the null hypothesis, indicating that there is no significant association between the two variables."
   ]
  },
  {
   "cell_type": "code",
   "execution_count": null,
   "id": "64e92e1d-10d7-4e16-ba61-3e16f813e04b",
   "metadata": {},
   "outputs": [],
   "source": []
  },
  {
   "cell_type": "markdown",
   "id": "4a638d22-be05-4232-9454-cf6e397d82b7",
   "metadata": {},
   "source": [
    "Q10. A study was conducted to determine if the proportion of people who prefer milk chocolate, dark\n",
    "chocolate, or white chocolate is different in the U.S. versus the U.K. A random sample of 500 people from\n",
    "the U.S. and a random sample of 500 people from the U.K. were surveyed. The results are shown in the\n",
    "contingency table below. Conduct a chi-square test for independence to determine if there is a significant\n",
    "association between chocolate preference and country of origin.\n",
    "\n",
    "Milk Chocolate\n",
    "\n",
    "U.S. (n=500) 200 150 150\n",
    "U.K. (n=500) 225 175 100\n",
    "Dark Chocolate White Chocolate\n",
    "\n",
    "Use a significance level of 0.01."
   ]
  },
  {
   "cell_type": "markdown",
   "id": "77ada1c3-6a6b-435a-8c8c-7cf5319c7d82",
   "metadata": {},
   "source": [
    "Ans--\n",
    "\n",
    "To conduct a chi-square test for independence between chocolate preference and country of origin, you can use the scipy.stats module in Python. Here's how you can perform the test:"
   ]
  },
  {
   "cell_type": "code",
   "execution_count": 12,
   "id": "6cd70793-ca08-486e-a71a-9f85fc0cb0ee",
   "metadata": {},
   "outputs": [
    {
     "name": "stdout",
     "output_type": "stream",
     "text": [
      "Chi-Square Statistic: 13.393665158371041\n",
      "P-value: 0.0012348168997745918\n",
      "Degrees of Freedom: 2\n",
      "Expected Frequencies:\n",
      " [[212.5 162.5 125. ]\n",
      " [212.5 162.5 125. ]]\n",
      "Reject the null hypothesis. There is a significant association between chocolate preference and country of origin.\n"
     ]
    }
   ],
   "source": [
    "import numpy as np\n",
    "from scipy.stats import chi2_contingency\n",
    "\n",
    "# Create the contingency table\n",
    "contingency_table = np.array([[200, 150, 150],\n",
    "                              [225, 175, 100]])\n",
    "\n",
    "# Perform the chi-square test for independence\n",
    "chi2_stat, p_value, dof, expected = chi2_contingency(contingency_table)\n",
    "\n",
    "# Significance level\n",
    "alpha = 0.01\n",
    "\n",
    "# Print the results\n",
    "print(\"Chi-Square Statistic:\", chi2_stat)\n",
    "print(\"P-value:\", p_value)\n",
    "print(\"Degrees of Freedom:\", dof)\n",
    "print(\"Expected Frequencies:\\n\", expected)\n",
    "\n",
    "if p_value < alpha:\n",
    "    print(\"Reject the null hypothesis. There is a significant association between chocolate preference and country of origin.\")\n",
    "else:\n",
    "    print(\"Fail to reject the null hypothesis. There is no significant association between chocolate preference and country of origin.\")"
   ]
  },
  {
   "cell_type": "markdown",
   "id": "c6aa0a09-cd19-4506-bf72-425bb050e758",
   "metadata": {},
   "source": [
    "In this code:\n",
    "\n",
    "- contingency_table represents the observed frequencies in the contingency table.\n",
    "- The chi2_contingency function is used to calculate the chi-square statistic, p-value, degrees of freedom, and expected frequencies.\n",
    "- The null hypothesis is that there is no association between chocolate preference and country of origin.\n",
    "- The code then compares the calculated p-value with the significance level (0.01) and prints whether to reject or fail to reject the null hypothesis.\n",
    "\n",
    "If the p-value is less than the significance level, you would reject the null hypothesis and conclude that there is a significant association between chocolate preference and country of origin. If the p-value is greater than the significance level, you would fail to reject the null hypothesis, indicating that there is no significant association between the two variables."
   ]
  },
  {
   "cell_type": "code",
   "execution_count": null,
   "id": "82fd52ec-b180-4b5f-977e-162b30bbc21a",
   "metadata": {},
   "outputs": [],
   "source": []
  },
  {
   "cell_type": "markdown",
   "id": "521d77d8-08ce-4988-ab25-8f655caaf242",
   "metadata": {},
   "source": [
    "Q11. A random sample of 30 people was selected from a population with an unknown mean and standard\n",
    "deviation. The sample mean was found to be 72 and the sample standard deviation was found to be 10.\n",
    "Conduct a hypothesis test to determine if the population mean is significantly different from 70. Use a\n",
    "significance level of 0.05."
   ]
  },
  {
   "cell_type": "markdown",
   "id": "d02d2987-dce8-45ce-8e8a-3ff534fba3e6",
   "metadata": {},
   "source": [
    "Ans--\n",
    "\n",
    "To conduct a hypothesis test for the population mean using a one-sample t-test, you can use the scipy.stats module in Python. Here's how you can perform the test:"
   ]
  },
  {
   "cell_type": "code",
   "execution_count": 13,
   "id": "127e18f6-da40-403c-b551-f24139deef8d",
   "metadata": {},
   "outputs": [
    {
     "name": "stdout",
     "output_type": "stream",
     "text": [
      "T-Statistic: 1.0954451150103321\n",
      "P-value: 0.2823362372860698\n",
      "Fail to reject the null hypothesis. There is no significant difference in the population mean from 70.\n"
     ]
    }
   ],
   "source": [
    "import scipy.stats as stats\n",
    "\n",
    "# Given data\n",
    "sample_mean = 72\n",
    "sample_stddev = 10\n",
    "sample_size = 30\n",
    "population_mean = 70\n",
    "\n",
    "# Calculate the t-statistic\n",
    "t_stat = (sample_mean - population_mean) / (sample_stddev / (sample_size ** 0.5))\n",
    "\n",
    "# Degrees of freedom for a one-sample t-test\n",
    "dof = sample_size - 1\n",
    "\n",
    "# Significance level\n",
    "alpha = 0.05\n",
    "\n",
    "# Calculate the p-value for a two-tailed test\n",
    "p_value = 2 * (1 - stats.t.cdf(abs(t_stat), df=dof))\n",
    "\n",
    "# Print the results\n",
    "print(\"T-Statistic:\", t_stat)\n",
    "print(\"P-value:\", p_value)\n",
    "\n",
    "if p_value < alpha:\n",
    "    print(\"Reject the null hypothesis. The population mean is significantly different from 70.\")\n",
    "else:\n",
    "    print(\"Fail to reject the null hypothesis. There is no significant difference in the population mean from 70.\")"
   ]
  },
  {
   "cell_type": "markdown",
   "id": "2f3be5a2-86df-45d1-bdc4-d3abfac8bced",
   "metadata": {},
   "source": [
    "In this code:\n",
    "\n",
    "- The t-statistic is calculated using the formula: (sample_mean - population_mean) / (sample_stddev / (sample_size ** 0.5)).\n",
    "The degrees of freedom (dof) for a one-sample t-test is (sample_size - 1).\n",
    "The t.cdf function is used to calculate the cumulative distribution function of the t-distribution.\n",
    "The null hypothesis is that the population mean is equal to 70.\n",
    "The code then calculates the two-tailed p-value and compares it with the significance level (0.05) to determine whether to reject or fail to reject the null hypothesis.\n",
    "If the p-value is less than the significance level, you would reject the null hypothesis and conclude that the population mean is significantly different from 70. If the p-value is greater than the significance level, you would fail to reject the null hypothesis, indicating that there is no significant difference in the population mean from 70."
   ]
  }
 ],
 "metadata": {
  "kernelspec": {
   "display_name": "Python 3 (ipykernel)",
   "language": "python",
   "name": "python3"
  },
  "language_info": {
   "codemirror_mode": {
    "name": "ipython",
    "version": 3
   },
   "file_extension": ".py",
   "mimetype": "text/x-python",
   "name": "python",
   "nbconvert_exporter": "python",
   "pygments_lexer": "ipython3",
   "version": "3.10.8"
  }
 },
 "nbformat": 4,
 "nbformat_minor": 5
}
