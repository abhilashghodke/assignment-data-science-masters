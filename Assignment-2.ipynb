{
 "cells": [
  {
   "cell_type": "markdown",
   "id": "2689fd72-13f9-484b-bdba-895a6217df4c",
   "metadata": {},
   "source": [
    "Q1. Which keyword is used to create a function? Create a function to return a list of odd numbers in the\n",
    "range of 1 to 25."
   ]
  },
  {
   "cell_type": "markdown",
   "id": "a4705969-7c8a-4f15-87d1-9346248c3f71",
   "metadata": {},
   "source": [
    "Ans = we use def keyword to create a function "
   ]
  },
  {
   "cell_type": "code",
   "execution_count": 2,
   "id": "13b7fb0d-1211-41bc-9cac-4084bdd39c4c",
   "metadata": {},
   "outputs": [
    {
     "name": "stdout",
     "output_type": "stream",
     "text": [
      "List of odd numbers: [1, 3, 5, 7, 9, 11, 13, 15, 17, 19, 21, 23, 25]\n"
     ]
    }
   ],
   "source": [
    "def get_odd_numbers(a, b):\n",
    "    odd_numbers = []\n",
    "    for num in range(a, b + 1):\n",
    "        if num % 2 != 0:\n",
    "            odd_numbers.append(num)\n",
    "    return odd_numbers\n",
    "\n",
    "# Call the function and print the result\n",
    "odd_numbers_list = get_odd_numbers(1, 25)\n",
    "print(\"List of odd numbers:\", odd_numbers_list)"
   ]
  },
  {
   "cell_type": "code",
   "execution_count": null,
   "id": "6ccc35bb-4952-441d-b385-b3ca18c9ebd8",
   "metadata": {},
   "outputs": [],
   "source": []
  },
  {
   "cell_type": "markdown",
   "id": "279ae66d-bd22-4985-8b85-f40291fb611d",
   "metadata": {},
   "source": [
    "Q2. Why *args and **kwargs is used in some functions? Create a function each for *args and **kwargs\n",
    "to demonstrate their use."
   ]
  },
  {
   "cell_type": "markdown",
   "id": "6836e0f0-a5c2-4bf0-9a70-f75b779ee7db",
   "metadata": {},
   "source": [
    "- *args stands for \"arguments\" and is used to pass a variable number\n",
    "- **kwargs stands for \"keyword arguments\" and is used to pass a variable number of keyword arguments"
   ]
  },
  {
   "cell_type": "markdown",
   "id": "9d749087-196a-42ba-a138-fd864ddd6cd2",
   "metadata": {},
   "source": [
    "Function with *args:"
   ]
  },
  {
   "cell_type": "code",
   "execution_count": 12,
   "id": "c4d44919-b6ef-494c-a065-18156c653b42",
   "metadata": {},
   "outputs": [
    {
     "name": "stdout",
     "output_type": "stream",
     "text": [
      "Arguments passed: (1, 2, 3)\n",
      "Argument: 1\n",
      "Argument: 2\n",
      "Argument: 3\n",
      "Arguments passed: ('apple', 'banana', 'cherry')\n",
      "Argument: apple\n",
      "Argument: banana\n",
      "Argument: cherry\n"
     ]
    }
   ],
   "source": [
    "def print_args(*args):\n",
    "    print(\"Arguments passed:\", args)\n",
    "    for arg in args:\n",
    "        print(\"Argument:\", arg)\n",
    "\n",
    "print_args(1, 2, 3)\n",
    "print_args('apple', 'banana', 'cherry')\n"
   ]
  },
  {
   "cell_type": "markdown",
   "id": "e2ea4e4a-1347-44cf-af53-f0f8efb404c1",
   "metadata": {},
   "source": [
    "Function with **kwargs:"
   ]
  },
  {
   "cell_type": "code",
   "execution_count": 15,
   "id": "e0130943-02e7-48be-99d8-1cf60d195dfb",
   "metadata": {},
   "outputs": [
    {
     "name": "stdout",
     "output_type": "stream",
     "text": [
      "Keyword arguments passed: {'name': 'Abhilash', 'age': 31, 'city': 'Pune'}\n",
      "name: Abhilash\n",
      "age: 31\n",
      "city: Pune\n",
      "Keyword arguments passed: {'country': 'India', 'language': 'Marathi'}\n",
      "country: India\n",
      "language: Marathi\n"
     ]
    }
   ],
   "source": [
    "def print_kwargs(**kwargs):\n",
    "    print(\"Keyword arguments passed:\", kwargs)\n",
    "    for key, value in kwargs.items():\n",
    "        print(f\"{key}: {value}\")\n",
    "\n",
    "print_kwargs(name='Abhilash', age=31, city='Pune')\n",
    "print_kwargs(country='India', language='Marathi')"
   ]
  },
  {
   "cell_type": "code",
   "execution_count": null,
   "id": "d5eb92e6-badf-48b5-adde-6354ebcad483",
   "metadata": {},
   "outputs": [],
   "source": []
  },
  {
   "cell_type": "markdown",
   "id": "629f64c5-6a91-446f-b80d-d345390d6d0d",
   "metadata": {
    "tags": []
   },
   "source": [
    "Q3. What is an iterator in python? Name the method used to initialise the iterator object and the method\n",
    "used for iteration. Use these methods to print the first five elements of the given list [2, 4, 6, 8, 10, 12, 14,\n",
    "16, 18, 20]."
   ]
  },
  {
   "cell_type": "markdown",
   "id": "83b807f6-4a85-4f96-97e2-a8d4cb20bcf5",
   "metadata": {},
   "source": [
    "Ans = An iterator in Python is an object that represents a stream of data and is used to traverse through a sequence of elements. It provides a way to access elements one by one without exposing the underlying implementation details of the sequence.\n",
    "\n",
    "The method used to initialize an iterator object is iter(), and the method used for iteration is next()."
   ]
  },
  {
   "cell_type": "code",
   "execution_count": 17,
   "id": "5740dca6-509b-47d3-af3e-ec20fef4616c",
   "metadata": {},
   "outputs": [
    {
     "name": "stdout",
     "output_type": "stream",
     "text": [
      "2\n",
      "4\n",
      "6\n",
      "8\n",
      "10\n"
     ]
    }
   ],
   "source": [
    "# Given list\n",
    "my_list = [2, 4, 6, 8, 10, 12, 14, 16, 18, 20]\n",
    "\n",
    "# Initialize the iterator\n",
    "iterator = iter(my_list)\n",
    "\n",
    "# Iterate and print the first five elements\n",
    "for _ in range(5):\n",
    "    element = next(iterator)\n",
    "    print(element)"
   ]
  },
  {
   "cell_type": "code",
   "execution_count": null,
   "id": "ea8224c4-bc96-4dbd-8a97-9b7cd59fbe2c",
   "metadata": {},
   "outputs": [],
   "source": []
  },
  {
   "cell_type": "markdown",
   "id": "b80e96c3-aab0-40fe-aa16-7903f0013fbe",
   "metadata": {},
   "source": [
    "Q4. What is a generator function in python? Why yield keyword is used? Give an example of a generator\n",
    "function."
   ]
  },
  {
   "cell_type": "markdown",
   "id": "f3f50742-c28c-4efd-a360-4bda61d93475",
   "metadata": {},
   "source": [
    "A generator function in Python is a special type of function that generates a sequence of values lazily, one at a time, and only when requested. Unlike regular functions that return a value and then exit"
   ]
  },
  {
   "cell_type": "markdown",
   "id": "033508bf-02a5-4174-b7e8-1b041066c2a9",
   "metadata": {},
   "source": [
    "The yield keyword is used in generator functions to yield a value to the caller, pause the execution of the function, and later resume execution from where it left off when the generator is asked for the next value."
   ]
  },
  {
   "cell_type": "code",
   "execution_count": 18,
   "id": "bb6d0d9d-16dc-4385-9051-8f5fb7e9810e",
   "metadata": {},
   "outputs": [
    {
     "name": "stdout",
     "output_type": "stream",
     "text": [
      "2\n",
      "4\n",
      "6\n",
      "8\n",
      "10\n"
     ]
    }
   ],
   "source": [
    "def even_numbers_generator(limit):\n",
    "    num = 2\n",
    "    while num <= limit:\n",
    "        yield num\n",
    "        num += 2\n",
    "\n",
    "# Create a generator object\n",
    "even_gen = even_numbers_generator(10)\n",
    "\n",
    "# Iterate and print even numbers\n",
    "for even_num in even_gen:\n",
    "    print(even_num)"
   ]
  },
  {
   "cell_type": "code",
   "execution_count": null,
   "id": "66a66114-22e7-4c22-a146-e8efbe73d625",
   "metadata": {},
   "outputs": [],
   "source": []
  },
  {
   "cell_type": "markdown",
   "id": "f871ffdd-75a0-49f9-a0cf-217434575caf",
   "metadata": {},
   "source": [
    "Q5. Create a generator function for prime numbers less than 1000. Use the next() method to print the\n",
    "first 20 prime numbers."
   ]
  },
  {
   "cell_type": "code",
   "execution_count": 19,
   "id": "c44ac698-8036-42c6-8399-8eb6138e877e",
   "metadata": {},
   "outputs": [
    {
     "name": "stdout",
     "output_type": "stream",
     "text": [
      "First 20 prime numbers:\n",
      "2\n",
      "3\n",
      "5\n",
      "7\n",
      "11\n",
      "13\n",
      "17\n",
      "19\n",
      "23\n",
      "29\n",
      "31\n",
      "37\n",
      "41\n",
      "43\n",
      "47\n",
      "53\n",
      "59\n",
      "61\n",
      "67\n",
      "71\n"
     ]
    }
   ],
   "source": [
    "def is_prime(num):\n",
    "    if num <= 1:\n",
    "        return False\n",
    "    if num <= 3:\n",
    "        return True\n",
    "    if num % 2 == 0 or num % 3 == 0:\n",
    "        return False\n",
    "    i = 5\n",
    "    while i * i <= num:\n",
    "        if num % i == 0 or num % (i + 2) == 0:\n",
    "            return False\n",
    "        i += 6\n",
    "    return True\n",
    "\n",
    "def prime_generator(limit):\n",
    "    num = 2\n",
    "    while num < limit:\n",
    "        if is_prime(num):\n",
    "            yield num\n",
    "        num += 1\n",
    "\n",
    "# Create a generator object for prime numbers less than 1000\n",
    "prime_gen = prime_generator(1000)\n",
    "\n",
    "# Print the first 20 prime numbers\n",
    "print(\"First 20 prime numbers:\")\n",
    "for _ in range(20):\n",
    "    prime = next(prime_gen)\n",
    "    print(prime)"
   ]
  },
  {
   "cell_type": "code",
   "execution_count": null,
   "id": "0c083ae7-81d1-43d6-a607-21c062f3b274",
   "metadata": {},
   "outputs": [],
   "source": []
  },
  {
   "cell_type": "markdown",
   "id": "c853c9fa-7388-464a-9331-72a55cd3f82a",
   "metadata": {},
   "source": [
    "Q6. Write a python program to print the first 10 Fibonacci numbers using a while loop."
   ]
  },
  {
   "cell_type": "code",
   "execution_count": 20,
   "id": "e13ad2ec-7148-46a8-8048-be931fdbf44a",
   "metadata": {},
   "outputs": [
    {
     "name": "stdout",
     "output_type": "stream",
     "text": [
      "The first 10 Fibonacci numbers:\n",
      "0\n",
      "1\n",
      "1\n",
      "2\n",
      "3\n",
      "5\n",
      "8\n",
      "13\n",
      "21\n",
      "34\n"
     ]
    }
   ],
   "source": [
    "# Function to generate Fibonacci sequence\n",
    "def fibonacci_sequence(n):\n",
    "    fib_sequence = []\n",
    "    a, b = 0, 1\n",
    "    for _ in range(n):\n",
    "        fib_sequence.append(a)\n",
    "        a, b = b, a + b\n",
    "    return fib_sequence\n",
    "\n",
    "# Get the first 10 Fibonacci numbers\n",
    "n = 10\n",
    "fibonacci_numbers = fibonacci_sequence(n)\n",
    "\n",
    "# Print the first 10 Fibonacci numbers\n",
    "print(\"The first 10 Fibonacci numbers:\")\n",
    "for num in fibonacci_numbers:\n",
    "    print(num)\n"
   ]
  },
  {
   "cell_type": "code",
   "execution_count": null,
   "id": "73afd10b-b55b-4d12-b6c0-0f7153b31179",
   "metadata": {},
   "outputs": [],
   "source": []
  },
  {
   "cell_type": "markdown",
   "id": "a6ab03ec-60cf-45bc-895a-de1c0f982ce4",
   "metadata": {},
   "source": [
    "Q7. Write a List Comprehension to iterate through the given string: ‘pwskills’.\n",
    "Expected output: ['p', 'w', 's', 'k', 'i', 'l', 'l', 's']"
   ]
  },
  {
   "cell_type": "code",
   "execution_count": 21,
   "id": "b119b361-da22-44db-bd66-d41279e67215",
   "metadata": {},
   "outputs": [
    {
     "name": "stdout",
     "output_type": "stream",
     "text": [
      "['p', 'w', 's', 'k', 'i', 'l', 'l', 's']\n"
     ]
    }
   ],
   "source": [
    "input_string = 'pwskills'\n",
    "output_list = [char for char in input_string if char in 'pwskills']\n",
    "print(output_list)"
   ]
  },
  {
   "cell_type": "code",
   "execution_count": null,
   "id": "27bd2a34-f26d-4831-96c7-8ad539a8e52f",
   "metadata": {},
   "outputs": [],
   "source": []
  },
  {
   "cell_type": "markdown",
   "id": "2a5a3292-0cab-4e66-9570-fcc5ce33a2cb",
   "metadata": {},
   "source": [
    "Q8. Write a python program to check whether a given number is Palindrome or not using a while loop."
   ]
  },
  {
   "cell_type": "code",
   "execution_count": 22,
   "id": "cba8819b-dcbd-4d7a-9043-f2ae14918ca4",
   "metadata": {},
   "outputs": [
    {
     "name": "stdin",
     "output_type": "stream",
     "text": [
      "Enter a number:  10\n"
     ]
    },
    {
     "name": "stdout",
     "output_type": "stream",
     "text": [
      "10 is not a palindrome.\n"
     ]
    }
   ],
   "source": [
    "def is_palindrome(num):\n",
    "    original_num = num\n",
    "    reversed_num = 0\n",
    "    \n",
    "    while num > 0:\n",
    "        remainder = num % 10\n",
    "        reversed_num = reversed_num * 10 + remainder\n",
    "        num //= 10\n",
    "        \n",
    "    return original_num == reversed_num\n",
    "\n",
    "# Input: a number to check for palindrome\n",
    "number = int(input(\"Enter a number: \"))\n",
    "\n",
    "if is_palindrome(number):\n",
    "    print(f\"{number} is a palindrome.\")\n",
    "else:\n",
    "    print(f\"{number} is not a palindrome.\")\n"
   ]
  },
  {
   "cell_type": "code",
   "execution_count": null,
   "id": "075507bc-c972-4736-92f2-9a222f602362",
   "metadata": {},
   "outputs": [],
   "source": []
  }
 ],
 "metadata": {
  "kernelspec": {
   "display_name": "Python 3 (ipykernel)",
   "language": "python",
   "name": "python3"
  },
  "language_info": {
   "codemirror_mode": {
    "name": "ipython",
    "version": 3
   },
   "file_extension": ".py",
   "mimetype": "text/x-python",
   "name": "python",
   "nbconvert_exporter": "python",
   "pygments_lexer": "ipython3",
   "version": "3.10.8"
  }
 },
 "nbformat": 4,
 "nbformat_minor": 5
}
