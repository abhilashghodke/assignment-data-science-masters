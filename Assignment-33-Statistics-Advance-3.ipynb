{
 "cells": [
  {
   "cell_type": "markdown",
   "id": "d4fc1512-2a6a-4761-acb0-b631a02a8af8",
   "metadata": {},
   "source": [
    "Q1: What is Estimation Statistics? Explain point estimate and interval estimate."
   ]
  },
  {
   "cell_type": "markdown",
   "id": "b1c6622f-31aa-4b04-9910-f0ce300a2f5b",
   "metadata": {},
   "source": [
    "Ans--\n",
    "\n",
    "**Estimation in Statistics:**\n",
    "\n",
    "Estimation in statistics refers to the process of estimating or approximating population parameters (such as the mean, variance, proportion, etc.) based on sample data. It involves using sample statistics to make inferences about the corresponding population parameters. Estimation is a fundamental aspect of statistical analysis and is used when it's not feasible or practical to collect data from an entire population.\n",
    "\n",
    "There are two main types of estimation: point estimation and interval estimation.\n",
    "\n",
    "**Point Estimate:**\n",
    "\n",
    "A point estimate is a single value that is used to estimate a population parameter. It's obtained from sample data and serves as a \"best guess\" for the unknown population parameter. Point estimates are calculated using sample statistics, such as the sample mean, sample proportion, or sample variance.\n",
    "\n",
    "For example, if you want to estimate the average height of a certain population based on a sample, the sample mean height would be your point estimate of the population mean height.\n",
    "\n",
    "**Interval Estimate (Confidence Interval):**\n",
    "\n",
    "An interval estimate, also known as a confidence interval, provides a range of values within which the population parameter is likely to fall with a certain level of confidence. Instead of providing a single point estimate, interval estimates give a range of values that is likely to contain the true population parameter.\n",
    "\n",
    "Interval estimates are constructed using the concept of margin of error and the properties of the sampling distribution. The level of confidence, often expressed as a percentage (e.g., 95% confidence interval), indicates how certain you are that the interval contains the true population parameter.\n",
    "\n",
    "For example, if you calculate a 95% confidence interval for the average income of a population, you are saying that you are 95% confident that the true population mean income lies within the calculated interval.\n",
    "\n",
    "In summary, estimation in statistics involves using sample data to make educated guesses about population parameters. Point estimates provide a single value as an approximation, while interval estimates give a range of values within which the parameter is likely to lie with a specified level of confidence. Both types of estimation play a crucial role in drawing conclusions and making decisions based on sample data."
   ]
  },
  {
   "cell_type": "code",
   "execution_count": null,
   "id": "8013721b-d8cc-43ac-bb4d-c1aa13309bf7",
   "metadata": {},
   "outputs": [],
   "source": []
  },
  {
   "cell_type": "markdown",
   "id": "6019a561-c3c9-4812-b113-578cbe49d81d",
   "metadata": {},
   "source": [
    "Q2. Write a Python function to estimate the population mean using a sample mean and standard\n",
    "deviation."
   ]
  },
  {
   "cell_type": "markdown",
   "id": "57236269-75d4-4f6f-8f8d-b4ed71d3ec9a",
   "metadata": {},
   "source": [
    "Ans--\n",
    "\n",
    "Here's a Python function that calculates the interval estimate (confidence interval) for the population mean given a sample mean, sample standard deviation, sample size, and desired confidence level:"
   ]
  },
  {
   "cell_type": "code",
   "execution_count": 1,
   "id": "0e92c61c-15b7-4c61-8d62-579c83892845",
   "metadata": {},
   "outputs": [
    {
     "name": "stdout",
     "output_type": "stream",
     "text": [
      "Confidence Interval: (115.7370471731644, 124.2629528268356)\n"
     ]
    }
   ],
   "source": [
    "import scipy.stats as stats\n",
    "\n",
    "def population_mean_estimate(sample_mean, sample_std_dev, sample_size, confidence_level):\n",
    "    # Calculate the critical value based on the desired confidence level\n",
    "    alpha = 1 - confidence_level\n",
    "    critical_value = stats.t.ppf(1 - alpha / 2, df=sample_size - 1)\n",
    "    \n",
    "    # Calculate the margin of error\n",
    "    margin_of_error = critical_value * (sample_std_dev / (sample_size ** 0.5))\n",
    "    \n",
    "    # Calculate the lower and upper bounds of the confidence interval\n",
    "    lower_bound = sample_mean - margin_of_error\n",
    "    upper_bound = sample_mean + margin_of_error\n",
    "    \n",
    "    # Return the confidence interval\n",
    "    return (lower_bound, upper_bound)\n",
    "\n",
    "# Example usage\n",
    "sample_mean = 120\n",
    "sample_std_dev = 15\n",
    "sample_size = 50\n",
    "confidence_level = 0.95\n",
    "\n",
    "confidence_interval = population_mean_estimate(sample_mean, sample_std_dev, sample_size, confidence_level)\n",
    "print(\"Confidence Interval:\", confidence_interval)"
   ]
  },
  {
   "cell_type": "markdown",
   "id": "c4e63120-0c8b-4111-8ec7-9d590c2a717a",
   "metadata": {},
   "source": [
    "In this example, the function population_mean_estimate calculates a confidence interval for the population mean using the t-distribution. The function takes the sample mean, sample standard deviation, sample size, and desired confidence level as inputs and returns a tuple containing the lower and upper bounds of the confidence interval. The scipy.stats.t.ppf function is used to calculate the t-critical value based on the confidence level and degrees of freedom (sample size - 1)."
   ]
  },
  {
   "cell_type": "code",
   "execution_count": null,
   "id": "8405f0db-69c6-406d-9d90-adec51a41d66",
   "metadata": {},
   "outputs": [],
   "source": []
  },
  {
   "cell_type": "markdown",
   "id": "e6f2998a-b53a-44fa-8ab5-d790d92a00e3",
   "metadata": {},
   "source": [
    "Q3: What is Hypothesis testing? Why is it used? State the importance of Hypothesis testing."
   ]
  },
  {
   "cell_type": "markdown",
   "id": "59cd32ae-892a-4cc0-8775-efa919d32b76",
   "metadata": {},
   "source": [
    "Ans--\n",
    "\n",
    "**Hypothesis Testing:**\n",
    "\n",
    "Hypothesis testing is a fundamental concept in statistics that involves making inferences about population parameters based on sample data. It's a structured process used to evaluate the validity of a claim or hypothesis about a population characteristic. The goal of hypothesis testing is to assess whether the evidence from the sample supports or contradicts the stated hypothesis.\n",
    "\n",
    "In hypothesis testing, two competing hypotheses are formulated:\n",
    "\n",
    "1. Null Hypothesis (H0): This hypothesis represents the status quo or the assumption that there is no effect or no difference. It's the hypothesis that is initially assumed to be true.\n",
    "2. Alternative Hypothesis (Ha or H1): This hypothesis represents what we're trying to find evidence for. It's often a statement that contradicts the null hypothesis and suggests that there is an effect or a difference.\n",
    "\n",
    "The process of hypothesis testing involves collecting sample data, performing statistical analysis, and making a decision about whether to reject the null hypothesis based on the evidence from the sample.\n",
    "\n",
    "**Importance of Hypothesis Testing:**\n",
    "Hypothesis testing is of paramount importance in statistics and scientific research for several reasons:\n",
    "\n",
    "1. Evidence-Based Decision Making: Hypothesis testing provides a systematic framework for making decisions based on data and evidence. It helps researchers and decision-makers evaluate claims objectively.\n",
    "\n",
    "2. Scientific Research: Hypothesis testing is the foundation of scientific research. It allows researchers to test theories, hypotheses, and predictions by analyzing empirical data.\n",
    "\n",
    "3. Inference from Sample Data: It enables researchers to draw conclusions about population parameters from a sample, even when it's not feasible to collect data from the entire population.\n",
    "\n",
    "4. Quality Control and Process Improvement: Businesses and industries use hypothesis testing to evaluate the quality of products, processes, and services. It helps identify issues and improvements.\n",
    "\n",
    "5. Medical and Pharmaceutical Fields: Hypothesis testing is used to assess the effectiveness of new treatments, medications, and interventions in medical research.\n",
    "\n",
    "6. Social Sciences: In psychology, sociology, and other social sciences, hypothesis testing is used to study human behavior, attitudes, and trends.\n",
    "\n",
    "7. Policy Making: In economics and policy-making, hypothesis testing can provide insights into the impact of policies and interventions.\n",
    "\n",
    "8. Legal and Criminal Justice: Hypothesis testing is used to analyze evidence in legal cases and assess the credibility of witnesses.\n",
    "\n",
    "9. Education: In education, hypothesis testing is used to evaluate the effectiveness of teaching methods and educational programs.\n",
    "\n",
    "Hypothesis testing ensures that decisions are made based on evidence rather than intuition or assumption. It guides researchers and decision-makers toward informed conclusions, contributes to the accumulation of scientific knowledge, and plays a critical role in various fields by facilitating the process of making objective and data-driven decisions."
   ]
  },
  {
   "cell_type": "code",
   "execution_count": null,
   "id": "a609113d-914a-45c8-9398-0a0567d67d83",
   "metadata": {},
   "outputs": [],
   "source": []
  },
  {
   "cell_type": "markdown",
   "id": "d4728272-f9ab-478a-8943-98ef47075a7c",
   "metadata": {},
   "source": [
    "Q4. Create a hypothesis that states whether the average weight of male college students is greater than\n",
    "the average weight of female college students."
   ]
  },
  {
   "cell_type": "markdown",
   "id": "161e8170-372a-4435-9ca4-0e5a29660dce",
   "metadata": {},
   "source": [
    "Ans--\n",
    "\n",
    "Null Hypothesis (H0): The average weight of male college students is not greater than the average weight of female college students.\n",
    "Alternative Hypothesis (Ha): The average weight of male college students is greater than the average weight of female college students.\n",
    "\n",
    "Symbolically:\n",
    "\n",
    "- H0: μ_male ≤ μ_female\n",
    "- Ha: μ_male > μ_female\n",
    "\n",
    "In words:\n",
    "\n",
    "- Null Hypothesis: The population mean weight of male college students is less than or equal to the population mean weight of female college students.\n",
    "- Alternative Hypothesis: The population mean weight of male college students is greater than the population mean weight of female college students.\n",
    "\n",
    "This hypothesis testing scenario could be investigated by collecting weight data from a sample of male and female college students and conducting a statistical test to determine whether the evidence supports rejecting the null hypothesis in favor of the alternative hypothesis. The test would involve calculating sample means, standard deviations, and performing appropriate statistical tests, such as t-test or z-test, to draw a conclusion about the population means."
   ]
  },
  {
   "cell_type": "code",
   "execution_count": null,
   "id": "b5524a95-0e49-4918-a158-3d0aa2200a93",
   "metadata": {},
   "outputs": [],
   "source": []
  },
  {
   "cell_type": "markdown",
   "id": "f6e6b22f-cdf0-425d-97bc-1fd761ca57cf",
   "metadata": {},
   "source": [
    "Q5. Write a Python script to conduct a hypothesis test on the difference between two population means,\n",
    "given a sample from each population."
   ]
  },
  {
   "cell_type": "markdown",
   "id": "ea825ecb-84cf-4742-8120-60aaba1f466d",
   "metadata": {},
   "source": [
    "Here's a Python script that demonstrates how to conduct a hypothesis test on the difference between two population means using a sample from each population. We'll use the t-test for independent samples as an example."
   ]
  },
  {
   "cell_type": "code",
   "execution_count": 2,
   "id": "553bda14-f8e0-471b-a991-165615a14de5",
   "metadata": {},
   "outputs": [
    {
     "name": "stdout",
     "output_type": "stream",
     "text": [
      "t-statistic: 2.0\n",
      "p-value: 0.08051623795726257\n",
      "Fail to reject the null hypothesis: The average weights are not significantly different.\n"
     ]
    }
   ],
   "source": [
    "import numpy as np\n",
    "from scipy.stats import ttest_ind\n",
    "\n",
    "# Sample data for two populations\n",
    "sample_male = np.array([70, 75, 80, 85, 90])  # Sample of male weights\n",
    "sample_female = np.array([60, 65, 70, 75, 80])  # Sample of female weights\n",
    "\n",
    "# Conduct independent t-test\n",
    "t_statistic, p_value = ttest_ind(sample_male, sample_female)\n",
    "\n",
    "# Set the significance level (alpha)\n",
    "alpha = 0.05\n",
    "\n",
    "# Print the results\n",
    "print(\"t-statistic:\", t_statistic)\n",
    "print(\"p-value:\", p_value)\n",
    "\n",
    "# Compare the p-value with the significance level\n",
    "if p_value < alpha:\n",
    "    print(\"Reject the null hypothesis: The average weights are different.\")\n",
    "else:\n",
    "    print(\"Fail to reject the null hypothesis: The average weights are not significantly different.\")"
   ]
  },
  {
   "cell_type": "markdown",
   "id": "ca5a6af9-91ed-4680-ad90-833a72cb0fe7",
   "metadata": {},
   "source": [
    "In this script:\n",
    "\n",
    "- We have two sample arrays (sample_male and sample_female) representing weights of male and female college students, respectively.\n",
    "- We use the ttest_ind function from the scipy.stats module to perform an independent t-test on the samples.\n",
    "- The t_statistic represents the calculated t-statistic, and the p_value represents the associated p-value of the test.\n",
    "- We set a significance level (alpha) of 0.05 to determine whether to reject the null hypothesis.\n",
    "- Based on the p-value, we make a decision about whether to reject the null hypothesis or fail to reject it.\n",
    "\n",
    "Keep in mind that this script assumes that the populations have equal variances. If the variances are not equal, you might need to use a modified version of the t-test (e.g., Welch's t-test) or consider other methods depending on the specific situation."
   ]
  },
  {
   "cell_type": "code",
   "execution_count": null,
   "id": "36df0857-4d1c-4b94-9aae-7ea83885704d",
   "metadata": {},
   "outputs": [],
   "source": []
  },
  {
   "cell_type": "markdown",
   "id": "dacf6c93-fd93-48ff-b8f6-e2330c6ed315",
   "metadata": {},
   "source": [
    "Q6: What is a null and alternative hypothesis? Give some examples."
   ]
  },
  {
   "cell_type": "markdown",
   "id": "1e84f889-ad5d-47cc-b717-4f261095ea91",
   "metadata": {},
   "source": [
    "Ans--\n",
    "\n",
    "\n",
    "In hypothesis testing, the null hypothesis (H0) and the alternative hypothesis (Ha) are two complementary statements that are formulated to make inferences about population parameters based on sample data. These hypotheses help guide the statistical analysis and decision-making process.\n",
    "\n",
    "**Null Hypothesis (H0):**\n",
    "The null hypothesis represents the default assumption or the status quo. It states that there is no effect, no difference, or no relationship in the population. In other words, any observed differences or effects in the sample are due to random chance or sampling variability.\n",
    "\n",
    "**Alternative Hypothesis (Ha or H1):**\n",
    "The alternative hypothesis represents what researchers aim to find evidence for. It contradicts the null hypothesis and suggests that there is an effect, a difference, or a relationship in the population that is not due to random chance.\n",
    "\n",
    "Examples of Null and Alternative Hypotheses:\n",
    "\n",
    "1. Example: Coin Toss\n",
    "\n",
    "- Null Hypothesis (H0): The coin is fair (probability of heads = probability of tails).\n",
    "- Alternative Hypothesis (Ha): The coin is not fair (probability of heads ≠ probability of tails).\n",
    "\n",
    "2. Example: Medical Treatment\n",
    "\n",
    "- Null Hypothesis (H0): The new drug is not more effective than the existing treatment.\n",
    "- Alternative Hypothesis (Ha): The new drug is more effective than the existing treatment.\n",
    "\n",
    "3. Example: Gender and Salary\n",
    "\n",
    "- Null Hypothesis (H0): There is no difference in average salary between males and females.\n",
    "- Alternative Hypothesis (Ha): There is a difference in average salary between males and females.\n",
    "\n",
    "4. Example: Customer Satisfaction\n",
    "\n",
    "- Null Hypothesis (H0): The average customer satisfaction rating is less than or equal to 3.\n",
    "- Alternative Hypothesis (Ha): The average customer satisfaction rating is greater than 3.\n",
    "\n",
    "5. Example: A/B Testing\n",
    "\n",
    "- Null Hypothesis (H0): The new website design has no effect on user engagement.\n",
    "- Alternative Hypothesis (Ha): The new website design increases user engagement.\n",
    "\n",
    "In each example, the null hypothesis represents the lack of a specific effect or difference, while the alternative hypothesis suggests the presence of the effect or difference. Hypothesis testing involves collecting data, performing statistical analysis, and making a decision about whether to reject the null hypothesis based on the evidence from the sample. The choice between the null and alternative hypotheses depends on the research question and the desired conclusion."
   ]
  },
  {
   "cell_type": "code",
   "execution_count": null,
   "id": "da9045f6-8a33-4884-98f1-fd509e2b710c",
   "metadata": {},
   "outputs": [],
   "source": []
  },
  {
   "cell_type": "markdown",
   "id": "9417e33e-edee-43c1-a592-5b7ab94ab9c5",
   "metadata": {},
   "source": [
    "Q7: Write down the steps involved in hypothesis testing."
   ]
  },
  {
   "cell_type": "markdown",
   "id": "bc3d6149-7f7e-4086-8a3c-5bcc6a7dc333",
   "metadata": {},
   "source": [
    "Ans--\n",
    "\n",
    "Hypothesis testing is a structured process used to make statistical inferences about population parameters based on sample data. The steps involved in hypothesis testing can be summarized as follows:\n",
    "\n",
    "1. Formulate Hypotheses:\n",
    "\n",
    "- Null Hypothesis (H0): State the assumption that there is no effect, no difference, or no relationship in the population.\n",
    "- Alternative Hypothesis (Ha or H1): State the opposite assumption, suggesting that there is an effect, a difference, or a relationship in the population.\n",
    "\n",
    "2. Choose Significance Level (Alpha):\n",
    "\n",
    "- Select a significance level (alpha) that represents the maximum acceptable probability of making a Type I error (rejecting the null hypothesis when it's true). Commonly used significance levels include 0.05, 0.01, and 0.10.\n",
    "\n",
    "3. Collect and Analyze Data:\n",
    "\n",
    "- Collect a sample of data that is representative of the population.\n",
    "- Calculate relevant sample statistics, such as the sample mean, sample standard deviation, and sample size.\n",
    "\n",
    "4. Conduct a Statistical Test:\n",
    "\n",
    "- Choose an appropriate statistical test based on the nature of the data and the research question. Common tests include t-test, z-test, chi-squared test, ANOVA, etc.\n",
    "- Calculate the test statistic (e.g., t-statistic, z-score, F-statistic) based on the sample data and the null hypothesis.\n",
    "\n",
    "5. Calculate the P-Value:\n",
    "\n",
    "- Calculate the p-value, which represents the probability of observing a test statistic as extreme as, or more extreme than, the one calculated from the sample data, assuming the null hypothesis is true.\n",
    "- The p-value quantifies the strength of the evidence against the null hypothesis.\n",
    "\n",
    "6. Make a Decision:\n",
    "\n",
    "- Compare the p-value to the chosen significance level (alpha).\n",
    "- If p-value < alpha: Reject the null hypothesis. There is enough evidence to support the alternative hypothesis.\n",
    "- If p-value ≥ alpha: Fail to reject the null hypothesis. The evidence is not strong enough to support the alternative hypothesis.\n",
    "\n",
    "7. Draw Conclusions:\n",
    "\n",
    "- Interpret the results in the context of the research question and the hypotheses.\n",
    "- If the null hypothesis is rejected, provide evidence for the conclusion stated in the alternative hypothesis.\n",
    "- If the null hypothesis is not rejected, state that there is insufficient evidence to support the alternative hypothesis.\n",
    "\n",
    "8. Report Results:\n",
    "\n",
    "- Present the calculated test statistic, p-value, decision, and conclusions in a clear and concise manner.\n",
    "- Provide context for the findings and implications for the research question.\n",
    "\n",
    "It's important to note that hypothesis testing requires careful consideration of factors such as sample size, assumptions of the test, and the appropriateness of the chosen statistical method. Additionally, the results of hypothesis testing should always be interpreted in conjunction with the subject matter expertise and practical implications of the research question."
   ]
  },
  {
   "cell_type": "code",
   "execution_count": null,
   "id": "44e9df8f-1c64-46b7-a889-5761b71e7a66",
   "metadata": {},
   "outputs": [],
   "source": []
  },
  {
   "cell_type": "markdown",
   "id": "6075cb88-9f7e-4174-af61-897918f0623b",
   "metadata": {},
   "source": [
    "Q8. Define p-value and explain its significance in hypothesis testing."
   ]
  },
  {
   "cell_type": "markdown",
   "id": "982898ff-c67a-4d22-841d-06937f86da93",
   "metadata": {},
   "source": [
    "Ans--\n",
    "\n",
    "The p-value, short for \"probability value,\" is a crucial concept in hypothesis testing. It quantifies the strength of the evidence against the null hypothesis by providing the probability of observing a test statistic as extreme as, or more extreme than, the one calculated from the sample data, assuming that the null hypothesis is true.\n",
    "\n",
    "**Significance of the p-value in Hypothesis Testing:**\n",
    "\n",
    "The p-value plays a central role in hypothesis testing and serves as a key criterion for making decisions about the null hypothesis. Here's how the p-value is used in hypothesis testing:\n",
    "\n",
    "1. Comparing with Significance Level (Alpha):\n",
    "\n",
    "- Before conducting a statistical test, a significance level (alpha) is chosen. It represents the maximum acceptable probability of making a Type I error (rejecting the null hypothesis when it's true).\n",
    "- After calculating the test statistic and obtaining the p-value, the p-value is compared to the significance level.\n",
    "\n",
    "2. Decision Rule:\n",
    "\n",
    "- If p-value < alpha: The p-value indicates that the observed data is unlikely to have occurred under the assumption of the null hypothesis. This suggests that the null hypothesis is unlikely to be true, and there is evidence against it. Therefore, you may choose to reject the null hypothesis in favor of the alternative hypothesis.\n",
    "- If p-value ≥ alpha: The p-value indicates that the observed data is consistent with the assumption of the null hypothesis. There is not enough evidence to reject the null hypothesis. Therefore, you may fail to reject the null hypothesis.\n",
    "\n",
    "3. Interpretation:\n",
    "\n",
    "- A small p-value (typically less than 0.05) suggests that the data is inconsistent with the null hypothesis and provides strong evidence in favor of the alternative hypothesis.\n",
    "- A large p-value suggests that the data is consistent with the null hypothesis, and any observed differences could likely be due to random chance or sampling variability.\n",
    "\n",
    "4. Level of Confidence:\n",
    "\n",
    "- The p-value provides a measure of how confidently you can draw conclusions from the data. A smaller p-value indicates higher confidence in the results.\n",
    "\n",
    "5. Subjective Judgment:\n",
    "\n",
    "- The choice of significance level (alpha) is often based on the desired balance between Type I and Type II errors and the context of the research question.\n",
    "- The interpretation of the p-value also requires subject matter expertise to understand the practical significance of the results.\n",
    "\n",
    "In summary, the p-value is a critical tool in hypothesis testing that quantifies the strength of the evidence against the null hypothesis. It guides the decision-making process by determining whether the observed data is consistent with the null hypothesis or provides sufficient evidence to reject it in favor of the alternative hypothesis."
   ]
  },
  {
   "cell_type": "code",
   "execution_count": null,
   "id": "cc35753a-8ee4-4c48-9772-212582181303",
   "metadata": {},
   "outputs": [],
   "source": []
  },
  {
   "cell_type": "markdown",
   "id": "27249150-7dca-4461-8f4a-33c97c9a79de",
   "metadata": {},
   "source": [
    "Q9. Generate a Student's t-distribution plot using Python's matplotlib library, with the degrees of freedom\n",
    "parameter set to 10."
   ]
  },
  {
   "cell_type": "markdown",
   "id": "b9458d9b-2945-4b2a-9190-b31c70c70ae4",
   "metadata": {},
   "source": [
    "Ans--\n",
    "\n",
    "Here's an example of how you can generate a Student's t-distribution plot using Python's Matplotlib library with the degrees of freedom parameter set to 10:"
   ]
  },
  {
   "cell_type": "code",
   "execution_count": 3,
   "id": "83d96935-b361-443d-b598-644a6db954ad",
   "metadata": {},
   "outputs": [
    {
     "data": {
      "image/png": "[encoded data removed]",
      "text/plain": [
       "<Figure size 1000x600 with 1 Axes>"
      ]
     },
     "metadata": {},
     "output_type": "display_data"
    }
   ],
   "source": [
    "import numpy as np\n",
    "import matplotlib.pyplot as plt\n",
    "import scipy.stats as stats\n",
    "\n",
    "# Set the degrees of freedom\n",
    "degrees_of_freedom = 10\n",
    "\n",
    "# Generate x values for the t-distribution plot\n",
    "x = np.linspace(-5, 5, 500)\n",
    "\n",
    "# Calculate the corresponding probability density function (PDF) values\n",
    "pdf_values = stats.t.pdf(x, df=degrees_of_freedom)\n",
    "\n",
    "# Create the plot\n",
    "plt.figure(figsize=(10, 6))\n",
    "plt.plot(x, pdf_values, label=f'df = {degrees_of_freedom}')\n",
    "plt.title(\"Student's t-Distribution\")\n",
    "plt.xlabel('x')\n",
    "plt.ylabel('PDF')\n",
    "plt.legend()\n",
    "plt.grid(True)\n",
    "plt.show()"
   ]
  },
  {
   "cell_type": "markdown",
   "id": "7dcc27a4-f547-483c-aa28-234f7b0d567c",
   "metadata": {},
   "source": [
    "In this example, we use the stats.t.pdf function from the scipy.stats module to calculate the probability density function (PDF) values of the Student's t-distribution for the specified degrees of freedom. We then use Matplotlib to create a plot of the t-distribution. The x values are generated using np.linspace to span a range of values from -5 to 5 for visualization purposes.\n",
    "\n",
    "Adjust the degrees_of_freedom parameter as needed to see how the t-distribution plot changes for different degrees of freedom."
   ]
  },
  {
   "cell_type": "code",
   "execution_count": null,
   "id": "38218a20-ad9e-494b-be11-10dbe049a79b",
   "metadata": {},
   "outputs": [],
   "source": []
  },
  {
   "cell_type": "markdown",
   "id": "1599c7f6-7628-4440-978e-387b30b9d0c2",
   "metadata": {},
   "source": [
    "Q10. Write a Python program to calculate the two-sample t-test for independent samples, given two\n",
    "random samples of equal size and a null hypothesis that the population means are equal."
   ]
  },
  {
   "cell_type": "markdown",
   "id": "a247b688-c0db-434b-b8a7-472629706082",
   "metadata": {},
   "source": [
    "Ans--\n",
    "\n",
    "Here's an example of how you can calculate the two-sample t-test for independent samples in Python using the scipy.stats module. This example assumes that you have two random samples of equal size and a null hypothesis that the population means are equal."
   ]
  },
  {
   "cell_type": "code",
   "execution_count": 4,
   "id": "693deb2e-b510-4227-9f3d-1e58b70ead35",
   "metadata": {},
   "outputs": [
    {
     "name": "stdout",
     "output_type": "stream",
     "text": [
      "Sample 1 mean: 48.435129364338884\n",
      "Sample 2 mean: 55.974037632690525\n",
      "t-statistic: -3.723884309797094\n",
      "p-value: 0.0003277696228940888\n",
      "Reject the null hypothesis: The population means are not equal.\n"
     ]
    }
   ],
   "source": [
    "import numpy as np\n",
    "from scipy.stats import ttest_ind\n",
    "\n",
    "# Generate two random samples of equal size\n",
    "sample1 = np.random.normal(loc=50, scale=10, size=50)\n",
    "sample2 = np.random.normal(loc=55, scale=12, size=50)\n",
    "\n",
    "# Perform two-sample t-test\n",
    "t_statistic, p_value = ttest_ind(sample1, sample2)\n",
    "\n",
    "# Set the significance level (alpha)\n",
    "alpha = 0.05\n",
    "\n",
    "# Print the results\n",
    "print(\"Sample 1 mean:\", np.mean(sample1))\n",
    "print(\"Sample 2 mean:\", np.mean(sample2))\n",
    "print(\"t-statistic:\", t_statistic)\n",
    "print(\"p-value:\", p_value)\n",
    "\n",
    "# Compare the p-value with the significance level\n",
    "if p_value < alpha:\n",
    "    print(\"Reject the null hypothesis: The population means are not equal.\")\n",
    "else:\n",
    "    print(\"Fail to reject the null hypothesis: The population means are equal.\")"
   ]
  },
  {
   "cell_type": "markdown",
   "id": "15a506dc-de2e-41a5-8e82-4760a436b2e5",
   "metadata": {},
   "source": [
    "In this example:\n",
    "\n",
    "- Two random samples (sample1 and sample2) of equal size are generated using the np.random.normal function to simulate data from two normal distributions.\n",
    "- The ttest_ind function from the scipy.stats module is used to perform the two-sample t-test for independent samples.\n",
    "- The calculated t-statistic and p-value are printed.\n",
    "- The results are interpreted based on whether the p-value is less than the chosen significance level (alpha).\n",
    "\n",
    "Remember to adjust the parameters of the np.random.normal function and the significance level as needed for your specific use case."
   ]
  },
  {
   "cell_type": "code",
   "execution_count": null,
   "id": "b73b5cfc-fe24-45e8-a1c3-b12a82130de9",
   "metadata": {},
   "outputs": [],
   "source": []
  },
  {
   "cell_type": "markdown",
   "id": "1d8faa4c-4298-4104-af3c-a56144366a2e",
   "metadata": {},
   "source": [
    "Q11: What is Student’s t distribution? When to use the t-Distribution."
   ]
  },
  {
   "cell_type": "markdown",
   "id": "36c61019-62b9-4578-a046-16d105a5e9de",
   "metadata": {},
   "source": [
    "Ans--\n",
    "\n",
    "Student's t-Distribution:\n",
    "The Student's t-distribution, often simply referred to as the t-distribution, is a probability distribution that is used in hypothesis testing, confidence interval estimation, and statistical inference. It is similar in shape to the normal distribution but has heavier tails. The t-distribution is characterized by a parameter called degrees of freedom (df), which affects the shape of the distribution.\n",
    "\n",
    "The t-distribution arises when the population standard deviation is unknown and is estimated from the sample data. It accounts for the increased uncertainty that arises from using the sample standard deviation instead of the population standard deviation.\n",
    "\n",
    "When to Use the t-Distribution:\n",
    "The t-distribution is used in situations where you are making inferences about the population mean (or the difference between population means) based on sample data and the sample standard deviation. Here are some common scenarios when the t-distribution is appropriate:\n",
    "\n",
    "1. Small Sample Sizes: When the sample size is small (typically less than 30) and the population standard deviation is unknown, the t-distribution is used to calculate probabilities related to the sample mean.\n",
    "\n",
    "2. Unknown Population Variance: When the population standard deviation is unknown and needs to be estimated from the sample, the t-distribution is used to account for the added uncertainty due to the estimation process.\n",
    "\n",
    "3. Hypothesis Testing: When performing hypothesis tests to compare sample means or to test hypotheses about population means, the t-distribution is used to calculate critical values and p-values.\n",
    "\n",
    "4. Confidence Intervals: When constructing confidence intervals for population means (or the difference between means) based on sample data, the t-distribution is used to account for the uncertainty in the estimation of the population standard deviation.\n",
    "\n",
    "5. Comparing Means: When comparing means of two independent samples, the t-distribution is used in tests such as the two-sample t-test for independent samples.\n",
    "\n",
    "It's important to note that as the sample size increases, the t-distribution approaches the normal distribution. When the sample size is large (typically greater than 30) and the population standard deviation is known, the normal distribution can often be used instead of the t-distribution.\n",
    "\n",
    "In summary, the t-distribution is a probability distribution that accounts for the uncertainty introduced when estimating the population standard deviation from sample data. It is used in situations involving small sample sizes, unknown population variance, hypothesis testing, and constructing confidence intervals."
   ]
  },
  {
   "cell_type": "code",
   "execution_count": null,
   "id": "84178c9d-3b8a-457b-913f-82cb3d96ba53",
   "metadata": {},
   "outputs": [],
   "source": []
  },
  {
   "cell_type": "markdown",
   "id": "945997ef-23c3-4d07-a831-14cbc6c5baa0",
   "metadata": {},
   "source": [
    "Q12: What is t-statistic? State the formula for t-statistic."
   ]
  },
  {
   "cell_type": "markdown",
   "id": "1559dc02-1f7f-4b6c-86a6-b4827badab58",
   "metadata": {},
   "source": [
    "Ans--\n",
    "\n",
    "The t-statistic (also known as the t-score) is a test statistic that measures the difference between a sample statistic (such as the sample mean) and a population parameter (such as the population mean), normalized by the standard error of the sample statistic. The t-statistic is a key component in hypothesis testing and is used to determine whether the observed difference between the sample and population is statistically significant.\n",
    "\n",
    "The formula for calculating the t-statistic depends on the context of its use. Here are two common scenarios:\n",
    "\n",
    "Scenario 1: One-sample t-test\n",
    "When conducting a one-sample t-test to test a hypothesis about the population mean based on a single sample, the formula for the t-statistic is:\n",
    "\n",
    "\n",
    "Where:\n",
    "\n",
    "- Sample Mean: The mean of the sample.\n",
    "- Population Mean: The hypothesized population mean under the null hypothesis.\n",
    "- Sample Standard Deviation: The standard deviation of the sample.\n",
    "- Sample Size: The size of the sample.\n",
    "\n",
    "Scenario 2: Two-sample t-test for Independent Samples\n",
    "When conducting a two-sample t-test to compare the means of two independent samples, the formula for the t-statistic is:\n",
    "    \n",
    "Where:\n",
    "\n",
    "- Difference in Sample Means: The difference between the means of the two samples.\n",
    "- Pooled Standard Error: A measure of the variability of the sample means, calculated based on the standard deviations and sample sizes of the two samples.\n",
    "\n",
    "The t-statistic follows a t-distribution with a certain number of degrees of freedom, which depends on the sample size and the specific scenario being tested. The t-distribution accounts for the variability introduced by estimating population parameters from sample data.\n",
    "\n",
    "In hypothesis testing, the t-statistic is used to calculate the p-value associated with the observed data, which helps determine whether the observed difference is statistically significant. If the calculated t-statistic is sufficiently large (or small), it suggests that the observed difference is unlikely to have occurred by random chance, leading to a rejection of the null hypothesis."
   ]
  },
  {
   "cell_type": "code",
   "execution_count": null,
   "id": "fdd8db5b-2460-4464-9650-c02440123f23",
   "metadata": {},
   "outputs": [],
   "source": []
  },
  {
   "cell_type": "markdown",
   "id": "54ef55ec-2325-4f89-bbcb-d06d2f214d2f",
   "metadata": {},
   "source": [
    "Q13. A coffee shop owner wants to estimate the average daily revenue for their shop. They take a random\n",
    "sample of 50 days and find the sample mean revenue to be $500 with a standard deviation of $50.\n",
    "Estimate the population mean revenue with a 95% confidence interval."
   ]
  },
  {
   "cell_type": "markdown",
   "id": "200e1e08-b2a2-4b56-a8c5-b5533b9c5e0f",
   "metadata": {},
   "source": [
    "Ans--\n",
    "\n",
    "To estimate the population mean revenue with a 95% confidence interval, you can use the formula for the confidence interval for the mean when the population standard deviation is known. Since you have a sample mean, sample standard deviation, sample size, and a desired confidence level, you can calculate the confidence interval as follows:\n",
    "\n",
    "Given:\n",
    "- Sample mean (\\( \\bar{x} \\)) = $500\n",
    "- Sample standard deviation (\\( s \\)) = $50\n",
    "- Sample size (\\( n \\)) = 50\n",
    "- Confidence level = 95% (which corresponds to \\( \\alpha = 0.05 \\))\n",
    "\n",
    "The formula for the confidence interval for the population mean (\\( \\mu \\)) is:\n",
    "\n",
    "\\[ \\text{Confidence Interval} = \\bar{x} \\pm Z \\cdot \\frac{s}{\\sqrt{n}} \\]\n",
    "\n",
    "Where:\n",
    "- \\( Z \\) is the z-score associated with the desired confidence level (\\( Z = Z_{\\alpha/2} \\))\n",
    "- \\( s \\) is the sample standard deviation\n",
    "- \\( n \\) is the sample size\n",
    "\n",
    "For a 95% confidence level, \\( \\alpha = 0.05 \\) and \\( Z_{\\alpha/2} \\) is the z-score corresponding to the upper tail of \\( \\alpha/2 \\), which is 0.975."
   ]
  },
  {
   "cell_type": "code",
   "execution_count": 5,
   "id": "27cfae7d-b1d7-493c-a59d-71fe001ec8b8",
   "metadata": {},
   "outputs": [
    {
     "name": "stdout",
     "output_type": "stream",
     "text": [
      "95% Confidence Interval: $486.14 to $513.86\n"
     ]
    }
   ],
   "source": [
    "import scipy.stats as stats\n",
    "\n",
    "# Given data\n",
    "sample_mean = 500\n",
    "sample_std_dev = 50\n",
    "sample_size = 50\n",
    "confidence_level = 0.95\n",
    "\n",
    "# Calculate the z-score for the upper tail\n",
    "alpha = 1 - confidence_level\n",
    "z_score = stats.norm.ppf(1 - alpha / 2)\n",
    "\n",
    "# Calculate the margin of error\n",
    "margin_of_error = z_score * (sample_std_dev / (sample_size ** 0.5))\n",
    "\n",
    "# Calculate the lower and upper bounds of the confidence interval\n",
    "lower_bound = sample_mean - margin_of_error\n",
    "upper_bound = sample_mean + margin_of_error\n",
    "\n",
    "# Print the confidence interval\n",
    "print(f\"95% Confidence Interval: ${lower_bound:.2f} to ${upper_bound:.2f}\")"
   ]
  },
  {
   "cell_type": "code",
   "execution_count": null,
   "id": "800a8ad9-956a-4bb3-9349-05baaad2b8f8",
   "metadata": {},
   "outputs": [],
   "source": []
  },
  {
   "cell_type": "markdown",
   "id": "81cfeb3f-2745-4e3f-8f7d-21480a1f18e6",
   "metadata": {},
   "source": [
    "Q14. A researcher hypothesizes that a new drug will decrease blood pressure by 10 mmHg. They conduct a\n",
    "clinical trial with 100 patients and find that the sample mean decrease in blood pressure is 8 mmHg with a\n",
    "standard deviation of 3 mmHg. Test the hypothesis with a significance level of 0.05."
   ]
  },
  {
   "cell_type": "markdown",
   "id": "c43c8298-5b6a-4396-8692-0e51fd1748bc",
   "metadata": {},
   "source": [
    "Ans--\n",
    "\n",
    "To test the hypothesis regarding the decrease in blood pressure, you can perform a one-sample t-test since you are comparing the sample mean to a hypothesized population mean (the decrease of 10 mmHg). Here are the steps to conduct the hypothesis test:\n",
    "\n",
    "Given:\n",
    "- Sample mean (\\( \\bar{x} \\)) = 8 mmHg\n",
    "- Sample standard deviation (\\( s \\)) = 3 mmHg\n",
    "- Sample size (\\( n \\)) = 100\n",
    "- Hypothesized population mean (\\( \\mu_0 \\)) = 10 mmHg\n",
    "- Significance level (\\( \\alpha \\)) = 0.05\n",
    "\n",
    "**Step 1: Formulate Hypotheses:**\n",
    "- Null Hypothesis (\\( H_0 \\)): The new drug does not decrease blood pressure by 10 mmHg (\\( \\mu = \\mu_0 \\)).\n",
    "- Alternative Hypothesis (\\( H_a \\)): The new drug decreases blood pressure by more than 10 mmHg (\\( \\mu < \\mu_0 \\)).\n",
    "\n",
    "**Step 2: Calculate the Test Statistic:**\n",
    "The formula for the t-statistic for a one-sample t-test is:\n",
    "\n",
    "\\[ t = \\frac{\\bar{x} - \\mu_0}{\\frac{s}{\\sqrt{n}}} \\]\n",
    "\n",
    "Substitute the given values:\n",
    "\n",
    "\\[ t = \\frac{8 - 10}{\\frac{3}{\\sqrt{100}}} \\]\n",
    "\n",
    "Calculate \\( t \\):\n",
    "\n",
    "\\[ t = \\frac{-2}{0.3} = -6.67 \\]\n",
    "\n",
    "**Step 3: Calculate the p-value:**\n",
    "Using the t-distribution and the calculated t-statistic, find the p-value associated with the observed data.\n",
    "\n",
    "**Step 4: Make a Decision:**\n",
    "Compare the p-value to the significance level. If the p-value is less than \\( \\alpha \\), reject the null hypothesis.\n",
    "\n",
    "**Step 5: Draw Conclusions:**\n",
    "If the p-value is less than \\( \\alpha \\), conclude that there is enough evidence to support the claim that the new drug decreases blood pressure by more than 10 mmHg.\n",
    "\n",
    "In Python, you can calculate the p-value using the `scipy.stats.t.cdf` function and make the decision based on the significance level. Here's an example:"
   ]
  },
  {
   "cell_type": "code",
   "execution_count": 8,
   "id": "94482325-cc71-4e78-a2a7-9c3c0fc8ec56",
   "metadata": {},
   "outputs": [
    {
     "name": "stdout",
     "output_type": "stream",
     "text": [
      "Reject the null hypothesis: The new drug decreases blood pressure.\n"
     ]
    }
   ],
   "source": [
    "import numpy as np\n",
    "import scipy.stats as stats\n",
    "\n",
    "# Given data\n",
    "sample_mean = 8\n",
    "sample_std_dev = 3\n",
    "sample_size = 100\n",
    "hypothesized_mean = 10\n",
    "alpha = 0.05\n",
    "\n",
    "# Calculate the t-statistic\n",
    "t_statistic = (sample_mean - hypothesized_mean) / (sample_std_dev / np.sqrt(sample_size))\n",
    "\n",
    "# Calculate the p-value (left-tailed)\n",
    "p_value = stats.t.cdf(t_statistic, df=sample_size - 1)\n",
    "\n",
    "# Make a decision\n",
    "if p_value < alpha:\n",
    "    print(\"Reject the null hypothesis: The new drug decreases blood pressure.\")\n",
    "else:\n",
    "    print(\"Fail to reject the null hypothesis: The new drug does not decrease blood pressure.\")"
   ]
  },
  {
   "cell_type": "code",
   "execution_count": null,
   "id": "6177ab25-a3e6-4cc9-a13f-15345a332c61",
   "metadata": {},
   "outputs": [],
   "source": []
  },
  {
   "cell_type": "markdown",
   "id": "44df6adf-0f23-475c-966b-5b0edaffd4e1",
   "metadata": {},
   "source": [
    "Q15. An electronics company produces a certain type of product with a mean weight of 5 pounds and a\n",
    "standard deviation of 0.5 pounds. A random sample of 25 products is taken, and the sample mean weight\n",
    "is found to be 4.8 pounds. Test the hypothesis that the true mean weight of the products is less than 5\n",
    "pounds with a significance level of 0.01."
   ]
  },
  {
   "cell_type": "markdown",
   "id": "875b2988-933d-4923-961e-a0159fc5e72e",
   "metadata": {},
   "source": [
    "Ans--\n",
    "\n",
    "To test the hypothesis regarding the mean weight of the products, you can perform a one-sample t-test for a population mean. You are testing whether the true mean weight is less than 5 pounds. Here are the steps to conduct the hypothesis test:\n",
    "\n",
    "Given:\n",
    "- Sample mean (\\( \\bar{x} \\)) = 4.8 pounds\n",
    "- Sample standard deviation (\\( s \\)) = Unknown (using the sample standard deviation)\n",
    "- Sample size (\\( n \\)) = 25\n",
    "- Hypothesized population mean (\\( \\mu_0 \\)) = 5 pounds\n",
    "- Significance level (\\( \\alpha \\)) = 0.01\n",
    "\n",
    "**Step 1: Formulate Hypotheses:**\n",
    "- Null Hypothesis (\\( H_0 \\)): The true mean weight of the products is 5 pounds (\\( \\mu = \\mu_0 \\)).\n",
    "- Alternative Hypothesis (\\( H_a \\)): The true mean weight of the products is less than 5 pounds (\\( \\mu < \\mu_0 \\)).\n",
    "\n",
    "**Step 2: Calculate the Test Statistic:**\n",
    "The formula for the t-statistic for a one-sample t-test is:\n",
    "\n",
    "\\[ t = \\frac{\\bar{x} - \\mu_0}{\\frac{s}{\\sqrt{n}}} \\]\n",
    "\n",
    "Substitute the given values:\n",
    "\n",
    "\\[ t = \\frac{4.8 - 5}{\\frac{s}{\\sqrt{25}}} \\]\n",
    "\n",
    "Calculate \\( t \\):\n",
    "\n",
    "\\[ t = \\frac{-0.2}{\\frac{s}{5}} \\]\n",
    "\n",
    "**Step 3: Calculate the Degrees of Freedom:**\n",
    "The degrees of freedom (\\( df \\)) for the t-distribution is \\( n - 1 \\).\n",
    "\n",
    "**Step 4: Calculate the p-value:**\n",
    "Using the t-distribution and the calculated t-statistic and degrees of freedom, find the p-value associated with the observed data.\n",
    "\n",
    "**Step 5: Make a Decision:**\n",
    "Compare the p-value to the significance level. If the p-value is less than \\( \\alpha \\), reject the null hypothesis.\n",
    "\n",
    "**Step 6: Draw Conclusions:**\n",
    "If the p-value is less than \\( \\alpha \\), conclude that there is enough evidence to support the claim that the true mean weight of the products is less than 5 pounds.\n",
    "\n",
    "In Python, you can calculate the p-value using the `scipy.stats.t.cdf` function and make the decision based on the significance level. Here's an example:"
   ]
  },
  {
   "cell_type": "code",
   "execution_count": 9,
   "id": "e1d8d5ea-416b-478e-b687-16e4de24b691",
   "metadata": {},
   "outputs": [
    {
     "name": "stdout",
     "output_type": "stream",
     "text": [
      "Fail to reject the null hypothesis: The true mean weight is not less than 5 pounds.\n"
     ]
    }
   ],
   "source": [
    "import numpy as np\n",
    "import scipy.stats as stats\n",
    "\n",
    "# Given data\n",
    "sample_mean = 4.8\n",
    "sample_size = 25\n",
    "hypothesized_mean = 5\n",
    "alpha = 0.01\n",
    "\n",
    "# Calculate the degrees of freedom\n",
    "df = sample_size - 1\n",
    "\n",
    "# Calculate the t-statistic\n",
    "t_statistic = (sample_mean - hypothesized_mean) / (sample_std_dev / np.sqrt(sample_size))\n",
    "\n",
    "# Calculate the p-value (left-tailed)\n",
    "p_value = stats.t.cdf(t_statistic, df=df)\n",
    "\n",
    "# Make a decision\n",
    "if p_value < alpha:\n",
    "    print(\"Reject the null hypothesis: The true mean weight is less than 5 pounds.\")\n",
    "else:\n",
    "    print(\"Fail to reject the null hypothesis: The true mean weight is not less than 5 pounds.\")"
   ]
  },
  {
   "cell_type": "code",
   "execution_count": null,
   "id": "c56fc649-ad67-4d61-b4b8-aa4833d9df99",
   "metadata": {},
   "outputs": [],
   "source": []
  },
  {
   "cell_type": "markdown",
   "id": "55f8d8f1-836a-4683-ad90-ff2a90089664",
   "metadata": {},
   "source": [
    "Q16. Two groups of students are given different study materials to prepare for a test. The first group (n1 =\n",
    "30) has a mean score of 80 with a standard deviation of 10, and the second group (n2 = 40) has a mean\n",
    "score of 75 with a standard deviation of 8. Test the hypothesis that the population means for the two\n",
    "groups are equal with a significance level of 0.01."
   ]
  },
  {
   "cell_type": "markdown",
   "id": "d512d59c-ffb4-4809-9716-a1e365b20cb6",
   "metadata": {},
   "source": [
    "Ans--\n",
    "\n",
    "To test the hypothesis that the population means for the two groups are equal, you can perform a two-sample t-test for independent samples. Here are the steps to conduct the hypothesis test:\n",
    "\n",
    "Given:\n",
    "- Sample mean (\\( \\bar{x}_1 \\)) for Group 1 = 80\n",
    "- Sample standard deviation (\\( s_1 \\)) for Group 1 = 10\n",
    "- Sample size (\\( n_1 \\)) for Group 1 = 30\n",
    "\n",
    "- Sample mean (\\( \\bar{x}_2 \\)) for Group 2 = 75\n",
    "- Sample standard deviation (\\( s_2 \\)) for Group 2 = 8\n",
    "- Sample size (\\( n_2 \\)) for Group 2 = 40\n",
    "\n",
    "- Significance level (\\( \\alpha \\)) = 0.01\n",
    "\n",
    "**Step 1: Formulate Hypotheses:**\n",
    "- Null Hypothesis (\\( H_0 \\)): The population means for the two groups are equal (\\( \\mu_1 = \\mu_2 \\)).\n",
    "- Alternative Hypothesis (\\( H_a \\)): The population means for the two groups are not equal (\\( \\mu_1 \\neq \\mu_2 \\)).\n",
    "\n",
    "**Step 2: Calculate the Test Statistic:**\n",
    "The formula for the two-sample t-statistic is:\n",
    "\n",
    "\\[ t = \\frac{\\bar{x}_1 - \\bar{x}_2}{\\sqrt{\\frac{s_1^2}{n_1} + \\frac{s_2^2}{n_2}}} \\]\n",
    "\n",
    "Substitute the given values:\n",
    "\n",
    "\\[ t = \\frac{80 - 75}{\\sqrt{\\frac{10^2}{30} + \\frac{8^2}{40}}} \\]\n",
    "\n",
    "Calculate \\( t \\):\n",
    "\n",
    "\\[ t = \\frac{5}{\\sqrt{\\frac{100}{30} + \\frac{64}{40}}} \\]\n",
    "\n",
    "**Step 3: Calculate the Degrees of Freedom:**\n",
    "The degrees of freedom (\\( df \\)) for the t-distribution is calculated using the formula:\n",
    "\n",
    "\\[ df = \\frac{\\left(\\frac{s_1^2}{n_1} + \\frac{s_2^2}{n_2}\\right)^2}{\\frac{(s_1^2/n_1)^2}{n_1 - 1} + \\frac{(s_2^2/n_2)^2}{n_2 - 1}} \\]\n",
    "\n",
    "**Step 4: Calculate the p-value:**\n",
    "Using the t-distribution and the calculated t-statistic and degrees of freedom, find the p-value associated with the observed data.\n",
    "\n",
    "**Step 5: Make a Decision:**\n",
    "Compare the p-value to the significance level. If the p-value is less than \\( \\alpha \\), reject the null hypothesis.\n",
    "\n",
    "**Step 6: Draw Conclusions:**\n",
    "If the p-value is less than \\( \\alpha \\), conclude that there is enough evidence to support the claim that the population means for the two groups are not equal.\n",
    "\n",
    "In Python, you can calculate the p-value using the scipy.stats.t.cdf function and make the decision based on the significance level. Here's an example:"
   ]
  },
  {
   "cell_type": "code",
   "execution_count": 10,
   "id": "7d01ab72-2ade-4327-973a-073a07d1d3ca",
   "metadata": {},
   "outputs": [
    {
     "name": "stdout",
     "output_type": "stream",
     "text": [
      "Fail to reject the null hypothesis: The population means for the two groups are equal.\n"
     ]
    }
   ],
   "source": [
    "import numpy as np\n",
    "import scipy.stats as stats\n",
    "\n",
    "# Given data for Group 1\n",
    "sample_mean1 = 80\n",
    "sample_std_dev1 = 10\n",
    "sample_size1 = 30\n",
    "\n",
    "# Given data for Group 2\n",
    "sample_mean2 = 75\n",
    "sample_std_dev2 = 8\n",
    "sample_size2 = 40\n",
    "\n",
    "# Significance level\n",
    "alpha = 0.01\n",
    "\n",
    "# Calculate the t-statistic\n",
    "t_statistic = (sample_mean1 - sample_mean2) / np.sqrt((sample_std_dev1**2 / sample_size1) + (sample_std_dev2**2 / sample_size2))\n",
    "\n",
    "# Calculate the degrees of freedom\n",
    "df = ((sample_std_dev1**2 / sample_size1) + (sample_std_dev2**2 / sample_size2))**2 / (((sample_std_dev1**2 / sample_size1)**2) / (sample_size1 - 1) + ((sample_std_dev2**2 / sample_size2)**2) / (sample_size2 - 1))\n",
    "\n",
    "# Calculate the p-value (two-tailed)\n",
    "p_value = 2 * (1 - stats.t.cdf(np.abs(t_statistic), df=df))\n",
    "\n",
    "# Make a decision\n",
    "if p_value < alpha:\n",
    "    print(\"Reject the null hypothesis: The population means for the two groups are not equal.\")\n",
    "else:\n",
    "    print(\"Fail to reject the null hypothesis: The population means for the two groups are equal.\")"
   ]
  },
  {
   "cell_type": "code",
   "execution_count": null,
   "id": "0f9c7621-f3c7-470e-9c70-67d70797c98e",
   "metadata": {},
   "outputs": [],
   "source": []
  },
  {
   "cell_type": "markdown",
   "id": "e84613cc-cb48-4505-9e0d-28d40c1c4eef",
   "metadata": {},
   "source": [
    "Q17. A marketing company wants to estimate the average number of ads watched by viewers during a TV\n",
    "program. They take a random sample of 50 viewers and find that the sample mean is 4 with a standard\n",
    "deviation of 1.5. Estimate the population mean with a 99% confidence interval."
   ]
  },
  {
   "cell_type": "code",
   "execution_count": null,
   "id": "c7b3cad1-35d1-465e-b417-595b7bcbee60",
   "metadata": {},
   "outputs": [],
   "source": [
    "Ans--\n",
    "\n",
    "To estimate the population mean with a 99% confidence interval, you can use the formula for the confidence interval for the mean when the population standard deviation is unknown. Since you have a sample mean, sample standard deviation, sample size, and a desired confidence level, you can calculate the confidence interval as follows:\n",
    "\n",
    "Given:\n",
    "- Sample mean (\\( \\bar{x} \\)) = 4\n",
    "- Sample standard deviation (\\( s \\)) = 1.5\n",
    "- Sample size (\\( n \\)) = 50\n",
    "- Confidence level = 99% (which corresponds to \\( \\alpha = 0.01 \\))\n",
    "\n",
    "The formula for the confidence interval for the population mean (\\( \\mu \\)) is:\n",
    "\n",
    "\\[ \\text{Confidence Interval} = \\bar{x} \\pm t_{\\alpha/2} \\cdot \\frac{s}{\\sqrt{n}} \\]\n",
    "\n",
    "Where:\n",
    "- \\( t_{\\alpha/2} \\) is the t-score associated with the desired confidence level (\\( t_{\\alpha/2} = t_{0.005} \\) for a two-tailed test).\n",
    "- \\( s \\) is the sample standard deviation.\n",
    "- \\( n \\) is the sample size.\n",
    "\n",
    "The degrees of freedom (\\( df \\)) for the t-distribution is \\( n - 1 \\).\n",
    "\n",
    "Let's calculate the confidence interval using Python:\n",
    "\n",
    "```python\n",
    "import numpy as np\n",
    "import scipy.stats as stats\n",
    "\n",
    "# Given data\n",
    "sample_mean = 4\n",
    "sample_std_dev = 1.5\n",
    "sample_size = 50\n",
    "confidence_level = 0.99\n",
    "\n",
    "# Calculate the degrees of freedom\n",
    "df = sample_size - 1\n",
    "\n",
    "# Calculate the t-score for the upper and lower tails\n",
    "alpha = 1 - confidence_level\n",
    "t_score = stats.t.ppf(1 - alpha / 2, df=df)\n",
    "\n",
    "# Calculate the margin of error\n",
    "margin_of_error = t_score * (sample_std_dev / (sample_size ** 0.5))\n",
    "\n",
    "# Calculate the lower and upper bounds of the confidence interval\n",
    "lower_bound = sample_mean - margin_of_error\n",
    "upper_bound = sample_mean + margin_of_error\n",
    "\n",
    "# Print the confidence interval\n",
    "print(f\"99% Confidence Interval: {lower_bound:.2f} to {upper_bound:.2f}\")\n",
    "```\n",
    "\n",
    "Running this code will output the 99% confidence interval for the average number of ads watched by viewers during the TV program."
   ]
  }
 ],
 "metadata": {
  "kernelspec": {
   "display_name": "Python 3 (ipykernel)",
   "language": "python",
   "name": "python3"
  },
  "language_info": {
   "codemirror_mode": {
    "name": "ipython",
    "version": 3
   },
   "file_extension": ".py",
   "mimetype": "text/x-python",
   "name": "python",
   "nbconvert_exporter": "python",
   "pygments_lexer": "ipython3",
   "version": "3.10.8"
  }
 },
 "nbformat": 4,
 "nbformat_minor": 5
}
