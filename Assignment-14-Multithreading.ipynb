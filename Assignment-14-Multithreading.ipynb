{
 "cells": [
  {
   "cell_type": "markdown",
   "id": "97681f83-79cb-45ad-9fed-4ace02754197",
   "metadata": {},
   "source": [
    "Q1. what is multithreading in python? hy is it used? Name the module used to handle threads in python"
   ]
  },
  {
   "cell_type": "markdown",
   "id": "e927aac4-fd23-4bc4-b0b9-200bb8217570",
   "metadata": {},
   "source": [
    "Ans--\n",
    "\n",
    "Multithreading in Python:\n",
    "\n",
    "Multithreading in Python refers to the concurrent execution of multiple threads within a single process. A thread is a small unit of a process that can run independently and share resources, such as memory space, with other threads within the same process. Multithreading allows for concurrent execution of tasks, which can improve the utilization of available CPU cores and enhance the performance of certain types of applications.\n",
    "\n",
    "Why Multithreading is Used:\n",
    "\n",
    "Multithreading is used to achieve several goals:\n",
    "\n",
    "1. Concurrency: Multithreading allows multiple tasks to be executed concurrently, improving the overall responsiveness of an application by allowing it to perform multiple tasks simultaneously.\n",
    "\n",
    "2. Utilization of CPU Cores: In a multi-core CPU, multithreading can lead to efficient utilization of available CPU cores, enabling parallel processing and potentially speeding up CPU-bound tasks.\n",
    "\n",
    "3. Asynchronous Operations: Threads can be used to perform non-blocking asynchronous operations, such as handling I/O operations like reading/writing files or making network requests, without blocking the main thread's execution.\n",
    "\n",
    "4. Background Tasks: Multithreading is useful for running background tasks while the main program continues to run, which can be beneficial for tasks like data processing, monitoring, or periodic updates.\n",
    "\n",
    "5. Parallelism: Some tasks can be parallelized, meaning they can be broken down into smaller subtasks that can be executed simultaneously. Multithreading facilitates this parallelism, leading to improved efficiency.\n",
    "\n",
    "Module for Handling Threads:\n",
    "\n",
    "Python provides the built-in threading module to handle threads. The threading module offers a higher-level interface for working with threads compared to the lower-level thread module. It provides a way to create, manage, and synchronize threads, as well as handle common multithreading scenarios such as sharing data between threads and managing thread execution.\n",
    "\n",
    "Here's an example of using the threading module to create and run threads:"
   ]
  },
  {
   "cell_type": "code",
   "execution_count": 1,
   "id": "ec9e70c8-75ad-4994-a672-cad659c4f3bd",
   "metadata": {},
   "outputs": [
    {
     "name": "stdout",
     "output_type": "stream",
     "text": [
      "Number: 1\n",
      "Number: 2\n",
      "Number: 3\n",
      "Number: 4\n",
      "Number: 5\n",
      "Letter: a\n",
      "Letter: b\n",
      "Letter: c\n",
      "Letter: d\n",
      "Letter: e\n",
      "Threads finished\n"
     ]
    }
   ],
   "source": [
    "import threading\n",
    "\n",
    "def print_numbers():\n",
    "    for i in range(1, 6):\n",
    "        print(\"Number:\", i)\n",
    "\n",
    "def print_letters():\n",
    "    for letter in 'abcde':\n",
    "        print(\"Letter:\", letter)\n",
    "\n",
    "# Create two threads\n",
    "thread1 = threading.Thread(target=print_numbers)\n",
    "thread2 = threading.Thread(target=print_letters)\n",
    "\n",
    "# Start the threads\n",
    "thread1.start()\n",
    "thread2.start()\n",
    "\n",
    "# Wait for both threads to finish\n",
    "thread1.join()\n",
    "thread2.join()\n",
    "\n",
    "print(\"Threads finished\")"
   ]
  },
  {
   "cell_type": "markdown",
   "id": "87968be2-7669-4f2f-bae3-12718917717e",
   "metadata": {},
   "source": [
    "In this example, two threads are created using the Thread class from the threading module. The start() method initiates the threads, and the join() method waits for both threads to complete their execution before the program continues."
   ]
  },
  {
   "cell_type": "code",
   "execution_count": null,
   "id": "330749ef-7a87-4762-a6cf-be0589f875c4",
   "metadata": {},
   "outputs": [],
   "source": []
  },
  {
   "cell_type": "markdown",
   "id": "351b6f71-39ff-4ac5-a863-7cc95597713d",
   "metadata": {},
   "source": [
    "Q2. Why threading module used? rite the use of the following functions:\n",
    "\n",
    "1. activeCount()\n",
    "2. currentThread()\n",
    "3. enumerate()"
   ]
  },
  {
   "cell_type": "markdown",
   "id": "d7e4e852-d945-4aa7-8f48-014317fb3d38",
   "metadata": {},
   "source": [
    "Ans--\n",
    "\n",
    "The threading module in Python is used to create and manage threads, allowing for concurrent execution of tasks within a single process. It provides a higher-level interface for working with threads compared to the lower-level thread module. The threading module offers functions and classes that help you create, manage, synchronize, and control threads efficiently.\n",
    "\n",
    "Here are the uses of the mentioned functions from the threading module:\n",
    "\n",
    "1. activeCount():\n",
    "The activeCount() function returns the number of Thread objects currently alive. These are the threads that have been created but have not yet finished executing. It can help you keep track of the active threads in your program."
   ]
  },
  {
   "cell_type": "code",
   "execution_count": 2,
   "id": "56bba9d9-14bd-4633-8029-7a986887df09",
   "metadata": {},
   "outputs": [
    {
     "name": "stdout",
     "output_type": "stream",
     "text": [
      "Active threads: 8\n"
     ]
    },
    {
     "name": "stderr",
     "output_type": "stream",
     "text": [
      "/tmp/ipykernel_114/2451450444.py:12: DeprecationWarning: activeCount() is deprecated, use active_count() instead\n",
      "  print(\"Active threads:\", threading.activeCount())\n"
     ]
    }
   ],
   "source": [
    "import threading\n",
    "\n",
    "def my_function():\n",
    "    pass\n",
    "\n",
    "thread1 = threading.Thread(target=my_function)\n",
    "thread2 = threading.Thread(target=my_function)\n",
    "\n",
    "thread1.start()\n",
    "thread2.start()\n",
    "\n",
    "print(\"Active threads:\", threading.activeCount())"
   ]
  },
  {
   "cell_type": "markdown",
   "id": "03692115-6b74-4023-b8a7-991c193d0425",
   "metadata": {},
   "source": [
    "2. currentThread():\n",
    "The currentThread() function returns the current Thread object, representing the thread from which the function is called. This is useful for identifying the thread that's executing the code at any given moment."
   ]
  },
  {
   "cell_type": "code",
   "execution_count": 3,
   "id": "8d5971b8-0d8d-45f6-9e57-3b757d5aebe9",
   "metadata": {},
   "outputs": [
    {
     "name": "stdout",
     "output_type": "stream",
     "text": [
      "Current thread: Thread-9 (my_function)\n",
      "Current thread: Thread-10 (my_function)\n"
     ]
    },
    {
     "name": "stderr",
     "output_type": "stream",
     "text": [
      "/tmp/ipykernel_114/17473953.py:4: DeprecationWarning: currentThread() is deprecated, use current_thread() instead\n",
      "  print(\"Current thread:\", threading.currentThread().getName())\n",
      "/tmp/ipykernel_114/17473953.py:4: DeprecationWarning: getName() is deprecated, get the name attribute instead\n",
      "  print(\"Current thread:\", threading.currentThread().getName())\n"
     ]
    }
   ],
   "source": [
    "import threading\n",
    "\n",
    "def my_function():\n",
    "    print(\"Current thread:\", threading.currentThread().getName())\n",
    "\n",
    "thread1 = threading.Thread(target=my_function)\n",
    "thread2 = threading.Thread(target=my_function)\n",
    "\n",
    "thread1.start()\n",
    "thread2.start()"
   ]
  },
  {
   "cell_type": "markdown",
   "id": "45885bb7-ccd1-42a8-9ebe-e123f518a5bc",
   "metadata": {},
   "source": [
    "3. enumerate():\n",
    "The enumerate() function returns a list of all Thread objects currently alive. It provides a way to get a list of the active threads in your program, allowing you to perform operations on them."
   ]
  },
  {
   "cell_type": "code",
   "execution_count": 4,
   "id": "e0f1cbb4-0423-491a-846c-25485464a7dc",
   "metadata": {},
   "outputs": [
    {
     "name": "stdout",
     "output_type": "stream",
     "text": [
      "Active threads: [<_MainThread(MainThread, started 140513231079232)>, <Thread(IOPub, started daemon 140513160549952)>, <Heartbeat(Heartbeat, started daemon 140513152157248)>, <Thread(Thread-3 (_watch_pipe_fd), started daemon 140512925308480)>, <Thread(Thread-4 (_watch_pipe_fd), started daemon 140512916915776)>, <ControlThread(Control, started daemon 140512908523072)>, <HistorySavingThread(IPythonHistorySavingThread, started 140512900130368)>, <ParentPollerUnix(Thread-2, started daemon 140512890689088)>]\n"
     ]
    }
   ],
   "source": [
    "import threading\n",
    "\n",
    "def my_function():\n",
    "    pass\n",
    "\n",
    "thread1 = threading.Thread(target=my_function)\n",
    "thread2 = threading.Thread(target=my_function)\n",
    "\n",
    "thread1.start()\n",
    "thread2.start()\n",
    "\n",
    "threads = threading.enumerate()\n",
    "print(\"Active threads:\", threads)"
   ]
  },
  {
   "cell_type": "markdown",
   "id": "e28dad4b-865e-41b4-bc2f-723a25cf7f31",
   "metadata": {},
   "source": [
    "These functions are helpful for managing and inspecting threads within a multithreaded application. They allow you to gather information about active threads, control their execution, and make decisions based on thread status."
   ]
  },
  {
   "cell_type": "code",
   "execution_count": null,
   "id": "6705afb9-9be2-4655-aab9-6a357466b45b",
   "metadata": {},
   "outputs": [],
   "source": []
  },
  {
   "cell_type": "markdown",
   "id": "edc61d16-2daf-4f3f-b8f5-21a1af2f1feb",
   "metadata": {},
   "source": [
    "Q3. Explain the following functions:\n",
    "\n",
    "1. run()\n",
    "2. start()\n",
    "3. join()\n",
    "4. isAlive()"
   ]
  },
  {
   "cell_type": "markdown",
   "id": "79548268-7d20-4ca1-a164-c35a8a740977",
   "metadata": {},
   "source": [
    "Ans--\n",
    "\n",
    "Here's an explanation of the mentioned functions from the threading module:\n",
    "\n",
    "1. run():\n",
    "The run() method is not directly used in the threading module. Instead, it's typically overridden in a subclass of the Thread class to specify the code that should be executed when the thread is started. The run() method contains the actual logic that the thread will execute. When you call the start() method on a Thread object, it internally calls the run() method of that thread's target function.\n",
    "\n",
    "Example:"
   ]
  },
  {
   "cell_type": "code",
   "execution_count": 5,
   "id": "fbc3e781-0dc5-48a8-a640-532ddda089fe",
   "metadata": {},
   "outputs": [
    {
     "name": "stdout",
     "output_type": "stream",
     "text": [
      "Thread started\n"
     ]
    }
   ],
   "source": [
    "import threading\n",
    "\n",
    "class MyThread(threading.Thread):\n",
    "    def run(self):\n",
    "        print(\"Thread started\")\n",
    "\n",
    "my_thread = MyThread()\n",
    "my_thread.start()"
   ]
  },
  {
   "cell_type": "markdown",
   "id": "e31ae2ec-814c-4953-ae6e-d5863078eda1",
   "metadata": {},
   "source": [
    "2. start():\n",
    "The start() method is used to start the execution of a thread. When you call this method on a Thread object, it creates a new operating system thread and invokes the run() method of the thread's target function. The start() method returns immediately, and the thread runs concurrently with the rest of the program.\n",
    "\n",
    "Example:"
   ]
  },
  {
   "cell_type": "code",
   "execution_count": 6,
   "id": "dbb28e6a-6520-4477-84fd-67e913ed6af6",
   "metadata": {},
   "outputs": [
    {
     "name": "stdout",
     "output_type": "stream",
     "text": [
      "Thread started\n"
     ]
    }
   ],
   "source": [
    "import threading\n",
    "\n",
    "def my_function():\n",
    "    print(\"Thread started\")\n",
    "\n",
    "my_thread = threading.Thread(target=my_function)\n",
    "my_thread.start()"
   ]
  },
  {
   "cell_type": "markdown",
   "id": "93025fe6-29d1-4ecd-9429-d041c69ccad8",
   "metadata": {},
   "source": [
    "3. join():\n",
    "The join() method is used to wait for a thread to complete its execution before the program continues. When you call join() on a Thread object, the program will block and wait until that thread finishes executing. This is useful when you want to ensure that certain threads complete their execution before proceeding with the rest of the program.\n",
    "\n",
    "Example:"
   ]
  },
  {
   "cell_type": "code",
   "execution_count": 7,
   "id": "a236c223-3ae4-4f20-b313-9e6d37d9f3df",
   "metadata": {},
   "outputs": [
    {
     "name": "stdout",
     "output_type": "stream",
     "text": [
      "Thread started\n",
      "Thread finished\n"
     ]
    }
   ],
   "source": [
    "import threading\n",
    "\n",
    "def my_function():\n",
    "    print(\"Thread started\")\n",
    "\n",
    "my_thread = threading.Thread(target=my_function)\n",
    "my_thread.start()\n",
    "\n",
    "# Wait for the thread to finish\n",
    "my_thread.join()\n",
    "\n",
    "print(\"Thread finished\")"
   ]
  },
  {
   "cell_type": "markdown",
   "id": "eb4d5219-3c5a-4773-a896-d418378609b1",
   "metadata": {},
   "source": [
    "4. isAlive():\n",
    "The isAlive() method is used to check whether a thread is still running or has completed its execution. It returns True if the thread is still active and running, and False if it has finished executing.\n",
    "\n",
    "Example:"
   ]
  },
  {
   "cell_type": "code",
   "execution_count": null,
   "id": "ed69f493-1701-4bb6-9bef-fa6e1bcde4e0",
   "metadata": {},
   "outputs": [],
   "source": [
    "import threading\n",
    "import time\n",
    "\n",
    "def my_function():\n",
    "    time.sleep(2)\n",
    "    print(\"Thread finished\")\n",
    "\n",
    "my_thread = threading.Thread(target=my_function)\n",
    "my_thread.start()\n",
    "\n",
    "# Check if the thread is still running\n",
    "if my_thread.isAlive():\n",
    "    print(\"Thread is still running\")\n",
    "else:\n",
    "    print(\"Thread has finished\")"
   ]
  },
  {
   "cell_type": "markdown",
   "id": "80a1f3eb-5c30-4e6b-9164-ac5c0f450f1b",
   "metadata": {},
   "source": [
    "These functions and methods provide the necessary tools for creating, starting, controlling, and managing threads in Python using the threading module."
   ]
  },
  {
   "cell_type": "code",
   "execution_count": null,
   "id": "bd75218f-5d7e-4b53-933e-49a050dd06d4",
   "metadata": {},
   "outputs": [],
   "source": []
  },
  {
   "cell_type": "markdown",
   "id": "0183210c-ad2d-461b-b1bf-55305ec7fe23",
   "metadata": {},
   "source": [
    "Q4. Write a python program to create two threads. Thread one must print the list of squares and thread\n",
    "two must print the list of cubes"
   ]
  },
  {
   "cell_type": "markdown",
   "id": "86bb2972-4ec4-4cb4-8e3c-ed4cb0000b8e",
   "metadata": {},
   "source": [
    "Ans--\n",
    "\n",
    "here's a Python program that creates two threads to print lists of squares and cubes:"
   ]
  },
  {
   "cell_type": "code",
   "execution_count": 9,
   "id": "77a7764d-c77f-4579-bd55-1c0f68312df6",
   "metadata": {},
   "outputs": [
    {
     "name": "stdout",
     "output_type": "stream",
     "text": [
      "Square of 1: 1\n",
      "Square of 2: 4\n",
      "Square of 3: 9\n",
      "Square of 4: 16\n",
      "Square of 5: 25\n",
      "Cube of 1: 1\n",
      "Cube of 2: 8\n",
      "Cube of 3: 27\n",
      "Cube of 4: 64\n",
      "Cube of 5: 125\n",
      "Threads finished\n"
     ]
    }
   ],
   "source": [
    "import threading\n",
    "\n",
    "def print_squares():\n",
    "    for i in range(1, 6):\n",
    "        print(f\"Square of {i}: {i ** 2}\")\n",
    "\n",
    "def print_cubes():\n",
    "    for i in range(1, 6):\n",
    "        print(f\"Cube of {i}: {i ** 3}\")\n",
    "\n",
    "# Create two threads\n",
    "thread1 = threading.Thread(target=print_squares)\n",
    "thread2 = threading.Thread(target=print_cubes)\n",
    "\n",
    "# Start the threads\n",
    "thread1.start()\n",
    "thread2.start()\n",
    "\n",
    "# Wait for both threads to finish\n",
    "thread1.join()\n",
    "thread2.join()\n",
    "\n",
    "print(\"Threads finished\")"
   ]
  },
  {
   "cell_type": "markdown",
   "id": "394685d5-3a75-4a08-8632-bfc58d3a3a77",
   "metadata": {},
   "source": [
    "In this program, two threads are created using the Thread class from the threading module. Each thread is assigned a target function: print_squares for thread1 and print_cubes for thread2. The start() method is used to start both threads, and the join() method is used to wait for their completion before printing \"Threads finished\". The output will show the lists of squares and cubes printed by the two threads."
   ]
  },
  {
   "cell_type": "code",
   "execution_count": null,
   "id": "781e8583-c1ad-472d-acde-f982743227b8",
   "metadata": {},
   "outputs": [],
   "source": []
  },
  {
   "cell_type": "markdown",
   "id": "6ff96830-0cb4-445b-a247-78e44b6e2fe6",
   "metadata": {},
   "source": [
    "Q5. State advantages and disadvantages of multithreading"
   ]
  },
  {
   "cell_type": "markdown",
   "id": "13ede66c-78a3-46c0-80e2-caf55ac4f270",
   "metadata": {},
   "source": [
    "Ans--\n",
    "\n",
    "Multithreading offers several advantages and disadvantages, depending on the context in which it's used. Here are some of the key advantages and disadvantages of multithreading:\n",
    "\n",
    "Advantages of Multithreading:\n",
    "\n",
    "1. Concurrency: Multithreading allows multiple tasks to be executed concurrently, improving the overall responsiveness of an application by allowing it to perform multiple tasks simultaneously.\n",
    "\n",
    "2. Resource Sharing: Threads within the same process can share data and resources, leading to efficient communication and coordination between tasks.\n",
    "\n",
    "3. Efficient CPU Utilization: In a multi-core CPU, multithreading can lead to better utilization of available CPU cores, enabling parallel processing and potentially speeding up CPU-bound tasks.\n",
    "\n",
    "4. Asynchronous Operations: Threads can be used to perform non-blocking asynchronous operations, such as handling I/O operations, without blocking the main thread's execution.\n",
    "\n",
    "5. Parallelism: Multithreading is particularly useful for tasks that can be parallelized, allowing different threads to work on different parts of a larger task simultaneously.\n",
    "\n",
    "6. Responsiveness: Multithreading can help maintain the responsiveness of applications involving I/O-bound operations, such as user input or network communication.\n",
    "\n",
    "Disadvantages of Multithreading:\n",
    "\n",
    "1. Complexity: Multithreading introduces complexity due to potential race conditions, deadlocks, and synchronization issues. Debugging and maintaining multithreaded code can be challenging.\n",
    "\n",
    "2. Resource Contentions: Threads sharing resources can lead to resource contention and conflicts, resulting in performance degradation and unexpected behavior.\n",
    "\n",
    "3. Synchronization Overhead: Synchronizing access to shared resources adds overhead, which can reduce the benefits of parallelism if synchronization is not managed well.\n",
    "\n",
    "4. Difficult Debugging: Debugging multithreaded applications can be more complex than debugging single-threaded ones due to non-deterministic behavior and timing-dependent issues.\n",
    "\n",
    "5. Portability: Multithreading behavior might vary across different operating systems and hardware, leading to portability issues.\n",
    "\n",
    "6. Scalability: While multithreading can enhance performance for certain tasks, adding more threads doesn't always lead to linear performance improvement, and overhead can outweigh the benefits for small tasks.\n",
    "\n",
    "7. Limited Python Global Interpreter Lock (GIL): In CPython (the most common implementation of Python), the Global Interpreter Lock (GIL) restricts the execution of multiple threads in the same process to one thread at a time, limiting the full potential of multicore processors for CPU-bound tasks.\n",
    "\n",
    "The decision to use multithreading should be based on the specific requirements and characteristics of the application. Careful consideration and proper design are necessary to harness the benefits while mitigating the challenges associated with multithreading."
   ]
  },
  {
   "cell_type": "code",
   "execution_count": null,
   "id": "410ebc1d-9f2f-440d-a7b4-4f847e9327ec",
   "metadata": {},
   "outputs": [],
   "source": []
  },
  {
   "cell_type": "markdown",
   "id": "d0e77bce-5b4d-4cd4-bb56-d32e69a16bed",
   "metadata": {},
   "source": [
    "Q6. Explain deadlocks and race conditions."
   ]
  },
  {
   "cell_type": "markdown",
   "id": "61a3266e-453f-43be-a510-c93a8209f570",
   "metadata": {},
   "source": [
    "Ans--\n",
    "\n",
    "Deadlocks:\n",
    "\n",
    "A deadlock is a situation that occurs in a multithreaded or multiprocess environment where two or more threads or processes are unable to proceed because each is waiting for the other(s) to release a resource. In other words, a deadlock occurs when two or more threads are stuck in a cycle of waiting for resources that will never be released. Deadlocks can lead to a complete standstill in a program's execution.\n",
    "\n",
    "Consider a classic example of a deadlock involving two threads and two resources:\n",
    "\n",
    "- Thread A acquires Resource 1 and requests Resource 2.\n",
    "- Thread B acquires Resource 2 and requests Resource 1.\n",
    "\n",
    "If both threads acquire their initial resources and then request the resource held by the other thread, a circular wait situation arises, leading to a deadlock. Neither thread can proceed because they are each waiting for a resource that the other thread is holding.\n",
    "\n",
    "Race Conditions:\n",
    "\n",
    "A race condition occurs when the behavior of a program depends on the relative timing of events, such as the interleaving of multiple threads or processes accessing shared resources. It arises when two or more threads access shared resources concurrently, and at least one of them modifies the resource's state. The result of the program becomes unpredictable because the outcome depends on the timing of thread execution.\n",
    "\n",
    "Race conditions can lead to incorrect or unexpected behavior, data corruption, or even program crashes. They are challenging to debug and reproduce because they depend on subtle timing differences.\n",
    "\n",
    "Consider a simple race condition example involving two threads incrementing a shared counter:\n",
    "\n",
    "Thread A reads the counter value (e.g., 5).\n",
    "Thread B reads the counter value (still 5).\n",
    "Thread A increments the counter and stores the new value (6).\n",
    "Thread B increments the counter and stores the new value (6), overwriting the change made by Thread A.\n",
    "In this case, the final value of the counter is 6, but both threads incremented it, leading to data inconsistency.\n",
    "\n",
    "To prevent race conditions and deadlocks, proper synchronization mechanisms, such as locks, semaphores, and mutexes, must be used. These mechanisms ensure that only one thread at a time can access a shared resource and that resources are released when no longer needed, avoiding circular dependencies that cause deadlocks. Careful design and consideration of the execution flow are crucial to avoid race conditions and ensure thread safety in multithreaded programs."
   ]
  }
 ],
 "metadata": {
  "kernelspec": {
   "display_name": "Python 3 (ipykernel)",
   "language": "python",
   "name": "python3"
  },
  "language_info": {
   "codemirror_mode": {
    "name": "ipython",
    "version": 3
   },
   "file_extension": ".py",
   "mimetype": "text/x-python",
   "name": "python",
   "nbconvert_exporter": "python",
   "pygments_lexer": "ipython3",
   "version": "3.10.8"
  }
 },
 "nbformat": 4,
 "nbformat_minor": 5
}
