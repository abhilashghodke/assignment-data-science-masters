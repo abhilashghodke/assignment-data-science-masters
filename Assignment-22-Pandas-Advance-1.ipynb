{
 "cells": [
  {
   "cell_type": "markdown",
   "id": "375b92c7-e776-413b-8c95-dbeec85ae382",
   "metadata": {},
   "source": [
    "Q1. List any five functions of the pandas library with execution."
   ]
  },
  {
   "cell_type": "markdown",
   "id": "96ad186c-a4cf-48ef-904c-6fa79ea3d0cd",
   "metadata": {},
   "source": [
    "Ans--\n",
    "\n",
    "Here are five commonly used functions from the Pandas library along with their execution examples:\n",
    "\n",
    "1. read_csv(): Used to read CSV (Comma-Separated Values) files and create a DataFrame."
   ]
  },
  {
   "cell_type": "code",
   "execution_count": 4,
   "id": "f5c050e8-743a-41fd-810c-3bcc3539f434",
   "metadata": {},
   "outputs": [],
   "source": [
    "import pandas as pd\n",
    "\n",
    "# Read a CSV file and create a DataFrame\n",
    "df = pd.read_csv(\"https://raw.githubusercontent.com/datasciencedojo/datasets/master/titanic.csv\")"
   ]
  },
  {
   "cell_type": "markdown",
   "id": "f57c072a-e55f-41b9-ba55-79201fd5dd90",
   "metadata": {},
   "source": [
    "2. head(): Displays the first few rows of a DataFrame."
   ]
  },
  {
   "cell_type": "code",
   "execution_count": 5,
   "id": "a89e32be-2f0a-4136-8389-039ec91e3c0d",
   "metadata": {},
   "outputs": [
    {
     "data": {
      "text/html": [
       "<div>\n",
       "<style scoped>\n",
       "    .dataframe tbody tr th:only-of-type {\n",
       "        vertical-align: middle;\n",
       "    }\n",
       "\n",
       "    .dataframe tbody tr th {\n",
       "        vertical-align: top;\n",
       "    }\n",
       "\n",
       "    .dataframe thead th {\n",
       "        text-align: right;\n",
       "    }\n",
       "</style>\n",
       "<table border=\"1\" class=\"dataframe\">\n",
       "  <thead>\n",
       "    <tr style=\"text-align: right;\">\n",
       "      <th></th>\n",
       "      <th>PassengerId</th>\n",
       "      <th>Survived</th>\n",
       "      <th>Pclass</th>\n",
       "      <th>Name</th>\n",
       "      <th>Sex</th>\n",
       "      <th>Age</th>\n",
       "      <th>SibSp</th>\n",
       "      <th>Parch</th>\n",
       "      <th>Ticket</th>\n",
       "      <th>Fare</th>\n",
       "      <th>Cabin</th>\n",
       "      <th>Embarked</th>\n",
       "    </tr>\n",
       "  </thead>\n",
       "  <tbody>\n",
       "    <tr>\n",
       "      <th>0</th>\n",
       "      <td>1</td>\n",
       "      <td>0</td>\n",
       "      <td>3</td>\n",
       "      <td>Braund, Mr. Owen Harris</td>\n",
       "      <td>male</td>\n",
       "      <td>22.0</td>\n",
       "      <td>1</td>\n",
       "      <td>0</td>\n",
       "      <td>A/5 21171</td>\n",
       "      <td>7.2500</td>\n",
       "      <td>NaN</td>\n",
       "      <td>S</td>\n",
       "    </tr>\n",
       "    <tr>\n",
       "      <th>1</th>\n",
       "      <td>2</td>\n",
       "      <td>1</td>\n",
       "      <td>1</td>\n",
       "      <td>Cumings, Mrs. John Bradley (Florence Briggs Th...</td>\n",
       "      <td>female</td>\n",
       "      <td>38.0</td>\n",
       "      <td>1</td>\n",
       "      <td>0</td>\n",
       "      <td>PC 17599</td>\n",
       "      <td>71.2833</td>\n",
       "      <td>C85</td>\n",
       "      <td>C</td>\n",
       "    </tr>\n",
       "    <tr>\n",
       "      <th>2</th>\n",
       "      <td>3</td>\n",
       "      <td>1</td>\n",
       "      <td>3</td>\n",
       "      <td>Heikkinen, Miss. Laina</td>\n",
       "      <td>female</td>\n",
       "      <td>26.0</td>\n",
       "      <td>0</td>\n",
       "      <td>0</td>\n",
       "      <td>STON/O2. 3101282</td>\n",
       "      <td>7.9250</td>\n",
       "      <td>NaN</td>\n",
       "      <td>S</td>\n",
       "    </tr>\n",
       "    <tr>\n",
       "      <th>3</th>\n",
       "      <td>4</td>\n",
       "      <td>1</td>\n",
       "      <td>1</td>\n",
       "      <td>Futrelle, Mrs. Jacques Heath (Lily May Peel)</td>\n",
       "      <td>female</td>\n",
       "      <td>35.0</td>\n",
       "      <td>1</td>\n",
       "      <td>0</td>\n",
       "      <td>113803</td>\n",
       "      <td>53.1000</td>\n",
       "      <td>C123</td>\n",
       "      <td>S</td>\n",
       "    </tr>\n",
       "    <tr>\n",
       "      <th>4</th>\n",
       "      <td>5</td>\n",
       "      <td>0</td>\n",
       "      <td>3</td>\n",
       "      <td>Allen, Mr. William Henry</td>\n",
       "      <td>male</td>\n",
       "      <td>35.0</td>\n",
       "      <td>0</td>\n",
       "      <td>0</td>\n",
       "      <td>373450</td>\n",
       "      <td>8.0500</td>\n",
       "      <td>NaN</td>\n",
       "      <td>S</td>\n",
       "    </tr>\n",
       "  </tbody>\n",
       "</table>\n",
       "</div>"
      ],
      "text/plain": [
       "   PassengerId  Survived  Pclass  \\\n",
       "0            1         0       3   \n",
       "1            2         1       1   \n",
       "2            3         1       3   \n",
       "3            4         1       1   \n",
       "4            5         0       3   \n",
       "\n",
       "                                                Name     Sex   Age  SibSp  \\\n",
       "0                            Braund, Mr. Owen Harris    male  22.0      1   \n",
       "1  Cumings, Mrs. John Bradley (Florence Briggs Th...  female  38.0      1   \n",
       "2                             Heikkinen, Miss. Laina  female  26.0      0   \n",
       "3       Futrelle, Mrs. Jacques Heath (Lily May Peel)  female  35.0      1   \n",
       "4                           Allen, Mr. William Henry    male  35.0      0   \n",
       "\n",
       "   Parch            Ticket     Fare Cabin Embarked  \n",
       "0      0         A/5 21171   7.2500   NaN        S  \n",
       "1      0          PC 17599  71.2833   C85        C  \n",
       "2      0  STON/O2. 3101282   7.9250   NaN        S  \n",
       "3      0            113803  53.1000  C123        S  \n",
       "4      0            373450   8.0500   NaN        S  "
      ]
     },
     "execution_count": 5,
     "metadata": {},
     "output_type": "execute_result"
    }
   ],
   "source": [
    "df.head()"
   ]
  },
  {
   "cell_type": "markdown",
   "id": "9235dc12-1d7d-417c-824d-10e7874abd90",
   "metadata": {},
   "source": [
    "3. groupby(): Groups data based on a column and allows applying aggregate functions."
   ]
  },
  {
   "cell_type": "code",
   "execution_count": 6,
   "id": "fae206a5-00a2-4a01-8d6c-81eb985e5ebe",
   "metadata": {},
   "outputs": [
    {
     "name": "stdout",
     "output_type": "stream",
     "text": [
      "Name\n",
      "Alice     26.5\n",
      "Bob       30.0\n",
      "Claire    27.0\n",
      "Name: Age, dtype: float64\n"
     ]
    }
   ],
   "source": [
    "import pandas as pd\n",
    "\n",
    "data = {'Name': ['Alice', 'Bob', 'Claire', 'Bob', 'Alice'],\n",
    "        'Age': [25, 30, 27, 30, 28]}\n",
    "\n",
    "df = pd.DataFrame(data)\n",
    "\n",
    "# Group by 'Name' and calculate the mean age for each name\n",
    "grouped = df.groupby('Name')['Age'].mean()\n",
    "print(grouped)"
   ]
  },
  {
   "cell_type": "markdown",
   "id": "ba31ed46-b0ba-42ea-87f8-74e9ee406a55",
   "metadata": {},
   "source": [
    "4. fillna(): Fills missing values in a DataFrame with specified values or methods."
   ]
  },
  {
   "cell_type": "code",
   "execution_count": 7,
   "id": "66a135e2-819a-4f9f-91b8-0202d7830f7c",
   "metadata": {},
   "outputs": [
    {
     "name": "stdout",
     "output_type": "stream",
     "text": [
      "     A    B\n",
      "0  1.0  5.0\n",
      "1  2.0  0.0\n",
      "2  0.0  0.0\n",
      "3  4.0  8.0\n"
     ]
    }
   ],
   "source": [
    "import pandas as pd\n",
    "import numpy as np\n",
    "\n",
    "data = {'A': [1, 2, np.nan, 4],\n",
    "        'B': [5, np.nan, np.nan, 8]}\n",
    "\n",
    "df = pd.DataFrame(data)\n",
    "\n",
    "# Fill missing values with 0\n",
    "filled_df = df.fillna(0)\n",
    "print(filled_df)"
   ]
  },
  {
   "cell_type": "markdown",
   "id": "06beddf5-069e-4de8-a5fd-0ac2d92e05af",
   "metadata": {},
   "source": [
    "5. pivot_table(): Creates a pivot table from a DataFrame, allowing you to summarize and aggregate data."
   ]
  },
  {
   "cell_type": "code",
   "execution_count": 8,
   "id": "a2727879-8c45-4649-9d37-38b7b6beeb4c",
   "metadata": {},
   "outputs": [
    {
     "name": "stdout",
     "output_type": "stream",
     "text": [
      "              Age\n",
      "Gender           \n",
      "Female  26.666667\n",
      "Male    30.000000\n"
     ]
    }
   ],
   "source": [
    "import pandas as pd\n",
    "\n",
    "data = {'Name': ['Alice', 'Bob', 'Alice', 'Bob', 'Claire'],\n",
    "        'Age': [25, 30, 28, 30, 27],\n",
    "        'Gender': ['Female', 'Male', 'Female', 'Male', 'Female']}\n",
    "\n",
    "df = pd.DataFrame(data)\n",
    "\n",
    "# Create a pivot table showing average age by gender\n",
    "pivot_table = df.pivot_table(values='Age', index='Gender', aggfunc='mean')\n",
    "print(pivot_table)"
   ]
  },
  {
   "cell_type": "markdown",
   "id": "7b4bb55f-d663-4e45-bf1c-d37457c2b9f4",
   "metadata": {},
   "source": [
    "These examples showcase how you can use different Pandas functions to read data, manipulate it, aggregate it, and perform various data analysis tasks."
   ]
  },
  {
   "cell_type": "code",
   "execution_count": null,
   "id": "c381d876-1324-4644-8c2b-dd26f46f4c03",
   "metadata": {},
   "outputs": [],
   "source": []
  },
  {
   "cell_type": "markdown",
   "id": "0e0c3f7e-44be-4967-afac-061bd1b723ad",
   "metadata": {},
   "source": [
    "Q2. Given a Pandas DataFrame df with columns 'A', 'B', and 'C', write a Python function to re-index the\n",
    "DataFrame with a new index that starts from 1 and increments by 2 for each row."
   ]
  },
  {
   "cell_type": "markdown",
   "id": "018330eb-4932-4cea-b1dc-88180d5adfbf",
   "metadata": {},
   "source": [
    "Ans--\n",
    "\n",
    "You can achieve this by using the reset_index() function along with the set_index() function in Pandas. Here's a Python function that takes a DataFrame as input and re-indexes it as described:\n",
    "\n",
    "In this example, the reindex_dataframe() function takes a DataFrame df as input. It creates a new index using pd.RangeIndex() with the specified start, stop, and step values to generate an index starting from 1 and incrementing by 2 for each row. The function then resets the existing index using reset_index(drop=True) and sets the new index using set_index(new_index). Finally, the re-indexed DataFrame is returned.\n",
    "\n",
    "The output will show the DataFrame with the new index:"
   ]
  },
  {
   "cell_type": "code",
   "execution_count": 10,
   "id": "419d36c5-e20e-41df-bbef-47ab9f5bca57",
   "metadata": {},
   "outputs": [
    {
     "name": "stdout",
     "output_type": "stream",
     "text": [
      "    A   B   C\n",
      "1  10  40  70\n",
      "3  20  50  80\n",
      "5  30  60  90\n"
     ]
    }
   ],
   "source": [
    "import pandas as pd\n",
    "\n",
    "def reindex_dataframe(df):\n",
    "    new_index = pd.RangeIndex(start=1, stop=len(df) * 2, step=2)\n",
    "    new_df = df.reset_index(drop=True).set_index(new_index)\n",
    "    return new_df\n",
    "\n",
    "# Example DataFrame\n",
    "data = {'A': [10, 20, 30],\n",
    "        'B': [40, 50, 60],\n",
    "        'C': [70, 80, 90]}\n",
    "\n",
    "df = pd.DataFrame(data)\n",
    "\n",
    "# Re-index the DataFrame\n",
    "new_df = reindex_dataframe(df)\n",
    "print(new_df)"
   ]
  },
  {
   "cell_type": "code",
   "execution_count": null,
   "id": "cf7cce0b-6507-40f1-b949-def3e7b4a081",
   "metadata": {},
   "outputs": [],
   "source": []
  },
  {
   "cell_type": "markdown",
   "id": "e24131a9-c4a2-4738-8291-28ebce9ba090",
   "metadata": {},
   "source": [
    "Q3. You have a Pandas DataFrame df with a column named 'Values'. Write a Python function that\n",
    "iterates over the DataFrame and calculates the sum of the first three values in the 'Values' column. The\n",
    "function should print the sum to the console.\n",
    "\n",
    "For example, if the 'Values' column of df contains the values [10, 20, 30, 40, 50], your function should\n",
    "calculate and print the sum of the first three values, which is 60."
   ]
  },
  {
   "cell_type": "markdown",
   "id": "4f2694ed-0eb1-4824-b57b-5207eea6e9fe",
   "metadata": {},
   "source": [
    "Ans--\n",
    "\n",
    "Here's a Python function that accomplishes the task of iterating over the DataFrame and calculating the sum of the first three values in the 'Values' column:\n",
    "\n",
    "python\n",
    "Copy"
   ]
  },
  {
   "cell_type": "code",
   "execution_count": 12,
   "id": "fe05f72c-c1df-4d2f-9eaa-267369796f13",
   "metadata": {},
   "outputs": [
    {
     "name": "stdout",
     "output_type": "stream",
     "text": [
      "Sum of the first three values: 60\n"
     ]
    }
   ],
   "source": [
    "import pandas as pd\n",
    "\n",
    "def calculate_sum_of_first_three(df):\n",
    "    sum_first_three = df['Values'].iloc[:3].sum()\n",
    "    print(\"Sum of the first three values:\", sum_first_three)\n",
    "\n",
    "# Example DataFrame\n",
    "data = {'Values': [10, 20, 30, 40, 50]}\n",
    "df = pd.DataFrame(data)\n",
    "\n",
    "# Call the function to calculate and print the sum\n",
    "calculate_sum_of_first_three(df)"
   ]
  },
  {
   "cell_type": "markdown",
   "id": "04dff421-9ded-4ef8-ad04-2f89c8faa9a6",
   "metadata": {},
   "source": [
    "In this example, the calculate_sum_of_first_three() function takes a DataFrame df as input. It uses the .iloc[:3] indexing to select the first three values from the 'Values' column and then calculates their sum using the .sum() function. The sum is printed to the console.\n",
    "\n",
    "For the provided example DataFrame with values [10, 20, 30, 40, 50], the output will be:"
   ]
  },
  {
   "cell_type": "code",
   "execution_count": null,
   "id": "665a718e-1406-4516-b15a-d7f0e8d9e07c",
   "metadata": {},
   "outputs": [],
   "source": []
  },
  {
   "cell_type": "markdown",
   "id": "8402751a-6523-41bd-ba69-3dd60b5a4945",
   "metadata": {},
   "source": [
    "Q4. Given a Pandas DataFrame df with a column 'Text', write a Python function to create a new column\n",
    "'Word_Count' that contains the number of words in each row of the 'Text' column."
   ]
  },
  {
   "cell_type": "markdown",
   "id": "92f0863c-7947-4ceb-bf76-bcdd8c451fbd",
   "metadata": {},
   "source": [
    "Ans--\n",
    "\n",
    "We can achieve this by using the apply() function along with a lambda function to count the words in each row of the 'Text' column and create a new 'Word_Count' column. Here's a Python function that accomplishes this:\n",
    "\n",
    "In this example, the add_word_count_column() function takes a DataFrame df as input. It uses the apply() function with a lambda function to split each text in the 'Text' column into words using the .split() method and then calculates the length of the resulting list of words to determine the word count. The 'Word_Count' column is then added to the DataFrame.\n",
    "\n",
    "The output will show the DataFrame with the new 'Word_Count' column:"
   ]
  },
  {
   "cell_type": "code",
   "execution_count": 14,
   "id": "a7939a12-6cc9-4ab3-b3c9-47a453b8ac17",
   "metadata": {},
   "outputs": [
    {
     "name": "stdout",
     "output_type": "stream",
     "text": [
      "                               Text  Word_Count\n",
      "0        This is a sample sentence.           5\n",
      "1     Count the words in this text.           6\n",
      "2  Another example with more words.           5\n"
     ]
    }
   ],
   "source": [
    "import pandas as pd\n",
    "\n",
    "def add_word_count_column(df):\n",
    "    df['Word_Count'] = df['Text'].apply(lambda x: len(x.split()))\n",
    "    return df\n",
    "\n",
    "# Example DataFrame\n",
    "data = {'Text': ['This is a sample sentence.',\n",
    "                 'Count the words in this text.',\n",
    "                 'Another example with more words.']}\n",
    "\n",
    "df = pd.DataFrame(data)\n",
    "\n",
    "# Call the function to add the 'Word_Count' column\n",
    "df_with_word_count = add_word_count_column(df)\n",
    "print(df_with_word_count)"
   ]
  },
  {
   "cell_type": "code",
   "execution_count": null,
   "id": "7549ab95-94fd-4def-8a12-31f264474375",
   "metadata": {},
   "outputs": [],
   "source": []
  },
  {
   "cell_type": "markdown",
   "id": "4686ef70-2741-45e3-952a-df367081b728",
   "metadata": {},
   "source": [
    "Q5. How are DataFrame.size() and DataFrame.shape() different?"
   ]
  },
  {
   "cell_type": "markdown",
   "id": "862af1cf-7344-4d1f-b587-03cca697a5b2",
   "metadata": {},
   "source": [
    "Ans--\n",
    "\n",
    "DataFrame.size and DataFrame.shape are both attributes of a Pandas DataFrame, but they provide different kinds of information about the DataFrame:\n",
    "\n",
    "1. DataFrame.size: This attribute returns the total number of elements in the DataFrame. It is calculated as the product of the number of rows and the number of columns."
   ]
  },
  {
   "cell_type": "code",
   "execution_count": 15,
   "id": "8b69ff66-dbda-4a2e-9a82-35f5735d23a9",
   "metadata": {},
   "outputs": [
    {
     "name": "stdout",
     "output_type": "stream",
     "text": [
      "6\n"
     ]
    }
   ],
   "source": [
    "import pandas as pd\n",
    "\n",
    "data = {'A': [1, 2, 3],\n",
    "        'B': [4, 5, 6]}\n",
    "\n",
    "df = pd.DataFrame(data)\n",
    "\n",
    "print(df.size)  # Output: 6 (2 rows * 3 columns)"
   ]
  },
  {
   "cell_type": "markdown",
   "id": "82b97903-03d6-48fc-a5aa-9af6416c53f3",
   "metadata": {},
   "source": [
    "2. DataFrame.shape: This attribute returns a tuple representing the dimensions of the DataFrame. The tuple contains two values: the number of rows and the number of columns."
   ]
  },
  {
   "cell_type": "code",
   "execution_count": 16,
   "id": "4cb797f2-f9c5-42fd-a25f-56b367928382",
   "metadata": {},
   "outputs": [
    {
     "name": "stdout",
     "output_type": "stream",
     "text": [
      "(3, 2)\n"
     ]
    }
   ],
   "source": [
    "import pandas as pd\n",
    "\n",
    "data = {'A': [1, 2, 3],\n",
    "        'B': [4, 5, 6]}\n",
    "\n",
    "df = pd.DataFrame(data)\n",
    "\n",
    "print(df.shape)  # Output: (3, 2) (3 rows, 2 columns)"
   ]
  },
  {
   "cell_type": "markdown",
   "id": "66ccbb50-58e2-4b61-8cfe-c1ebf7105d43",
   "metadata": {},
   "source": [
    "In summary, DataFrame.size returns the total number of elements in the DataFrame, while DataFrame.shape returns a tuple representing the dimensions of the DataFrame (number of rows and number of columns)."
   ]
  },
  {
   "cell_type": "code",
   "execution_count": null,
   "id": "6ed9e8a8-cb82-4586-b863-e6a04e10dfab",
   "metadata": {},
   "outputs": [],
   "source": []
  },
  {
   "cell_type": "markdown",
   "id": "4514bf32-3783-413f-8840-49ba8ba82a30",
   "metadata": {},
   "source": [
    "Q6. Which function of pandas do we use to read an excel file?"
   ]
  },
  {
   "cell_type": "markdown",
   "id": "365953b5-727f-41bf-8555-5f1d98ceab44",
   "metadata": {},
   "source": [
    "Ans--\n",
    "\n",
    "To read an Excel file using Pandas, you can use the pd.read_excel() function. This function allows you to read data from Excel files (.xls or .xlsx) and create a DataFrame in Python. Here's the basic syntax:"
   ]
  },
  {
   "cell_type": "code",
   "execution_count": null,
   "id": "d91b2f12-94b3-47e6-9cff-2ce135c56e59",
   "metadata": {},
   "outputs": [],
   "source": [
    "import pandas as pd\n",
    "\n",
    "# Read an Excel file and create a DataFrame\n",
    "df = pd.read_excel('filename.xlsx')"
   ]
  },
  {
   "cell_type": "markdown",
   "id": "1b21420b-3d38-46cd-933a-33ce9548863e",
   "metadata": {},
   "source": [
    "Replace 'filename.xlsx' with the actual path to the Excel file you want to read. You can also provide additional arguments to the pd.read_excel() function to specify options such as sheet name, header row, and more, depending on your needs.\n",
    "\n",
    "Here's an example of reading an Excel file named \"data.xlsx\" from the current directory and creating a DataFrame:"
   ]
  },
  {
   "cell_type": "code",
   "execution_count": null,
   "id": "016f31ae-048f-4bbf-8544-c0fa2eb300eb",
   "metadata": {},
   "outputs": [],
   "source": [
    "import pandas as pd\n",
    "\n",
    "# Read an Excel file and create a DataFrame\n",
    "df = pd.read_excel('data.xlsx')\n",
    "\n",
    "# Display the DataFrame\n",
    "print(df)"
   ]
  },
  {
   "cell_type": "markdown",
   "id": "dc3dca8e-fc44-42b5-bdaf-ee0d5303349d",
   "metadata": {},
   "source": [
    "Remember to install the openpyxl library if you're working with Excel files in the .xlsx format, as it's required by Pandas to read and write Excel files. You can install it using:"
   ]
  },
  {
   "cell_type": "code",
   "execution_count": null,
   "id": "01998bd9-796a-4e82-8bb6-2f0d8345cc69",
   "metadata": {},
   "outputs": [],
   "source": [
    "pip install openpyxl"
   ]
  },
  {
   "cell_type": "code",
   "execution_count": null,
   "id": "1a85da2e-d922-43b0-af92-befc3cb46673",
   "metadata": {},
   "outputs": [],
   "source": []
  },
  {
   "cell_type": "markdown",
   "id": "bae480d7-2f65-4361-ad40-7a9c31ae94f2",
   "metadata": {},
   "source": [
    "Q7. You have a Pandas DataFrame df that contains a column named 'Email' that contains email\n",
    "addresses in the format 'username@domain.com'. Write a Python function that creates a new column\n",
    "'Username' in df that contains only the username part of each email address.\n",
    "\n",
    "The username is the part of the email address that appears before the '@' symbol. For example, if the\n",
    "email address is 'john.doe@example.com', the 'Username' column should contain 'john.doe'. Your\n",
    "function should extract the username from each email address and store it in the new 'Username'\n",
    "column."
   ]
  },
  {
   "cell_type": "markdown",
   "id": "e4121cf3-6458-466c-8d38-af76c612fd9b",
   "metadata": {},
   "source": [
    "Ans--\n",
    "\n",
    "You can achieve this by using the str.split() method along with a lambda function to extract the username from each email address and create a new 'Username' column. Here's a Python function that accomplishes this:\n",
    "\n",
    "In this example, the extract_username() function takes a DataFrame df as input. It uses the apply() function with a lambda function to split each email in the 'Email' column using the @ symbol as the delimiter and then selects the first part of the split (i.e., the username). The 'Username' column is then added to the DataFrame.\n",
    "\n",
    "The output will show the DataFrame with the new 'Username' column:"
   ]
  },
  {
   "cell_type": "code",
   "execution_count": 19,
   "id": "54608346-c1e9-4129-b5d7-00c639a0af36",
   "metadata": {},
   "outputs": [
    {
     "name": "stdout",
     "output_type": "stream",
     "text": [
      "                    Email    Username\n",
      "0    john.doe@example.com    john.doe\n",
      "1  jane.smith@example.com  jane.smith\n",
      "2   jim.brown@example.com   jim.brown\n"
     ]
    }
   ],
   "source": [
    "import pandas as pd\n",
    "\n",
    "def extract_username(df):\n",
    "    df['Username'] = df['Email'].apply(lambda email: email.split('@')[0])\n",
    "    return df\n",
    "\n",
    "# Example DataFrame\n",
    "data = {'Email': ['john.doe@example.com', 'jane.smith@example.com', 'jim.brown@example.com']}\n",
    "df = pd.DataFrame(data)\n",
    "\n",
    "# Call the function to extract usernames and create the 'Username' column\n",
    "df_with_username = extract_username(df)\n",
    "print(df_with_username)"
   ]
  },
  {
   "cell_type": "code",
   "execution_count": null,
   "id": "4382e1b9-d399-473f-8e5f-06413ff41cec",
   "metadata": {},
   "outputs": [],
   "source": []
  },
  {
   "cell_type": "markdown",
   "id": "c3d22083-1aed-4ee9-954d-3ace67d000c9",
   "metadata": {},
   "source": [
    "Q8. You have a Pandas DataFrame df with columns 'A', 'B', and 'C'. Write a Python function that selects\n",
    "all rows where the value in column 'A' is greater than 5 and the value in column 'B' is less than 10. The\n",
    "function should return a new DataFrame that contains only the selected rows.\n",
    "\n",
    "For example, if df contains the following values:\n",
    "    \n",
    "A B C\n",
    "0 3 5 1\n",
    "1 8 2 7\n",
    "2 6 9 4\n",
    "3 2 3 5\n",
    "4 9 1 2\n",
    "\n",
    "Your function should select the following rows: A B C\n",
    "\n",
    "1 8 2 7\n",
    "4 9 1 2\n",
    "\n",
    "The function should return a new DataFrame that contains only the selected rows."
   ]
  },
  {
   "cell_type": "markdown",
   "id": "5ccf96f1-024b-4e51-bbde-fa6f84a45760",
   "metadata": {},
   "source": [
    "Ans--\n",
    "\n",
    "We can achieve this by using boolean indexing with logical conditions. Here's a Python function that selects the rows based on the conditions you've specified and returns a new DataFrame:\n",
    "\n",
    "In this example, the filter_dataframe() function takes a DataFrame df as input. It uses boolean indexing to select rows where the value in column 'A' is greater than 5 and the value in column 'B' is less than 10. The conditions are combined using the & (AND) operator. The function returns a new DataFrame containing only the selected rows.\n",
    "\n",
    "The output will show the new DataFrame with the selected rows:"
   ]
  },
  {
   "cell_type": "code",
   "execution_count": 20,
   "id": "68982d6e-5b25-4f8a-a8ad-76343fcd30f1",
   "metadata": {},
   "outputs": [
    {
     "name": "stdout",
     "output_type": "stream",
     "text": [
      "   A  B  C\n",
      "1  8  2  7\n",
      "2  6  9  4\n",
      "4  9  1  2\n"
     ]
    }
   ],
   "source": [
    "import pandas as pd\n",
    "\n",
    "def filter_dataframe(df):\n",
    "    filtered_df = df[(df['A'] > 5) & (df['B'] < 10)]\n",
    "    return filtered_df\n",
    "\n",
    "# Example DataFrame\n",
    "data = {'A': [3, 8, 6, 2, 9],\n",
    "        'B': [5, 2, 9, 3, 1],\n",
    "        'C': [1, 7, 4, 5, 2]}\n",
    "\n",
    "df = pd.DataFrame(data)\n",
    "\n",
    "# Call the function to filter the DataFrame\n",
    "filtered_df = filter_dataframe(df)\n",
    "print(filtered_df)"
   ]
  },
  {
   "cell_type": "code",
   "execution_count": null,
   "id": "35d3da68-d3c4-4997-a0ba-858405378e38",
   "metadata": {},
   "outputs": [],
   "source": []
  },
  {
   "cell_type": "markdown",
   "id": "ac5753f8-8487-4feb-b2f7-7aa1827d698a",
   "metadata": {},
   "source": [
    "Q9. Given a Pandas DataFrame df with a column 'Values', write a Python function to calculate the mean,\n",
    "median, and standard deviation of the values in the 'Values' column."
   ]
  },
  {
   "cell_type": "markdown",
   "id": "212a3bee-df4e-4dd9-b62a-bca2f53e3625",
   "metadata": {},
   "source": [
    "Ans--\n",
    "\n",
    "You can calculate the mean, median, and standard deviation of the values in the 'Values' column of a Pandas DataFrame using the built-in functions provided by Pandas. Here's a Python function that does that:\n",
    "\n",
    "In this example, the calculate_statistics() function takes a DataFrame df as input. It uses the .mean(), .median(), and .std() functions on the 'Values' column to calculate the mean, median, and standard deviation of the values, respectively.\n",
    "\n",
    "The output will display the calculated statistics:"
   ]
  },
  {
   "cell_type": "code",
   "execution_count": 21,
   "id": "feb350dd-7b3f-43c7-9448-3dbb5319ee36",
   "metadata": {},
   "outputs": [
    {
     "name": "stdout",
     "output_type": "stream",
     "text": [
      "Mean: 30.0\n",
      "Median: 30.0\n",
      "Standard Deviation: 15.811388300841896\n"
     ]
    }
   ],
   "source": [
    "import pandas as pd\n",
    "\n",
    "def calculate_statistics(df):\n",
    "    mean_value = df['Values'].mean()\n",
    "    median_value = df['Values'].median()\n",
    "    std_deviation = df['Values'].std()\n",
    "    \n",
    "    return mean_value, median_value, std_deviation\n",
    "\n",
    "# Example DataFrame\n",
    "data = {'Values': [10, 20, 30, 40, 50]}\n",
    "df = pd.DataFrame(data)\n",
    "\n",
    "# Call the function to calculate statistics\n",
    "mean, median, std = calculate_statistics(df)\n",
    "\n",
    "print(\"Mean:\", mean)\n",
    "print(\"Median:\", median)\n",
    "print(\"Standard Deviation:\", std)"
   ]
  },
  {
   "cell_type": "code",
   "execution_count": null,
   "id": "e1546d10-c359-4d57-82f2-4841d6b4feaa",
   "metadata": {},
   "outputs": [],
   "source": []
  },
  {
   "cell_type": "markdown",
   "id": "2367189d-ca2b-4ad2-a209-f96aef14f497",
   "metadata": {},
   "source": [
    "Q10. Given a Pandas DataFrame df with a column 'Sales' and a column 'Date', write a Python function to\n",
    "create a new column 'MovingAverage' that contains the moving average of the sales for the past 7 days\n",
    "for each row in the DataFrame. The moving average should be calculated using a window of size 7 and\n",
    "should include the current day."
   ]
  },
  {
   "cell_type": "markdown",
   "id": "429efcff-a5ec-46cc-98af-ef8e2558b272",
   "metadata": {},
   "source": [
    "Ans--\n",
    "\n",
    "We can calculate the moving average for the past 7 days using the rolling() function provided by Pandas. Here's a Python function that does that\n",
    "\n",
    "In this example, the calculate_moving_average() function takes a DataFrame df as input. It uses the .rolling() function with a window of size 7 and min_periods=1 to calculate the moving average of the 'Sales' column. The min_periods=1 ensures that even if there are fewer than 7 days' data, the moving average is still calculated based on available data. The result is stored in the 'MovingAverage' column.\n",
    "\n",
    "The output will show the DataFrame with the new 'MovingAverage' column:"
   ]
  },
  {
   "cell_type": "code",
   "execution_count": 22,
   "id": "d19a463c-d103-4f80-94d2-ee7ba89837fa",
   "metadata": {},
   "outputs": [
    {
     "name": "stdout",
     "output_type": "stream",
     "text": [
      "        Date  Sales  MovingAverage\n",
      "0 2023-08-01     10           10.0\n",
      "1 2023-08-02     15           12.5\n",
      "2 2023-08-03     20           15.0\n",
      "3 2023-08-04     25           17.5\n",
      "4 2023-08-05     30           20.0\n",
      "5 2023-08-06     35           22.5\n",
      "6 2023-08-07     40           25.0\n",
      "7 2023-08-08     45           30.0\n",
      "8 2023-08-09     50           35.0\n",
      "9 2023-08-10     55           40.0\n"
     ]
    }
   ],
   "source": [
    "import pandas as pd\n",
    "\n",
    "def calculate_moving_average(df):\n",
    "    df['MovingAverage'] = df['Sales'].rolling(window=7, min_periods=1).mean()\n",
    "    return df\n",
    "\n",
    "# Example DataFrame\n",
    "data = {'Date': pd.date_range(start='2023-08-01', periods=10, freq='D'),\n",
    "        'Sales': [10, 15, 20, 25, 30, 35, 40, 45, 50, 55]}\n",
    "\n",
    "df = pd.DataFrame(data)\n",
    "\n",
    "# Call the function to calculate the moving average\n",
    "df_with_moving_average = calculate_moving_average(df)\n",
    "print(df_with_moving_average)\n"
   ]
  },
  {
   "cell_type": "markdown",
   "id": "095bfc4d-622e-40a6-bb2f-e174903c845e",
   "metadata": {},
   "source": [
    "These values represent the moving average of the sales for the past 7 days for each row in the DataFrame."
   ]
  },
  {
   "cell_type": "code",
   "execution_count": null,
   "id": "5890a1a4-13c4-4f47-bc5e-abae5c2036b4",
   "metadata": {},
   "outputs": [],
   "source": []
  },
  {
   "cell_type": "markdown",
   "id": "c00121c9-a073-441c-993b-84ea75059289",
   "metadata": {},
   "source": [
    "Q11. You have a Pandas DataFrame df with a column 'Date'. Write a Python function that creates a new\n",
    "column 'Weekday' in the DataFrame. The 'Weekday' column should contain the weekday name (e.g.\n",
    "Monday, Tuesday) corresponding to each date in the 'Date' column.\n",
    "For example, if df contains the following values:\n",
    "Date\n",
    "0 2023-01-01\n",
    "1 2023-01-02\n",
    "2 2023-01-03\n",
    "3 2023-01-04\n",
    "4 2023-01-05\n",
    "Your function should create the following DataFrame:\n",
    "\n",
    "Date Weekday\n",
    "0 2023-01-01 Sunday\n",
    "1 2023-01-02 Monday\n",
    "2 2023-01-03 Tuesday\n",
    "3 2023-01-04 Wednesday\n",
    "4 2023-01-05 Thursday\n",
    "\n",
    "The function should return the modified DataFrame."
   ]
  },
  {
   "cell_type": "markdown",
   "id": "6e2781e2-18ca-45c2-a7e9-f5458d1e4ee3",
   "metadata": {},
   "source": [
    "Ans--\n",
    "\n",
    "You can achieve this by using the dt.day_name() function provided by Pandas to extract the weekday name from the 'Date' column. Here's a Python function that accomplishes this:\n",
    "\n",
    "In this example, the add_weekday_column() function takes a DataFrame df as input. It first converts the 'Date' column to datetime format using pd.to_datetime(). Then, it uses the .dt.day_name() function to extract the weekday name corresponding to each date and adds this information as a new 'Weekday' column.\n",
    "\n",
    "The output will show the modified DataFrame with the 'Weekday' column:"
   ]
  },
  {
   "cell_type": "code",
   "execution_count": 23,
   "id": "3907148c-e7af-4110-959a-d50fd3c9d173",
   "metadata": {},
   "outputs": [
    {
     "name": "stdout",
     "output_type": "stream",
     "text": [
      "        Date    Weekday\n",
      "0 2023-01-01     Sunday\n",
      "1 2023-01-02     Monday\n",
      "2 2023-01-03    Tuesday\n",
      "3 2023-01-04  Wednesday\n",
      "4 2023-01-05   Thursday\n"
     ]
    }
   ],
   "source": [
    "import pandas as pd\n",
    "\n",
    "def add_weekday_column(df):\n",
    "    df['Weekday'] = df['Date'].dt.day_name()\n",
    "    return df\n",
    "\n",
    "# Example DataFrame\n",
    "data = {'Date': ['2023-01-01', '2023-01-02', '2023-01-03', '2023-01-04', '2023-01-05']}\n",
    "df = pd.DataFrame(data)\n",
    "df['Date'] = pd.to_datetime(df['Date'])  # Convert 'Date' column to datetime format\n",
    "\n",
    "# Call the function to add the 'Weekday' column\n",
    "df_with_weekday = add_weekday_column(df)\n",
    "print(df_with_weekday)"
   ]
  },
  {
   "cell_type": "markdown",
   "id": "4f26f66b-9955-48d7-a24b-ca2866c47b8c",
   "metadata": {},
   "source": [
    "These are the weekday names corresponding to each date in the 'Date' column."
   ]
  },
  {
   "cell_type": "code",
   "execution_count": null,
   "id": "3e584777-dad7-4dfb-8f93-a006252e94f4",
   "metadata": {},
   "outputs": [],
   "source": []
  },
  {
   "cell_type": "markdown",
   "id": "9b598029-1308-42ef-b086-0f715e112c00",
   "metadata": {},
   "source": [
    "Q12. Given a Pandas DataFrame df with a column 'Date' that contains timestamps, write a Python\n",
    "function to select all rows where the date is between '2023-01-01' and '2023-01-31'."
   ]
  },
  {
   "cell_type": "markdown",
   "id": "0c191e02-0399-4f8a-811c-de698209d47d",
   "metadata": {},
   "source": [
    "Ans--\n",
    "\n",
    "Certainly! we can use boolean indexing to select rows based on a date range. Here's a Python function that selects rows where the date is between '2023-01-01' and '2023-01-31':\n",
    "\n",
    "In this example, the select_rows_in_date_range() function takes a DataFrame df as input. It defines the start and end dates as strings. Then, it creates a boolean mask using the & (AND) operator to check if each date in the 'Date' column is within the specified range. The mask is used to select the rows that meet the condition.\n",
    "\n",
    "The output will show the DataFrame with rows that fall within the date range:"
   ]
  },
  {
   "cell_type": "code",
   "execution_count": 25,
   "id": "b6237c75-e902-43e4-9edc-04fc73a2e9b0",
   "metadata": {},
   "outputs": [
    {
     "name": "stdout",
     "output_type": "stream",
     "text": [
      "        Date\n",
      "0 2023-01-01\n",
      "1 2023-01-15\n",
      "2 2023-01-25\n"
     ]
    }
   ],
   "source": [
    "import pandas as pd\n",
    "\n",
    "def select_rows_in_date_range(df):\n",
    "    start_date = '2023-01-01'\n",
    "    end_date = '2023-01-31'\n",
    "    \n",
    "    mask = (df['Date'] >= start_date) & (df['Date'] <= end_date)\n",
    "    selected_rows = df[mask]\n",
    "    \n",
    "    return selected_rows\n",
    "\n",
    "# Example DataFrame\n",
    "data = {'Date': ['2023-01-01', '2023-01-15', '2023-01-25', '2023-02-05']}\n",
    "df = pd.DataFrame(data)\n",
    "df['Date'] = pd.to_datetime(df['Date'])  # Convert 'Date' column to datetime format\n",
    "\n",
    "# Call the function to select rows in the date range\n",
    "selected_df = select_rows_in_date_range(df)\n",
    "print(selected_df)"
   ]
  },
  {
   "cell_type": "markdown",
   "id": "bb9ee42d-24bc-4e01-a32d-a846ef004f51",
   "metadata": {},
   "source": [
    "These are the rows where the date is between '2023-01-01' and '2023-01-31'."
   ]
  },
  {
   "cell_type": "code",
   "execution_count": null,
   "id": "17554b22-8957-4234-ae29-ab32098154c3",
   "metadata": {},
   "outputs": [],
   "source": []
  },
  {
   "cell_type": "markdown",
   "id": "074e1d8b-5cfd-43ef-875b-f471c42850b1",
   "metadata": {},
   "source": [
    "Q13. To use the basic functions of pandas, what is the first and foremost necessary library that needs to\n",
    "be imported?"
   ]
  },
  {
   "cell_type": "markdown",
   "id": "ea176674-2ea1-4302-906c-3d7d80a3b65b",
   "metadata": {},
   "source": [
    "Ans--\n",
    "\n",
    "To use the basic functions of Pandas, the first and foremost necessary library that needs to be imported is pandas itself. You can import the Pandas library using the following line of code:"
   ]
  },
  {
   "cell_type": "code",
   "execution_count": 26,
   "id": "32461c36-6c27-45ce-80c6-38477ad98452",
   "metadata": {},
   "outputs": [],
   "source": [
    "import pandas as pd"
   ]
  },
  {
   "cell_type": "markdown",
   "id": "21c3ebf1-b5ed-47dc-9366-a39030c4161d",
   "metadata": {},
   "source": [
    "By convention, pd is a commonly used alias for the Pandas library. Once you've imported Pandas, you can use its functions and data structures like DataFrames and Series to perform various data manipulation and analysis tasks."
   ]
  },
  {
   "cell_type": "code",
   "execution_count": null,
   "id": "42882d0e-32cb-406a-a9b1-3cb89f37084e",
   "metadata": {},
   "outputs": [],
   "source": []
  }
 ],
 "metadata": {
  "kernelspec": {
   "display_name": "Python 3 (ipykernel)",
   "language": "python",
   "name": "python3"
  },
  "language_info": {
   "codemirror_mode": {
    "name": "ipython",
    "version": 3
   },
   "file_extension": ".py",
   "mimetype": "text/x-python",
   "name": "python",
   "nbconvert_exporter": "python",
   "pygments_lexer": "ipython3",
   "version": "3.10.8"
  }
 },
 "nbformat": 4,
 "nbformat_minor": 5
}
