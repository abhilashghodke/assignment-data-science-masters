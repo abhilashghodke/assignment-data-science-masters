{
 "cells": [
  {
   "cell_type": "markdown",
   "id": "5d411574-9d89-4597-8554-0104e31fcc64",
   "metadata": {},
   "source": [
    "Q1. What is the Probability density function?"
   ]
  },
  {
   "cell_type": "markdown",
   "id": "cfc21f35-6843-4760-89e3-bfde86882a84",
   "metadata": {},
   "source": [
    "Ans--\n",
    "\n",
    "A Probability Density Function (PDF) is a concept from probability theory and statistics that is used to describe the likelihood of a continuous random variable taking on a particular value within a given range. In other words, the PDF provides a way to understand how the values of a continuous random variable are distributed across its possible range of values.\n",
    "\n",
    "For a continuous random variable X, the PDF is typically denoted as f(x) and satisfies the following properties:\n",
    "\n",
    "1. Non-negative values: The PDF must be non-negative for all values of x within the variable's range: f(x) ≥ 0.\n",
    "\n",
    "2. Area under the curve: The area under the PDF curve over its entire range must equal 1: ∫f(x) dx = 1, where the integral is taken over the entire range of X.\n",
    "\n",
    "Mathematically, the PDF allows us to compute the probability that X falls within a specific interval [a, b] as the integral of the PDF over that interval:\n",
    "\n",
    "P(a ≤ X ≤ b) = ∫[a,b] f(x) dx\n",
    "\n",
    "In simple terms, the PDF provides a way to describe how the values of a continuous random variable are likely to be distributed, giving higher values to regions where the variable is more likely to take on values and lower values to less likely regions. It's an essential concept in probability and statistics, often used for various purposes, such as modeling and analyzing data, making predictions, and understanding the behavior of random variables."
   ]
  },
  {
   "cell_type": "code",
   "execution_count": null,
   "id": "e9f7b3bf-0000-42da-b53d-68d223e62780",
   "metadata": {},
   "outputs": [],
   "source": []
  },
  {
   "cell_type": "markdown",
   "id": "6573f35e-c2f9-4488-88f6-9716ce8c7dc6",
   "metadata": {},
   "source": [
    "Q2. What are the types of Probability distribution?"
   ]
  },
  {
   "cell_type": "markdown",
   "id": "ab895cf1-f3dd-46b1-8fdb-2bf6f7e1e7e1",
   "metadata": {},
   "source": [
    "Ans--\n",
    "\n",
    "There are several types of probability distributions in statistics, each with its own characteristics and applications. The two main categories of probability distributions are discrete distributions and continuous distributions.\n",
    "\n",
    "Discrete Probability Distributions:\n",
    "Discrete probability distributions are used for random variables that can take on a finite or countable number of distinct values. Some common examples include:\n",
    "\n",
    "1. Bernoulli Distribution: Models a binary outcome (success/failure) with a fixed probability of success.\n",
    "2. Binomial Distribution: Represents the number of successes in a fixed number of independent Bernoulli trials.\n",
    "3. Poisson Distribution: Describes the number of events occurring in a fixed interval of time or space, given a known average rate.\n",
    "4. Geometric Distribution: Represents the number of trials needed to achieve the first success in a series of independent Bernoulli trials.\n",
    "5. Hypergeometric Distribution: Models the probability of drawing a specific number of successes from a finite population without replacement.\n",
    "\n",
    "Continuous Probability Distributions:\n",
    "Continuous probability distributions are used for random variables that can take on any value within a certain range. Some common examples include:\n",
    "\n",
    "1. Uniform Distribution: All values within a specified range are equally likely.\n",
    "2. Normal Distribution (Gaussian Distribution): Often referred to as the \"bell curve,\" it is characterized by its mean and standard deviation and is commonly seen in many natural phenomena.\n",
    "3. Exponential Distribution: Models the time between events in a Poisson process and is often used in survival analysis.\n",
    "4. Gamma Distribution: Generalizes the exponential distribution and is used in various fields, including physics and engineering.\n",
    "5. Beta Distribution: Describes the distribution of probabilities when dealing with proportions or probabilities.\n",
    "6. Cauchy Distribution: Known for its heavy tails and lack of mean and variance, making it less well-behaved than other distributions.\n",
    "\n",
    "Other Distributions:\n",
    "There are many other specialized probability distributions used in specific contexts, such as the Chi-squared distribution, Student's t-distribution, F-distribution, and more. These distributions have specific characteristics that make them suitable for various types of data and statistical analyses.\n",
    "\n",
    "Choosing the appropriate distribution for a given problem depends on the nature of the data and the assumptions that can be made about its behavior. Different distributions have different properties and are used to model different types of situations, so it's important to select the distribution that best fits the data and the problem at hand."
   ]
  },
  {
   "cell_type": "code",
   "execution_count": null,
   "id": "c19eaf8d-3506-4ea2-abd5-aa0320cf12ba",
   "metadata": {},
   "outputs": [],
   "source": []
  },
  {
   "cell_type": "markdown",
   "id": "82ce8554-e181-407c-866e-0a16ab4dd6b5",
   "metadata": {},
   "source": [
    "Q3. Write a Python function to calculate the probability density function of a normal distribution with\n",
    "given mean and standard deviation at a given point."
   ]
  },
  {
   "cell_type": "markdown",
   "id": "0faa6a6e-9bbe-4e27-a2fa-9256b30f3c73",
   "metadata": {},
   "source": [
    "Ans--\n",
    "\n",
    "Here's a Python function that calculates the probability density function (PDF) of a normal distribution at a given point x, given the mean mu and standard deviation sigma:"
   ]
  },
  {
   "cell_type": "code",
   "execution_count": 1,
   "id": "3ad27603-fe56-4522-a406-b056bd8f8236",
   "metadata": {},
   "outputs": [
    {
     "name": "stdout",
     "output_type": "stream",
     "text": [
      "PDF at x = 0.5: 0.3520653267642995\n"
     ]
    }
   ],
   "source": [
    "import numpy as np\n",
    "import math\n",
    "\n",
    "def normal_pdf(x, mu, sigma):\n",
    "    \"\"\"\n",
    "    Calculate the PDF of a normal distribution at a given point x.\n",
    "\n",
    "    Parameters:\n",
    "    x (float): The point at which to calculate the PDF.\n",
    "    mu (float): Mean of the normal distribution.\n",
    "    sigma (float): Standard deviation of the normal distribution.\n",
    "\n",
    "    Returns:\n",
    "    float: The value of the PDF at the given point x.\n",
    "    \"\"\"\n",
    "    coefficient = 1.0 / (sigma * math.sqrt(2 * math.pi))\n",
    "    exponent = -0.5 * ((x - mu) / sigma)**2\n",
    "    pdf_value = coefficient * math.exp(exponent)\n",
    "    return pdf_value\n",
    "\n",
    "# Example usage\n",
    "mean = 0\n",
    "std_dev = 1\n",
    "x_value = 0.5\n",
    "pdf_result = normal_pdf(x_value, mean, std_dev)\n",
    "print(f\"PDF at x = {x_value}: {pdf_result}\")"
   ]
  },
  {
   "cell_type": "markdown",
   "id": "173aa9d3-ef0d-4ea5-b458-85d14f7cfe60",
   "metadata": {},
   "source": [
    "Replace mean and std_dev with the desired mean and standard deviation of the normal distribution, and x_value with the point at which you want to calculate the PDF. The function uses the formula for the normal distribution's PDF and the math module for mathematical calculations.\n",
    "\n",
    "Keep in mind that the normal distribution is defined over the entire real number line, so the PDF can take non-zero values at any point. However, the probability density is typically higher around the mean and decreases as you move away from the mean."
   ]
  },
  {
   "cell_type": "code",
   "execution_count": null,
   "id": "65fa065c-b632-49a0-b0d5-f0d612471ffe",
   "metadata": {},
   "outputs": [],
   "source": []
  },
  {
   "cell_type": "markdown",
   "id": "565de618-c711-4ec0-be0a-23503e307f68",
   "metadata": {},
   "source": [
    "Q4. What are the properties of Binomial distribution? Give two examples of events where binomial\n",
    "distribution can be applied."
   ]
  },
  {
   "cell_type": "markdown",
   "id": "92a19013-1a5d-4323-a760-d7d17a0c4cb7",
   "metadata": {},
   "source": [
    "Ans--\n",
    "\n",
    "The Binomial distribution is a discrete probability distribution that describes the number of successes in a fixed number of independent Bernoulli trials, where each trial has only two possible outcomes: success (with probability p) or failure (with probability q = 1 - p). The Binomial distribution has several important properties:\n",
    "\n",
    "1. Fixed Number of Trials: The distribution is defined for a fixed number of trials, denoted as \"n.\"\n",
    "\n",
    "2. Independent Trials: Each trial is assumed to be independent of the others.\n",
    "\n",
    "3. Two Outcomes: Each trial results in one of two possible outcomes: success or failure.\n",
    "\n",
    "4. Constant Probability: The probability of success (\"p\") remains constant across all trials, and the probability of failure is 1 - p.\n",
    "\n",
    "5. Discrete Values: The Binomial distribution is defined for discrete values of the number of successes, which can range from 0 to n.\n",
    "\n",
    "6. Probability Mass Function: The probability mass function (PMF) of the Binomial distribution gives the probability of observing a specific number of successes in n trials.\n",
    "\n",
    "The PMF of the Binomial distribution is given by:\n",
    "\n",
    "P(X = k) = (n choose k) * p^k * q^(n-k)\n",
    "\n",
    "Where:\n",
    "\n",
    "- X is the random variable representing the number of successes.\n",
    "- k is the number of successes.\n",
    "- n is the total number of trials.\n",
    "- p is the probability of success on an individual trial.\n",
    "- q = 1 - p is the probability of failure on an individual trial.\n",
    "- (n choose k) is the binomial coefficient, calculated as n! / (k! * (n - k)!), representing the number of ways to choose k successes from n trials.\n",
    "\n",
    "Examples of events where the Binomial distribution can be applied:\n",
    "\n",
    "1. Coin Flips: Suppose you flip a fair coin (with a 50% chance of heads and 50% chance of tails) 10 times. The number of times you get heads can be modeled using a Binomial distribution with parameters n = 10 and p = 0.5.\n",
    "\n",
    "2. Quality Control: In a manufacturing process, a company wants to determine the probability of a batch of products passing quality control. Each product has a 95% chance of passing. The company produces 50 products. The number of products that pass quality control can be modeled using a Binomial distribution with parameters n = 50 and p = 0.95.\n",
    "\n",
    "In both of these examples, we have a fixed number of trials (coin flips or product inspections), each with two possible outcomes (success or failure), and a constant probability of success (coin landing heads or product passing quality control)."
   ]
  },
  {
   "cell_type": "code",
   "execution_count": null,
   "id": "b3783604-97b4-4024-8537-6d9f001d58ba",
   "metadata": {},
   "outputs": [],
   "source": []
  },
  {
   "cell_type": "markdown",
   "id": "dc4ddf82-5851-458b-b83b-e22339739d0c",
   "metadata": {},
   "source": [
    "Q5. Generate a random sample of size 1000 from a binomial distribution with probability of success 0.4\n",
    "and plot a histogram of the results using matplotlib."
   ]
  },
  {
   "cell_type": "markdown",
   "id": "8716a2df-2fb7-49c3-94d9-6b59b3890ac5",
   "metadata": {},
   "source": [
    "Ans--\n",
    "\n",
    "Here's a code example using Python's numpy and matplotlib libraries to generate a random sample from a binomial distribution and plot a histogram of the results:"
   ]
  },
  {
   "cell_type": "code",
   "execution_count": 2,
   "id": "9b52a6d7-4876-484d-94a6-ecb0db7d5ec6",
   "metadata": {},
   "outputs": [
    {
     "data": {
      "image/png": "[encoded data removed]",
      "text/plain": [
       "<Figure size 640x480 with 1 Axes>"
      ]
     },
     "metadata": {},
     "output_type": "display_data"
    }
   ],
   "source": [
    "import numpy as np\n",
    "import matplotlib.pyplot as plt\n",
    "\n",
    "# Parameters\n",
    "sample_size = 1000\n",
    "p = 0.4\n",
    "n = 10  # Number of trials\n",
    "\n",
    "# Generate random sample from binomial distribution\n",
    "random_sample = np.random.binomial(n, p, sample_size)\n",
    "\n",
    "# Plotting the histogram\n",
    "plt.hist(random_sample, bins=np.arange(-0.5, n+1.5, 1), alpha=0.7, color='blue', edgecolor='black')\n",
    "plt.xlabel('Number of Successes')\n",
    "plt.ylabel('Frequency')\n",
    "plt.title('Histogram of Binomial Distribution')\n",
    "plt.xticks(np.arange(0, n+1, 1))\n",
    "plt.grid(axis='y', alpha=0.75)\n",
    "plt.show()"
   ]
  },
  {
   "cell_type": "markdown",
   "id": "3ed0cfda-41c1-4c48-8ff9-0a5b99ceffbc",
   "metadata": {},
   "source": [
    "In this code, sample_size determines the number of random samples to generate. The np.random.binomial(n, p, sample_size) function generates random samples from a binomial distribution with parameters n (number of trials) and p (probability of success). The plt.hist() function is used to create a histogram of the random sample, and the plt.show() function displays the plot.\n",
    "\n",
    "Adjust the n and p parameters as needed for your specific use case."
   ]
  },
  {
   "cell_type": "code",
   "execution_count": null,
   "id": "2f16376e-e1e7-4372-880b-5382519c4741",
   "metadata": {},
   "outputs": [],
   "source": []
  },
  {
   "cell_type": "markdown",
   "id": "db6cd985-1435-4442-88d2-adabadbd0367",
   "metadata": {},
   "source": [
    "Q6. Write a Python function to calculate the cumulative distribution function of a Poisson distribution\n",
    "with given mean at a given point."
   ]
  },
  {
   "cell_type": "markdown",
   "id": "3a184572-8cfd-4513-a0ff-82190a0c9749",
   "metadata": {},
   "source": [
    "Ans--\n",
    "\n",
    "Here's a Python function that calculates the cumulative distribution function (CDF) of a Poisson distribution at a given point 'x', given the mean 'mu':"
   ]
  },
  {
   "cell_type": "code",
   "execution_count": 3,
   "id": "123d48b3-f181-4f04-b80c-d04e1f2cdd94",
   "metadata": {},
   "outputs": [
    {
     "name": "stdout",
     "output_type": "stream",
     "text": [
      "CDF at x = 3: 0.7575761331330659\n"
     ]
    }
   ],
   "source": [
    "import math\n",
    "\n",
    "def poisson_cdf(x, mu):\n",
    "    \"\"\"\n",
    "    Calculate the CDF of a Poisson distribution at a given point x.\n",
    "\n",
    "    Parameters:\n",
    "    x (int): The point at which to calculate the CDF.\n",
    "    mu (float): Mean of the Poisson distribution.\n",
    "\n",
    "    Returns:\n",
    "    float: The value of the CDF at the given point x.\n",
    "    \"\"\"\n",
    "    cdf_value = 0\n",
    "    for k in range(x + 1):\n",
    "        cdf_value += (math.exp(-mu) * mu**k) / math.factorial(k)\n",
    "    return cdf_value\n",
    "\n",
    "# Example usage\n",
    "mean = 2.5\n",
    "x_value = 3\n",
    "cdf_result = poisson_cdf(x_value, mean)\n",
    "print(f\"CDF at x = {x_value}: {cdf_result}\")"
   ]
  },
  {
   "cell_type": "markdown",
   "id": "92170302-a980-4736-b0b7-7de0e86b7a66",
   "metadata": {},
   "source": [
    "Replace 'mean' with the desired mean of the Poisson distribution and 'x_value' with the point at which you want to calculate the CDF. The function uses the formula for the Poisson distribution's CDF, which involves summing the probabilities of observing 'k' or fewer events ('k' ranging from 0 to 'x').\n",
    "\n",
    "Keep in mind that the Poisson distribution is defined for non-negative integer values, as it models the number of events in a fixed interval of time or space. The CDF gives the probability that the random variable is less than or equal to a given value."
   ]
  },
  {
   "cell_type": "code",
   "execution_count": null,
   "id": "36134147-83a5-4d75-82eb-26f7e74d926d",
   "metadata": {},
   "outputs": [],
   "source": []
  },
  {
   "cell_type": "markdown",
   "id": "160c56c0-7b7e-4144-b2c8-f7171775769d",
   "metadata": {},
   "source": [
    "Q7. How Binomial distribution different from Poisson distribution?"
   ]
  },
  {
   "cell_type": "markdown",
   "id": "636197d8-bc6e-470c-b133-b5ba79aee1ea",
   "metadata": {},
   "source": [
    "Ans--\n",
    "\n",
    "The Binomial and Poisson distributions are both discrete probability distributions used to model the number of events or successes in a certain number of trials or over a fixed interval. However, they have different characteristics and are suited for different types of scenarios. Here are the key differences between the Binomial and Poisson distributions:\n",
    "\n",
    "1. Number of Trials:\n",
    "\n",
    "- Binomial Distribution: The Binomial distribution is used when the number of trials (denoted as \"n\") is fixed and known in advance.\n",
    "- Poisson Distribution: The Poisson distribution is used when the number of trials or events is not fixed and can be very large, and the events occur at a certain average rate (mean).\n",
    "\n",
    "2. Outcome Probabilities:\n",
    "\n",
    "- Binomial Distribution: In the Binomial distribution, each trial has only two possible outcomes: success or failure. The probability of success (\"p\") is constant for each trial, and the probability of failure is 1 - p.\n",
    "- Poisson Distribution: The Poisson distribution models the number of events occurring in a fixed interval of time or space. It does not deal with success/failure outcomes like the Binomial distribution.\n",
    "\n",
    "3. Parameters:\n",
    "\n",
    "- Binomial Distribution: The parameters of the Binomial distribution are the number of trials (\"n\") and the probability of success on each trial (\"p\").\n",
    "- Poisson Distribution: The parameter of the Poisson distribution is the average rate (\"λ\") at which events occur in the specified interval.\n",
    "\n",
    "4. Assumptions:\n",
    "\n",
    "- Binomial Distribution: The Binomial distribution assumes that each trial is independent of the others and that the probability of success remains constant across all trials.\n",
    "- Poisson Distribution: The Poisson distribution assumes that events are rare and random, and the occurrences of events are independent of each other.\n",
    "\n",
    "5. Applicability:\n",
    "\n",
    "- Binomial Distribution: The Binomial distribution is suitable for scenarios where there are a fixed number of trials with two possible outcomes, such as coin flips, product defects, or success/failure experiments.\n",
    "- Poisson Distribution: The Poisson distribution is used when counting rare events in a fixed interval, such as the number of phone calls received at a call center in an hour, the number of accidents at an intersection in a day, or the number of emails received per day.\n",
    "\n",
    "In summary, the choice between the Binomial and Poisson distributions depends on the nature of the data and the context of the problem. If the number of trials is fixed and there are two outcomes, the Binomial distribution is appropriate. If the number of trials or events is not fixed and events occur at a certain average rate, the Poisson distribution is more suitable."
   ]
  },
  {
   "cell_type": "code",
   "execution_count": null,
   "id": "5ea30fa6-f32a-4c9f-b25a-03a6044bd6b6",
   "metadata": {},
   "outputs": [],
   "source": []
  },
  {
   "cell_type": "markdown",
   "id": "0953a1d5-58ec-420c-8e04-bd61a3b7c6b9",
   "metadata": {},
   "source": [
    "Q8. Generate a random sample of size 1000 from a Poisson distribution with mean 5 and calculate the\n",
    "sample mean and variance."
   ]
  },
  {
   "cell_type": "markdown",
   "id": "29a4ab69-c295-4689-ba38-63372a4e2f1d",
   "metadata": {},
   "source": [
    "Ans--\n",
    "\n",
    "Here's how you can generate a random sample from a Poisson distribution with a mean of 5 using Python's numpy library and then calculate the sample mean and variance:"
   ]
  },
  {
   "cell_type": "code",
   "execution_count": 4,
   "id": "10be839a-964e-4682-a4e4-b6880214584f",
   "metadata": {},
   "outputs": [
    {
     "name": "stdout",
     "output_type": "stream",
     "text": [
      "Sample Mean: 4.931\n",
      "Sample Variance: 4.704238999999999\n"
     ]
    }
   ],
   "source": [
    "import numpy as np\n",
    "\n",
    "# Parameters\n",
    "sample_size = 1000\n",
    "mean = 5\n",
    "\n",
    "# Generate random sample from Poisson distribution\n",
    "random_sample = np.random.poisson(mean, sample_size)\n",
    "\n",
    "# Calculate sample mean and variance\n",
    "sample_mean = np.mean(random_sample)\n",
    "sample_variance = np.var(random_sample)\n",
    "\n",
    "print(f\"Sample Mean: {sample_mean}\")\n",
    "print(f\"Sample Variance: {sample_variance}\")"
   ]
  },
  {
   "cell_type": "markdown",
   "id": "ebfeba97-a458-44e3-a8a8-3292470274c8",
   "metadata": {},
   "source": [
    "In this code, np.random.poisson(mean, sample_size) generates a random sample of size sample_size from a Poisson distribution with the specified mean. The np.mean() and np.var() functions are then used to calculate the sample mean and variance, respectively, based on the generated random sample.\n",
    "\n",
    "Keep in mind that the sample mean and variance are estimates of the population mean and variance based on the collected sample data. The larger the sample size, the closer these estimates are likely to be to the actual population mean and variance."
   ]
  },
  {
   "cell_type": "code",
   "execution_count": null,
   "id": "fac630f9-dc7a-4c85-b995-c52a694c5307",
   "metadata": {},
   "outputs": [],
   "source": []
  },
  {
   "cell_type": "markdown",
   "id": "9e60342e-5514-416a-8e32-31d5a10c950a",
   "metadata": {},
   "source": [
    "Q9. How mean and variance are related in Binomial distribution and Poisson distribution?"
   ]
  },
  {
   "cell_type": "markdown",
   "id": "1739e55e-4916-4ae7-b4bc-1fd04d3ff4ed",
   "metadata": {},
   "source": [
    "Ans--\n",
    "\n",
    "Both the Binomial and Poisson distributions are discrete probability distributions, and the relationship between their mean and variance is influenced by the parameters of the distributions. Here's how mean and variance are related in each distribution:\n",
    "\n",
    "Binomial Distribution:\n",
    "For a Binomial distribution with parameters n (number of trials) and p (probability of success), the mean and variance are related as follows:\n",
    "\n",
    "Mean (μ) = n * p\n",
    "\n",
    "Variance (σ^2) = n * p * q\n",
    "\n",
    "Where q = 1 - p is the probability of failure.\n",
    "\n",
    "In the Binomial distribution, the mean represents the expected number of successes in n trials, and the variance represents the variability of the distribution. As the probability of success p increases (or decreases), both the mean and the variance increase (or decrease) proportionally. The product n * p * q in the variance formula reflects the relationship between the number of trials, the probability of success, and the probability of failure.\n",
    "\n",
    "Poisson Distribution:\n",
    "For a Poisson distribution with parameter λ (average rate), the mean and variance are related as follows:\n",
    "\n",
    "Mean (μ) = λ\n",
    "\n",
    "Variance (σ^2) = λ\n",
    "\n",
    "In the Poisson distribution, both the mean and the variance are equal to the parameter λ, which represents the average rate of events occurring in a fixed interval. Unlike the Binomial distribution, where the variance depends on both the number of trials and the probability of success, the Poisson distribution has the unique property that its mean and variance are equal and solely determined by the average rate λ.\n",
    "\n",
    "In summary, in the Binomial distribution, the variance depends on both the number of trials and the probability of success, while in the Poisson distribution, the variance is solely determined by the average rate of events."
   ]
  },
  {
   "cell_type": "code",
   "execution_count": null,
   "id": "15e0f9f0-8dbf-48f8-b1ca-81a06220adc4",
   "metadata": {},
   "outputs": [],
   "source": []
  },
  {
   "cell_type": "code",
   "execution_count": null,
   "id": "4fdd4e57-94e0-4d98-90c0-b7f992774da1",
   "metadata": {},
   "outputs": [],
   "source": []
  }
 ],
 "metadata": {
  "kernelspec": {
   "display_name": "Python 3 (ipykernel)",
   "language": "python",
   "name": "python3"
  },
  "language_info": {
   "codemirror_mode": {
    "name": "ipython",
    "version": 3
   },
   "file_extension": ".py",
   "mimetype": "text/x-python",
   "name": "python",
   "nbconvert_exporter": "python",
   "pygments_lexer": "ipython3",
   "version": "3.10.8"
  }
 },
 "nbformat": 4,
 "nbformat_minor": 5
}
