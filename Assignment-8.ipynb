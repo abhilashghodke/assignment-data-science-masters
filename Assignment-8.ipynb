{
 "cells": [
  {
   "cell_type": "markdown",
   "id": "3e04e372-5423-4e97-9173-1bbf120a3698",
   "metadata": {},
   "source": [
    "Q1. You are writing code for a company. The requirement of the company is that you create a python\n",
    "function that will check whether the password entered by the user is correct or not. The function should\n",
    "take the password as input and return the string “Valid Password” if the entered password follows the\n",
    "below-given password guidelines else it should return “Invalid Password”.\n",
    "\n",
    "Note: \n",
    "1. The Password should contain at least two uppercase letters and at least two lowercase letters.\n",
    "\n",
    "2. The Password should contain at least a number and three special characters.\n",
    "\n",
    "3. The length of the password should be 10 characters long."
   ]
  },
  {
   "cell_type": "code",
   "execution_count": 4,
   "id": "59eecced-8ae3-469f-a544-90a965988a24",
   "metadata": {},
   "outputs": [
    {
     "name": "stdin",
     "output_type": "stream",
     "text": [
      "Enter a password:  ABhilash@12#$\n"
     ]
    },
    {
     "name": "stdout",
     "output_type": "stream",
     "text": [
      "Invalid Password\n"
     ]
    }
   ],
   "source": [
    "import re\n",
    "\n",
    "def check_password(password):\n",
    "    # Check length\n",
    "    if len(password) != 10:\n",
    "        return \"Invalid Password\"\n",
    "\n",
    "    # Count uppercase and lowercase letters\n",
    "    uppercase_count = 0\n",
    "    lowercase_count = 0\n",
    "    for char in password:\n",
    "        if char.isupper():\n",
    "            uppercase_count += 1\n",
    "        elif char.islower():\n",
    "            lowercase_count += 1\n",
    "\n",
    "    # Count digits and special characters using regex\n",
    "    digit_count = len(re.findall(r'\\d', password))\n",
    "    special_count = len(re.findall(r'[!@#$%^&*()-_=+[\\]{}|;:,.<>?]', password))\n",
    "\n",
    "    # Check conditions\n",
    "    if uppercase_count >= 2 and lowercase_count >= 2 and digit_count >= 1 and special_count >= 3:\n",
    "        return \"Valid Password\"\n",
    "    else:\n",
    "        return \"Invalid Password\"\n",
    "\n",
    "# Example usage\n",
    "password = input(\"Enter a password: \")\n",
    "result = check_password(password)\n",
    "print(result)"
   ]
  },
  {
   "cell_type": "code",
   "execution_count": null,
   "id": "cc570b03-95e4-499f-b61f-9f4b0879c95e",
   "metadata": {},
   "outputs": [],
   "source": []
  },
  {
   "cell_type": "markdown",
   "id": "3dfbc227-b7d2-410c-a3f7-b8ec3840e9ea",
   "metadata": {},
   "source": [
    "Q2. Solve the below-given questions using at least one of the following:\n",
    "1. Lambda function\n",
    "2. Filter function\n",
    "3. map function\n",
    "4. List Comprehension\n",
    "\n",
    "- Check if the string starts with a particular letter\n",
    "- Check if the string is numeric\n",
    "- Sort a list of tuples having fruit names and their quantity. [(\"mango\",99),(\"orange\",80), (\"grapes\", 1000)]\n",
    "- Find the squares of numbers from 1 to 10\n",
    "- Find the cube root of numbers from 1 to 10\n",
    "- Check if a given number is even\n",
    "- Filter odd numbers from the given list.\n",
    "[1,2,3,4,5,6,7,8,9,10]\n",
    "- Sort a list of integers into positive and negative integers lists.\n",
    "[1,2,3,4,5,6,-1,-2,-3,-4,-5,0]"
   ]
  },
  {
   "cell_type": "markdown",
   "id": "b152808c-505c-4a20-8b0a-badf329711fc",
   "metadata": {},
   "source": [
    "1. Check if the string starts with a particular letter:"
   ]
  },
  {
   "cell_type": "code",
   "execution_count": 5,
   "id": "00b41754-f66a-4e96-9173-2205ec993e19",
   "metadata": {},
   "outputs": [
    {
     "name": "stdout",
     "output_type": "stream",
     "text": [
      "['banana']\n"
     ]
    }
   ],
   "source": [
    "string_list = [\"apple\", \"banana\", \"cherry\", \"grape\"]\n",
    "starts_with = \"b\"\n",
    "result = filter(lambda s: s.startswith(starts_with), string_list)\n",
    "print(list(result))"
   ]
  },
  {
   "cell_type": "markdown",
   "id": "af9e751b-787f-4aad-a0ff-7c4480731a36",
   "metadata": {},
   "source": [
    "2. Check if the string is numeric:"
   ]
  },
  {
   "cell_type": "code",
   "execution_count": 6,
   "id": "09a5cc7d-7ebd-49df-9a31-e5a0d0ca9285",
   "metadata": {},
   "outputs": [
    {
     "name": "stdout",
     "output_type": "stream",
     "text": [
      "['123', '456']\n"
     ]
    }
   ],
   "source": [
    "string_list = [\"123\", \"abc\", \"456\", \"def\"]\n",
    "result = filter(lambda s: s.isnumeric(), string_list)\n",
    "print(list(result))"
   ]
  },
  {
   "cell_type": "markdown",
   "id": "d97f6827-0740-4033-83d4-17d93dbcae91",
   "metadata": {},
   "source": [
    "3. Sort a list of tuples having fruit names and their quantity:"
   ]
  },
  {
   "cell_type": "code",
   "execution_count": 7,
   "id": "59be8f4f-6003-464a-99ae-8c42badd87fc",
   "metadata": {},
   "outputs": [
    {
     "name": "stdout",
     "output_type": "stream",
     "text": [
      "[('orange', 80), ('mango', 99), ('grapes', 1000)]\n"
     ]
    }
   ],
   "source": [
    "fruits = [(\"mango\", 99), (\"orange\", 80), (\"grapes\", 1000)]\n",
    "sorted_fruits = sorted(fruits, key=lambda x: x[1])\n",
    "print(sorted_fruits)"
   ]
  },
  {
   "cell_type": "markdown",
   "id": "0137bb8c-d04d-4c2c-87d6-12ac141b58ff",
   "metadata": {},
   "source": [
    "4. Find the squares of numbers from 1 to 10:"
   ]
  },
  {
   "cell_type": "code",
   "execution_count": 8,
   "id": "bdb49815-b068-442e-935c-72e9115b0ffd",
   "metadata": {},
   "outputs": [
    {
     "name": "stdout",
     "output_type": "stream",
     "text": [
      "[1, 4, 9, 16, 25, 36, 49, 64, 81, 100]\n"
     ]
    }
   ],
   "source": [
    "numbers = list(range(1, 11))\n",
    "squares = [x**2 for x in numbers]\n",
    "print(squares)"
   ]
  },
  {
   "cell_type": "markdown",
   "id": "fcf83aa6-4eaa-4112-bb3a-a2d17cb8f2ea",
   "metadata": {},
   "source": [
    "5. Find the cube root of numbers from 1 to 10:"
   ]
  },
  {
   "cell_type": "code",
   "execution_count": 9,
   "id": "bd828aa6-25ae-453c-a4c7-4cea74f19603",
   "metadata": {},
   "outputs": [
    {
     "name": "stdout",
     "output_type": "stream",
     "text": [
      "[1.0, 1.2599210498948732, 1.4422495703074083, 1.5874010519681994, 1.7099759466766968, 1.8171205928321397, 1.912931182772389, 2.0, 2.080083823051904, 2.154434690031884]\n"
     ]
    }
   ],
   "source": [
    "import math\n",
    "numbers = list(range(1, 11))\n",
    "cube_roots = [math.pow(x, 1/3) for x in numbers]\n",
    "print(cube_roots)"
   ]
  },
  {
   "cell_type": "markdown",
   "id": "5719b7e7-eac1-4d93-ac2d-c6119bdda72f",
   "metadata": {},
   "source": [
    "6. Check if a given number is even:"
   ]
  },
  {
   "cell_type": "code",
   "execution_count": 10,
   "id": "e0d17666-98c3-4a65-bf3a-120545c27c75",
   "metadata": {},
   "outputs": [
    {
     "name": "stdout",
     "output_type": "stream",
     "text": [
      "True\n"
     ]
    }
   ],
   "source": [
    "num = 6\n",
    "is_even = lambda x: x % 2 == 0\n",
    "print(is_even(num))"
   ]
  },
  {
   "cell_type": "markdown",
   "id": "c3ff4d34-b9f1-4100-940c-0e4c0168691e",
   "metadata": {},
   "source": [
    "7. Filter odd numbers from the given list:"
   ]
  },
  {
   "cell_type": "code",
   "execution_count": 11,
   "id": "ed706284-9c76-4601-b245-397cf1c9ce1f",
   "metadata": {},
   "outputs": [
    {
     "name": "stdout",
     "output_type": "stream",
     "text": [
      "[1, 3, 5, 7, 9]\n"
     ]
    }
   ],
   "source": [
    "numbers = [1, 2, 3, 4, 5, 6, 7, 8, 9, 10]\n",
    "odd_numbers = filter(lambda x: x % 2 != 0, numbers)\n",
    "print(list(odd_numbers))"
   ]
  },
  {
   "cell_type": "markdown",
   "id": "c764b091-0970-4cb1-99ff-feab6f838dc8",
   "metadata": {},
   "source": [
    "8. Sort a list of integers into positive and negative integers lists:"
   ]
  },
  {
   "cell_type": "code",
   "execution_count": 12,
   "id": "f904d0ee-8688-4b70-8a9e-8b2259ade540",
   "metadata": {},
   "outputs": [
    {
     "name": "stdout",
     "output_type": "stream",
     "text": [
      "Positive: [1, 2, 3, 4, 5, 6]\n",
      "Negative: [-1, -2, -3, -4, -5]\n"
     ]
    }
   ],
   "source": [
    "numbers = [1, 2, 3, 4, 5, 6, -1, -2, -3, -4, -5, 0]\n",
    "positive_nums = filter(lambda x: x > 0, numbers)\n",
    "negative_nums = filter(lambda x: x < 0, numbers)\n",
    "print(\"Positive:\", list(positive_nums))\n",
    "print(\"Negative:\", list(negative_nums))"
   ]
  },
  {
   "cell_type": "code",
   "execution_count": null,
   "id": "18c41f2c-195c-45ac-bfe9-f89cdb7b395d",
   "metadata": {},
   "outputs": [],
   "source": []
  }
 ],
 "metadata": {
  "kernelspec": {
   "display_name": "Python 3 (ipykernel)",
   "language": "python",
   "name": "python3"
  },
  "language_info": {
   "codemirror_mode": {
    "name": "ipython",
    "version": 3
   },
   "file_extension": ".py",
   "mimetype": "text/x-python",
   "name": "python",
   "nbconvert_exporter": "python",
   "pygments_lexer": "ipython3",
   "version": "3.10.8"
  }
 },
 "nbformat": 4,
 "nbformat_minor": 5
}
