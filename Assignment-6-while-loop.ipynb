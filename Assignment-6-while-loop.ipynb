{
 "cells": [
  {
   "cell_type": "markdown",
   "id": "84c63a8d-52d0-4502-877b-e4128f75e335",
   "metadata": {},
   "source": [
    "Q1. Write a program to accept percentage from the user and display the grade according to the following\n",
    "criteria:"
   ]
  },
  {
   "cell_type": "code",
   "execution_count": 3,
   "id": "355ea726-dd5d-43be-a8d9-ae5c56d0f1b2",
   "metadata": {},
   "outputs": [
    {
     "name": "stdin",
     "output_type": "stream",
     "text": [
      "Enter the percentage:  67\n"
     ]
    },
    {
     "name": "stdout",
     "output_type": "stream",
     "text": [
      "Grade: C\n"
     ]
    }
   ],
   "source": [
    "def calculate_grade(percentage):\n",
    "    if percentage >= 90:\n",
    "        return \"A\"\n",
    "    elif percentage >= 70:\n",
    "        return \"B\"\n",
    "    elif percentage >= 60:\n",
    "        return \"C\"\n",
    "    else:\n",
    "        return \"D\"\n",
    "\n",
    "try:\n",
    "    percentage = float(input(\"Enter the percentage: \"))\n",
    "    \n",
    "    if percentage < 0 or percentage > 100:\n",
    "        print(\"Invalid percentage. Please enter a value between 0 and 100.\")\n",
    "    else:\n",
    "        grade = calculate_grade(percentage)\n",
    "        print(f\"Grade: {grade}\")\n",
    "\n",
    "except ValueError:\n",
    "    print(\"Invalid input. Please enter a valid percentage.\")"
   ]
  },
  {
   "cell_type": "code",
   "execution_count": null,
   "id": "71def0f1-ae8a-4eff-ac15-5d141d754f63",
   "metadata": {},
   "outputs": [],
   "source": []
  },
  {
   "cell_type": "markdown",
   "id": "73b12179-b07c-4088-b6c6-02180d4b78cd",
   "metadata": {},
   "source": [
    "Q2. Write a program to accept the. cost price of a bike. and display the road tax to be pa paid according to the\n",
    "following criteria:"
   ]
  },
  {
   "cell_type": "code",
   "execution_count": 4,
   "id": "ad9f2b42-8e42-47f3-a463-43fdb5146e00",
   "metadata": {},
   "outputs": [
    {
     "name": "stdin",
     "output_type": "stream",
     "text": [
      "Enter the cost price of the bike (in Rs):  120000\n"
     ]
    },
    {
     "name": "stdout",
     "output_type": "stream",
     "text": [
      "Road Tax to be paid: Rs 18000.00\n"
     ]
    }
   ],
   "source": [
    "def calculate_road_tax(cost_price):\n",
    "    if cost_price > 100000:\n",
    "        return 0.15 * cost_price\n",
    "    elif cost_price > 50000:\n",
    "        return 0.10 * cost_price\n",
    "    else:\n",
    "        return 0.05 * cost_price\n",
    "\n",
    "try:\n",
    "    cost_price = float(input(\"Enter the cost price of the bike (in Rs): \"))\n",
    "    \n",
    "    if cost_price < 0:\n",
    "        print(\"Invalid cost price. Please enter a positive value.\")\n",
    "    else:\n",
    "        road_tax = calculate_road_tax(cost_price)\n",
    "        print(f\"Road Tax to be paid: Rs {road_tax:.2f}\")\n",
    "\n",
    "except ValueError:\n",
    "    print(\"Invalid input. Please enter a valid cost price.\")"
   ]
  },
  {
   "cell_type": "code",
   "execution_count": null,
   "id": "e80968c5-7623-430e-bc50-787e68f9f18f",
   "metadata": {},
   "outputs": [],
   "source": []
  },
  {
   "cell_type": "markdown",
   "id": "6d4451ef-6d6a-4f4f-b02f-f22414471723",
   "metadata": {},
   "source": [
    "Q3. 3. Accept any city from the user and display monuments of that city."
   ]
  },
  {
   "cell_type": "code",
   "execution_count": 5,
   "id": "35b857cb-ebaf-4a93-b8ba-7534c4654133",
   "metadata": {},
   "outputs": [
    {
     "name": "stdin",
     "output_type": "stream",
     "text": [
      "Enter a city:  pune\n"
     ]
    },
    {
     "name": "stdout",
     "output_type": "stream",
     "text": [
      "Monument in pune: Monument not found for this city.\n"
     ]
    }
   ],
   "source": [
    "def display_monument(city):\n",
    "    monuments = {\n",
    "        \"Delhi\": \"Red Fort\",\n",
    "        \"Agra\": \"Taj Mahal\",\n",
    "        \"Jaipur\": \"Jal Mahal\"\n",
    "    }\n",
    "    \n",
    "    if city in monuments:\n",
    "        return monuments[city]\n",
    "    else:\n",
    "        return \"Monument not found for this city.\"\n",
    "\n",
    "try:\n",
    "    city = input(\"Enter a city: \")\n",
    "    monument = display_monument(city)\n",
    "    \n",
    "    print(f\"Monument in {city}: {monument}\")\n",
    "\n",
    "except Exception as e:\n",
    "    print(\"An error occurred:\", e)"
   ]
  },
  {
   "cell_type": "code",
   "execution_count": null,
   "id": "332dc541-7d1d-4962-9f58-a646c3434144",
   "metadata": {},
   "outputs": [],
   "source": []
  },
  {
   "cell_type": "markdown",
   "id": "217ac56c-4825-4fa7-8a42-34f06fa73bea",
   "metadata": {},
   "source": [
    "Q4. Check how many times a given number can be divided by 3 before it is less than or equal to 10."
   ]
  },
  {
   "cell_type": "code",
   "execution_count": 6,
   "id": "9fb326a2-34df-4955-b332-5efe056b226b",
   "metadata": {},
   "outputs": [
    {
     "name": "stdin",
     "output_type": "stream",
     "text": [
      "Enter a number:  10\n"
     ]
    },
    {
     "name": "stdout",
     "output_type": "stream",
     "text": [
      "The number can be divided by 3 0 times before becoming less than or equal to 10.\n"
     ]
    }
   ],
   "source": [
    "def count_divisions(number):\n",
    "    count = 0\n",
    "    while number > 10:\n",
    "        number /= 3\n",
    "        count += 1\n",
    "    return count\n",
    "\n",
    "try:\n",
    "    num = float(input(\"Enter a number: \"))\n",
    "    \n",
    "    divisions = count_divisions(num)\n",
    "    print(f\"The number can be divided by 3 {divisions} times before becoming less than or equal to 10.\")\n",
    "\n",
    "except ValueError:\n",
    "    print(\"Invalid input. Please enter a valid number.\")"
   ]
  },
  {
   "cell_type": "code",
   "execution_count": null,
   "id": "e85effe9-27a7-428d-b7bd-c50199a7ac69",
   "metadata": {},
   "outputs": [],
   "source": []
  },
  {
   "cell_type": "markdown",
   "id": "02953163-7586-41d0-8ffc-a46ddd449bc9",
   "metadata": {},
   "source": [
    "Q5. why and When to Use while Loop in Python give a detailed description with example"
   ]
  },
  {
   "cell_type": "markdown",
   "id": "bbe7a3f2-32de-4fa2-b860-0aeaf14f8d75",
   "metadata": {},
   "source": [
    "Ans--\n",
    "\n",
    "The while loop in Python is used to repeatedly execute a block of code as long as a certain condition is true. It's ideal for scenarios where you want to perform a task iteratively until a specific condition is met. The loop continues to execute as long as the condition remains true. Once the condition becomes false, the loop terminates, and the program continues with the next statements after the loop."
   ]
  },
  {
   "cell_type": "code",
   "execution_count": 8,
   "id": "eb166020-0d05-4c6e-9e62-b6df51b9d3b2",
   "metadata": {},
   "outputs": [
    {
     "name": "stdin",
     "output_type": "stream",
     "text": [
      "Enter a number (negative to stop):  4\n",
      "Enter a number (negative to stop):  4\n",
      "Enter a number (negative to stop):  -4\n"
     ]
    },
    {
     "name": "stdout",
     "output_type": "stream",
     "text": [
      "The sum of the numbers is: 8.0\n"
     ]
    }
   ],
   "source": [
    "total = 0\n",
    "num = float(input(\"Enter a number (negative to stop): \"))\n",
    "\n",
    "while num >= 0:\n",
    "    total += num\n",
    "    num = float(input(\"Enter a number (negative to stop): \"))\n",
    "\n",
    "print(f\"The sum of the numbers is: {total}\")"
   ]
  },
  {
   "cell_type": "code",
   "execution_count": null,
   "id": "2b20ade4-2106-409e-9837-b8bdcb171422",
   "metadata": {},
   "outputs": [],
   "source": []
  },
  {
   "cell_type": "markdown",
   "id": "be9451b4-0026-4c10-ada8-28483c3581ab",
   "metadata": {},
   "source": [
    "Q6. Use nested while loop to print 3 difierenet pottiern"
   ]
  },
  {
   "cell_type": "code",
   "execution_count": 9,
   "id": "e1976bac-40a3-44d8-ac96-4bb56acbe307",
   "metadata": {},
   "outputs": [
    {
     "name": "stdout",
     "output_type": "stream",
     "text": [
      "Pattern 1:\n",
      "*\n",
      "**\n",
      "***\n",
      "****\n",
      "*****\n",
      "\n",
      "\n",
      "Pattern 2:\n",
      "*****\n",
      "****\n",
      "***\n",
      "**\n",
      "*\n",
      "\n",
      "\n",
      "Pattern 3:\n",
      "  *\n",
      " ***\n",
      "*****\n",
      " ***\n",
      "  *\n"
     ]
    }
   ],
   "source": [
    "# Pattern 1: Right-Angled Triangle\n",
    "print(\"Pattern 1:\")\n",
    "row = 1\n",
    "while row <= 5:\n",
    "    col = 1\n",
    "    while col <= row:\n",
    "        print(\"*\", end=\"\")\n",
    "        col += 1\n",
    "    print()\n",
    "    row += 1\n",
    "\n",
    "print(\"\\n\")\n",
    "\n",
    "# Pattern 2: Inverted Right-Angled Triangle\n",
    "print(\"Pattern 2:\")\n",
    "row = 5\n",
    "while row >= 1:\n",
    "    col = 1\n",
    "    while col <= row:\n",
    "        print(\"*\", end=\"\")\n",
    "        col += 1\n",
    "    print()\n",
    "    row -= 1\n",
    "\n",
    "print(\"\\n\")\n",
    "\n",
    "# Pattern 3: Diamond\n",
    "print(\"Pattern 3:\")\n",
    "spaces = 2\n",
    "stars = 1\n",
    "row = 1\n",
    "while row <= 5:\n",
    "    col = 1\n",
    "    while col <= spaces:\n",
    "        print(\" \", end=\"\")\n",
    "        col += 1\n",
    "    col = 1\n",
    "    while col <= stars:\n",
    "        print(\"*\", end=\"\")\n",
    "        col += 1\n",
    "    print()\n",
    "    if row < 3:\n",
    "        spaces -= 1\n",
    "        stars += 2\n",
    "    else:\n",
    "        spaces += 1\n",
    "        stars -= 2\n",
    "    row += 1"
   ]
  },
  {
   "cell_type": "code",
   "execution_count": null,
   "id": "03f0bcf5-a2be-4604-b24e-e9a380f15642",
   "metadata": {},
   "outputs": [],
   "source": []
  },
  {
   "cell_type": "markdown",
   "id": "d938967f-da6d-4fef-b1a2-bcd7247fccf8",
   "metadata": {},
   "source": [
    "Q7.Reverse a while loop to display numbers from 10 to 1"
   ]
  },
  {
   "cell_type": "code",
   "execution_count": 10,
   "id": "901c37d9-80f2-49ee-9d99-b6ae67ef1caa",
   "metadata": {},
   "outputs": [
    {
     "name": "stdout",
     "output_type": "stream",
     "text": [
      "10\n",
      "9\n",
      "8\n",
      "7\n",
      "6\n",
      "5\n",
      "4\n",
      "3\n",
      "2\n",
      "1\n"
     ]
    }
   ],
   "source": [
    "num = 10\n",
    "while num >= 1:\n",
    "    print(num)\n",
    "    num -= 1"
   ]
  },
  {
   "cell_type": "code",
   "execution_count": null,
   "id": "9e53336a-eb3c-4757-9cf0-95465e7eb8cf",
   "metadata": {},
   "outputs": [],
   "source": []
  }
 ],
 "metadata": {
  "kernelspec": {
   "display_name": "Python 3 (ipykernel)",
   "language": "python",
   "name": "python3"
  },
  "language_info": {
   "codemirror_mode": {
    "name": "ipython",
    "version": 3
   },
   "file_extension": ".py",
   "mimetype": "text/x-python",
   "name": "python",
   "nbconvert_exporter": "python",
   "pygments_lexer": "ipython3",
   "version": "3.10.8"
  }
 },
 "nbformat": 4,
 "nbformat_minor": 5
}
